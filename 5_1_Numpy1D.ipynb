{
  "nbformat": 4,
  "nbformat_minor": 0,
  "metadata": {
    "colab": {
      "provenance": [],
      "authorship_tag": "ABX9TyPbsr8zDwrYcJcOmJx3y6Du",
      "include_colab_link": true
    },
    "kernelspec": {
      "name": "python3",
      "display_name": "Python 3"
    },
    "language_info": {
      "name": "python"
    }
  },
  "cells": [
    {
      "cell_type": "markdown",
      "metadata": {
        "id": "view-in-github",
        "colab_type": "text"
      },
      "source": [
        "<a href=\"https://colab.research.google.com/github/sarabjeet050/Learning_Python/blob/main/5_1_Numpy1D.ipynb\" target=\"_parent\"><img src=\"https://colab.research.google.com/assets/colab-badge.svg\" alt=\"Open In Colab\"/></a>"
      ]
    },
    {
      "cell_type": "markdown",
      "source": [
        "#### Get to know  a Numpy Array"
      ],
      "metadata": {
        "id": "P3L8ZuE0WZfc"
      }
    },
    {
      "cell_type": "code",
      "execution_count": null,
      "metadata": {
        "id": "VbgIRyP1WP2t"
      },
      "outputs": [],
      "source": [
        "# import numpy library\n",
        "import numpy as np"
      ]
    },
    {
      "cell_type": "code",
      "source": [
        "# Cast following list to a numpy array:\n",
        "a = [1,2,3,4,5]\n",
        "x = np.array(a)\n",
        "print(x)"
      ],
      "metadata": {
        "colab": {
          "base_uri": "https://localhost:8080/"
        },
        "id": "DDzy9s3SWml3",
        "outputId": "dc63a182-1bbf-46d9-efc9-6bb5fbbc3cf7"
      },
      "execution_count": null,
      "outputs": [
        {
          "output_type": "stream",
          "name": "stdout",
          "text": [
            "[1 2 3 4 5]\n"
          ]
        }
      ]
    },
    {
      "cell_type": "code",
      "source": [
        "# Find the type of x using function type()\n",
        "print(type(x))"
      ],
      "metadata": {
        "colab": {
          "base_uri": "https://localhost:8080/"
        },
        "id": "pZ77tiN8W3nd",
        "outputId": "e2ebae95-adee-4d2b-f33f-6fc247d08dbc"
      },
      "execution_count": null,
      "outputs": [
        {
          "output_type": "stream",
          "name": "stdout",
          "text": [
            "<class 'numpy.ndarray'>\n"
          ]
        }
      ]
    },
    {
      "cell_type": "code",
      "source": [
        "# Find shape of the array\n",
        "x.shape"
      ],
      "metadata": {
        "colab": {
          "base_uri": "https://localhost:8080/"
        },
        "id": "ZuGqt7UiXXX3",
        "outputId": "b83ad8f6-c8bc-4c11-9479-f16c6b21dc5c"
      },
      "execution_count": null,
      "outputs": [
        {
          "output_type": "execute_result",
          "data": {
            "text/plain": [
              "(5,)"
            ]
          },
          "metadata": {},
          "execution_count": 4
        }
      ]
    },
    {
      "cell_type": "code",
      "source": [
        " # Find the type of data in array\n",
        " x.dtype"
      ],
      "metadata": {
        "colab": {
          "base_uri": "https://localhost:8080/"
        },
        "id": "I2NZoXKpXfVU",
        "outputId": "e53767bc-e6ca-48c9-db7c-38e629dc3828"
      },
      "execution_count": null,
      "outputs": [
        {
          "output_type": "execute_result",
          "data": {
            "text/plain": [
              "dtype('int64')"
            ]
          },
          "metadata": {},
          "execution_count": 5
        }
      ]
    },
    {
      "cell_type": "code",
      "source": [
        "# Find the mean of the array\n",
        "x.mean()"
      ],
      "metadata": {
        "colab": {
          "base_uri": "https://localhost:8080/"
        },
        "id": "BfK3l_vCcOCM",
        "outputId": "1409ce37-4508-4cf1-c0da-ae2fcbed5fd5"
      },
      "execution_count": null,
      "outputs": [
        {
          "output_type": "execute_result",
          "data": {
            "text/plain": [
              "3.0"
            ]
          },
          "metadata": {},
          "execution_count": 6
        }
      ]
    },
    {
      "cell_type": "markdown",
      "source": [
        "#### 1D Numpy in Python\n"
      ],
      "metadata": {
        "id": "5jByt83LCaU6"
      }
    },
    {
      "cell_type": "code",
      "source": [
        "# Create a python list:\n",
        "a = [\"0\", 1, \"two\", \"3\", 4]"
      ],
      "metadata": {
        "id": "SAqEThRyCj6T"
      },
      "execution_count": null,
      "outputs": []
    },
    {
      "cell_type": "code",
      "source": [
        "# Access each element using a sqaure bracket and index:\n",
        "print(\"a[0]: \",a[0])\n",
        "print(\"a[1]: \",a[1])\n",
        "print(\"a[2]: \",a[2])\n",
        "print(\"a[3]: \",a[3])\n",
        "print(\"a[4]: \",a[4])"
      ],
      "metadata": {
        "colab": {
          "base_uri": "https://localhost:8080/"
        },
        "id": "DttQGdSlC2jX",
        "outputId": "d3cb3a34-7e31-410a-d5dd-fea64838ed70"
      },
      "execution_count": null,
      "outputs": [
        {
          "output_type": "stream",
          "name": "stdout",
          "text": [
            "a[0]:  0\n",
            "a[1]:  1\n",
            "a[2]:  two\n",
            "a[3]:  3\n",
            "a[4]:  4\n"
          ]
        }
      ]
    },
    {
      "cell_type": "markdown",
      "source": [
        "#### What is Numpy?"
      ],
      "metadata": {
        "id": "42nDs1_NDRjX"
      }
    },
    {
      "cell_type": "markdown",
      "source": [
        "###### NumPy is a Python library used for working with arrays, linear algebra, fourier transform, and matrices. A numpy array is similar to a list.\n",
        "###### NumPy stands for Numerical Python and it is an open source project. The array object in NumPy is called **ndarray**, it provides with a lot of supporting functions that make working with ndarray very easy.\n",
        "\n",
        "###### Arrays are very frequently used in data science, where speed and resources are very important.\n",
        "\n",
        "###### NumPy is usually imported under the np alias.\n",
        "\n",
        "###### It is usually fixed in size and each element is of the same type."
      ],
      "metadata": {
        "id": "pjF3Ors0Dd_X"
      }
    },
    {
      "cell_type": "code",
      "source": [
        "# import numpy library\n",
        "import numpy as np"
      ],
      "metadata": {
        "id": "1xHBGitDDW4Z"
      },
      "execution_count": null,
      "outputs": []
    },
    {
      "cell_type": "code",
      "source": [
        "# Cast a list to create a numpy array\n",
        "a = np.array([0, 1, 2, 3, 4])\n",
        "a\n",
        "# each element is of same type"
      ],
      "metadata": {
        "colab": {
          "base_uri": "https://localhost:8080/"
        },
        "id": "0udHWlBzFTre",
        "outputId": "c377519a-12f1-4475-f3ad-90c987c758e4"
      },
      "execution_count": null,
      "outputs": [
        {
          "output_type": "execute_result",
          "data": {
            "text/plain": [
              "array([0, 1, 2, 3, 4])"
            ]
          },
          "metadata": {},
          "execution_count": 10
        }
      ]
    },
    {
      "cell_type": "code",
      "source": [
        "# Access each element using square bracket and index just like list:\n",
        "print(\"a[0]: \", a[0])\n",
        "print(\"a[1]: \", a[1])\n",
        "print(\"a[2]: \", a[2])\n",
        "print(\"a[3]: \", a[3])\n",
        "print(\"a[4]: \", a[4])"
      ],
      "metadata": {
        "colab": {
          "base_uri": "https://localhost:8080/"
        },
        "id": "h50-C7woFjwj",
        "outputId": "01da611d-6d03-48f1-e2c0-ca3068aa8a9e"
      },
      "execution_count": null,
      "outputs": [
        {
          "output_type": "stream",
          "name": "stdout",
          "text": [
            "a[0]:  0\n",
            "a[1]:  1\n",
            "a[2]:  2\n",
            "a[3]:  3\n",
            "a[4]:  4\n"
          ]
        }
      ]
    },
    {
      "cell_type": "code",
      "source": [
        "# Checking NumPy version\n",
        "print(np.__version__) # using version attribute"
      ],
      "metadata": {
        "colab": {
          "base_uri": "https://localhost:8080/"
        },
        "id": "GE1tBtJEGFDq",
        "outputId": "339f1f6f-8f83-4a0f-81c9-9701ac9570b8"
      },
      "execution_count": null,
      "outputs": [
        {
          "output_type": "stream",
          "name": "stdout",
          "text": [
            "1.23.5\n"
          ]
        }
      ]
    },
    {
      "cell_type": "code",
      "source": [
        "# Check the type of numpy array\n",
        "type(a)"
      ],
      "metadata": {
        "colab": {
          "base_uri": "https://localhost:8080/"
        },
        "id": "glZcckEVGb9u",
        "outputId": "0cf147ff-1970-40c8-d059-c5a9dd775fea"
      },
      "execution_count": null,
      "outputs": [
        {
          "output_type": "execute_result",
          "data": {
            "text/plain": [
              "numpy.ndarray"
            ]
          },
          "metadata": {},
          "execution_count": 13
        }
      ]
    },
    {
      "cell_type": "markdown",
      "source": [
        "###### As numpy arrays contain data of same type. Can use attribute \"dtype\" to obtain the data type of the array's elements.  "
      ],
      "metadata": {
        "id": "Ere6KlueGuLe"
      }
    },
    {
      "cell_type": "code",
      "source": [
        "# Check the type of values stored in the numpy array:\n",
        "a.dtype # here, 64-bit integer"
      ],
      "metadata": {
        "colab": {
          "base_uri": "https://localhost:8080/"
        },
        "id": "5uM38Nq2GjVu",
        "outputId": "8175c8a0-da83-4512-fa8b-75e68a7fd8f2"
      },
      "execution_count": null,
      "outputs": [
        {
          "output_type": "execute_result",
          "data": {
            "text/plain": [
              "dtype('int64')"
            ]
          },
          "metadata": {},
          "execution_count": 14
        }
      ]
    },
    {
      "cell_type": "markdown",
      "source": [
        "#### Try it Yourself"
      ],
      "metadata": {
        "id": "DYWKBBMgVlyv"
      }
    },
    {
      "cell_type": "code",
      "source": [
        "# Check the type of the array and value type for the given array b\n",
        "b = np.array([3.1, 11.02, 6.2, 213.2, 5.2])\n",
        "print(b)\n",
        "print(type(b))\n",
        "print(b.dtype)\n",
        "# here the attribute dtype is float 64 as the elements are not integer"
      ],
      "metadata": {
        "colab": {
          "base_uri": "https://localhost:8080/"
        },
        "id": "tLIjEERfHQCi",
        "outputId": "40085778-ef55-4c7f-87d0-60de6aa7e207"
      },
      "execution_count": null,
      "outputs": [
        {
          "output_type": "stream",
          "name": "stdout",
          "text": [
            "[  3.1   11.02   6.2  213.2    5.2 ]\n",
            "<class 'numpy.ndarray'>\n",
            "float64\n"
          ]
        }
      ]
    },
    {
      "cell_type": "markdown",
      "source": [
        "#### Assign value"
      ],
      "metadata": {
        "id": "MjrWmKCjWmTO"
      }
    },
    {
      "cell_type": "code",
      "source": [
        "# Create numpy array\n",
        "c = np.array([20, 1, 2, 3, 4])\n",
        "c"
      ],
      "metadata": {
        "colab": {
          "base_uri": "https://localhost:8080/"
        },
        "id": "WlpTzmnaWL0c",
        "outputId": "8c33fcc7-9215-4a23-bed9-82c678368cab"
      },
      "execution_count": null,
      "outputs": [
        {
          "output_type": "execute_result",
          "data": {
            "text/plain": [
              "array([20,  1,  2,  3,  4])"
            ]
          },
          "metadata": {},
          "execution_count": 16
        }
      ]
    },
    {
      "cell_type": "code",
      "source": [
        "# Change/Assign the first element of the array to 100:\n",
        "c[0] = 100\n",
        "c"
      ],
      "metadata": {
        "colab": {
          "base_uri": "https://localhost:8080/"
        },
        "id": "BylYZ86SW4Ag",
        "outputId": "273f1efd-9b4b-4226-94bf-4f4edd228906"
      },
      "execution_count": null,
      "outputs": [
        {
          "output_type": "execute_result",
          "data": {
            "text/plain": [
              "array([100,   1,   2,   3,   4])"
            ]
          },
          "metadata": {},
          "execution_count": 17
        }
      ]
    },
    {
      "cell_type": "code",
      "source": [
        "# Assign the 5th element to 0:\n",
        "c[4] = 0\n",
        "c"
      ],
      "metadata": {
        "colab": {
          "base_uri": "https://localhost:8080/"
        },
        "id": "-3KgsLQHW_7U",
        "outputId": "16abf2c8-70b6-4151-a215-a3720662cdb7"
      },
      "execution_count": null,
      "outputs": [
        {
          "output_type": "execute_result",
          "data": {
            "text/plain": [
              "array([100,   1,   2,   3,   0])"
            ]
          },
          "metadata": {},
          "execution_count": 18
        }
      ]
    },
    {
      "cell_type": "markdown",
      "source": [
        "#### Try it yourself"
      ],
      "metadata": {
        "id": "-luFUjHWXNU9"
      }
    },
    {
      "cell_type": "code",
      "source": [
        "# Assign the value 20 for the second element in given array:\n",
        "a = np.array([10, 2, 30, 40, 50])\n",
        "print(a)\n",
        "a[1] = 20\n",
        "print(a)"
      ],
      "metadata": {
        "colab": {
          "base_uri": "https://localhost:8080/"
        },
        "id": "soYxFWkOXKUV",
        "outputId": "b18fafec-49cd-4c8c-dc14-163bcf8d7668"
      },
      "execution_count": null,
      "outputs": [
        {
          "output_type": "stream",
          "name": "stdout",
          "text": [
            "[10  2 30 40 50]\n",
            "[10 20 30 40 50]\n"
          ]
        }
      ]
    },
    {
      "cell_type": "markdown",
      "source": [
        "#### Slicing\n",
        "###### Like list, can slice numpy array. Slicing in python means taking the elements from the given starting index to another given ending index.\n",
        "###### Can pass slice like: [start : end]. The element in the end is not being included in the output.\n"
      ],
      "metadata": {
        "id": "x-iDxoAUB3aO"
      }
    },
    {
      "cell_type": "code",
      "source": [
        "# Slice the numpy array\n",
        "# Select the elements 1 to 3 and assign it to new numpy array d\n",
        "d = c[1:4]\n",
        "d"
      ],
      "metadata": {
        "colab": {
          "base_uri": "https://localhost:8080/"
        },
        "id": "RqypMgBNXjIr",
        "outputId": "31074b11-f10e-4e58-f748-7d4e115a231c"
      },
      "execution_count": null,
      "outputs": [
        {
          "output_type": "execute_result",
          "data": {
            "text/plain": [
              "array([1, 2, 3])"
            ]
          },
          "metadata": {},
          "execution_count": 21
        }
      ]
    },
    {
      "cell_type": "code",
      "source": [
        "# Assign corresponding indexes to new values\n",
        "# Set the 4th and 5th element to 300, 400\n",
        "c[3:5] = 300, 400\n",
        "c"
      ],
      "metadata": {
        "colab": {
          "base_uri": "https://localhost:8080/"
        },
        "id": "maLh-xG7DQep",
        "outputId": "41deb6de-874f-4273-f3fd-78727483fe37"
      },
      "execution_count": null,
      "outputs": [
        {
          "output_type": "execute_result",
          "data": {
            "text/plain": [
              "array([100,   1,   2, 300, 400])"
            ]
          },
          "metadata": {},
          "execution_count": 22
        }
      ]
    },
    {
      "cell_type": "code",
      "source": [
        "# Can also define the steps in slicing, like [start: end: step]\n",
        "arr = np.array([1,2,3,4,5,6,7])\n",
        "print(arr[1:5:2])"
      ],
      "metadata": {
        "colab": {
          "base_uri": "https://localhost:8080/"
        },
        "id": "NXZYCKmPDnkN",
        "outputId": "e3880647-9e18-45b5-9b3b-26661ee22374"
      },
      "execution_count": null,
      "outputs": [
        {
          "output_type": "stream",
          "name": "stdout",
          "text": [
            "[2 4]\n"
          ]
        }
      ]
    },
    {
      "cell_type": "code",
      "source": [
        "# If don't pass the start, it is considered 0\n",
        "print(arr[:4])"
      ],
      "metadata": {
        "colab": {
          "base_uri": "https://localhost:8080/"
        },
        "id": "fWL-ugP8D-kM",
        "outputId": "648cce37-2dc1-4cd1-997f-67e07df5de50"
      },
      "execution_count": null,
      "outputs": [
        {
          "output_type": "stream",
          "name": "stdout",
          "text": [
            "[1 2 3 4]\n"
          ]
        }
      ]
    },
    {
      "cell_type": "code",
      "source": [
        "# If don't pass end, its considered till length of array\n",
        "print(arr[4:])"
      ],
      "metadata": {
        "colab": {
          "base_uri": "https://localhost:8080/"
        },
        "id": "QQt0FDmXEkQ9",
        "outputId": "0060677a-c1c9-4c3c-994c-0f5e39b3c6a7"
      },
      "execution_count": null,
      "outputs": [
        {
          "output_type": "stream",
          "name": "stdout",
          "text": [
            "[5 6 7]\n"
          ]
        }
      ]
    },
    {
      "cell_type": "code",
      "source": [
        "# If don't pass step, it is considered 1\n",
        "print(arr[1:5:])"
      ],
      "metadata": {
        "colab": {
          "base_uri": "https://localhost:8080/"
        },
        "id": "YkW_KPbfEQpA",
        "outputId": "29a23074-55d7-4588-af11-408082d496e3"
      },
      "execution_count": null,
      "outputs": [
        {
          "output_type": "stream",
          "name": "stdout",
          "text": [
            "[2 3 4 5]\n"
          ]
        }
      ]
    },
    {
      "cell_type": "markdown",
      "source": [
        "#### Try it yourself"
      ],
      "metadata": {
        "id": "dyLiQumUE4l1"
      }
    },
    {
      "cell_type": "code",
      "source": [
        "# Print even elements in the given array\n",
        "arr = np.array([1,2,3,4,5,6,7,8])\n",
        "print(arr[::2])"
      ],
      "metadata": {
        "colab": {
          "base_uri": "https://localhost:8080/"
        },
        "id": "MB2QomNMEcw5",
        "outputId": "935cae17-1bd6-4f83-eac4-71beb3a10b37"
      },
      "execution_count": null,
      "outputs": [
        {
          "output_type": "stream",
          "name": "stdout",
          "text": [
            "[1 3 5 7]\n"
          ]
        }
      ]
    },
    {
      "cell_type": "markdown",
      "source": [
        "#### Assign value with list\n"
      ],
      "metadata": {
        "id": "p8ZCTTQ4Jm9M"
      }
    },
    {
      "cell_type": "code",
      "source": [
        "# Can use a list to select more than one specific index. List \"select\" contains several values\n",
        "# Create the index list\n",
        "select = [0, 2, 3, 4]\n",
        "select"
      ],
      "metadata": {
        "colab": {
          "base_uri": "https://localhost:8080/"
        },
        "id": "wK6Fb-5eE7hY",
        "outputId": "0522be14-5786-4710-eef8-eb544ec32eab"
      },
      "execution_count": null,
      "outputs": [
        {
          "output_type": "execute_result",
          "data": {
            "text/plain": [
              "[0, 2, 3, 4]"
            ]
          },
          "metadata": {},
          "execution_count": 35
        }
      ]
    },
    {
      "cell_type": "code",
      "source": [
        "# Can use the list as argument in brackets. The output is elements corresponding to the particular indexes\n",
        "# Use list to select elements\n",
        "d = c[select]\n",
        "d\n"
      ],
      "metadata": {
        "colab": {
          "base_uri": "https://localhost:8080/"
        },
        "id": "izrkXy0GKJiD",
        "outputId": "ed85de43-f584-41d2-be0d-65d69f6e2681"
      },
      "execution_count": null,
      "outputs": [
        {
          "output_type": "execute_result",
          "data": {
            "text/plain": [
              "array([100,   2, 300, 400])"
            ]
          },
          "metadata": {},
          "execution_count": 36
        }
      ]
    },
    {
      "cell_type": "code",
      "source": [
        "# Can use specified elements to the new value\n",
        "# Assign new value(100000)\n",
        "c[select] = 100000\n",
        "c\n"
      ],
      "metadata": {
        "colab": {
          "base_uri": "https://localhost:8080/"
        },
        "id": "TuLK7s1MKmFd",
        "outputId": "8c2d8748-4480-4cf3-e4a7-5e9c7a2373e7"
      },
      "execution_count": null,
      "outputs": [
        {
          "output_type": "execute_result",
          "data": {
            "text/plain": [
              "array([100000,      1, 100000, 100000, 100000])"
            ]
          },
          "metadata": {},
          "execution_count": 37
        }
      ]
    },
    {
      "cell_type": "markdown",
      "source": [
        "#### Other Attributes"
      ],
      "metadata": {
        "id": "qXJ-WmICqGKf"
      }
    },
    {
      "cell_type": "code",
      "source": [
        "#import numpy library\n",
        "import numpy as np\n",
        "# Create a numpy array\n",
        "a = np.array([0,1,2,3,4])\n",
        "a"
      ],
      "metadata": {
        "id": "f5L6hfvXLAqu",
        "colab": {
          "base_uri": "https://localhost:8080/"
        },
        "outputId": "fba0c262-70f8-4df8-9bd8-f89beb97eed6"
      },
      "execution_count": null,
      "outputs": [
        {
          "output_type": "execute_result",
          "data": {
            "text/plain": [
              "array([0, 1, 2, 3, 4])"
            ]
          },
          "metadata": {},
          "execution_count": 1
        }
      ]
    },
    {
      "cell_type": "code",
      "source": [
        "# Get the size of numpy array\n",
        "a.size"
      ],
      "metadata": {
        "colab": {
          "base_uri": "https://localhost:8080/"
        },
        "id": "X1B8ymTwqdDI",
        "outputId": "0860914b-7a93-45a4-d79a-4d508e6876ec"
      },
      "execution_count": null,
      "outputs": [
        {
          "output_type": "execute_result",
          "data": {
            "text/plain": [
              "5"
            ]
          },
          "metadata": {},
          "execution_count": 3
        }
      ]
    },
    {
      "cell_type": "markdown",
      "source": [
        "###### The next two attributes make more sense when get to higher dimension. The attribute <code>ndim</code> represents the number of array dimensions, or the rank of the array."
      ],
      "metadata": {
        "id": "YWq5PVjdMcPV"
      }
    },
    {
      "cell_type": "code",
      "source": [
        "# Get the number of dimensions of numpy array\n",
        "a.ndim"
      ],
      "metadata": {
        "id": "bfWk_LZCqzwA",
        "colab": {
          "base_uri": "https://localhost:8080/"
        },
        "outputId": "0a2689a0-8923-4d9b-848c-893e0661091d"
      },
      "execution_count": null,
      "outputs": [
        {
          "output_type": "execute_result",
          "data": {
            "text/plain": [
              "1"
            ]
          },
          "metadata": {},
          "execution_count": 2
        }
      ]
    },
    {
      "cell_type": "markdown",
      "source": [
        "###### The attribute <code>shape</code> is a tuple of integers, indicating the size of array in each dimension."
      ],
      "metadata": {
        "id": "vD6FKivdNgNk"
      }
    },
    {
      "cell_type": "code",
      "source": [
        "# Get the shape/size of numpy array\n",
        "a.shape"
      ],
      "metadata": {
        "colab": {
          "base_uri": "https://localhost:8080/"
        },
        "id": "gl4Ma7hUNbnR",
        "outputId": "de1e181a-90f0-4e9d-9d12-c8a2ed17fdcf"
      },
      "execution_count": null,
      "outputs": [
        {
          "output_type": "execute_result",
          "data": {
            "text/plain": [
              "(5,)"
            ]
          },
          "metadata": {},
          "execution_count": 3
        }
      ]
    },
    {
      "cell_type": "markdown",
      "source": [
        "#### Try it Yourself"
      ],
      "metadata": {
        "id": "UaRH9wYyOGTv"
      }
    },
    {
      "cell_type": "code",
      "source": [
        "# Find the size, dimension, and shape of given numpy array \"b\"\n",
        "b = np.array([10,20,30,40,50,60,70])\n",
        "b"
      ],
      "metadata": {
        "colab": {
          "base_uri": "https://localhost:8080/"
        },
        "id": "hxmo9QQSN_s_",
        "outputId": "2808b40e-487c-4ee5-ba6e-e895a1c90849"
      },
      "execution_count": null,
      "outputs": [
        {
          "output_type": "execute_result",
          "data": {
            "text/plain": [
              "array([10, 20, 30, 40, 50, 60, 70])"
            ]
          },
          "metadata": {},
          "execution_count": 4
        }
      ]
    },
    {
      "cell_type": "code",
      "source": [
        "print(b.size)\n",
        "print(b.ndim)\n",
        "print(b.shape)"
      ],
      "metadata": {
        "colab": {
          "base_uri": "https://localhost:8080/"
        },
        "id": "aak9dua1OgS_",
        "outputId": "f0cea618-6e37-45e1-a71c-17265bf5df03"
      },
      "execution_count": null,
      "outputs": [
        {
          "output_type": "stream",
          "name": "stdout",
          "text": [
            "7\n",
            "1\n",
            "(7,)\n"
          ]
        }
      ]
    },
    {
      "cell_type": "markdown",
      "source": [
        "#### NumPy Statistical Functions"
      ],
      "metadata": {
        "id": "Y65IwsGIOtLo"
      }
    },
    {
      "cell_type": "code",
      "source": [
        "# Create a numpy array\n",
        "a = np.array([1, -1, 1, -1])\n",
        "a"
      ],
      "metadata": {
        "colab": {
          "base_uri": "https://localhost:8080/"
        },
        "id": "jWOh8c4sOngV",
        "outputId": "befef333-a940-406a-d831-644bf7e37e83"
      },
      "execution_count": null,
      "outputs": [
        {
          "output_type": "execute_result",
          "data": {
            "text/plain": [
              "array([ 1, -1,  1, -1])"
            ]
          },
          "metadata": {},
          "execution_count": 6
        }
      ]
    },
    {
      "cell_type": "code",
      "source": [
        "# Get the mean of numpy array\n",
        "mean = a.mean()\n",
        "mean"
      ],
      "metadata": {
        "colab": {
          "base_uri": "https://localhost:8080/"
        },
        "id": "uKQdD1_BO5_d",
        "outputId": "9d97f7e8-1e16-4880-ac69-e8fa21416817"
      },
      "execution_count": null,
      "outputs": [
        {
          "output_type": "execute_result",
          "data": {
            "text/plain": [
              "0.0"
            ]
          },
          "metadata": {},
          "execution_count": 9
        }
      ]
    },
    {
      "cell_type": "code",
      "source": [
        "# Get the standard deviation of numpy array\n",
        "standard_deviation = a.std()\n",
        "standard_deviation"
      ],
      "metadata": {
        "colab": {
          "base_uri": "https://localhost:8080/"
        },
        "id": "NrRNQXNjQoII",
        "outputId": "f82c0ae1-77e6-4fed-bca8-2f3c185e49ee"
      },
      "execution_count": null,
      "outputs": [
        {
          "output_type": "execute_result",
          "data": {
            "text/plain": [
              "1.0"
            ]
          },
          "metadata": {},
          "execution_count": 11
        }
      ]
    },
    {
      "cell_type": "code",
      "source": [
        "# Create a numpy array\n",
        "b = np.array([-1,2,3,4,5])\n",
        "b"
      ],
      "metadata": {
        "colab": {
          "base_uri": "https://localhost:8080/"
        },
        "id": "180Jj2D5Qtyw",
        "outputId": "a6a34c9e-cca1-451b-e6d8-b4d6b29326f4"
      },
      "execution_count": null,
      "outputs": [
        {
          "output_type": "execute_result",
          "data": {
            "text/plain": [
              "array([-1,  2,  3,  4,  5])"
            ]
          },
          "metadata": {},
          "execution_count": 12
        }
      ]
    },
    {
      "cell_type": "code",
      "source": [
        "# Get the biggest value in numpy array\n",
        "max_b = b.max()\n",
        "max_b"
      ],
      "metadata": {
        "colab": {
          "base_uri": "https://localhost:8080/"
        },
        "id": "pBY9ZLORRO7f",
        "outputId": "5187e5d0-43b1-4b1b-9d4f-2dd3d61a0762"
      },
      "execution_count": null,
      "outputs": [
        {
          "output_type": "execute_result",
          "data": {
            "text/plain": [
              "5"
            ]
          },
          "metadata": {},
          "execution_count": 14
        }
      ]
    },
    {
      "cell_type": "code",
      "source": [
        "# Get the smallest value in numpy array\n",
        "min_b = b.min()\n",
        "min_b"
      ],
      "metadata": {
        "colab": {
          "base_uri": "https://localhost:8080/"
        },
        "id": "5PC7lWjNRVgm",
        "outputId": "72040607-78b0-414b-b79d-3fe46e0ce472"
      },
      "execution_count": null,
      "outputs": [
        {
          "output_type": "execute_result",
          "data": {
            "text/plain": [
              "-1"
            ]
          },
          "metadata": {},
          "execution_count": 15
        }
      ]
    },
    {
      "cell_type": "markdown",
      "source": [
        "#### Try it Yourself\n"
      ],
      "metadata": {
        "id": "mZUfcWyvRuE3"
      }
    },
    {
      "cell_type": "code",
      "source": [
        "# Find the sum of maximum and minimum value in given numpy array\n",
        "c = np.array([-10, 201, 43, 94, 502])\n",
        "c"
      ],
      "metadata": {
        "colab": {
          "base_uri": "https://localhost:8080/"
        },
        "id": "0Y6GUyFURgyn",
        "outputId": "f66ee674-c684-400f-b70e-904fa571ca0e"
      },
      "execution_count": null,
      "outputs": [
        {
          "output_type": "execute_result",
          "data": {
            "text/plain": [
              "array([-10, 201,  43,  94, 502])"
            ]
          },
          "metadata": {},
          "execution_count": 16
        }
      ]
    },
    {
      "cell_type": "code",
      "source": [
        "max_c = c.max()\n",
        "print(max_c)\n",
        "\n",
        "min_c = c.min()\n",
        "print(min_c)\n",
        "\n",
        "sum = (max_c + min_c)\n",
        "print(sum)\n"
      ],
      "metadata": {
        "colab": {
          "base_uri": "https://localhost:8080/"
        },
        "id": "Pxblz1XOSJNw",
        "outputId": "183661d2-6024-4d5d-e815-3b589de38390"
      },
      "execution_count": null,
      "outputs": [
        {
          "output_type": "stream",
          "name": "stdout",
          "text": [
            "502\n",
            "-10\n",
            "492\n"
          ]
        }
      ]
    },
    {
      "cell_type": "markdown",
      "source": [
        "#### NumPy Array Operations\n",
        "###### Can use arithmetic operators directly between NumPy arrays"
      ],
      "metadata": {
        "id": "vy_BYgg4Soa4"
      }
    },
    {
      "cell_type": "markdown",
      "source": [
        "#### Array Addition"
      ],
      "metadata": {
        "id": "Epfu9lgTS6ob"
      }
    },
    {
      "cell_type": "code",
      "source": [
        "# Consider numpy array \"u\"\n",
        "u = np.array([1, 0])\n",
        "u"
      ],
      "metadata": {
        "colab": {
          "base_uri": "https://localhost:8080/"
        },
        "id": "4RxwnU_9SOja",
        "outputId": "a504f03c-d645-475a-9e73-5a06af3cf0ae"
      },
      "execution_count": null,
      "outputs": [
        {
          "output_type": "execute_result",
          "data": {
            "text/plain": [
              "array([1, 0])"
            ]
          },
          "metadata": {},
          "execution_count": 23
        }
      ]
    },
    {
      "cell_type": "code",
      "source": [
        "# Consider numpy array \"v\"\n",
        "v = np.array([0, 1])\n",
        "v"
      ],
      "metadata": {
        "colab": {
          "base_uri": "https://localhost:8080/"
        },
        "id": "S0yPaM4FTJTQ",
        "outputId": "1184e67c-21c0-4947-c477-7bfa8048fede"
      },
      "execution_count": null,
      "outputs": [
        {
          "output_type": "execute_result",
          "data": {
            "text/plain": [
              "array([0, 1])"
            ]
          },
          "metadata": {},
          "execution_count": 22
        }
      ]
    },
    {
      "cell_type": "code",
      "source": [
        "# Numpy array addition\n",
        "# Can add 2 arrays and assign it to \"z\"\n",
        "z = np.add(u,v)\n",
        "z"
      ],
      "metadata": {
        "colab": {
          "base_uri": "https://localhost:8080/"
        },
        "id": "9vrnmul1TRPu",
        "outputId": "2d76e3c4-f35f-4f8b-bb6c-556acb1d7039"
      },
      "execution_count": null,
      "outputs": [
        {
          "output_type": "execute_result",
          "data": {
            "text/plain": [
              "array([1, 1])"
            ]
          },
          "metadata": {},
          "execution_count": 27
        }
      ]
    },
    {
      "cell_type": "markdown",
      "source": [
        "###### The operation is  equivalent to vector addition:\n"
      ],
      "metadata": {
        "id": "uJxEFDWfUmip"
      }
    },
    {
      "cell_type": "code",
      "source": [
        "# Plotting functions\n",
        "\n",
        "\n",
        "import time\n",
        "import sys\n",
        "import numpy as np\n",
        "\n",
        "import matplotlib.pyplot as plt\n",
        "%matplotlib inline\n",
        "\n",
        "def Plotvec1(u, z, v):\n",
        "\n",
        "    ax = plt.axes() # to generate the full window axes\n",
        "    ax.arrow(0, 0, *u, head_width=0.05, color='r', head_length=0.1)\n",
        "    # Add an arrow to the  U Axes with arrow head width 0.05, color red and arrow head length 0.1\n",
        "    plt.text(*(u + 0.1), 'u')#Adds the text u to the Axes\n",
        "\n",
        "    ax.arrow(0, 0, *v, head_width=0.05, color='b', head_length=0.1)\n",
        "    # Add an arrow to the  v Axes with arrow head width 0.05, color red and arrow head length 0.1\n",
        "    plt.text(*(v + 0.1), 'v')#Adds the text v to the Axes\n",
        "\n",
        "    ax.arrow(0, 0, *z, head_width=0.05, head_length=0.1)\n",
        "    plt.text(*(z + 0.1), 'z')#Adds the text z to the Axes\n",
        "    plt.ylim(-2, 2)#set the ylim to bottom(-2), top(2)\n",
        "    plt.xlim(-2, 2)#set the xlim to left(-2), right(2)\n",
        "\n",
        "\n"
      ],
      "metadata": {
        "id": "uBqxqLq5TnIZ"
      },
      "execution_count": null,
      "outputs": []
    },
    {
      "cell_type": "code",
      "source": [
        "# Plot numpy arrays\n",
        "Plotvec1(u,v,z)"
      ],
      "metadata": {
        "colab": {
          "base_uri": "https://localhost:8080/",
          "height": 435
        },
        "id": "wr64oh1QUd7e",
        "outputId": "035e13e5-1e1a-4322-a029-c8f008e803a9"
      },
      "execution_count": null,
      "outputs": [
        {
          "output_type": "display_data",
          "data": {
            "text/plain": [
              "<Figure size 640x480 with 1 Axes>"
            ],
            "image/png": "[encoded data removed]"
          },
          "metadata": {}
        }
      ]
    },
    {
      "cell_type": "markdown",
      "source": [
        "#### Try it Yourself"
      ],
      "metadata": {
        "id": "_y5Sc3uIBWOk"
      }
    },
    {
      "cell_type": "code",
      "source": [
        "import numpy as np"
      ],
      "metadata": {
        "id": "7lX6j81SB60e"
      },
      "execution_count": null,
      "outputs": []
    },
    {
      "cell_type": "code",
      "source": [
        "# Perform the addition operation on the given numpy array arr1 and arr2\n",
        "arr1 = np.array([10,11,12,13,14,15])\n",
        "arr2 = np.array([20,21,22,23,24,25])\n",
        "print(arr1)\n",
        "print(arr2)"
      ],
      "metadata": {
        "colab": {
          "base_uri": "https://localhost:8080/"
        },
        "id": "txBUR-WxBZck",
        "outputId": "22e25d11-cb94-46e7-8c4a-fdd0cc0c350e"
      },
      "execution_count": null,
      "outputs": [
        {
          "output_type": "stream",
          "name": "stdout",
          "text": [
            "[10 11 12 13 14 15]\n",
            "[20 21 22 23 24 25]\n"
          ]
        }
      ]
    },
    {
      "cell_type": "code",
      "source": [
        "arr3 = np.add(arr1,arr2)\n",
        "arr3"
      ],
      "metadata": {
        "colab": {
          "base_uri": "https://localhost:8080/"
        },
        "id": "V2HzNx1pB-oS",
        "outputId": "4a115cf7-2eef-432d-a1b4-50422608f6a3"
      },
      "execution_count": null,
      "outputs": [
        {
          "output_type": "execute_result",
          "data": {
            "text/plain": [
              "array([30, 32, 34, 36, 38, 40])"
            ]
          },
          "metadata": {},
          "execution_count": 3
        }
      ]
    },
    {
      "cell_type": "markdown",
      "source": [
        "#### Array Subtraction"
      ],
      "metadata": {
        "id": "M8YRsXRKdByL"
      }
    },
    {
      "cell_type": "code",
      "source": [
        "# import NumPy library\n",
        "import numpy as np"
      ],
      "metadata": {
        "id": "KkJHcVhGdKLe"
      },
      "execution_count": null,
      "outputs": []
    },
    {
      "cell_type": "code",
      "source": [
        "# Consider the numpy array a:\n",
        "a = np.array([10,20,30])\n",
        "a"
      ],
      "metadata": {
        "id": "ZQgP-43DCGbL",
        "colab": {
          "base_uri": "https://localhost:8080/"
        },
        "outputId": "20cdd629-1712-4a28-eb5f-2f354cc6bd23"
      },
      "execution_count": null,
      "outputs": [
        {
          "output_type": "execute_result",
          "data": {
            "text/plain": [
              "array([10, 20, 30])"
            ]
          },
          "metadata": {},
          "execution_count": 2
        }
      ]
    },
    {
      "cell_type": "code",
      "source": [
        "# Consider the numpy array b:\n",
        "b = np.array([5,10,15])\n",
        "b"
      ],
      "metadata": {
        "colab": {
          "base_uri": "https://localhost:8080/"
        },
        "id": "VzyeEGPudaAZ",
        "outputId": "3bedcb5e-9f03-48d4-987c-ddbc46a11af8"
      },
      "execution_count": null,
      "outputs": [
        {
          "output_type": "execute_result",
          "data": {
            "text/plain": [
              "array([ 5, 10, 15])"
            ]
          },
          "metadata": {},
          "execution_count": 3
        }
      ]
    },
    {
      "cell_type": "code",
      "source": [
        "# Subtract the array and assign it to c\n",
        "c = np.subtract(a,b)\n",
        "print(c)"
      ],
      "metadata": {
        "colab": {
          "base_uri": "https://localhost:8080/"
        },
        "id": "d9GqIXuNdoBn",
        "outputId": "5bbdf32a-4fa6-4a60-c4d8-a6a46de94bb6"
      },
      "execution_count": null,
      "outputs": [
        {
          "output_type": "stream",
          "name": "stdout",
          "text": [
            "[ 5 10 15]\n"
          ]
        }
      ]
    },
    {
      "cell_type": "markdown",
      "source": [
        "#### Try it Yourself"
      ],
      "metadata": {
        "id": "li6Bl40uePOb"
      }
    },
    {
      "cell_type": "code",
      "source": [
        "# Perform subtraction operation on the given numpy array arr1 and arr2\n",
        "arr1 = np.array([10, 20, 30, 40, 50, 60])\n",
        "arr2 = np.array([20, 21, 22, 23, 24, 25])\n",
        "print(arr1)\n",
        "print(arr2)"
      ],
      "metadata": {
        "colab": {
          "base_uri": "https://localhost:8080/"
        },
        "id": "p0-l51ZLdu75",
        "outputId": "47c22016-4075-4d40-89f8-05386854822f"
      },
      "execution_count": null,
      "outputs": [
        {
          "output_type": "stream",
          "name": "stdout",
          "text": [
            "[10 20 30 40 50 60]\n",
            "[20 21 22 23 24 25]\n"
          ]
        }
      ]
    },
    {
      "cell_type": "code",
      "source": [
        "arr3 = np.subtract(arr1, arr2)\n",
        "print(arr3)"
      ],
      "metadata": {
        "colab": {
          "base_uri": "https://localhost:8080/"
        },
        "id": "ud_5mqjOesdT",
        "outputId": "3a81173e-020f-4583-f69d-d66c769e82d3"
      },
      "execution_count": null,
      "outputs": [
        {
          "output_type": "stream",
          "name": "stdout",
          "text": [
            "[-10  -1   8  17  26  35]\n"
          ]
        }
      ]
    },
    {
      "cell_type": "markdown",
      "source": [
        "#### Array Multiplication"
      ],
      "metadata": {
        "id": "Uxy_PuQ8fI3q"
      }
    },
    {
      "cell_type": "code",
      "source": [
        "# Create a numpy array\n",
        "x = np.array([1,2])\n",
        "x"
      ],
      "metadata": {
        "colab": {
          "base_uri": "https://localhost:8080/"
        },
        "id": "v_2qnD_Re77N",
        "outputId": "e74e7971-835b-43d5-e1f8-906e6c784899"
      },
      "execution_count": null,
      "outputs": [
        {
          "output_type": "execute_result",
          "data": {
            "text/plain": [
              "array([1, 2])"
            ]
          },
          "metadata": {},
          "execution_count": 10
        }
      ]
    },
    {
      "cell_type": "code",
      "source": [
        "# Create a numpy array\n",
        "y = np.array([2,1])\n",
        "y\n"
      ],
      "metadata": {
        "colab": {
          "base_uri": "https://localhost:8080/"
        },
        "id": "zYIQwArpfZdG",
        "outputId": "59a9896b-1ec4-40dd-b9a1-9d82b7a01fd0"
      },
      "execution_count": null,
      "outputs": [
        {
          "output_type": "execute_result",
          "data": {
            "text/plain": [
              "array([2, 1])"
            ]
          },
          "metadata": {},
          "execution_count": 11
        }
      ]
    },
    {
      "cell_type": "code",
      "source": [
        "# Numpy array multiplication\n",
        "z =  np.multiply(x, y)\n",
        "print(z)\n",
        "\n",
        "# this is equivalent to multiply a vector by scaler"
      ],
      "metadata": {
        "colab": {
          "base_uri": "https://localhost:8080/"
        },
        "id": "Cjmij-aOffTy",
        "outputId": "316cecf0-228a-41d6-fd85-b09aee511186"
      },
      "execution_count": null,
      "outputs": [
        {
          "output_type": "stream",
          "name": "stdout",
          "text": [
            "[2 2]\n"
          ]
        }
      ]
    },
    {
      "cell_type": "markdown",
      "source": [
        "#### Try it Yourself"
      ],
      "metadata": {
        "id": "r3P5zUeUgJR6"
      }
    },
    {
      "cell_type": "code",
      "source": [
        "# Perform multiply operation on given numpy array arr1 and arr2:\n",
        "arr1 = np.array([10, 20, 30, 40, 50, 60])\n",
        "arr2 = np.array([2, 1, 2, 3, 4, 5])\n",
        "print(arr1)\n",
        "print(arr2)"
      ],
      "metadata": {
        "colab": {
          "base_uri": "https://localhost:8080/"
        },
        "id": "9dhbJ2jQfxLy",
        "outputId": "0507cd3e-6c6a-40b0-a493-deb3324671ed"
      },
      "execution_count": null,
      "outputs": [
        {
          "output_type": "stream",
          "name": "stdout",
          "text": [
            "[10 20 30 40 50 60]\n",
            "[2 1 2 3 4 5]\n"
          ]
        }
      ]
    },
    {
      "cell_type": "code",
      "source": [
        "arr3 = np.multiply(arr1, arr2)\n",
        "print(arr3)"
      ],
      "metadata": {
        "colab": {
          "base_uri": "https://localhost:8080/"
        },
        "id": "g5BzaSkvgmVt",
        "outputId": "3724a4e5-b2d0-4404-9234-a143718364c6"
      },
      "execution_count": null,
      "outputs": [
        {
          "output_type": "stream",
          "name": "stdout",
          "text": [
            "[ 20  20  60 120 200 300]\n"
          ]
        }
      ]
    },
    {
      "cell_type": "markdown",
      "source": [
        "#### Array Division"
      ],
      "metadata": {
        "id": "xV6kQcszg8lS"
      }
    },
    {
      "cell_type": "code",
      "source": [
        "# Consider numpy array a:\n",
        "a = np.array([10, 20, 30])\n",
        "print(a)"
      ],
      "metadata": {
        "colab": {
          "base_uri": "https://localhost:8080/"
        },
        "id": "6Pq1dMJGguQQ",
        "outputId": "ce1c5347-09b2-4ba2-e8da-16071e6803c4"
      },
      "execution_count": null,
      "outputs": [
        {
          "output_type": "stream",
          "name": "stdout",
          "text": [
            "[10 20 30]\n"
          ]
        }
      ]
    },
    {
      "cell_type": "code",
      "source": [
        "# Consider numpy array b:\n",
        "b = np.array([2, 10, 5])\n",
        "print(b)"
      ],
      "metadata": {
        "colab": {
          "base_uri": "https://localhost:8080/"
        },
        "id": "dWF5UwDIhJXb",
        "outputId": "de343684-b085-40cc-be78-a6eed759dffa"
      },
      "execution_count": null,
      "outputs": [
        {
          "output_type": "stream",
          "name": "stdout",
          "text": [
            "[ 2 10  5]\n"
          ]
        }
      ]
    },
    {
      "cell_type": "code",
      "source": [
        "# Divide 2 arrays and assign it to c:\n",
        "c = np.divide(a, b)\n",
        "print(c)"
      ],
      "metadata": {
        "colab": {
          "base_uri": "https://localhost:8080/"
        },
        "id": "DbpMXb74hRNT",
        "outputId": "c870f8c1-7e66-4292-d004-f16b79819ee5"
      },
      "execution_count": null,
      "outputs": [
        {
          "output_type": "stream",
          "name": "stdout",
          "text": [
            "[5. 2. 6.]\n"
          ]
        }
      ]
    },
    {
      "cell_type": "markdown",
      "source": [
        "#### Try it Yourself"
      ],
      "metadata": {
        "id": "9VCeyUqHh6IK"
      }
    },
    {
      "cell_type": "code",
      "source": [
        "# Perform division operation on given numpy array arr1 and arr2:\n",
        "arr1 = np.array([10, 20, 30, 40, 50, 60])\n",
        "arr2 = np.array([3, 5, 10, 8, 2, 33])\n",
        "print(arr1)\n",
        "print(arr2)"
      ],
      "metadata": {
        "colab": {
          "base_uri": "https://localhost:8080/"
        },
        "id": "WNubgcq5hZ6-",
        "outputId": "b8d6eb13-ebfa-48de-c1f6-138f8ec0546b"
      },
      "execution_count": null,
      "outputs": [
        {
          "output_type": "stream",
          "name": "stdout",
          "text": [
            "[10 20 30 40 50 60]\n",
            "[ 3  5 10  8  2 33]\n"
          ]
        }
      ]
    },
    {
      "cell_type": "code",
      "source": [
        "arr3 = np.divide(arr1, arr2)\n",
        "print(arr3)"
      ],
      "metadata": {
        "colab": {
          "base_uri": "https://localhost:8080/"
        },
        "id": "v8--dpAsizYt",
        "outputId": "10c05e55-8f89-40e9-eaf1-567f3d039872"
      },
      "execution_count": null,
      "outputs": [
        {
          "output_type": "stream",
          "name": "stdout",
          "text": [
            "[ 3.33333333  4.          3.          5.         25.          1.81818182]\n"
          ]
        }
      ]
    },
    {
      "cell_type": "markdown",
      "source": [
        "#### Dot Product\n",
        "###### It is sum of product pairs of same positioned elements in 2 vector arrays. For example: For 2 vector arrays, X = [X0, X1] and Y = [Y0, Y1]. X dot Y = (X0 * Y0) + (X1 * Y1)"
      ],
      "metadata": {
        "id": "pDQY1sG9jOVQ"
      }
    },
    {
      "cell_type": "code",
      "source": [
        "X = np.array([1, 2])\n",
        "Y = np.array([3, 2])"
      ],
      "metadata": {
        "id": "odtni4XYi_U8"
      },
      "execution_count": null,
      "outputs": []
    },
    {
      "cell_type": "code",
      "source": [
        "# Calculate dot product of X and Y:\n",
        "print(np.dot(X,Y))\n",
        "# or\n",
        "print(X.dot(Y))\n",
        "# is equivalent to :\n",
        "print(X[0] * Y[0] +  X[1] * Y[1])"
      ],
      "metadata": {
        "colab": {
          "base_uri": "https://localhost:8080/"
        },
        "id": "TTim-J-8kGum",
        "outputId": "71d85b8d-7f07-446b-fdf7-99781701b824"
      },
      "execution_count": null,
      "outputs": [
        {
          "output_type": "stream",
          "name": "stdout",
          "text": [
            "7\n",
            "7\n",
            "7\n"
          ]
        }
      ]
    },
    {
      "cell_type": "markdown",
      "source": [
        "#### Try it Yourself"
      ],
      "metadata": {
        "id": "UP1weKKDkssX"
      }
    },
    {
      "cell_type": "code",
      "source": [
        "# import NumPy library\n",
        "import numpy as np\n",
        "\n",
        "arr1 = np.array([3,5])\n",
        "arr2 = np.array([2,4])"
      ],
      "metadata": {
        "id": "3IV06lm9-lrw"
      },
      "execution_count": null,
      "outputs": []
    },
    {
      "cell_type": "code",
      "source": [
        "# Perform the dot product operation on the given array arr1 and arr2:\n",
        "arr3 = np.dot(arr1, arr2)\n",
        "arr3"
      ],
      "metadata": {
        "colab": {
          "base_uri": "https://localhost:8080/"
        },
        "id": "4qStL0rClIkF",
        "outputId": "5fa87c01-dab9-4b80-ca73-6304cb4e427b"
      },
      "execution_count": null,
      "outputs": [
        {
          "output_type": "execute_result",
          "data": {
            "text/plain": [
              "26"
            ]
          },
          "metadata": {},
          "execution_count": 6
        }
      ]
    },
    {
      "cell_type": "markdown",
      "source": [
        "#### Adding Constant to a NumPy array\n"
      ],
      "metadata": {
        "id": "0BTKf-BW-_5R"
      }
    },
    {
      "cell_type": "code",
      "source": [
        "# Create a numpy array\n",
        "u = np.array([1, 2, 3, -1])\n",
        "u"
      ],
      "metadata": {
        "colab": {
          "base_uri": "https://localhost:8080/"
        },
        "id": "jIjH0rI0kQK8",
        "outputId": "a99942c2-0f2b-4590-ab2c-26cad806e3c2"
      },
      "execution_count": null,
      "outputs": [
        {
          "output_type": "execute_result",
          "data": {
            "text/plain": [
              "array([ 1,  2,  3, -1])"
            ]
          },
          "metadata": {},
          "execution_count": 4
        }
      ]
    },
    {
      "cell_type": "code",
      "source": [
        "# Add a constant 1 to each element in the array\n",
        "u + 1"
      ],
      "metadata": {
        "colab": {
          "base_uri": "https://localhost:8080/"
        },
        "id": "2lh23_imk9yl",
        "outputId": "eb9788d7-9505-4425-e449-e3320b124727"
      },
      "execution_count": null,
      "outputs": [
        {
          "output_type": "execute_result",
          "data": {
            "text/plain": [
              "array([2, 3, 4, 0])"
            ]
          },
          "metadata": {},
          "execution_count": 7
        }
      ]
    },
    {
      "cell_type": "markdown",
      "source": [
        "#### Try it Yourself"
      ],
      "metadata": {
        "id": "IIB770TbAeRb"
      }
    },
    {
      "cell_type": "code",
      "source": [
        "arr = np.array([1, 2, 3, -1])\n",
        "arr"
      ],
      "metadata": {
        "colab": {
          "base_uri": "https://localhost:8080/"
        },
        "id": "xy8O1aKFlFqH",
        "outputId": "0c4b1878-68ed-4466-8a67-f22ed82cf9b1"
      },
      "execution_count": null,
      "outputs": [
        {
          "output_type": "execute_result",
          "data": {
            "text/plain": [
              "array([ 1,  2,  3, -1])"
            ]
          },
          "metadata": {},
          "execution_count": 8
        }
      ]
    },
    {
      "cell_type": "code",
      "source": [
        "# Add Constant 5 to given numpy array arr:\n",
        "arr + 5"
      ],
      "metadata": {
        "colab": {
          "base_uri": "https://localhost:8080/"
        },
        "id": "dsYRkF_UAnVf",
        "outputId": "d92b302f-8e4e-4b1e-9219-37ec267cc1cb"
      },
      "execution_count": null,
      "outputs": [
        {
          "output_type": "execute_result",
          "data": {
            "text/plain": [
              "array([6, 7, 8, 4])"
            ]
          },
          "metadata": {},
          "execution_count": 9
        }
      ]
    },
    {
      "cell_type": "markdown",
      "source": [
        "#### Mathematical Functions"
      ],
      "metadata": {
        "id": "xnU-s95QyQz-"
      }
    },
    {
      "cell_type": "code",
      "source": [
        "# import NumPy library\n",
        "import numpy as np"
      ],
      "metadata": {
        "id": "bZgKYNI7zV_6"
      },
      "execution_count": 1,
      "outputs": []
    },
    {
      "cell_type": "code",
      "source": [
        "# The value of pi:\n",
        "np.pi"
      ],
      "metadata": {
        "id": "tb5HVem8AvR5",
        "colab": {
          "base_uri": "https://localhost:8080/"
        },
        "outputId": "192fea60-03dc-45c4-e755-a8618b4a4425"
      },
      "execution_count": 2,
      "outputs": [
        {
          "output_type": "execute_result",
          "data": {
            "text/plain": [
              "3.141592653589793"
            ]
          },
          "metadata": {},
          "execution_count": 2
        }
      ]
    },
    {
      "cell_type": "code",
      "source": [
        "# Create the numpy array in radians:\n",
        "x = np.array([0, np.pi/2 , np.pi])\n",
        "x"
      ],
      "metadata": {
        "colab": {
          "base_uri": "https://localhost:8080/"
        },
        "id": "_W9nzOg5zdkU",
        "outputId": "0259bc6b-9446-468c-dccc-ebb1fe9d680c"
      },
      "execution_count": 3,
      "outputs": [
        {
          "output_type": "execute_result",
          "data": {
            "text/plain": [
              "array([0.        , 1.57079633, 3.14159265])"
            ]
          },
          "metadata": {},
          "execution_count": 3
        }
      ]
    },
    {
      "cell_type": "code",
      "source": [
        "# Apply the function sin to array x and assign values to array y\n",
        "# i.e. apply each element of x to sine function\n",
        "\n",
        "y = np.sin(x)\n",
        "y"
      ],
      "metadata": {
        "colab": {
          "base_uri": "https://localhost:8080/"
        },
        "id": "SfnI5p62zvA7",
        "outputId": "40aef2ff-9717-4c49-984b-11a9c3a046cb"
      },
      "execution_count": 4,
      "outputs": [
        {
          "output_type": "execute_result",
          "data": {
            "text/plain": [
              "array([0.0000000e+00, 1.0000000e+00, 1.2246468e-16])"
            ]
          },
          "metadata": {},
          "execution_count": 4
        }
      ]
    },
    {
      "cell_type": "markdown",
      "source": [
        "#### Linspace\n",
        "###### An important function for plotting mathematical functions in linspace. It returns evenly spaced numbers over a specified interval.\n",
        "\n",
        "###### **numpy.linspace(start, stop, num = int value)**\n",
        "\n",
        "start  :  start of interval range\n",
        "\n",
        "stop   :  end of interval range\n",
        "\n",
        "num    :  Number of samples to generate.\n"
      ],
      "metadata": {
        "id": "Zj9YbdPT0M7K"
      }
    },
    {
      "cell_type": "code",
      "source": [
        "# Makeup a numpy array within [-2,2] with 5 elements\n",
        "np.linspace(-2, 2, num = 5)"
      ],
      "metadata": {
        "colab": {
          "base_uri": "https://localhost:8080/"
        },
        "id": "fgmp5QkS0iSK",
        "outputId": "c8e08c02-3c4e-42c8-a3a7-2cb3572725b8"
      },
      "execution_count": 9,
      "outputs": [
        {
          "output_type": "execute_result",
          "data": {
            "text/plain": [
              "array([-2., -1.,  0.,  1.,  2.])"
            ]
          },
          "metadata": {},
          "execution_count": 9
        }
      ]
    },
    {
      "cell_type": "code",
      "source": [
        "# Makeup a numpy array within [-2,2] with changing to 9 elements\n",
        "np.linspace(-2, 2, num = 9)"
      ],
      "metadata": {
        "colab": {
          "base_uri": "https://localhost:8080/"
        },
        "id": "qYx5MknI1P2W",
        "outputId": "4f50c53c-cebd-4c2d-be12-e765f6739542"
      },
      "execution_count": 11,
      "outputs": [
        {
          "output_type": "execute_result",
          "data": {
            "text/plain": [
              "array([-2. , -1.5, -1. , -0.5,  0. ,  0.5,  1. ,  1.5,  2. ])"
            ]
          },
          "metadata": {},
          "execution_count": 11
        }
      ]
    },
    {
      "cell_type": "code",
      "source": [
        "# Make evenly spaced 100 samples from interval 0 to 2pi\n",
        "x = np.linspace(0, 2*np.pi, num = 100)\n",
        "x"
      ],
      "metadata": {
        "colab": {
          "base_uri": "https://localhost:8080/"
        },
        "id": "oBbyUTBp14Hj",
        "outputId": "37449eef-df1d-4387-ebb9-3f8248403037"
      },
      "execution_count": 18,
      "outputs": [
        {
          "output_type": "execute_result",
          "data": {
            "text/plain": [
              "array([0.        , 0.06346652, 0.12693304, 0.19039955, 0.25386607,\n",
              "       0.31733259, 0.38079911, 0.44426563, 0.50773215, 0.57119866,\n",
              "       0.63466518, 0.6981317 , 0.76159822, 0.82506474, 0.88853126,\n",
              "       0.95199777, 1.01546429, 1.07893081, 1.14239733, 1.20586385,\n",
              "       1.26933037, 1.33279688, 1.3962634 , 1.45972992, 1.52319644,\n",
              "       1.58666296, 1.65012947, 1.71359599, 1.77706251, 1.84052903,\n",
              "       1.90399555, 1.96746207, 2.03092858, 2.0943951 , 2.15786162,\n",
              "       2.22132814, 2.28479466, 2.34826118, 2.41172769, 2.47519421,\n",
              "       2.53866073, 2.60212725, 2.66559377, 2.72906028, 2.7925268 ,\n",
              "       2.85599332, 2.91945984, 2.98292636, 3.04639288, 3.10985939,\n",
              "       3.17332591, 3.23679243, 3.30025895, 3.36372547, 3.42719199,\n",
              "       3.4906585 , 3.55412502, 3.61759154, 3.68105806, 3.74452458,\n",
              "       3.8079911 , 3.87145761, 3.93492413, 3.99839065, 4.06185717,\n",
              "       4.12532369, 4.1887902 , 4.25225672, 4.31572324, 4.37918976,\n",
              "       4.44265628, 4.5061228 , 4.56958931, 4.63305583, 4.69652235,\n",
              "       4.75998887, 4.82345539, 4.88692191, 4.95038842, 5.01385494,\n",
              "       5.07732146, 5.14078798, 5.2042545 , 5.26772102, 5.33118753,\n",
              "       5.39465405, 5.45812057, 5.52158709, 5.58505361, 5.64852012,\n",
              "       5.71198664, 5.77545316, 5.83891968, 5.9023862 , 5.96585272,\n",
              "       6.02931923, 6.09278575, 6.15625227, 6.21971879, 6.28318531])"
            ]
          },
          "metadata": {},
          "execution_count": 18
        }
      ]
    },
    {
      "cell_type": "code",
      "source": [
        "# Calculate the sine of x list\n",
        "y = np.sin(x)\n",
        "y"
      ],
      "metadata": {
        "colab": {
          "base_uri": "https://localhost:8080/"
        },
        "id": "8kWfrFsq2UEc",
        "outputId": "7bf1bb0c-9a96-4ec0-9458-d24c682dfae2"
      },
      "execution_count": 19,
      "outputs": [
        {
          "output_type": "execute_result",
          "data": {
            "text/plain": [
              "array([ 0.00000000e+00,  6.34239197e-02,  1.26592454e-01,  1.89251244e-01,\n",
              "        2.51147987e-01,  3.12033446e-01,  3.71662456e-01,  4.29794912e-01,\n",
              "        4.86196736e-01,  5.40640817e-01,  5.92907929e-01,  6.42787610e-01,\n",
              "        6.90079011e-01,  7.34591709e-01,  7.76146464e-01,  8.14575952e-01,\n",
              "        8.49725430e-01,  8.81453363e-01,  9.09631995e-01,  9.34147860e-01,\n",
              "        9.54902241e-01,  9.71811568e-01,  9.84807753e-01,  9.93838464e-01,\n",
              "        9.98867339e-01,  9.99874128e-01,  9.96854776e-01,  9.89821442e-01,\n",
              "        9.78802446e-01,  9.63842159e-01,  9.45000819e-01,  9.22354294e-01,\n",
              "        8.95993774e-01,  8.66025404e-01,  8.32569855e-01,  7.95761841e-01,\n",
              "        7.55749574e-01,  7.12694171e-01,  6.66769001e-01,  6.18158986e-01,\n",
              "        5.67059864e-01,  5.13677392e-01,  4.58226522e-01,  4.00930535e-01,\n",
              "        3.42020143e-01,  2.81732557e-01,  2.20310533e-01,  1.58001396e-01,\n",
              "        9.50560433e-02,  3.17279335e-02, -3.17279335e-02, -9.50560433e-02,\n",
              "       -1.58001396e-01, -2.20310533e-01, -2.81732557e-01, -3.42020143e-01,\n",
              "       -4.00930535e-01, -4.58226522e-01, -5.13677392e-01, -5.67059864e-01,\n",
              "       -6.18158986e-01, -6.66769001e-01, -7.12694171e-01, -7.55749574e-01,\n",
              "       -7.95761841e-01, -8.32569855e-01, -8.66025404e-01, -8.95993774e-01,\n",
              "       -9.22354294e-01, -9.45000819e-01, -9.63842159e-01, -9.78802446e-01,\n",
              "       -9.89821442e-01, -9.96854776e-01, -9.99874128e-01, -9.98867339e-01,\n",
              "       -9.93838464e-01, -9.84807753e-01, -9.71811568e-01, -9.54902241e-01,\n",
              "       -9.34147860e-01, -9.09631995e-01, -8.81453363e-01, -8.49725430e-01,\n",
              "       -8.14575952e-01, -7.76146464e-01, -7.34591709e-01, -6.90079011e-01,\n",
              "       -6.42787610e-01, -5.92907929e-01, -5.40640817e-01, -4.86196736e-01,\n",
              "       -4.29794912e-01, -3.71662456e-01, -3.12033446e-01, -2.51147987e-01,\n",
              "       -1.89251244e-01, -1.26592454e-01, -6.34239197e-02, -2.44929360e-16])"
            ]
          },
          "metadata": {},
          "execution_count": 19
        }
      ]
    },
    {
      "cell_type": "code",
      "source": [
        "# import required library\n",
        "import matplotlib.pyplot as plt\n",
        "%matplotlib inline\n",
        "\n",
        "# Plot the result\n",
        "plt.plot(x, y)"
      ],
      "metadata": {
        "colab": {
          "base_uri": "https://localhost:8080/",
          "height": 447
        },
        "id": "6lq9hnwu2oGk",
        "outputId": "cd6831d3-3d49-4ffc-baee-761dfb288fcc"
      },
      "execution_count": 20,
      "outputs": [
        {
          "output_type": "execute_result",
          "data": {
            "text/plain": [
              "[<matplotlib.lines.Line2D at 0x7f6e081d7370>]"
            ]
          },
          "metadata": {},
          "execution_count": 20
        },
        {
          "output_type": "display_data",
          "data": {
            "text/plain": [
              "<Figure size 640x480 with 1 Axes>"
            ],
            "image/png": "[encoded data removed]"
          },
          "metadata": {}
        }
      ]
    },
    {
      "cell_type": "markdown",
      "source": [
        "#### Try it Yourself"
      ],
      "metadata": {
        "id": "NZ2OYUTJ3cPo"
      }
    },
    {
      "cell_type": "code",
      "source": [
        "# Make a numpy array within [5,4] and 6 elements\n",
        "np.linspace(5, 4, num = 6)"
      ],
      "metadata": {
        "colab": {
          "base_uri": "https://localhost:8080/"
        },
        "id": "huMfrnSY2thj",
        "outputId": "1fa7a28f-ea4e-44c4-982b-7cce3d37daa8"
      },
      "execution_count": 22,
      "outputs": [
        {
          "output_type": "execute_result",
          "data": {
            "text/plain": [
              "array([5. , 4.8, 4.6, 4.4, 4.2, 4. ])"
            ]
          },
          "metadata": {},
          "execution_count": 22
        }
      ]
    },
    {
      "cell_type": "markdown",
      "source": [
        "#### Iterating 1-D Arrays\n",
        "###### Iterating means going through elements one by one.\n",
        "If we iterate thorugh 1-D array it will iterate through each element one by one.\n",
        "\n",
        "\n"
      ],
      "metadata": {
        "id": "5vLaQuln7CoX"
      }
    },
    {
      "cell_type": "code",
      "source": [
        "# if we execute numpy array, we get in array format\n",
        "arr1 = np.array([1, 2, 3])\n",
        "arr1"
      ],
      "metadata": {
        "colab": {
          "base_uri": "https://localhost:8080/"
        },
        "id": "uegA0Us03stU",
        "outputId": "c8985379-fd80-4247-d97d-93f500ffd71f"
      },
      "execution_count": 23,
      "outputs": [
        {
          "output_type": "execute_result",
          "data": {
            "text/plain": [
              "array([1, 2, 3])"
            ]
          },
          "metadata": {},
          "execution_count": 23
        }
      ]
    },
    {
      "cell_type": "code",
      "source": [
        "# if want in list format, use for loop\n",
        "for x in arr1:\n",
        "  print(x)"
      ],
      "metadata": {
        "colab": {
          "base_uri": "https://localhost:8080/"
        },
        "id": "R4a4vvqO71HI",
        "outputId": "ff81b4eb-f0fc-4023-cb32-9f2ae9c2dd33"
      },
      "execution_count": 24,
      "outputs": [
        {
          "output_type": "stream",
          "name": "stdout",
          "text": [
            "1\n",
            "2\n",
            "3\n"
          ]
        }
      ]
    },
    {
      "cell_type": "markdown",
      "source": [
        "#### Quiz on 1D Numpy Array"
      ],
      "metadata": {
        "id": "Cak5KEVO8T4-"
      }
    },
    {
      "cell_type": "code",
      "source": [
        "# Implement the vector subtraction in numpy: (u - v)\n",
        "u = np.array([1, 0])\n",
        "v = np.array([0, 1])\n",
        "u - v"
      ],
      "metadata": {
        "colab": {
          "base_uri": "https://localhost:8080/"
        },
        "id": "mXoyzARo79ek",
        "outputId": "0ea2d2e7-7fec-48b8-9e67-dfcb29ee08d6"
      },
      "execution_count": 26,
      "outputs": [
        {
          "output_type": "execute_result",
          "data": {
            "text/plain": [
              "array([ 1, -1])"
            ]
          },
          "metadata": {},
          "execution_count": 26
        }
      ]
    },
    {
      "cell_type": "code",
      "source": [
        "# Multiply the numpy array z with -2\n",
        "z = np.array([2, 4])\n",
        "-2 * z"
      ],
      "metadata": {
        "colab": {
          "base_uri": "https://localhost:8080/"
        },
        "id": "cO0Htnhd8weJ",
        "outputId": "971fb4e3-9899-4feb-b367-541df6cb8c8b"
      },
      "execution_count": 28,
      "outputs": [
        {
          "output_type": "execute_result",
          "data": {
            "text/plain": [
              "array([-4, -8])"
            ]
          },
          "metadata": {},
          "execution_count": 28
        }
      ]
    },
    {
      "cell_type": "code",
      "source": [
        "# Consider following list. Cast both lists to numpy arrays then multiply them together.\n",
        "a = [1,2,3,4,5]\n",
        "b = [1,0,1,0,1]\n",
        "arr1 = np.array(a)\n",
        "arr2 = np.array(b)\n",
        "\n",
        "arr1 * arr2"
      ],
      "metadata": {
        "colab": {
          "base_uri": "https://localhost:8080/"
        },
        "id": "-knSCH2x9HA4",
        "outputId": "ee922d03-c363-4617-c36a-8749a7d90cab"
      },
      "execution_count": 29,
      "outputs": [
        {
          "output_type": "execute_result",
          "data": {
            "text/plain": [
              "array([1, 0, 3, 0, 5])"
            ]
          },
          "metadata": {},
          "execution_count": 29
        }
      ]
    },
    {
      "cell_type": "code",
      "source": [
        "# Import the libraries\n",
        "\n",
        "import time\n",
        "import sys\n",
        "import numpy as np\n",
        "\n",
        "import matplotlib.pyplot as plt\n",
        "%matplotlib inline\n",
        "\n",
        "def Plotvec2(a,b):\n",
        "    ax = plt.axes()# to generate the full window axes\n",
        "    ax.arrow(0, 0, *a, head_width=0.05, color ='r', head_length=0.1)#Add an arrow to the  a Axes with arrow head width 0.05, color red and arrow head length 0.1\n",
        "    plt.text(*(a + 0.1), 'a')\n",
        "    ax.arrow(0, 0, *b, head_width=0.05, color ='b', head_length=0.1)#Add an arrow to the  b Axes with arrow head width 0.05, color blue and arrow head length 0.1\n",
        "    plt.text(*(b + 0.1), 'b')\n",
        "    plt.ylim(-2, 2)#set the ylim to bottom(-2), top(2)\n",
        "    plt.xlim(-2, 2)#set the xlim to left(-2), right(2)\n",
        ""
      ],
      "metadata": {
        "id": "5rVUkTDH9w9R"
      },
      "execution_count": 37,
      "outputs": []
    },
    {
      "cell_type": "code",
      "source": [
        "# Convert following list to numpy arrays a, b. Then plot the arrays\n",
        "# using function Plotvec2 and find their dot product.\n",
        "\n",
        "a = np.array([-1, 1])\n",
        "b = np.array([1, 1])\n",
        "Plotvec2(a,b)\n",
        "print(\"The dot product of a and b: \", np.dot(a,b))\n"
      ],
      "metadata": {
        "colab": {
          "base_uri": "https://localhost:8080/",
          "height": 452
        },
        "id": "UmWnnw9QEbFM",
        "outputId": "384612d6-e45f-4dd3-a8a4-a758c8c80391"
      },
      "execution_count": 39,
      "outputs": [
        {
          "output_type": "stream",
          "name": "stdout",
          "text": [
            "The dot product of a and b:  0\n"
          ]
        },
        {
          "output_type": "display_data",
          "data": {
            "text/plain": [
              "<Figure size 640x480 with 1 Axes>"
            ],
            "image/png": "[encoded data removed]"
          },
          "metadata": {}
        }
      ]
    },
    {
      "cell_type": "code",
      "source": [
        "# Convert following list to numpy arrays a, b. Then plot the arrays\n",
        "# using function Plotvec2 and find their dot product.\n",
        "\n",
        "a = np.array([1, 0])\n",
        "b = np.array([0, 1])\n",
        "Plotvec2(a,b)\n",
        "print(\"The dot product of a and b: \", np.dot(a,b))\n"
      ],
      "metadata": {
        "colab": {
          "base_uri": "https://localhost:8080/",
          "height": 452
        },
        "id": "TRlg9cSeFNiR",
        "outputId": "856bad1c-a74c-4b35-ea6d-aed23259e2de"
      },
      "execution_count": 42,
      "outputs": [
        {
          "output_type": "stream",
          "name": "stdout",
          "text": [
            "The dot product of a and b:  0\n"
          ]
        },
        {
          "output_type": "display_data",
          "data": {
            "text/plain": [
              "<Figure size 640x480 with 1 Axes>"
            ],
            "image/png": "[encoded data removed]"
          },
          "metadata": {}
        }
      ]
    },
    {
      "cell_type": "code",
      "source": [
        "# Convert following list to numpy arrays a, b. Then plot the arrays\n",
        "# using function Plotvec2 and find their dot product.\n",
        "\n",
        "a = np.array([1, 1])\n",
        "b = np.array([0, 1])\n",
        "Plotvec2(a,b)\n",
        "print(\"The dot product of a and b: \", np.dot(a,b))\n"
      ],
      "metadata": {
        "colab": {
          "base_uri": "https://localhost:8080/",
          "height": 452
        },
        "id": "yKl0s_OJGQqd",
        "outputId": "0de905c9-4b7b-400c-b47d-cb56d6ccf76b"
      },
      "execution_count": 43,
      "outputs": [
        {
          "output_type": "stream",
          "name": "stdout",
          "text": [
            "The dot product of a and b:  1\n"
          ]
        },
        {
          "output_type": "display_data",
          "data": {
            "text/plain": [
              "<Figure size 640x480 with 1 Axes>"
            ],
            "image/png": "[encoded data removed]"
          },
          "metadata": {}
        }
      ]
    },
    {
      "cell_type": "markdown",
      "source": [
        "Why are the results of the dot product for <code>\\[-1, 1]</code> and <code>\\[1, 1]</code> and the dot product for <code>\\[1, 0]</code> and <code>\\[0, 1]</code> zero, but not zero for the dot product for <code>\\[1, 1]</code> and <code>\\[0, 1]</code>? <p><i>Hint: Study the corresponding figures, pay attention to the direction the arrows are pointing to.</i></p>\n"
      ],
      "metadata": {
        "id": "hYrNRrFwG8iE"
      }
    },
    {
      "cell_type": "code",
      "source": [
        "# The vectors used for question 4 and 5 are perpendicular. As a result, the dot product is zero.\n"
      ],
      "metadata": {
        "id": "k5h5xb1qG_p3"
      },
      "execution_count": 44,
      "outputs": []
    },
    {
      "cell_type": "code",
      "source": [
        "# Convert the list [1,2,3] and [8,9,10] to numpy arrays arr1 and arr2.\n",
        "# then perform Addition, Subtraction, Mulitplication, Division and Dot Product\n",
        "# on arr1 and arr2\n",
        "\n",
        "arr1 = np.array([1, 2, 3])\n",
        "arr2 = np.array([8, 9, 10])\n",
        "print(\"arr1: \", arr1)\n",
        "print(\"arr2: \", arr2)\n",
        "print(\"The addition of arr1 and arr2:\", np.add(arr1, arr2))\n",
        "print(\"The subtraction of arr1 and arr2:\", np.subtract(arr1, arr2))\n",
        "print(\"The multiplication of arr1 and arr2:\", np.multiply(arr1, arr2))\n",
        "print(\"The division of arr1 and arr2:\", np.divide(arr1, arr2))\n",
        "print(\"The dot product of arr1 and arr2:\", np.dot(arr1, arr2))"
      ],
      "metadata": {
        "colab": {
          "base_uri": "https://localhost:8080/"
        },
        "id": "_1DdmawuHPGA",
        "outputId": "52b2759c-3873-44a5-df59-6656f1267fee"
      },
      "execution_count": 47,
      "outputs": [
        {
          "output_type": "stream",
          "name": "stdout",
          "text": [
            "arr1:  [1 2 3]\n",
            "arr2:  [ 8  9 10]\n",
            "The addition of arr1 and arr2: [ 9 11 13]\n",
            "The subtraction of arr1 and arr2: [-7 -7 -7]\n",
            "The multiplication of arr1 and arr2: [ 8 18 30]\n",
            "The division of arr1 and arr2: [0.125      0.22222222 0.3       ]\n",
            "The dot product of arr1 and arr2: 56\n"
          ]
        }
      ]
    },
    {
      "cell_type": "code",
      "source": [
        "# Convert the list [1,2,3,4,5] and [6,7,8,9,10] to numpy arrays arr1 and arr2.\n",
        "# Then find even and odd numbers from arr1 and arr2.\n",
        "arr1 = np.array([1,2,3,4,5])\n",
        "arr2 = np.array([6,7,8,9,10])\n",
        "\n",
        "#Starting index in slice is 1 as first even element(2) in array1 is at index 1\n",
        "even_arr1 = arr1[1:5:2]\n",
        "print(\"even for array1\",even_arr1)\n",
        "\n",
        "#Starting index in slice is 0 as first odd element(1) in array1 is at index 0\n",
        "odd_arr1=arr1[0:5:2]\n",
        "print(\"odd for array1\",odd_arr1)\n",
        "\n",
        "#Starting index in slice is 0 as first even element(6) in array2 is at index 0\n",
        "even_arr2 = arr2[0:5:2]\n",
        "print(\"even for array2\",even_arr2)\n",
        "\n",
        "\n",
        "#Starting index in slice is 1 as first odd element(7) in array2 is at index 1\n",
        "odd_arr2=arr2[1:5:2]\n",
        "print(\"odd for array2\",odd_arr2)\n"
      ],
      "metadata": {
        "colab": {
          "base_uri": "https://localhost:8080/"
        },
        "id": "rFvvqHiGIaKh",
        "outputId": "82520c42-90cf-4387-ede9-8088ac5f40e4"
      },
      "execution_count": 48,
      "outputs": [
        {
          "output_type": "stream",
          "name": "stdout",
          "text": [
            "even for array1 [2 4]\n",
            "odd for array1 [1 3 5]\n",
            "even for array2 [ 6  8 10]\n",
            "odd for array2 [7 9]\n"
          ]
        }
      ]
    },
    {
      "cell_type": "code",
      "source": [],
      "metadata": {
        "id": "2HlliEjdJoqm"
      },
      "execution_count": null,
      "outputs": []
    }
  ]
}