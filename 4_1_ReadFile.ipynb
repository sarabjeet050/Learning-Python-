{
  "nbformat": 4,
  "nbformat_minor": 0,
  "metadata": {
    "colab": {
      "provenance": [],
      "authorship_tag": "ABX9TyMXxxpmawphs80jjRhMJAMT",
      "include_colab_link": true
    },
    "kernelspec": {
      "name": "python3",
      "display_name": "Python 3"
    },
    "language_info": {
      "name": "python"
    }
  },
  "cells": [
    {
      "cell_type": "markdown",
      "metadata": {
        "id": "view-in-github",
        "colab_type": "text"
      },
      "source": [
        "<a href=\"https://colab.research.google.com/github/sarabjeet050/Learning_Python/blob/main/4_1_ReadFile.ipynb\" target=\"_parent\"><img src=\"https://colab.research.google.com/assets/colab-badge.svg\" alt=\"Open In Colab\"/></a>"
      ]
    },
    {
      "cell_type": "markdown",
      "source": [
        "#### Download Data"
      ],
      "metadata": {
        "id": "-U6IF0u4F1Ox"
      }
    },
    {
      "cell_type": "code",
      "execution_count": 5,
      "metadata": {
        "colab": {
          "base_uri": "https://localhost:8080/"
        },
        "id": "ufuSPz-wCGfh",
        "outputId": "e6830436-9077-49b1-c4e2-ffa9bfa3bcab"
      },
      "outputs": [
        {
          "output_type": "execute_result",
          "data": {
            "text/plain": [
              "('Example1.txt', <http.client.HTTPMessage at 0x79fe7b13dbd0>)"
            ]
          },
          "metadata": {},
          "execution_count": 5
        }
      ],
      "source": [
        "import urllib.request\n",
        "url = \"https://cf-courses-data.s3.us.cloud-object-storage.appdomain.cloud/IBMDeveloperSkillsNetwork-PY0101EN-SkillsNetwork/labs/Module%204/data/example1.txt\"\n",
        "filename = \"Example1.txt\"\n",
        "urllib.request.urlretrieve(url,filename)"
      ]
    },
    {
      "cell_type": "code",
      "source": [
        "# Download Example File\n",
        "# !wget -O Example1.txt https://cf-courses-data.s3.us.cloud-object-storage.appdomain.cloud/IBMDeveloperSkillsNetwork-PY0101EN-SkillsNetwork/labs/Module%204/data/example1.txt"
      ],
      "metadata": {
        "colab": {
          "base_uri": "https://localhost:8080/"
        },
        "id": "D0xmSb6FMDW5",
        "outputId": "58ec70b1-2585-48c9-9eae-9bf5e4e8b834"
      },
      "execution_count": null,
      "outputs": [
        {
          "output_type": "stream",
          "name": "stdout",
          "text": [
            "--2023-07-27 11:52:35--  https://cf-courses-data.s3.us.cloud-object-storage.appdomain.cloud/IBMDeveloperSkillsNetwork-PY0101EN-SkillsNetwork/labs/Module%204/data/example1.txt\n",
            "Resolving cf-courses-data.s3.us.cloud-object-storage.appdomain.cloud (cf-courses-data.s3.us.cloud-object-storage.appdomain.cloud)... 169.45.118.108\n",
            "Connecting to cf-courses-data.s3.us.cloud-object-storage.appdomain.cloud (cf-courses-data.s3.us.cloud-object-storage.appdomain.cloud)|169.45.118.108|:443... connected.\n",
            "HTTP request sent, awaiting response... 200 OK\n",
            "Length: 45 [text/plain]\n",
            "Saving to: ‘Example1.txt’\n",
            "\n",
            "Example1.txt        100%[===================>]      45  --.-KB/s    in 0s      \n",
            "\n",
            "2023-07-27 11:52:35 (23.2 MB/s) - ‘Example1.txt’ saved [45/45]\n",
            "\n"
          ]
        }
      ]
    },
    {
      "cell_type": "markdown",
      "source": [
        "#### Reading Text Files\n",
        "\n",
        "###### One way to read or write a file in Python is to use built-in \"open\" function. The \"open\" function provides a File Object that contains the methods and attributes needed to read, save and manipulate the file. Will take .txt files here. The parameter you need is the file path and file name.\n"
      ],
      "metadata": {
        "id": "ZexImBM0MgkE"
      }
    },
    {
      "cell_type": "code",
      "source": [
        "# syntax\n",
        "# file_object = open(\"filepath/filename\",\"mode\")\n",
        "# file = open(\"/resourses/data/filename.txt\",\"r\")"
      ],
      "metadata": {
        "id": "s9bhuznbMQYz"
      },
      "execution_count": null,
      "outputs": []
    },
    {
      "cell_type": "markdown",
      "source": [
        "###### The mode argument is optional and the default is \"r\".\n",
        "###### Here, will discuss 2 modes:\n",
        "###### \"r\" - Read mode for reading files\n",
        "###### \"w\" - Write mode for writing files\n",
        "\n",
        "###### For Examples, we will use Example1.txt file having following text:\n",
        "This is line 1 \\n\n",
        "This is line 2 \\n\n",
        "This is line 3"
      ],
      "metadata": {
        "id": "fiXtWF_UN8bH"
      }
    },
    {
      "cell_type": "code",
      "source": [
        "# Read the Example1.txt\n",
        "example1 = \"Example1.txt\"\n",
        "file1 = open(example1, \"r\") # default mode = \"r\", read file"
      ],
      "metadata": {
        "id": "SiEOn_59N17e"
      },
      "execution_count": 6,
      "outputs": []
    },
    {
      "cell_type": "code",
      "source": [
        "# Attributes of the file"
      ],
      "metadata": {
        "id": "i-HGa7vLxCja"
      },
      "execution_count": 7,
      "outputs": []
    },
    {
      "cell_type": "code",
      "source": [
        "# Print the path/name of file\n",
        "file1.name"
      ],
      "metadata": {
        "colab": {
          "base_uri": "https://localhost:8080/",
          "height": 35
        },
        "id": "qnuEqM8AxIIX",
        "outputId": "a4488fe5-850e-4c4c-8708-f17223a2e8b9"
      },
      "execution_count": 8,
      "outputs": [
        {
          "output_type": "execute_result",
          "data": {
            "text/plain": [
              "'Example1.txt'"
            ],
            "application/vnd.google.colaboratory.intrinsic+json": {
              "type": "string"
            }
          },
          "metadata": {},
          "execution_count": 8
        }
      ]
    },
    {
      "cell_type": "code",
      "source": [
        "# Print the mode of the file, either \"r\" or \"w\"\n",
        "file1.mode"
      ],
      "metadata": {
        "colab": {
          "base_uri": "https://localhost:8080/",
          "height": 35
        },
        "id": "MvKlG4_nxOJg",
        "outputId": "e1b710d4-fd40-4570-a056-b18d5bcbcc9e"
      },
      "execution_count": 9,
      "outputs": [
        {
          "output_type": "execute_result",
          "data": {
            "text/plain": [
              "'r'"
            ],
            "application/vnd.google.colaboratory.intrinsic+json": {
              "type": "string"
            }
          },
          "metadata": {},
          "execution_count": 9
        }
      ]
    },
    {
      "cell_type": "code",
      "source": [
        "# Read the file and assign it to variable\n",
        "fileContent = file1.read()\n",
        "fileContent"
      ],
      "metadata": {
        "colab": {
          "base_uri": "https://localhost:8080/",
          "height": 35
        },
        "id": "pq6pNZalxl35",
        "outputId": "d60bd01f-0792-4402-afaf-5bd63ca0083e"
      },
      "execution_count": 10,
      "outputs": [
        {
          "output_type": "execute_result",
          "data": {
            "text/plain": [
              "'This is line 1 \\nThis is line 2\\nThis is line 3'"
            ],
            "application/vnd.google.colaboratory.intrinsic+json": {
              "type": "string"
            }
          },
          "metadata": {},
          "execution_count": 10
        }
      ]
    },
    {
      "cell_type": "code",
      "source": [
        "# \\n means there is a new line"
      ],
      "metadata": {
        "id": "CLompiB5x3s3"
      },
      "execution_count": 11,
      "outputs": []
    },
    {
      "cell_type": "code",
      "source": [
        "# Print the file with \"\\n\" as new line\n",
        "print(fileContent)"
      ],
      "metadata": {
        "colab": {
          "base_uri": "https://localhost:8080/"
        },
        "id": "FsVxUIzoyCGX",
        "outputId": "26123576-112c-45d3-d4c0-b4a9c1c70516"
      },
      "execution_count": 12,
      "outputs": [
        {
          "output_type": "stream",
          "name": "stdout",
          "text": [
            "This is line 1 \n",
            "This is line 2\n",
            "This is line 3\n"
          ]
        }
      ]
    },
    {
      "cell_type": "code",
      "source": [
        "# file is of string type\n",
        "# Type of file content\n",
        "type(fileContent)"
      ],
      "metadata": {
        "colab": {
          "base_uri": "https://localhost:8080/"
        },
        "id": "mwuyJ_EEyKu8",
        "outputId": "4c6bfcc0-fec3-44e4-ea6a-030fe1a90a24"
      },
      "execution_count": 13,
      "outputs": [
        {
          "output_type": "execute_result",
          "data": {
            "text/plain": [
              "str"
            ]
          },
          "metadata": {},
          "execution_count": 13
        }
      ]
    },
    {
      "cell_type": "markdown",
      "source": [
        "###### It is important that the file is closed at the end. This frees up resources and ensures the consistency across different python version."
      ],
      "metadata": {
        "id": "diMpRWzaydQ4"
      }
    },
    {
      "cell_type": "code",
      "source": [
        "# Close the file after finish\n",
        "file1.close()"
      ],
      "metadata": {
        "id": "nPBTLvPhyYG3"
      },
      "execution_count": 14,
      "outputs": []
    },
    {
      "cell_type": "markdown",
      "source": [
        "#### A Better Way to Open a File\n",
        "###### Using the \"with\" statement is better practice, it automatically closes the file even if the code encounters an exception. The code will run everything in the indent block then closes the file object."
      ],
      "metadata": {
        "id": "MpmmePDxz_py"
      }
    },
    {
      "cell_type": "code",
      "source": [
        "# Open file using with\n",
        "with open(example1, \"r\") as file1:\n",
        "  fileContent = file1.read()\n",
        "  print(fileContent)"
      ],
      "metadata": {
        "colab": {
          "base_uri": "https://localhost:8080/"
        },
        "id": "4gbL0xChzhJG",
        "outputId": "ae8888d7-f180-493b-9ee2-31159fbda2fa"
      },
      "execution_count": 15,
      "outputs": [
        {
          "output_type": "stream",
          "name": "stdout",
          "text": [
            "This is line 1 \n",
            "This is line 2\n",
            "This is line 3\n"
          ]
        }
      ]
    },
    {
      "cell_type": "code",
      "source": [
        "# File object is closed\n",
        "# Verify if the file object is closed:\n",
        "file1.closed"
      ],
      "metadata": {
        "colab": {
          "base_uri": "https://localhost:8080/"
        },
        "id": "1NnaG9Jm1Aod",
        "outputId": "e879b600-c734-47e5-fba7-cf3d4bc26659"
      },
      "execution_count": 16,
      "outputs": [
        {
          "output_type": "execute_result",
          "data": {
            "text/plain": [
              "True"
            ]
          },
          "metadata": {},
          "execution_count": 16
        }
      ]
    },
    {
      "cell_type": "code",
      "source": [
        "# See the content of file\n",
        "print(fileContent)"
      ],
      "metadata": {
        "colab": {
          "base_uri": "https://localhost:8080/"
        },
        "id": "m4dsmcLY1Mnt",
        "outputId": "68a6fe5e-2b77-4949-fb96-f19b31c258b3"
      },
      "execution_count": 17,
      "outputs": [
        {
          "output_type": "stream",
          "name": "stdout",
          "text": [
            "This is line 1 \n",
            "This is line 2\n",
            "This is line 3\n"
          ]
        }
      ]
    },
    {
      "cell_type": "code",
      "source": [
        "# Syntax:\n",
        "# with open(\"filename\", mode) as variable:\n",
        "  #indented block\n",
        "# end of block, file object closed automatically"
      ],
      "metadata": {
        "id": "cRdUWsVJ1VJW"
      },
      "execution_count": 18,
      "outputs": []
    },
    {
      "cell_type": "code",
      "source": [
        "# Read first four characters by using .read(4) and passing argument as 4:\n",
        "with open(example1, \"r\") as file1:\n",
        "  print(file1.read(4))"
      ],
      "metadata": {
        "id": "SAPc8j9K17HQ",
        "colab": {
          "base_uri": "https://localhost:8080/"
        },
        "outputId": "72e83a7c-e834-4f50-c184-6e93a08708b7"
      },
      "execution_count": 22,
      "outputs": [
        {
          "output_type": "stream",
          "name": "stdout",
          "text": [
            "This\n"
          ]
        }
      ]
    },
    {
      "cell_type": "markdown",
      "source": [
        "###### Once the method .read(4) is called the first 4 characters are called. If we call the method again, the next 4 characters are called."
      ],
      "metadata": {
        "id": "p-wTwQVbCDqJ"
      }
    },
    {
      "cell_type": "code",
      "source": [
        "# Read certain amount of characters:\n",
        "with open(example1, \"r\") as file1:\n",
        "  print(file1.read(4)) #This\n",
        "  print(file1.read(4)) # is\n",
        "  print(file1.read(7)) #line 1\n",
        "  print(file1.read(15)) #\\nThis is line 2"
      ],
      "metadata": {
        "colab": {
          "base_uri": "https://localhost:8080/"
        },
        "id": "u0mAp-7RBrvG",
        "outputId": "5184503f-b329-4262-bb93-464d2b0e63f3"
      },
      "execution_count": 23,
      "outputs": [
        {
          "output_type": "stream",
          "name": "stdout",
          "text": [
            "This\n",
            " is \n",
            "line 1 \n",
            "\n",
            "This is line 2\n"
          ]
        }
      ]
    },
    {
      "cell_type": "code",
      "source": [
        "# Read certain amount of characters (16, 5, and 9)\n",
        "with open(example1, \"r\") as file1:\n",
        "  print(file1.read(16)) #This is line 1 \\n\n",
        "  print(file1.read(5)) #This\n",
        "  print(file1.read(9)) #is line 2"
      ],
      "metadata": {
        "colab": {
          "base_uri": "https://localhost:8080/"
        },
        "id": "J4p6GaaeCriG",
        "outputId": "d940ce70-7fa4-4b3b-b498-96aca9724afe"
      },
      "execution_count": 24,
      "outputs": [
        {
          "output_type": "stream",
          "name": "stdout",
          "text": [
            "This is line 1 \n",
            "\n",
            "This \n",
            "is line 2\n"
          ]
        }
      ]
    },
    {
      "cell_type": "code",
      "source": [
        "# Read one line at a time using .readline()\n",
        "with open(example1, \"r\") as file1:\n",
        "  print(\"first line: \" + file1.readline())\n"
      ],
      "metadata": {
        "colab": {
          "base_uri": "https://localhost:8080/"
        },
        "id": "pLFduPEWDthC",
        "outputId": "6b0616fe-ce69-4ecf-9820-d471068f8638"
      },
      "execution_count": 26,
      "outputs": [
        {
          "output_type": "stream",
          "name": "stdout",
          "text": [
            "first line: This is line 1 \n",
            "\n"
          ]
        }
      ]
    },
    {
      "cell_type": "markdown",
      "source": [
        "###### We can also pass an argument to .readline() to specify the number of characters we want to read. However, unlike .read(), .readline() can only read one line at most."
      ],
      "metadata": {
        "id": "1YO0TZJ8KBRQ"
      }
    },
    {
      "cell_type": "code",
      "source": [
        "with open(example1, \"r\") as file1:\n",
        "  print(file1.readline(20)) # doesn't read past the end of line\n",
        "  print(file1.read(20)) # returns the next 20 characters"
      ],
      "metadata": {
        "colab": {
          "base_uri": "https://localhost:8080/"
        },
        "id": "yg5bAqMiEZJY",
        "outputId": "00ca4046-98f2-4a07-d5cd-0e90a691475c"
      },
      "execution_count": 28,
      "outputs": [
        {
          "output_type": "stream",
          "name": "stdout",
          "text": [
            "This is line 1 \n",
            "\n",
            "This is line 2\n",
            "This \n"
          ]
        }
      ]
    },
    {
      "cell_type": "code",
      "source": [
        "# Iterate through  the lines using loop:\n",
        "with open(example1, \"r\") as file1 :\n",
        "  i = 0\n",
        "  for line in file1:\n",
        "    print(\"Iteration \", str(i),\":\", line)\n",
        "    i = i + 1"
      ],
      "metadata": {
        "colab": {
          "base_uri": "https://localhost:8080/"
        },
        "id": "6p6AbFsrK7JA",
        "outputId": "4d1ec1b7-a367-4779-9e46-ad6784e6d4ab"
      },
      "execution_count": 29,
      "outputs": [
        {
          "output_type": "stream",
          "name": "stdout",
          "text": [
            "Iteration  0 : This is line 1 \n",
            "\n",
            "Iteration  1 : This is line 2\n",
            "\n",
            "Iteration  2 : This is line 3\n"
          ]
        }
      ]
    },
    {
      "cell_type": "markdown",
      "source": [
        "###### We can use .readlines() to save the text file as a list"
      ],
      "metadata": {
        "id": "kFUTaGpLN05R"
      }
    },
    {
      "cell_type": "code",
      "source": [
        "# Read all the lines and save as a list:\n",
        "with open(example1, \"r\") as file1:\n",
        "  FileasList = file1.readlines()"
      ],
      "metadata": {
        "id": "mlKvLp2WLjOM"
      },
      "execution_count": 30,
      "outputs": []
    },
    {
      "cell_type": "markdown",
      "source": [
        "###### Each element of the list corresponds to a line of the text"
      ],
      "metadata": {
        "id": "O-K9Ch0QORqH"
      }
    },
    {
      "cell_type": "code",
      "source": [
        "# Print the first line\n",
        "print(FileasList[0])"
      ],
      "metadata": {
        "colab": {
          "base_uri": "https://localhost:8080/"
        },
        "id": "rF2Xl1yWOPQq",
        "outputId": "22ea1f00-42e9-489d-998e-ac67cc15532b"
      },
      "execution_count": 31,
      "outputs": [
        {
          "output_type": "stream",
          "name": "stdout",
          "text": [
            "This is line 1 \n",
            "\n"
          ]
        }
      ]
    },
    {
      "cell_type": "code",
      "source": [
        "# Print the second line\n",
        "print(FileasList[1])"
      ],
      "metadata": {
        "colab": {
          "base_uri": "https://localhost:8080/"
        },
        "id": "0OjbWoZmOg9S",
        "outputId": "7544d1a6-0eac-4976-97bf-093a3cca3925"
      },
      "execution_count": 32,
      "outputs": [
        {
          "output_type": "stream",
          "name": "stdout",
          "text": [
            "This is line 2\n",
            "\n"
          ]
        }
      ]
    },
    {
      "cell_type": "code",
      "source": [
        "# Print the third line\n",
        "print(FileasList[2])"
      ],
      "metadata": {
        "colab": {
          "base_uri": "https://localhost:8080/"
        },
        "id": "uJD6bPALOolE",
        "outputId": "45a49aa5-ff8a-422e-d11f-c496d9997a18"
      },
      "execution_count": 33,
      "outputs": [
        {
          "output_type": "stream",
          "name": "stdout",
          "text": [
            "This is line 3\n"
          ]
        }
      ]
    },
    {
      "cell_type": "code",
      "source": [],
      "metadata": {
        "id": "Hj-nx-fyOywf"
      },
      "execution_count": null,
      "outputs": []
    }
  ]
}