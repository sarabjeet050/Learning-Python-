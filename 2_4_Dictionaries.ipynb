{
  "nbformat": 4,
  "nbformat_minor": 0,
  "metadata": {
    "colab": {
      "provenance": [],
      "authorship_tag": "ABX9TyM36hjNUlG9b+uVzk3Gb7jB",
      "include_colab_link": true
    },
    "kernelspec": {
      "name": "python3",
      "display_name": "Python 3"
    },
    "language_info": {
      "name": "python"
    }
  },
  "cells": [
    {
      "cell_type": "markdown",
      "metadata": {
        "id": "view-in-github",
        "colab_type": "text"
      },
      "source": [
        "<a href=\"https://colab.research.google.com/github/sarabjeet050/Learning_Python/blob/main/2_4_Dictionaries.ipynb\" target=\"_parent\"><img src=\"https://colab.research.google.com/assets/colab-badge.svg\" alt=\"Open In Colab\"/></a>"
      ]
    },
    {
      "cell_type": "markdown",
      "source": [
        "##### Dictionary consists of keys and values. Compared to list instead of numerical indexes, dictionary has labelled indexes called keys. These keys are used to access elements/values in dictionaries. "
      ],
      "metadata": {
        "id": "tFPq5uRi5c7P"
      }
    },
    {
      "cell_type": "code",
      "execution_count": null,
      "metadata": {
        "colab": {
          "base_uri": "https://localhost:8080/"
        },
        "id": "2gPqM6TszqwN",
        "outputId": "ef2280cb-0ac8-4cbf-c848-4e8f970bfbfa"
      },
      "outputs": [
        {
          "output_type": "execute_result",
          "data": {
            "text/plain": [
              "{'key1': 1,\n",
              " 'key2': '2',\n",
              " 'key3': [3, 3, 3],\n",
              " 'key4': (4, 4, 4),\n",
              " 'key5': 5,\n",
              " (0, 1): 6}"
            ]
          },
          "metadata": {},
          "execution_count": 1
        }
      ],
      "source": [
        "# Create the dictionary\n",
        "Dict = {\"key1\": 1, \"key2\": \"2\", \"key3\": [3,3,3], \"key4\": (4,4,4), \"key5\": 5, (0,1):6} \n",
        "Dict"
      ]
    },
    {
      "cell_type": "markdown",
      "source": [
        "###### Note: Keys can be strings"
      ],
      "metadata": {
        "id": "9JsaC3yP7OCG"
      }
    },
    {
      "cell_type": "code",
      "source": [
        "# Access the value by the key\n",
        "Dict[\"key1\"]"
      ],
      "metadata": {
        "colab": {
          "base_uri": "https://localhost:8080/"
        },
        "id": "Wj8u8w9N6_1n",
        "outputId": "46a058be-b136-42d2-f0d6-ea41a6edef51"
      },
      "execution_count": null,
      "outputs": [
        {
          "output_type": "execute_result",
          "data": {
            "text/plain": [
              "1"
            ]
          },
          "metadata": {},
          "execution_count": 2
        }
      ]
    },
    {
      "cell_type": "markdown",
      "source": [
        "Keys can be also immutable object like tuple"
      ],
      "metadata": {
        "id": "-Yka3yD-7ka0"
      }
    },
    {
      "cell_type": "code",
      "source": [
        "# Access the value by the key\n",
        "Dict[(0,1)]"
      ],
      "metadata": {
        "colab": {
          "base_uri": "https://localhost:8080/"
        },
        "id": "oN2r2cW17fX8",
        "outputId": "ed52895e-5635-4951-fe2f-330d5b35923d"
      },
      "execution_count": null,
      "outputs": [
        {
          "output_type": "execute_result",
          "data": {
            "text/plain": [
              "6"
            ]
          },
          "metadata": {},
          "execution_count": 3
        }
      ]
    },
    {
      "cell_type": "markdown",
      "source": [
        "Each key is seperated from its value by a colon \":\". Commas seperate the items, and the whole dictionary is enclosed in the curly braces. An empty dictionary without any items is written with just 2 curly braces, like \"{}\""
      ],
      "metadata": {
        "id": "_hlUbi4T8A9Q"
      }
    },
    {
      "cell_type": "code",
      "source": [
        "# Create a sample dictionary\n",
        "release_year_dict = {\"Thriller\": \"1982\", \"Back in Black\": \"1980\", \\\n",
        "                     \"The Dark Side of the Moon\": \"1973\", \"The Bodygaurd\": \"1992\", \\\n",
        "                     \"Bat Out of Hell\": \"1977\", \"Their Greatest Hits (1971 - 1975)\": \"1975\", \\\n",
        "                     \"Saturday Night Fever\": \"1977\", \"Rumours\": \"1977\"}\n",
        "release_year_dict"
      ],
      "metadata": {
        "colab": {
          "base_uri": "https://localhost:8080/"
        },
        "id": "d5haoZVw73Bw",
        "outputId": "8d66b60b-a921-4049-c75e-f63c6bb3a05f"
      },
      "execution_count": 2,
      "outputs": [
        {
          "output_type": "execute_result",
          "data": {
            "text/plain": [
              "{'Thriller': '1982',\n",
              " 'Back in Black': '1980',\n",
              " 'The Dark Side of the Moon': '1973',\n",
              " 'The Bodygaurd': '1992',\n",
              " 'Bat Out of Hell': '1977',\n",
              " 'Their Greatest Hits (1971 - 1975)': '1975',\n",
              " 'Saturday Night Fever': '1977',\n",
              " 'Rumours': '1977'}"
            ]
          },
          "metadata": {},
          "execution_count": 2
        }
      ]
    },
    {
      "cell_type": "markdown",
      "source": [
        "Dictionary (like a list) holds a sequence of elements. Each element is represented by a key and its corresponding value. Dictionaries are created using curly braces containing keys and values seperated by a colon which forms an item. Keys can be immutable only (i.e. strings, int, float, tuple), but values can be mutable (i.e.any data type).  "
      ],
      "metadata": {
        "id": "OpKa2nCH_y89"
      }
    },
    {
      "cell_type": "markdown",
      "source": [
        "####Keys"
      ],
      "metadata": {
        "id": "4HGGoM8AAy7p"
      }
    },
    {
      "cell_type": "code",
      "source": [
        "# Get value by keys\n",
        "release_year_dict['Thriller']"
      ],
      "metadata": {
        "colab": {
          "base_uri": "https://localhost:8080/",
          "height": 35
        },
        "id": "sa6bhy8-_rFy",
        "outputId": "e8aa1449-29ac-4b1d-b54d-c7ab771283aa"
      },
      "execution_count": 3,
      "outputs": [
        {
          "output_type": "execute_result",
          "data": {
            "text/plain": [
              "'1982'"
            ],
            "application/vnd.google.colaboratory.intrinsic+json": {
              "type": "string"
            }
          },
          "metadata": {},
          "execution_count": 3
        }
      ]
    },
    {
      "cell_type": "code",
      "source": [
        "# Get value for key \"The Bodygaurd\"\n",
        "release_year_dict['The Bodygaurd']"
      ],
      "metadata": {
        "id": "61CW7dASA8Nf",
        "colab": {
          "base_uri": "https://localhost:8080/",
          "height": 35
        },
        "outputId": "4072dd3d-d8ad-4212-dc9a-be6e3560b31c"
      },
      "execution_count": 4,
      "outputs": [
        {
          "output_type": "execute_result",
          "data": {
            "text/plain": [
              "'1992'"
            ],
            "application/vnd.google.colaboratory.intrinsic+json": {
              "type": "string"
            }
          },
          "metadata": {},
          "execution_count": 4
        }
      ]
    },
    {
      "cell_type": "code",
      "source": [
        "# Get all the keys in dictionary using keys() method\n",
        "release_year_dict.keys()"
      ],
      "metadata": {
        "colab": {
          "base_uri": "https://localhost:8080/"
        },
        "id": "1Udqu2lfTCEZ",
        "outputId": "cd2d6ea7-7a18-4d38-8292-84a06b8a7883"
      },
      "execution_count": 8,
      "outputs": [
        {
          "output_type": "execute_result",
          "data": {
            "text/plain": [
              "dict_keys(['Thriller', 'Back in Black', 'The Dark Side of the Moon', 'The Bodygaurd', 'Bat Out of Hell', 'Their Greatest Hits (1971 - 1975)', 'Saturday Night Fever', 'Rumours'])"
            ]
          },
          "metadata": {},
          "execution_count": 8
        }
      ]
    },
    {
      "cell_type": "code",
      "source": [
        "# Get all the values in dictionary using values() method\n",
        "release_year_dict.values()"
      ],
      "metadata": {
        "colab": {
          "base_uri": "https://localhost:8080/"
        },
        "id": "sSO5hghCTjhM",
        "outputId": "c77da5fd-ce58-4fd9-c575-bed9c6908d85"
      },
      "execution_count": 9,
      "outputs": [
        {
          "output_type": "execute_result",
          "data": {
            "text/plain": [
              "dict_values(['1982', '1980', '1973', '1992', '1977', '1975', '1977', '1977'])"
            ]
          },
          "metadata": {},
          "execution_count": 9
        }
      ]
    },
    {
      "cell_type": "code",
      "source": [
        "# Add/append value with key into dictionary\n",
        "release_year_dict['Graduation'] =\"2007\"\n",
        "release_year_dict"
      ],
      "metadata": {
        "colab": {
          "base_uri": "https://localhost:8080/"
        },
        "id": "0uGM37FFUuC5",
        "outputId": "9a033ec0-6851-4530-a65f-0204d50dbecb"
      },
      "execution_count": 10,
      "outputs": [
        {
          "output_type": "execute_result",
          "data": {
            "text/plain": [
              "{'Thriller': '1982',\n",
              " 'Back in Black': '1980',\n",
              " 'The Dark Side of the Moon': '1973',\n",
              " 'The Bodygaurd': '1992',\n",
              " 'Bat Out of Hell': '1977',\n",
              " 'Their Greatest Hits (1971 - 1975)': '1975',\n",
              " 'Saturday Night Fever': '1977',\n",
              " 'Rumours': '1977',\n",
              " 'Graduation': '2007'}"
            ]
          },
          "metadata": {},
          "execution_count": 10
        }
      ]
    },
    {
      "cell_type": "code",
      "source": [
        "# Delete entries by key using del() method, just like in list \n",
        "del(release_year_dict['Thriller'])\n",
        "del(release_year_dict['Graduation'])\n",
        "release_year_dict"
      ],
      "metadata": {
        "colab": {
          "base_uri": "https://localhost:8080/"
        },
        "id": "TGfn419_VBUG",
        "outputId": "98496c75-3184-4676-e916-2e4bca426100"
      },
      "execution_count": 11,
      "outputs": [
        {
          "output_type": "execute_result",
          "data": {
            "text/plain": [
              "{'Back in Black': '1980',\n",
              " 'The Dark Side of the Moon': '1973',\n",
              " 'The Bodygaurd': '1992',\n",
              " 'Bat Out of Hell': '1977',\n",
              " 'Their Greatest Hits (1971 - 1975)': '1975',\n",
              " 'Saturday Night Fever': '1977',\n",
              " 'Rumours': '1977'}"
            ]
          },
          "metadata": {},
          "execution_count": 11
        }
      ]
    },
    {
      "cell_type": "code",
      "source": [
        "# Verify if an element is in the dictionary by key using \"in\" , just like in set\n",
        "\"The Bodygaurd\" in release_year_dict"
      ],
      "metadata": {
        "colab": {
          "base_uri": "https://localhost:8080/"
        },
        "id": "VrVNX-yVVhjZ",
        "outputId": "d78e53ef-6706-43b9-ec26-c678132ee4a8"
      },
      "execution_count": 12,
      "outputs": [
        {
          "output_type": "execute_result",
          "data": {
            "text/plain": [
              "True"
            ]
          },
          "metadata": {},
          "execution_count": 12
        }
      ]
    },
    {
      "cell_type": "markdown",
      "source": [
        "#### Quiz on Dictionaries"
      ],
      "metadata": {
        "id": "XfPrcMSjV9nQ"
      }
    },
    {
      "cell_type": "code",
      "source": [
        "# Sample dictionary\n",
        "soundtrack_dic = {\"The Bodygaurd\": \"1992\", \"Saturday Night Fever\": \"1977\"}\n",
        "soundtrack_dic "
      ],
      "metadata": {
        "colab": {
          "base_uri": "https://localhost:8080/"
        },
        "id": "4vHCPNdwV7rL",
        "outputId": "6fbf20f0-8fe3-4ab1-9eb3-819d397db061"
      },
      "execution_count": 13,
      "outputs": [
        {
          "output_type": "execute_result",
          "data": {
            "text/plain": [
              "{'The Bodygaurd': '1992', 'Saturday Night Fever': '1977'}"
            ]
          },
          "metadata": {},
          "execution_count": 13
        }
      ]
    },
    {
      "cell_type": "code",
      "source": [
        "# Print keys of soundtrack_dic \n",
        "soundtrack_dic.keys()"
      ],
      "metadata": {
        "colab": {
          "base_uri": "https://localhost:8080/"
        },
        "id": "AvxkldHIWZRD",
        "outputId": "863d1b72-9da2-4191-ac19-2f73b21ec51e"
      },
      "execution_count": 14,
      "outputs": [
        {
          "output_type": "execute_result",
          "data": {
            "text/plain": [
              "dict_keys(['The Bodygaurd', 'Saturday Night Fever'])"
            ]
          },
          "metadata": {},
          "execution_count": 14
        }
      ]
    },
    {
      "cell_type": "code",
      "source": [
        "# Print values of soundtrack_dic\n",
        "soundtrack_dic.values()"
      ],
      "metadata": {
        "colab": {
          "base_uri": "https://localhost:8080/"
        },
        "id": "vjIcx0DOWlUI",
        "outputId": "14077fcb-cb39-419d-8251-53ee451d964e"
      },
      "execution_count": 15,
      "outputs": [
        {
          "output_type": "execute_result",
          "data": {
            "text/plain": [
              "dict_values(['1992', '1977'])"
            ]
          },
          "metadata": {},
          "execution_count": 15
        }
      ]
    },
    {
      "cell_type": "code",
      "source": [
        "# Create a new dictionary album_sales_dict using albums as keys and music record sales as values.\n",
        "# The albums Back in Black, The Bodygaurd, and Thriller have music record sales in million 50, 50, and 65 respectively.\n",
        "album_sales_dict = {\"Back in Black\": 50, \"The Bodygaurd\": 50, \"Thriller\": 65}\n",
        "album_sales_dict"
      ],
      "metadata": {
        "colab": {
          "base_uri": "https://localhost:8080/"
        },
        "id": "xUg27dYSWx6h",
        "outputId": "2fd32fe9-65ea-44c2-f712-8cc9f70966fb"
      },
      "execution_count": 16,
      "outputs": [
        {
          "output_type": "execute_result",
          "data": {
            "text/plain": [
              "{'Back in Black': 50, 'The Bodygaurd': 50, 'Thriller': 65}"
            ]
          },
          "metadata": {},
          "execution_count": 16
        }
      ]
    },
    {
      "cell_type": "code",
      "source": [
        "# Use dictionary to find the total sales of Thriller\n",
        "album_sales_dict['Thriller']"
      ],
      "metadata": {
        "colab": {
          "base_uri": "https://localhost:8080/"
        },
        "id": "hnKv_Df5X1yC",
        "outputId": "891db45f-ffbd-4b67-fec5-88e5a7ef0638"
      },
      "execution_count": 17,
      "outputs": [
        {
          "output_type": "execute_result",
          "data": {
            "text/plain": [
              "65"
            ]
          },
          "metadata": {},
          "execution_count": 17
        }
      ]
    },
    {
      "cell_type": "code",
      "source": [
        "# Find the names of albums from the dictionary using method keys()\n",
        "album_sales_dict.keys()"
      ],
      "metadata": {
        "colab": {
          "base_uri": "https://localhost:8080/"
        },
        "id": "PsNuIehZYKXh",
        "outputId": "2810eedd-48b8-442f-ae96-93315d4118e6"
      },
      "execution_count": 18,
      "outputs": [
        {
          "output_type": "execute_result",
          "data": {
            "text/plain": [
              "dict_keys(['Back in Black', 'The Bodygaurd', 'Thriller'])"
            ]
          },
          "metadata": {},
          "execution_count": 18
        }
      ]
    },
    {
      "cell_type": "code",
      "source": [
        "  "
      ],
      "metadata": {
        "id": "ThV9R5nuYZsL"
      },
      "execution_count": null,
      "outputs": []
    }
  ]
}