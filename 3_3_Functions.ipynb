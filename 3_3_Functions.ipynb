{
  "cells": [
    {
      "cell_type": "markdown",
      "metadata": {
        "id": "view-in-github",
        "colab_type": "text"
      },
      "source": [
        "<a href=\"https://colab.research.google.com/github/sarabjeet050/Learning_Python/blob/main/3_3_Functions.ipynb\" target=\"_parent\"><img src=\"https://colab.research.google.com/assets/colab-badge.svg\" alt=\"Open In Colab\"/></a>"
      ]
    },
    {
      "cell_type": "markdown",
      "metadata": {
        "id": "I_eIplnzol3J"
      },
      "source": [
        "###### Function is a reusable block of code which performs operations specified in the function. It helps to break down tasks and allow you to reuse your code in different programs.\n",
        "##### Two types of functions:\n",
        "\n",
        "\n",
        "*   Pre-defined functions\n",
        "*   User defined functions\n",
        "\n"
      ]
    },
    {
      "cell_type": "markdown",
      "metadata": {
        "id": "bFEf_k67prno"
      },
      "source": [
        "#### Rules to define a function:\n",
        "\n",
        "\n",
        "*   Function block begins with \"def\" followed by \"name of function\" and parantheses ()\n",
        "*   There are input parameters or arguments that should be placed in these parantheses.\n",
        "*   Can also define parameters inside these parameters.\n",
        "*   There is a body within every function that starts with a colon(:) after parantheses() and is indented.\n",
        "*   Can also place documentation before the body using starting and ending(\"\"\").\n",
        "*   The statement \"return\" exits a function, optionally passing back a value.\n",
        "\n",
        "\n",
        "\n",
        "\n"
      ]
    },
    {
      "cell_type": "code",
      "execution_count": null,
      "metadata": {
        "id": "mw8pizz4oKNa"
      },
      "outputs": [],
      "source": [
        "# First function example : Add 1 to a and store to b\n",
        "def add(a):\n",
        "  \"\"\"\n",
        "  add 1 to a\n",
        "  \"\"\"\n",
        "  b = a + 1\n",
        "  print(a,\"if you add one\", b)\n",
        "  return(b)\n"
      ]
    },
    {
      "cell_type": "markdown",
      "metadata": {
        "id": "JnjewyYod80Y"
      },
      "source": [
        "###### here \"def\" : keyword\n",
        "###### add : name of function\n",
        "###### a : parameter\n",
        "###### \"\"\"\n",
        "\"\"\" : contains documentation\n",
        "###### rest is body of function"
      ]
    },
    {
      "cell_type": "code",
      "execution_count": null,
      "metadata": {
        "colab": {
          "base_uri": "https://localhost:8080/"
        },
        "id": "V4LMELaldzgO",
        "outputId": "53bacc78-fc1c-4204-a9b7-2d11866240e6"
      },
      "outputs": [
        {
          "name": "stdout",
          "output_type": "stream",
          "text": [
            "Help on function add in module __main__:\n",
            "\n",
            "add(a)\n",
            "    add 1 to a\n",
            "\n"
          ]
        }
      ],
      "source": [
        "# Get a help about the function\n",
        "help(add)"
      ]
    },
    {
      "cell_type": "code",
      "execution_count": null,
      "metadata": {
        "colab": {
          "base_uri": "https://localhost:8080/"
        },
        "id": "GMiIBdZxekVq",
        "outputId": "ace6e8b6-7065-4d37-fe87-99bebc16d756"
      },
      "outputs": [
        {
          "name": "stdout",
          "output_type": "stream",
          "text": [
            "1 if you add one 2\n"
          ]
        },
        {
          "data": {
            "text/plain": [
              "2"
            ]
          },
          "execution_count": 3,
          "metadata": {},
          "output_type": "execute_result"
        }
      ],
      "source": [
        "# Call the function add()\n",
        "add(1)"
      ]
    },
    {
      "cell_type": "code",
      "execution_count": null,
      "metadata": {
        "colab": {
          "base_uri": "https://localhost:8080/"
        },
        "id": "I_hBWfWZet1t",
        "outputId": "ab02b11b-50e3-4869-d6ba-c1c3b7c8dc2a"
      },
      "outputs": [
        {
          "name": "stdout",
          "output_type": "stream",
          "text": [
            "2 if you add one 3\n"
          ]
        },
        {
          "data": {
            "text/plain": [
              "3"
            ]
          },
          "execution_count": 4,
          "metadata": {},
          "output_type": "execute_result"
        }
      ],
      "source": [
        "# Call the function add() with new input\n",
        "add(2)"
      ]
    },
    {
      "cell_type": "code",
      "execution_count": null,
      "metadata": {
        "colab": {
          "base_uri": "https://localhost:8080/"
        },
        "id": "MkvW0GRre3-K",
        "outputId": "75d7e978-c145-4991-ccf5-f51c3c10797f"
      },
      "outputs": [
        {
          "output_type": "stream",
          "name": "stdout",
          "text": [
            "24\n"
          ]
        }
      ],
      "source": [
        "# Define a function to multiply of two numbers\n",
        "def Mult(a, b):\n",
        "  c = a * b\n",
        "  return(c)\n",
        "  print(\"This is not printed.\") # it comes after return statement so not printed as function exits at return\n",
        "\n",
        "result = Mult(12, 2) # Mult 12,2 and save in result\n",
        "print(result) # print result"
      ]
    },
    {
      "cell_type": "markdown",
      "metadata": {
        "id": "AkV7JyKtgNkl"
      },
      "source": [
        "##### The same can be used for different datatypes."
      ]
    },
    {
      "cell_type": "code",
      "execution_count": null,
      "metadata": {
        "colab": {
          "base_uri": "https://localhost:8080/"
        },
        "id": "BsY0PqNFfv0K",
        "outputId": "c7c88cd4-815d-489b-dc86-d9c4ab0794e9"
      },
      "outputs": [
        {
          "data": {
            "text/plain": [
              "6"
            ]
          },
          "execution_count": 8,
          "metadata": {},
          "output_type": "execute_result"
        }
      ],
      "source": [
        "# Use Mult() to multiply two integers\n",
        "Mult(2,3)"
      ]
    },
    {
      "cell_type": "markdown",
      "metadata": {
        "id": "BBEQfeH8hj4C"
      },
      "source": [
        "#### Note how the function terminates at the return statement, while passing back a value. This value can further be assigned to a different variable as desired."
      ]
    },
    {
      "cell_type": "code",
      "execution_count": null,
      "metadata": {
        "colab": {
          "base_uri": "https://localhost:8080/"
        },
        "id": "St6VVNdgggca",
        "outputId": "784fb7f1-17ce-4e09-c2f3-4a9c2649817e"
      },
      "outputs": [
        {
          "data": {
            "text/plain": [
              "37.7428"
            ]
          },
          "execution_count": 9,
          "metadata": {},
          "output_type": "execute_result"
        }
      ],
      "source": [
        "# Use Mult() to multiply two floats\n",
        "Mult(12.02, 3.14)\n"
      ]
    },
    {
      "cell_type": "code",
      "execution_count": null,
      "metadata": {
        "colab": {
          "base_uri": "https://localhost:8080/",
          "height": 35
        },
        "id": "6p5R1XKGiYWK",
        "outputId": "94e3389d-e447-4984-b923-8cffa9831b6a"
      },
      "outputs": [
        {
          "data": {
            "application/vnd.google.colaboratory.intrinsic+json": {
              "type": "string"
            },
            "text/plain": [
              "'Michael JacksonMichael Jackson'"
            ]
          },
          "execution_count": 10,
          "metadata": {},
          "output_type": "execute_result"
        }
      ],
      "source": [
        "# We can even replicate the string by multiplying with an integer\n",
        "# Use Mult() to multiply two different types values together\n",
        "Mult(2, \"Michael Jackson\")"
      ]
    },
    {
      "cell_type": "markdown",
      "metadata": {
        "id": "_CST1SKPkSoH"
      },
      "source": [
        "#### Variables\n",
        "\n",
        "###### The input to a function is called formal parameter.\n",
        "###### A variable that is declared inside the function is called local variable. The parameter only exists within the function(i.e. the point where function starts to stops.)\n",
        "##### A variable that is declared outside the function definition is a global variable, and its value is accessible and modifiable throughout the program.  \n"
      ]
    },
    {
      "cell_type": "code",
      "execution_count": null,
      "metadata": {
        "colab": {
          "base_uri": "https://localhost:8080/"
        },
        "id": "yLr2iJG2jWT5",
        "outputId": "6672f707-5b47-465f-87dd-18b5b76c9874"
      },
      "outputs": [
        {
          "output_type": "stream",
          "name": "stdout",
          "text": [
            "2 if you square + 1 =  5\n"
          ]
        }
      ],
      "source": [
        "# Function Definition\n",
        "def square(a): # formal variable \"a\"\n",
        "  \"\"\"\n",
        "  Square the input and add 1\n",
        "  \"\"\"\n",
        "  #Local variable b\n",
        "  b = 1\n",
        "  c = a * a + 1\n",
        "  print(a,\"if you square + 1 = \", c)\n",
        "  return(c)\n",
        "\n",
        "#main program\n",
        "x = 2 # global variable\n",
        "z = square(x) # function call and returns to z variable"
      ]
    },
    {
      "cell_type": "code",
      "execution_count": null,
      "metadata": {
        "id": "sZlH5FeMm5D5",
        "colab": {
          "base_uri": "https://localhost:8080/"
        },
        "outputId": "51f51e65-661b-4eb3-b759-a4483c4505ff"
      },
      "outputs": [
        {
          "output_type": "stream",
          "name": "stdout",
          "text": [
            "3 if you square + 1 =  10\n"
          ]
        },
        {
          "output_type": "execute_result",
          "data": {
            "text/plain": [
              "10"
            ]
          },
          "metadata": {},
          "execution_count": 4
        }
      ],
      "source": [
        "# Initializes the global variable\n",
        "x = 3\n",
        "\n",
        "#  Makes a function call and return to a variable y\n",
        "y = square(x)\n",
        "y"
      ]
    },
    {
      "cell_type": "code",
      "source": [
        "# Call the function with an input 2 in different manner\n",
        "# Directly enter the number as parameter\n",
        "square(2)"
      ],
      "metadata": {
        "colab": {
          "base_uri": "https://localhost:8080/"
        },
        "id": "7dSbuWxR_Tge",
        "outputId": "9c3f7e1b-0649-495b-a76f-2596de9f277a"
      },
      "execution_count": null,
      "outputs": [
        {
          "output_type": "stream",
          "name": "stdout",
          "text": [
            "2 if you square + 1 =  5\n"
          ]
        },
        {
          "output_type": "execute_result",
          "data": {
            "text/plain": [
              "5"
            ]
          },
          "metadata": {},
          "execution_count": 5
        }
      ]
    },
    {
      "cell_type": "markdown",
      "source": [
        "Note: If there is no return statement, function returns None. Following 2 functions are equivalent."
      ],
      "metadata": {
        "id": "xjAVU3_MAAXF"
      }
    },
    {
      "cell_type": "code",
      "source": [
        "# Define functions, one with return value None and other without return value\n",
        "def MJ():\n",
        "  print(\"Michael Jackson\")\n",
        "\n",
        "def MJ1():\n",
        "  print(\"Michael Jackson\")\n",
        "  return(None)"
      ],
      "metadata": {
        "id": "u7fAyIz__4Cn"
      },
      "execution_count": null,
      "outputs": []
    },
    {
      "cell_type": "code",
      "source": [
        "# See the output for function MJ():\n",
        "MJ()"
      ],
      "metadata": {
        "colab": {
          "base_uri": "https://localhost:8080/"
        },
        "id": "xMMhkm3MApLM",
        "outputId": "28718b77-9f89-4afc-b5f9-0fc6bb83c01b"
      },
      "execution_count": null,
      "outputs": [
        {
          "output_type": "stream",
          "name": "stdout",
          "text": [
            "Michael Jackson\n"
          ]
        }
      ]
    },
    {
      "cell_type": "code",
      "source": [
        "# See the output for function MJ1():\n",
        "MJ1()"
      ],
      "metadata": {
        "colab": {
          "base_uri": "https://localhost:8080/"
        },
        "id": "UAJ3dKKyAy4E",
        "outputId": "012f5454-ea85-4e9c-b39b-390e35fd7498"
      },
      "execution_count": null,
      "outputs": [
        {
          "output_type": "stream",
          "name": "stdout",
          "text": [
            "Michael Jackson\n"
          ]
        }
      ]
    },
    {
      "cell_type": "code",
      "source": [
        "  # Printing the function after a call reveals a None as the default return statement\n",
        "  # Check what functions return\n",
        "  print(MJ()) # here default None returned and printed after print Michael Jackson\n",
        "  print(MJ1()) # here returned None and printed after print Michael Jackson"
      ],
      "metadata": {
        "colab": {
          "base_uri": "https://localhost:8080/"
        },
        "id": "JDjkw6_6A2hY",
        "outputId": "24504ad6-a5e4-4f4e-965d-8fc896975232"
      },
      "execution_count": null,
      "outputs": [
        {
          "output_type": "stream",
          "name": "stdout",
          "text": [
            "Michael Jackson\n",
            "None\n",
            "Michael Jackson\n",
            "None\n"
          ]
        }
      ]
    },
    {
      "cell_type": "code",
      "source": [
        "# Create a function con for combining strings\n",
        "def con(a, b):\n",
        "  return(a + b)"
      ],
      "metadata": {
        "id": "PangaEC7BX0F"
      },
      "execution_count": null,
      "outputs": []
    },
    {
      "cell_type": "code",
      "source": [
        "# Test the con() function\n",
        "con(\"This \", \"is\")"
      ],
      "metadata": {
        "colab": {
          "base_uri": "https://localhost:8080/",
          "height": 35
        },
        "id": "TJMORD_NCFI_",
        "outputId": "3ae434fb-52f9-4ee4-c120-186efbeb8e77"
      },
      "execution_count": null,
      "outputs": [
        {
          "output_type": "execute_result",
          "data": {
            "text/plain": [
              "'This is'"
            ],
            "application/vnd.google.colaboratory.intrinsic+json": {
              "type": "string"
            }
          },
          "metadata": {},
          "execution_count": 15
        }
      ]
    },
    {
      "cell_type": "markdown",
      "source": [
        "#### Functions Make Things Simple\n",
        "###### Consider two blocks of code Block 1 and Block 2 : the procedure of each block is identical. The only thing that is different is variables and values.\n"
      ],
      "metadata": {
        "id": "4deQTDzAlhkB"
      }
    },
    {
      "cell_type": "code",
      "source": [
        "# Block 1\n",
        "# a and b calculation block 1\n",
        "a1 = 4\n",
        "b1 = 5\n",
        "c1 = a1 + b1 + 2 * a1 * b1 - 1\n",
        "if (c1 < 0):\n",
        "  c1 = 0\n",
        "else:\n",
        "  c1 = 5\n",
        "c1\n"
      ],
      "metadata": {
        "id": "U3sRtj7YCN5q",
        "colab": {
          "base_uri": "https://localhost:8080/"
        },
        "outputId": "4e3f013b-8567-4791-d909-6672b1332d0a"
      },
      "execution_count": null,
      "outputs": [
        {
          "output_type": "execute_result",
          "data": {
            "text/plain": [
              "5"
            ]
          },
          "metadata": {},
          "execution_count": 1
        }
      ]
    },
    {
      "cell_type": "code",
      "source": [
        "# Block 2\n",
        "# a and b calculation block 2\n",
        "a2 = 0\n",
        "b2 = 0\n",
        "c2 = a2 + b2 + 2 * a2 * b2 - 1\n",
        "if (c2 < 0):\n",
        "  c2 = 0\n",
        "else:\n",
        "  c2 = 5\n",
        "c2\n"
      ],
      "metadata": {
        "colab": {
          "base_uri": "https://localhost:8080/"
        },
        "id": "TQ0-QjIyeBEx",
        "outputId": "553136d1-a2ea-41bb-afa7-d6fe4eb5cae7"
      },
      "execution_count": null,
      "outputs": [
        {
          "output_type": "execute_result",
          "data": {
            "text/plain": [
              "0"
            ]
          },
          "metadata": {},
          "execution_count": 2
        }
      ]
    },
    {
      "cell_type": "markdown",
      "source": [
        "###### We can replace the multiple lines of code with a function. A function combines many instructions into a single line of code. Once a function is defined, it can be used repeatedly. You can invoke same function many times in your program. You can save function and use it in another program or use someone else's function."
      ],
      "metadata": {
        "id": "jWls9N7zj707"
      }
    },
    {
      "cell_type": "code",
      "source": [
        "# Make a function for the above code (Block 1 or Block 2):\n",
        "def equation(a, b):\n",
        "  c = a + b + 2 * a * b - 1\n",
        "  if(c < 0):\n",
        "    c = 0\n",
        "  else:\n",
        "    c = 5\n",
        "  return(c)"
      ],
      "metadata": {
        "id": "tNKOTiy1eOS5"
      },
      "execution_count": null,
      "outputs": []
    },
    {
      "cell_type": "markdown",
      "source": [
        "###### This function takes two inputs a, b and then applies several operations to return c. We simply define the function, replace the instructions with the function and the inputs new values of a1, b1 and a2, b2 as inputs."
      ],
      "metadata": {
        "id": "LHu3RweEllVB"
      }
    },
    {
      "cell_type": "markdown",
      "source": [
        "###### Code Block 1 and Block 2 can now be replaced with code Block 3 and Block 4."
      ],
      "metadata": {
        "id": "o8dXQr5kmaum"
      }
    },
    {
      "cell_type": "code",
      "source": [
        "# Block 3\n",
        "a1 = 4\n",
        "b1 = 5\n",
        "c1 = equation(a1, b1)\n",
        "c1"
      ],
      "metadata": {
        "colab": {
          "base_uri": "https://localhost:8080/"
        },
        "id": "HvnBzaCzlUu6",
        "outputId": "379693c5-5104-498d-f71f-98b8b5f7c2b5"
      },
      "execution_count": null,
      "outputs": [
        {
          "output_type": "execute_result",
          "data": {
            "text/plain": [
              "5"
            ]
          },
          "metadata": {},
          "execution_count": 5
        }
      ]
    },
    {
      "cell_type": "code",
      "source": [
        "# Block 4\n",
        "a2 = 0\n",
        "b2 = 0\n",
        "c2 = equation(a2, b2)\n",
        "c2"
      ],
      "metadata": {
        "colab": {
          "base_uri": "https://localhost:8080/"
        },
        "id": "i9UYKK6Ym_VW",
        "outputId": "518200c9-2f0c-45b2-b2a2-ffc27f0896f2"
      },
      "execution_count": null,
      "outputs": [
        {
          "output_type": "execute_result",
          "data": {
            "text/plain": [
              "0"
            ]
          },
          "metadata": {},
          "execution_count": 6
        }
      ]
    },
    {
      "cell_type": "markdown",
      "source": [
        "#### Pre-defined Functions\n"
      ],
      "metadata": {
        "id": "T6BU5X96Fjy3"
      }
    },
    {
      "cell_type": "code",
      "source": [
        "# Build-in print() function:\n",
        "album_ratings = [10.0, 8.5, 9.5, 7.0, 7.0, 9.5, 9.0, 9.5]\n",
        "print(album_ratings)"
      ],
      "metadata": {
        "id": "rLQW8jbWnHN4",
        "colab": {
          "base_uri": "https://localhost:8080/"
        },
        "outputId": "e40426c7-d041-415b-fe5a-95a0e285a0a6"
      },
      "execution_count": null,
      "outputs": [
        {
          "output_type": "stream",
          "name": "stdout",
          "text": [
            "[10.0, 8.5, 9.5, 7.0, 7.0, 9.5, 9.0, 9.5]\n"
          ]
        }
      ]
    },
    {
      "cell_type": "code",
      "source": [
        "# Use sum() function to add all the elements of tuple or list\n",
        "sum(album_ratings)"
      ],
      "metadata": {
        "colab": {
          "base_uri": "https://localhost:8080/"
        },
        "id": "BgNq2kWfGA_r",
        "outputId": "fa7565f1-c159-425c-f343-47d53993a8d4"
      },
      "execution_count": null,
      "outputs": [
        {
          "output_type": "execute_result",
          "data": {
            "text/plain": [
              "70.0"
            ]
          },
          "metadata": {},
          "execution_count": 2
        }
      ]
    },
    {
      "cell_type": "code",
      "source": [
        "# Show the length of tuple or list using len() function:\n",
        "len(album_ratings)\n"
      ],
      "metadata": {
        "colab": {
          "base_uri": "https://localhost:8080/"
        },
        "id": "TJyDOd5BGRBc",
        "outputId": "ec8e6f8a-5eff-4322-bb47-42951116b642"
      },
      "execution_count": null,
      "outputs": [
        {
          "output_type": "execute_result",
          "data": {
            "text/plain": [
              "8"
            ]
          },
          "metadata": {},
          "execution_count": 4
        }
      ]
    },
    {
      "cell_type": "markdown",
      "source": [
        "#### Using if/else statements and loops in function\n",
        "\n",
        "###### The return() function is particularly used if you have any IF statements in the function, when you want your output dependent on some condition."
      ],
      "metadata": {
        "id": "mGdty_J5HZlE"
      }
    },
    {
      "cell_type": "code",
      "source": [
        "# Function example\n",
        "\n",
        "def type_of_album(artist, album, year_released):\n",
        "  print(artist, album, year_released)\n",
        "  if (year_released > 1980):\n",
        "    return \"Modern\"\n",
        "  else:\n",
        "    return \"Oldie\"\n",
        "\n",
        "x = type_of_album(\"Michael Jackson\", \"Thriller\", 1980)\n",
        "print(x)"
      ],
      "metadata": {
        "colab": {
          "base_uri": "https://localhost:8080/"
        },
        "id": "uMjObTl6Gzv0",
        "outputId": "6315e1f7-c50a-430f-f0a0-d6aeb5adc5c7"
      },
      "execution_count": null,
      "outputs": [
        {
          "output_type": "stream",
          "name": "stdout",
          "text": [
            "Michael Jackson Thriller 1980\n",
            "Oldie\n"
          ]
        }
      ]
    },
    {
      "cell_type": "code",
      "source": [
        "# Print the elements of list using loop in function:\n",
        "def PrintList(the_list):\n",
        "  for element in the_list:\n",
        "    print(element)"
      ],
      "metadata": {
        "id": "C59g7mcCI_LK"
      },
      "execution_count": null,
      "outputs": []
    },
    {
      "cell_type": "code",
      "source": [
        "# Implement the PrintList function:\n",
        "PrintList(['1', 1, \"the man\", \"abc\"])"
      ],
      "metadata": {
        "colab": {
          "base_uri": "https://localhost:8080/"
        },
        "id": "b0UywzekJix_",
        "outputId": "c91f5595-60f7-4608-bc61-4a73bb3ef3ca"
      },
      "execution_count": null,
      "outputs": [
        {
          "output_type": "stream",
          "name": "stdout",
          "text": [
            "1\n",
            "1\n",
            "the man\n",
            "abc\n"
          ]
        }
      ]
    },
    {
      "cell_type": "markdown",
      "source": [
        "**Strings comparision in Function**\n",
        "\n",
        "#### The relational operators compare the Unicode values of the characters of the strings from the zeroth index till the end of the list. It then returns a boolean value according to the operator used."
      ],
      "metadata": {
        "id": "piGf3dfTOtCg"
      }
    },
    {
      "cell_type": "code",
      "source": [
        "# Compare the two strings directly using in operator and user defined function\n",
        "\n",
        "# add string\n",
        "string = \"Michael Jackson is the best\"\n",
        "\n",
        "# define a function to check string\n",
        "def check_string(text):\n",
        "  if text in string:\n",
        "    return \"String Matched\"\n",
        "  else:\n",
        "    return \"String not matched\"\n",
        "\n",
        "check_string(\"Michael Jackson is the best\")"
      ],
      "metadata": {
        "colab": {
          "base_uri": "https://localhost:8080/",
          "height": 35
        },
        "id": "PS-5GPUnJ5NY",
        "outputId": "ceaaa28e-acfa-4172-ca00-2c5d1c038a91"
      },
      "execution_count": null,
      "outputs": [
        {
          "output_type": "execute_result",
          "data": {
            "text/plain": [
              "'String Matched'"
            ],
            "application/vnd.google.colaboratory.intrinsic+json": {
              "type": "string"
            }
          },
          "metadata": {},
          "execution_count": 10
        }
      ]
    },
    {
      "cell_type": "code",
      "source": [
        "# Compare two strings using == operator and user defined function\n",
        "\n",
        "def compareStrings(x, y):\n",
        "# use  if else statement to compare  x and y\n",
        "  if (x == y):\n",
        "    return 1\n",
        "\n",
        "# Declare two different variables as string1 and string2 and pass strings in it\n",
        "string1 = \"Michael Jackson is the best\"\n",
        "string2 = \"Michael Jackson is the best\"\n",
        "\n",
        "# Declare a varible to store the result after comparing both the strings\n",
        "check = compareStrings(string1, string2)\n",
        "\n",
        "# Use if else statement to compare the strings\n",
        "if check == 1:\n",
        "  print(\"Strings matched\")\n",
        "else:\n",
        "  print(\"Strings not matched\")"
      ],
      "metadata": {
        "colab": {
          "base_uri": "https://localhost:8080/"
        },
        "id": "Z04h2GQfPg5t",
        "outputId": "895cc243-2e2a-4124-e49b-2215800416a4"
      },
      "execution_count": null,
      "outputs": [
        {
          "output_type": "stream",
          "name": "stdout",
          "text": [
            "Strings matched\n"
          ]
        }
      ]
    },
    {
      "cell_type": "code",
      "source": [
        "# Python code to count the frequency of words in a string using Dictionary\n",
        "def freq(string):\n",
        "\n",
        "  # Step1 : A list varible is declared and initialized to an empty list.\n",
        "  words = []\n",
        "\n",
        "  # Step2 : Break the string into the list of words\n",
        "  words = string.lower().split() # or string.split()\n",
        "\n",
        "  # Step3: Declare a Dictionary\n",
        "  Dict = {}\n",
        "\n",
        "  # Step4 : Use for loop to iterate words and values to the dictionary\n",
        "  for key in words:\n",
        "    Dict[key] = words.count(key)\n",
        "\n",
        "  # Step5: Print the Dictionary\n",
        "  print(\"The frequency of words is: \\n\", Dict)\n",
        "\n",
        "# Step6 : Call function and pass string in it\n",
        "string = \"Mary had a little lamb Little lamb, little lamb Mary had a little lamb.Its fleece was white as snow And everywhere that Mary went Mary went, Mary went \\\n",
        "Everywhere that Mary went The lamb was sure to go\"\n",
        "freq(string)"
      ],
      "metadata": {
        "colab": {
          "base_uri": "https://localhost:8080/"
        },
        "id": "aSjasL79Scsv",
        "outputId": "5de7a060-3725-4759-c925-27c10f3123b8"
      },
      "execution_count": null,
      "outputs": [
        {
          "output_type": "stream",
          "name": "stdout",
          "text": [
            "The frequency of words is: \n",
            " {'mary': 6, 'had': 2, 'a': 2, 'little': 4, 'lamb': 3, 'lamb,': 1, 'lamb.its': 1, 'fleece': 1, 'was': 2, 'white': 1, 'as': 1, 'snow': 1, 'and': 1, 'everywhere': 2, 'that': 2, 'went': 3, 'went,': 1, 'the': 1, 'sure': 1, 'to': 1, 'go': 1}\n"
          ]
        }
      ]
    },
    {
      "cell_type": "markdown",
      "source": [
        "**Setting the default argument values in custom function**"
      ],
      "metadata": {
        "id": "uQu9OguKpmY7"
      }
    },
    {
      "cell_type": "code",
      "source": [
        "# Example for setting parameter with default value\n",
        "# In function isGoodRating to create threshold value for good rating, default rating 4 is used.\n",
        "\n",
        "def isGoodRating(rating = 4):\n",
        "  if(rating < 7):\n",
        "    print(\"This album sucks, its rating is: \", rating)\n",
        "  else:\n",
        "    print(\"This album is good, its rating is: \", rating)"
      ],
      "metadata": {
        "id": "yREYqjqxhZii"
      },
      "execution_count": null,
      "outputs": []
    },
    {
      "cell_type": "code",
      "source": [
        "# Test the value with default value and with input\n",
        "isGoodRating()\n",
        "isGoodRating(11)\n"
      ],
      "metadata": {
        "colab": {
          "base_uri": "https://localhost:8080/"
        },
        "id": "3Jy17BlDqs5n",
        "outputId": "13a26931-3da1-4861-a1b4-b71ac9121d1c"
      },
      "execution_count": null,
      "outputs": [
        {
          "output_type": "stream",
          "name": "stdout",
          "text": [
            "This album sucks, its rating is:  4\n",
            "This album is good, its rating is:  11\n"
          ]
        }
      ]
    },
    {
      "cell_type": "markdown",
      "source": [
        "**Global Variables**\n",
        "###### Variables outside the function are global variables"
      ],
      "metadata": {
        "id": "ypRmNZoatYKZ"
      }
    },
    {
      "cell_type": "code",
      "source": [
        "# Example of global variable\n",
        "\n",
        "artist  = \"Michael Jackson\"\n",
        "def printer1(artist):\n",
        "  internal_var1 = artist\n",
        "  print(artist, \"is an artist\")\n",
        "\n",
        "printer1(artist)\n"
      ],
      "metadata": {
        "colab": {
          "base_uri": "https://localhost:8080/"
        },
        "id": "pfq4ER-ntREV",
        "outputId": "7c8a384e-9bc2-4f63-eca4-5c3d56eb18f2"
      },
      "execution_count": null,
      "outputs": [
        {
          "output_type": "stream",
          "name": "stdout",
          "text": [
            "Michael Jackson is an artist\n"
          ]
        }
      ]
    },
    {
      "cell_type": "code",
      "source": [
        "# try running the following code:\n",
        "printer1(internal_var1)"
      ],
      "metadata": {
        "colab": {
          "base_uri": "https://localhost:8080/",
          "height": 183
        },
        "id": "RaJ8IesouP2m",
        "outputId": "71b642e7-9a0c-4fa8-9eb2-f54bfb65c816"
      },
      "execution_count": null,
      "outputs": [
        {
          "output_type": "error",
          "ename": "NameError",
          "evalue": "ignored",
          "traceback": [
            "\u001b[0;31m---------------------------------------------------------------------------\u001b[0m",
            "\u001b[0;31mNameError\u001b[0m                                 Traceback (most recent call last)",
            "\u001b[0;32m<ipython-input-21-ceab5936db3d>\u001b[0m in \u001b[0;36m<cell line: 2>\u001b[0;34m()\u001b[0m\n\u001b[1;32m      1\u001b[0m \u001b[0;31m# try running the following code:\u001b[0m\u001b[0;34m\u001b[0m\u001b[0;34m\u001b[0m\u001b[0m\n\u001b[0;32m----> 2\u001b[0;31m \u001b[0mprinter1\u001b[0m\u001b[0;34m(\u001b[0m\u001b[0minternal_var1\u001b[0m\u001b[0;34m)\u001b[0m\u001b[0;34m\u001b[0m\u001b[0;34m\u001b[0m\u001b[0m\n\u001b[0m",
            "\u001b[0;31mNameError\u001b[0m: name 'internal_var1' is not defined"
          ]
        }
      ]
    },
    {
      "cell_type": "markdown",
      "source": [
        "###### NameError: name 'internal_var1' is not defined\n",
        "###### this is because internal_var is created inside the function and its local variable, meaning variable assignment doesn't persist outside the function."
      ],
      "metadata": {
        "id": "7MtbAxNru9V8"
      }
    },
    {
      "cell_type": "code",
      "source": [
        "# But there is way to create global variables from within a function:\n",
        "artist = \"Michael Jackson\"\n",
        "\n",
        "def printer(artist):\n",
        "  global internal_var1\n",
        "  internal_var1 = \"Whitney Houston\"\n",
        "  print(artist, \"is an artist\")\n",
        "\n",
        "printer(artist)\n",
        "printer(internal_var1)"
      ],
      "metadata": {
        "colab": {
          "base_uri": "https://localhost:8080/"
        },
        "id": "k-RhOCkZuaK5",
        "outputId": "fef0370f-eaa4-4fd4-84fd-4c3798a5cafa"
      },
      "execution_count": null,
      "outputs": [
        {
          "output_type": "stream",
          "name": "stdout",
          "text": [
            "Michael Jackson is an artist\n",
            "Whitney Houston is an artist\n"
          ]
        }
      ]
    },
    {
      "cell_type": "markdown",
      "source": [
        "**Scope of a Variable**\n",
        "\n",
        "###### The Scope of a variable is a part of program where a variable is accessible.\n",
        "\n",
        "###### Global Variable: Variables that are declared outside of all functions definitions, are accessible anywhere within the program. As result such variables are said to have global scope and are known as global variables."
      ],
      "metadata": {
        "id": "1a3rE76qdFNh"
      }
    },
    {
      "cell_type": "code",
      "source": [
        "# Example of global variable\n",
        "\n",
        "myFavouriteBand = \"AC/DC\" # declared outside the function definition : global variable\n",
        "\n",
        "def getBandRating(bandname):\n",
        "  if bandname == myFavouriteBand: # global var accessible within the function\n",
        "    return 10.0\n",
        "  else:\n",
        "    return 0.0\n",
        "\n",
        "print(\"AC/DC's rating is:\", getBandRating(\"AC/DC\"))\n",
        "print(\"Deep Purple's rating is:\",getBandRating(\"Deep Purple\"))\n",
        "print(\"My Favourite band is:\", myFavouriteBand) # global var accessible outside the function"
      ],
      "metadata": {
        "id": "av1vt45qvy6w",
        "colab": {
          "base_uri": "https://localhost:8080/"
        },
        "outputId": "86aa330c-36c4-4935-f70a-79c43fa44fa2"
      },
      "execution_count": 2,
      "outputs": [
        {
          "output_type": "stream",
          "name": "stdout",
          "text": [
            "AC/DC's rating is: 10.0\n",
            "Deep Purple's rating is: 0.0\n",
            "My Favourite band is: AC/DC\n"
          ]
        }
      ]
    },
    {
      "cell_type": "markdown",
      "source": [
        "###### Local variable: A variable that is defined within a function is said to be a local variable of that function. That means it is only accessible from within the function in which it is defined."
      ],
      "metadata": {
        "id": "VvE2U_or_XGu"
      }
    },
    {
      "cell_type": "code",
      "source": [
        "# Deleting the variable \"myFavouriteBand\" from previous example to demonstrate the example of local variable\n",
        "# del myFavouriteBand\n",
        "\n",
        "# Example of local variable\n",
        "\n",
        "def getBandRating(bandname):\n",
        "  myFavouriteBand = \"AC/DC\" # declared within the function definition : local variable\n",
        "  if bandname == myFavouriteBand: # local var accessible within the function\n",
        "    return 10.0\n",
        "  else:\n",
        "    return 0.0\n",
        "\n",
        "print(\"AC/DC's rating is:\", getBandRating(\"AC/DC\"))  # here function getBandRating() is working as local variable is still inside the function\n",
        "print(\"Deep Purple's rating is:\",getBandRating(\"Deep Purple\"))\n",
        "print(\"My Favourite band is:\", myFavouriteBand) # Error because : local var of function not accessible outside the function"
      ],
      "metadata": {
        "colab": {
          "base_uri": "https://localhost:8080/",
          "height": 235
        },
        "id": "qIQ6vk12eXmM",
        "outputId": "f7533bc7-1c15-49e4-973c-475b1660891f"
      },
      "execution_count": 3,
      "outputs": [
        {
          "output_type": "stream",
          "name": "stdout",
          "text": [
            "AC/DC's rating is: 10.0\n",
            "Deep Purple's rating is: 0.0\n"
          ]
        },
        {
          "output_type": "error",
          "ename": "NameError",
          "evalue": "ignored",
          "traceback": [
            "\u001b[0;31m---------------------------------------------------------------------------\u001b[0m",
            "\u001b[0;31mNameError\u001b[0m                                 Traceback (most recent call last)",
            "\u001b[0;32m<ipython-input-3-c6022ca2b756>\u001b[0m in \u001b[0;36m<cell line: 15>\u001b[0;34m()\u001b[0m\n\u001b[1;32m     13\u001b[0m \u001b[0mprint\u001b[0m\u001b[0;34m(\u001b[0m\u001b[0;34m\"AC/DC's rating is:\"\u001b[0m\u001b[0;34m,\u001b[0m \u001b[0mgetBandRating\u001b[0m\u001b[0;34m(\u001b[0m\u001b[0;34m\"AC/DC\"\u001b[0m\u001b[0;34m)\u001b[0m\u001b[0;34m)\u001b[0m  \u001b[0;31m# here function getBandRating() is working as local variable is still inside the function\u001b[0m\u001b[0;34m\u001b[0m\u001b[0;34m\u001b[0m\u001b[0m\n\u001b[1;32m     14\u001b[0m \u001b[0mprint\u001b[0m\u001b[0;34m(\u001b[0m\u001b[0;34m\"Deep Purple's rating is:\"\u001b[0m\u001b[0;34m,\u001b[0m\u001b[0mgetBandRating\u001b[0m\u001b[0;34m(\u001b[0m\u001b[0;34m\"Deep Purple\"\u001b[0m\u001b[0;34m)\u001b[0m\u001b[0;34m)\u001b[0m\u001b[0;34m\u001b[0m\u001b[0;34m\u001b[0m\u001b[0m\n\u001b[0;32m---> 15\u001b[0;31m \u001b[0mprint\u001b[0m\u001b[0;34m(\u001b[0m\u001b[0;34m\"My Favourite band is:\"\u001b[0m\u001b[0;34m,\u001b[0m \u001b[0mmyFavouriteBand\u001b[0m\u001b[0;34m)\u001b[0m \u001b[0;31m# Error because : local var of function not accessible outside the function\u001b[0m\u001b[0;34m\u001b[0m\u001b[0;34m\u001b[0m\u001b[0m\n\u001b[0m",
            "\u001b[0;31mNameError\u001b[0m: name 'myFavouriteBand' is not defined"
          ]
        }
      ]
    },
    {
      "cell_type": "code",
      "source": [
        "# Example of global variable and local variable with the same name\n",
        "\n",
        "myFavouriteBand = \"AC/DC\" # global variable\n",
        "\n",
        "def getBandRating(bandname):\n",
        "  myFavouriteBand = \"Deep Purple\" # local variable\n",
        "  if (bandname == myFavouriteBand):\n",
        "    return (10.0)\n",
        "  else:\n",
        "    return (0.0)\n",
        "\n",
        "print(\"AC/DC's rating is:\", getBandRating(\"AC/DC\"))  # here in getBandRating() function myFavouriteBand is \"Deep Purple\" i.e. local variable of function precedence\n",
        "print(\"Deep Purple's rating is:\", getBandRating(\"Deep Purple\"))\n",
        "print(\"My favoutite band is:\", myFavouriteBand) # here global variable myFavouriteBand i.e. \"AC/DC\" prints as local varaible is out of scope."
      ],
      "metadata": {
        "colab": {
          "base_uri": "https://localhost:8080/"
        },
        "id": "USscHYQ8AqkP",
        "outputId": "90199ef6-ecae-4dc5-906c-da0cc92f2156"
      },
      "execution_count": 5,
      "outputs": [
        {
          "output_type": "stream",
          "name": "stdout",
          "text": [
            "AC/DC's rating is: 0.0\n",
            "Deep Purple's rating is: 10.0\n",
            "My favoutite band is: AC/DC\n"
          ]
        }
      ]
    },
    {
      "cell_type": "markdown",
      "source": [
        "#### Collections and Functions"
      ],
      "metadata": {
        "id": "9QnCGr4QEPR0"
      }
    },
    {
      "cell_type": "code",
      "source": [
        "# When the number of arguments for the function are unknown then they can be packed in tuple as below:\n",
        "\n",
        "def printAll(*args):\n",
        "  print(\"No. of arguments: \",len(args))\n",
        "  for argument in args:\n",
        "    print(argument)\n",
        "\n",
        "# printAll with 3 arguments\n",
        "printAll(\"Horsefeather\", \"Adonis\",\"Bone\")\n",
        "print()\n",
        "# printAll with 4 arguments\n",
        "printAll(\"Sidecar\", \"Long Island\",\"Mudslide\", \"Carriage\")\n"
      ],
      "metadata": {
        "colab": {
          "base_uri": "https://localhost:8080/"
        },
        "id": "RJI30a2pCkD7",
        "outputId": "88f63a69-7e14-43bb-eefa-c67fee762eb1"
      },
      "execution_count": 7,
      "outputs": [
        {
          "output_type": "stream",
          "name": "stdout",
          "text": [
            "No. of arguments:  3\n",
            "Horsefeather\n",
            "Adonis\n",
            "Bone\n",
            "\n",
            "No. of arguments:  4\n",
            "Sidecar\n",
            "Long Island\n",
            "Mudslide\n",
            "Carriage\n"
          ]
        }
      ]
    },
    {
      "cell_type": "code",
      "source": [
        "# Similarly the arguments can also be packed in the dictionary\n",
        "def printDictionary(**args):\n",
        "  print(type(args))\n",
        "  for key in args:\n",
        "    print(key + \" : \" + args[key])\n",
        "\n",
        "printDictionary(Country = 'Canada', Province = 'Ontario', City = 'Toronto')"
      ],
      "metadata": {
        "colab": {
          "base_uri": "https://localhost:8080/"
        },
        "id": "x9zkmOZvFVYt",
        "outputId": "85655732-c8f7-4033-fd03-e8c2ba29d958"
      },
      "execution_count": 12,
      "outputs": [
        {
          "output_type": "stream",
          "name": "stdout",
          "text": [
            "<class 'dict'>\n",
            "Country : Canada\n",
            "Province : Ontario\n",
            "City : Toronto\n"
          ]
        }
      ]
    },
    {
      "cell_type": "code",
      "source": [
        "# Functions can even accept(or return) data types, objects and even other functions as arguments as below:\n",
        "def addItems(list):\n",
        "  list.append(\"Three\")\n",
        "  list.append(\"Four\")\n",
        "\n",
        "myList = [\"One\", \"Two\"]\n",
        "\n",
        "addItems(myList)"
      ],
      "metadata": {
        "id": "bmcbhT7OGn6w"
      },
      "execution_count": 13,
      "outputs": []
    },
    {
      "cell_type": "code",
      "source": [
        "myList"
      ],
      "metadata": {
        "colab": {
          "base_uri": "https://localhost:8080/"
        },
        "id": "q6WQRu84Hnzh",
        "outputId": "83fb4345-f762-40ec-980e-9db87dffb804"
      },
      "execution_count": 14,
      "outputs": [
        {
          "output_type": "execute_result",
          "data": {
            "text/plain": [
              "['One', 'Two', 'Three', 'Four']"
            ]
          },
          "metadata": {},
          "execution_count": 14
        }
      ]
    },
    {
      "cell_type": "markdown",
      "source": [
        "###### Note how changes made to the list are not limited to the functions scope. This occurs as it is the reference to the list that is passed to the function - Any changes made are on the original instance of the list. Therefore one should be cautious when mutable objects are passed into functions."
      ],
      "metadata": {
        "id": "Ls_rI3ejH_P1"
      }
    },
    {
      "cell_type": "markdown",
      "source": [
        "#### Quiz on Functions"
      ],
      "metadata": {
        "id": "x9934mVLNdsL"
      }
    },
    {
      "cell_type": "code",
      "source": [
        "# Come up with a function that divides first input by the second input\n",
        "\n",
        "def divideInputs(first, second):\n",
        "    return(first/second)\n",
        "\n",
        "print(divideInputs(10,5))"
      ],
      "metadata": {
        "colab": {
          "base_uri": "https://localhost:8080/"
        },
        "id": "p6ZgjDj5HsPs",
        "outputId": "ec539890-d4af-4ce7-e10b-a742c646025e"
      },
      "execution_count": 15,
      "outputs": [
        {
          "output_type": "stream",
          "name": "stdout",
          "text": [
            "2.0\n"
          ]
        }
      ]
    },
    {
      "cell_type": "code",
      "source": [
        "# Use the function con for following:\n",
        "def con(a, b):\n",
        "  return(a + b)"
      ],
      "metadata": {
        "id": "c6M5pKMdN0tG"
      },
      "execution_count": 16,
      "outputs": []
    },
    {
      "cell_type": "code",
      "source": [
        "# Can the con function be used to add 2 integers or strings:\n",
        "\n",
        "#yes\n",
        "\n",
        "#add 2 integers\n",
        "print(con(4,5))\n",
        "\n",
        "#add 2 strings\n",
        "print(con(\"Michael\", \"Jackson\"))"
      ],
      "metadata": {
        "colab": {
          "base_uri": "https://localhost:8080/"
        },
        "id": "1XPsckWWOAOk",
        "outputId": "9afaad90-27f7-4d7e-a8fd-f10ad627fb8e"
      },
      "execution_count": 17,
      "outputs": [
        {
          "output_type": "stream",
          "name": "stdout",
          "text": [
            "9\n",
            "MichaelJackson\n"
          ]
        }
      ]
    },
    {
      "cell_type": "code",
      "source": [
        "# Can the con function be used to concatenate two lists or tuples\n",
        "\n",
        "# yes\n",
        "\n",
        "# add 2 lists\n",
        "list1 = [\"apple\", \"orange\"]\n",
        "list2 = [\"banana\", \"apricot\"]\n",
        "print(con(list1, list2))\n",
        "\n",
        "#add 2 tuples\n",
        "tup1 = (\"web\", \"design\")\n",
        "tup2 = (\"fish\", \"parrot\")\n",
        "print(con(tup1, tup2))\n"
      ],
      "metadata": {
        "colab": {
          "base_uri": "https://localhost:8080/"
        },
        "id": "OBaKRm4ZORoj",
        "outputId": "d215a8ff-3170-474a-db7c-342138d68de8"
      },
      "execution_count": 18,
      "outputs": [
        {
          "output_type": "stream",
          "name": "stdout",
          "text": [
            "['apple', 'orange', 'banana', 'apricot']\n",
            "('web', 'design', 'fish', 'parrot')\n"
          ]
        }
      ]
    },
    {
      "cell_type": "code",
      "source": [
        "# Write a function to find total count of word \"little\" in the given string:\n",
        "\n",
        "# Python program to find count of words using dictionary\n",
        "def wordCount(string, find_word):\n",
        "    words = [] # list variable is defined and initialized to an empty list\n",
        "    words = string.split() # break the string into list of words\n",
        "    wordCountDict = {} # declare a dictionary\n",
        "    for key in words: # use a for loop to iterate words and values to the dictionary\n",
        "        if key == find_word: # matching to find word\n",
        "            wordCountDict[key] = words.count(find_word) # storing the count of find word against find word as key in  dictionary\n",
        "    return wordCountDict    # updated dictionary with count of find word is returned\n",
        "\n",
        "string = \"Mary had a little lamb Little lamb, little lamb Mary had a little lamb.\\\n",
        "Its fleece was white as snow And everywhere that Mary went Mary went, \\\n",
        "Mary went Everywhere that Mary went The lamb was sure to go\"\n",
        "\n",
        "print(\"No. of words are: \", wordCount(string, \"little\"))"
      ],
      "metadata": {
        "colab": {
          "base_uri": "https://localhost:8080/"
        },
        "id": "EOoBT1QnOh1V",
        "outputId": "0c830453-6666-4b65-f3a5-45ece4237f55"
      },
      "execution_count": 19,
      "outputs": [
        {
          "output_type": "stream",
          "name": "stdout",
          "text": [
            "No. of words are:  {'little': 3}\n"
          ]
        }
      ]
    },
    {
      "cell_type": "code",
      "source": [],
      "metadata": {
        "id": "lc7WLebLQBsv"
      },
      "execution_count": null,
      "outputs": []
    }
  ],
  "metadata": {
    "colab": {
      "provenance": [],
      "authorship_tag": "ABX9TyNLWyKIx8ZHcCmGZht9jxM1",
      "include_colab_link": true
    },
    "kernelspec": {
      "display_name": "Python 3",
      "name": "python3"
    },
    "language_info": {
      "name": "python"
    }
  },
  "nbformat": 4,
  "nbformat_minor": 0
}