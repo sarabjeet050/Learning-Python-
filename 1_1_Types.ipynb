{
  "nbformat": 4,
  "nbformat_minor": 0,
  "metadata": {
    "colab": {
      "provenance": [],
      "authorship_tag": "ABX9TyNAOwN0b0w6ioBFOHIqJ6lb",
      "include_colab_link": true
    },
    "kernelspec": {
      "name": "python3",
      "display_name": "Python 3"
    },
    "language_info": {
      "name": "python"
    }
  },
  "cells": [
    {
      "cell_type": "markdown",
      "metadata": {
        "id": "view-in-github",
        "colab_type": "text"
      },
      "source": [
        "<a href=\"https://colab.research.google.com/github/sarabjeet050/Learning_Python/blob/main/1_1_Types.ipynb\" target=\"_parent\"><img src=\"https://colab.research.google.com/assets/colab-badge.svg\" alt=\"Open In Colab\"/></a>"
      ]
    },
    {
      "cell_type": "code",
      "execution_count": null,
      "metadata": {
        "colab": {
          "base_uri": "https://localhost:8080/"
        },
        "id": "tf6MelbdzsQl",
        "outputId": "a878ddb0-2198-473f-c72c-48952917a7e2"
      },
      "outputs": [
        {
          "output_type": "stream",
          "name": "stdout",
          "text": [
            "Hello! Python.\n"
          ]
        }
      ],
      "source": [
        "# First Python output : Say \"Hello\" to the world in Python\n",
        "print(\"Hello! Python.\")"
      ]
    },
    {
      "cell_type": "code",
      "source": [
        "# Check the Python version\n",
        "import sys\n",
        "print(sys.version)"
      ],
      "metadata": {
        "colab": {
          "base_uri": "https://localhost:8080/"
        },
        "id": "WfcnxRZC4qip",
        "outputId": "126ff6ba-c947-4cfe-ddd6-e5f994a7d8dc"
      },
      "execution_count": null,
      "outputs": [
        {
          "output_type": "stream",
          "name": "stdout",
          "text": [
            "3.8.10 (default, Nov 14 2022, 12:59:47) \n",
            "[GCC 9.4.0]\n"
          ]
        }
      ]
    },
    {
      "cell_type": "code",
      "source": [
        "# Practicing on writing comments -- after # comments only doesn't print\n",
        "print(\"Hello! World.\") #This line prints a string\n",
        "# print(\"Hi!\") # this is actual piece of code but commented for the moment to not be executed."
      ],
      "metadata": {
        "colab": {
          "base_uri": "https://localhost:8080/"
        },
        "id": "kEGk8hEf5A-8",
        "outputId": "45b5cce9-0d10-4a23-9867-efffeab85728"
      },
      "execution_count": null,
      "outputs": [
        {
          "output_type": "stream",
          "name": "stdout",
          "text": [
            "Hello! World.\n"
          ]
        }
      ]
    },
    {
      "cell_type": "markdown",
      "source": [
        "#### Errors in Python"
      ],
      "metadata": {
        "id": "TyTpi_I26UH-"
      }
    },
    {
      "cell_type": "code",
      "source": [
        "# print string as error message \n",
        "frint(\"Hello! World.\") "
      ],
      "metadata": {
        "colab": {
          "base_uri": "https://localhost:8080/",
          "height": 183
        },
        "id": "g0a830jK6h_5",
        "outputId": "ce679f97-8252-4c1e-e109-ab5954d17952"
      },
      "execution_count": null,
      "outputs": [
        {
          "output_type": "error",
          "ename": "NameError",
          "evalue": "ignored",
          "traceback": [
            "\u001b[0;31m---------------------------------------------------------------------------\u001b[0m",
            "\u001b[0;31mNameError\u001b[0m                                 Traceback (most recent call last)",
            "\u001b[0;32m<ipython-input-4-dd89d457b7ea>\u001b[0m in \u001b[0;36m<module>\u001b[0;34m\u001b[0m\n\u001b[1;32m      1\u001b[0m \u001b[0;31m# print string as error message\u001b[0m\u001b[0;34m\u001b[0m\u001b[0;34m\u001b[0m\u001b[0;34m\u001b[0m\u001b[0m\n\u001b[0;32m----> 2\u001b[0;31m \u001b[0mfrint\u001b[0m\u001b[0;34m(\u001b[0m\u001b[0;34m\"Hello! World.\"\u001b[0m\u001b[0;34m)\u001b[0m\u001b[0;34m\u001b[0m\u001b[0;34m\u001b[0m\u001b[0m\n\u001b[0m",
            "\u001b[0;31mNameError\u001b[0m: name 'frint' is not defined"
          ]
        }
      ]
    },
    {
      "cell_type": "code",
      "source": [
        "# here frint not built-in function and not prior defined by user so error occured \n",
        "# tells where error occured\n",
        "# what type of error occured(NameError)"
      ],
      "metadata": {
        "id": "NfYPCmU66zHd"
      },
      "execution_count": null,
      "outputs": []
    },
    {
      "cell_type": "code",
      "source": [
        "# built in error message -- Syntax Error\n",
        "print(\"Hello! World.)"
      ],
      "metadata": {
        "colab": {
          "base_uri": "https://localhost:8080/",
          "height": 130
        },
        "id": "7W_SoK9u7CTT",
        "outputId": "22316fdb-be75-46b0-dfba-c05bdeed4f0c"
      },
      "execution_count": null,
      "outputs": [
        {
          "output_type": "error",
          "ename": "SyntaxError",
          "evalue": "ignored",
          "traceback": [
            "\u001b[0;36m  File \u001b[0;32m\"<ipython-input-6-73df69eb9b4f>\"\u001b[0;36m, line \u001b[0;32m2\u001b[0m\n\u001b[0;31m    print(\"Hello! World.)\u001b[0m\n\u001b[0m                         ^\u001b[0m\n\u001b[0;31mSyntaxError\u001b[0m\u001b[0;31m:\u001b[0m EOL while scanning string literal\n"
          ]
        }
      ]
    },
    {
      "cell_type": "code",
      "source": [
        "# Python is interpreted language not compiler language. It interprets line by line when it executes the code.\n",
        "# It stops executing code after when error occured (until it is explicitly handled.)"
      ],
      "metadata": {
        "id": "NhHIRYWm_1Af"
      },
      "execution_count": null,
      "outputs": []
    },
    {
      "cell_type": "code",
      "source": [
        "# print string and error to see the running order\n",
        "print(\"This will be printed\")\n",
        "frint(\"This will cause an error\") #undefined function\n",
        "print(\"This will NOT be printed\") #as error occured above so Python doesn.t interpret this"
      ],
      "metadata": {
        "colab": {
          "base_uri": "https://localhost:8080/",
          "height": 235
        },
        "id": "ewnyZsEBAzP5",
        "outputId": "5781523f-bdba-4734-bb66-9781d5ba62ae"
      },
      "execution_count": null,
      "outputs": [
        {
          "output_type": "stream",
          "name": "stdout",
          "text": [
            "This will be printed\n"
          ]
        },
        {
          "output_type": "error",
          "ename": "NameError",
          "evalue": "ignored",
          "traceback": [
            "\u001b[0;31m---------------------------------------------------------------------------\u001b[0m",
            "\u001b[0;31mNameError\u001b[0m                                 Traceback (most recent call last)",
            "\u001b[0;32m<ipython-input-8-80ae73a95f5a>\u001b[0m in \u001b[0;36m<module>\u001b[0;34m\u001b[0m\n\u001b[1;32m      1\u001b[0m \u001b[0;31m# print string and error to see the running order\u001b[0m\u001b[0;34m\u001b[0m\u001b[0;34m\u001b[0m\u001b[0;34m\u001b[0m\u001b[0m\n\u001b[1;32m      2\u001b[0m \u001b[0mprint\u001b[0m\u001b[0;34m(\u001b[0m\u001b[0;34m\"This will be printed\"\u001b[0m\u001b[0;34m)\u001b[0m\u001b[0;34m\u001b[0m\u001b[0;34m\u001b[0m\u001b[0m\n\u001b[0;32m----> 3\u001b[0;31m \u001b[0mfrint\u001b[0m\u001b[0;34m(\u001b[0m\u001b[0;34m\"This will cause an error\"\u001b[0m\u001b[0;34m)\u001b[0m \u001b[0;31m#undefined function\u001b[0m\u001b[0;34m\u001b[0m\u001b[0;34m\u001b[0m\u001b[0m\n\u001b[0m\u001b[1;32m      4\u001b[0m \u001b[0mprint\u001b[0m\u001b[0;34m(\u001b[0m\u001b[0;34m\"This will NOT be printed\"\u001b[0m\u001b[0;34m)\u001b[0m \u001b[0;31m#as error occured above so Python doesn.t interpret this\u001b[0m\u001b[0;34m\u001b[0m\u001b[0;34m\u001b[0m\u001b[0m\n",
            "\u001b[0;31mNameError\u001b[0m: name 'frint' is not defined"
          ]
        }
      ]
    },
    {
      "cell_type": "markdown",
      "source": [
        "#### Exercise: Your First Program"
      ],
      "metadata": {
        "id": "NG_zatuOBs4H"
      }
    },
    {
      "cell_type": "code",
      "source": [
        "# use  print() function to print out \"Hello! World.\"\n",
        "print(\"Hello! World.\")"
      ],
      "metadata": {
        "colab": {
          "base_uri": "https://localhost:8080/"
        },
        "id": "YolAGYGPBXZa",
        "outputId": "2d91301f-d58f-410a-fbde-96e5152a6a54"
      },
      "execution_count": null,
      "outputs": [
        {
          "output_type": "stream",
          "name": "stdout",
          "text": [
            "Hello! World.\n"
          ]
        }
      ]
    },
    {
      "cell_type": "code",
      "source": [
        "# print out \"Hello! World.\" and comment it \"Print the traditional hello world\"\n",
        "print(\"Hello! World.\") #Print the traditional hello world"
      ],
      "metadata": {
        "colab": {
          "base_uri": "https://localhost:8080/"
        },
        "id": "4Mn7P_pFCTer",
        "outputId": "1698f73d-ab43-44a7-9414-e10b790e6de6"
      },
      "execution_count": null,
      "outputs": [
        {
          "output_type": "stream",
          "name": "stdout",
          "text": [
            "Hello! World.\n"
          ]
        }
      ]
    },
    {
      "cell_type": "markdown",
      "source": [
        "#### Types of objects in Python"
      ],
      "metadata": {
        "id": "-o6tOGtzabA7"
      }
    },
    {
      "cell_type": "markdown",
      "source": [
        "###### string: characters string(text); interger: numbers(-1,0,100); float: real numbers(3.14,-3.09)"
      ],
      "metadata": {
        "id": "_lhWKx9caqi9"
      }
    },
    {
      "cell_type": "code",
      "source": [
        "# Integer \n",
        "11"
      ],
      "metadata": {
        "colab": {
          "base_uri": "https://localhost:8080/"
        },
        "id": "tGQcdxs0Colg",
        "outputId": "c45b8efe-35bc-4324-f75b-c8e16e0aaa86"
      },
      "execution_count": null,
      "outputs": [
        {
          "output_type": "execute_result",
          "data": {
            "text/plain": [
              "11"
            ]
          },
          "metadata": {},
          "execution_count": 11
        }
      ]
    },
    {
      "cell_type": "code",
      "source": [
        "# Float\n",
        "5.2 "
      ],
      "metadata": {
        "colab": {
          "base_uri": "https://localhost:8080/"
        },
        "id": "6CIzvtTcbVJq",
        "outputId": "cab0af71-9380-4a1a-859c-66584f1c31c2"
      },
      "execution_count": null,
      "outputs": [
        {
          "output_type": "execute_result",
          "data": {
            "text/plain": [
              "5.2"
            ]
          },
          "metadata": {},
          "execution_count": 12
        }
      ]
    },
    {
      "cell_type": "code",
      "source": [
        "# String\n",
        "\"Hello, Python 101!\""
      ],
      "metadata": {
        "colab": {
          "base_uri": "https://localhost:8080/",
          "height": 35
        },
        "id": "LYDGoX1lbYDC",
        "outputId": "8c9070c2-d286-4f4c-8079-d575c0c4f27c"
      },
      "execution_count": null,
      "outputs": [
        {
          "output_type": "execute_result",
          "data": {
            "text/plain": [
              "'Hello, Python 101!'"
            ],
            "application/vnd.google.colaboratory.intrinsic+json": {
              "type": "string"
            }
          },
          "metadata": {},
          "execution_count": 13
        }
      ]
    },
    {
      "cell_type": "markdown",
      "source": [
        "###### type function : for datatype of *object* (int, float, str)"
      ],
      "metadata": {
        "id": "lUdtJH6GbvgK"
      }
    },
    {
      "cell_type": "code",
      "source": [
        "# Type of 12\n",
        "type(12) "
      ],
      "metadata": {
        "colab": {
          "base_uri": "https://localhost:8080/"
        },
        "id": "ZTmyVk1Bbztn",
        "outputId": "51a50bcb-f692-4960-f8f9-f7555e0957ae"
      },
      "execution_count": null,
      "outputs": [
        {
          "output_type": "execute_result",
          "data": {
            "text/plain": [
              "int"
            ]
          },
          "metadata": {},
          "execution_count": 14
        }
      ]
    },
    {
      "cell_type": "code",
      "source": [
        "# Type of 3.14\n",
        "type(3.14)"
      ],
      "metadata": {
        "colab": {
          "base_uri": "https://localhost:8080/"
        },
        "id": "Wa94dDPbb7kN",
        "outputId": "d64c444c-d2e6-4de0-f0f7-9acda892cebc"
      },
      "execution_count": null,
      "outputs": [
        {
          "output_type": "execute_result",
          "data": {
            "text/plain": [
              "float"
            ]
          },
          "metadata": {},
          "execution_count": 15
        }
      ]
    },
    {
      "cell_type": "code",
      "source": [
        "# Type of \"Hello, Python 101!\"\n",
        "type(\"Hello, Python 101!\")"
      ],
      "metadata": {
        "colab": {
          "base_uri": "https://localhost:8080/"
        },
        "id": "OANfW6hkcDil",
        "outputId": "52e31c21-4acb-45b5-9c8d-5bb44acb7740"
      },
      "execution_count": null,
      "outputs": [
        {
          "output_type": "execute_result",
          "data": {
            "text/plain": [
              "str"
            ]
          },
          "metadata": {},
          "execution_count": 16
        }
      ]
    },
    {
      "cell_type": "code",
      "source": [
        "# use type() function to check the object type of 12.0\n",
        "type(12.0)"
      ],
      "metadata": {
        "colab": {
          "base_uri": "https://localhost:8080/"
        },
        "id": "Urt8swqXcdYG",
        "outputId": "ad9c8e48-c49d-4dc7-eebd-177ddcdbbdfc"
      },
      "execution_count": null,
      "outputs": [
        {
          "output_type": "execute_result",
          "data": {
            "text/plain": [
              "float"
            ]
          },
          "metadata": {},
          "execution_count": 17
        }
      ]
    },
    {
      "cell_type": "markdown",
      "source": [
        "#####Integers : can be +ve or -ve"
      ],
      "metadata": {
        "id": "CgaE1DDndA78"
      }
    },
    {
      "cell_type": "code",
      "source": [
        "# Print the type of -1\n",
        "type(-1) "
      ],
      "metadata": {
        "colab": {
          "base_uri": "https://localhost:8080/"
        },
        "id": "t8pwmVmUc_TA",
        "outputId": "bc0ce582-9512-43ae-a4f4-4066f3066969"
      },
      "execution_count": null,
      "outputs": [
        {
          "output_type": "execute_result",
          "data": {
            "text/plain": [
              "int"
            ]
          },
          "metadata": {},
          "execution_count": 18
        }
      ]
    },
    {
      "cell_type": "code",
      "source": [
        "\n",
        "# Print the type of 4\n",
        "type(4)"
      ],
      "metadata": {
        "colab": {
          "base_uri": "https://localhost:8080/"
        },
        "id": "MJdX_2ABc570",
        "outputId": "c87935dc-0cce-4080-f396-e1d085f4d8da"
      },
      "execution_count": null,
      "outputs": [
        {
          "output_type": "execute_result",
          "data": {
            "text/plain": [
              "int"
            ]
          },
          "metadata": {},
          "execution_count": 19
        }
      ]
    },
    {
      "cell_type": "code",
      "source": [
        "\n",
        "# Print the type of 0\n",
        "type(0)"
      ],
      "metadata": {
        "colab": {
          "base_uri": "https://localhost:8080/"
        },
        "id": "LaEmR1hpddZx",
        "outputId": "78bf7002-d468-4ed3-fc84-718fb0a32065"
      },
      "execution_count": null,
      "outputs": [
        {
          "output_type": "execute_result",
          "data": {
            "text/plain": [
              "int"
            ]
          },
          "metadata": {},
          "execution_count": 20
        }
      ]
    },
    {
      "cell_type": "markdown",
      "source": [
        "\n",
        "\n",
        "\n",
        "\n",
        "\n",
        "##### Float: real numbers(numbers with decimal) "
      ],
      "metadata": {
        "id": "o3dGTtZQeZvF"
      }
    },
    {
      "cell_type": "code",
      "source": [
        "# System settings about float type object\n",
        "import sys\n",
        "print(sys.float_info)  # to  know range of float numbers allowed in machine "
      ],
      "metadata": {
        "colab": {
          "base_uri": "https://localhost:8080/"
        },
        "id": "mkXEGYlpdilU",
        "outputId": "366dcab6-6113-4924-ab84-a106c45fff7a"
      },
      "execution_count": null,
      "outputs": [
        {
          "output_type": "stream",
          "name": "stdout",
          "text": [
            "sys.float_info(max=1.7976931348623157e+308, max_exp=1024, max_10_exp=308, min=2.2250738585072014e-308, min_exp=-1021, min_10_exp=-307, dig=15, mant_dig=53, epsilon=2.220446049250313e-16, radix=2, rounds=1)\n"
          ]
        }
      ]
    },
    {
      "cell_type": "code",
      "source": [
        "# Print the type of 1.0\n",
        "type(1.0) #Note : 1 is int and 1.0 is float"
      ],
      "metadata": {
        "colab": {
          "base_uri": "https://localhost:8080/"
        },
        "id": "X7nxrJ02euJn",
        "outputId": "5f76aa77-578c-486c-dbc7-a1616aec83cf"
      },
      "execution_count": null,
      "outputs": [
        {
          "output_type": "execute_result",
          "data": {
            "text/plain": [
              "float"
            ]
          },
          "metadata": {},
          "execution_count": 22
        }
      ]
    },
    {
      "cell_type": "code",
      "source": [
        "# Print the type of 0.5\n",
        "type(0.5)"
      ],
      "metadata": {
        "colab": {
          "base_uri": "https://localhost:8080/"
        },
        "id": "te-RBiwSfGWl",
        "outputId": "1cb98258-a8ca-45f4-bcb8-4bd10a1fcbbb"
      },
      "execution_count": null,
      "outputs": [
        {
          "output_type": "execute_result",
          "data": {
            "text/plain": [
              "float"
            ]
          },
          "metadata": {},
          "execution_count": 23
        }
      ]
    },
    {
      "cell_type": "markdown",
      "source": [
        "#### Converting from one object type to different one."
      ],
      "metadata": {
        "id": "3pCdX7fgfr19"
      }
    },
    {
      "cell_type": "markdown",
      "source": [
        "##### Converting integers to float"
      ],
      "metadata": {
        "id": "dTQXS-GCf52p"
      }
    },
    {
      "cell_type": "code",
      "source": [
        "# Verify that this is an integer   \n",
        "type(2)"
      ],
      "metadata": {
        "id": "dJsIVIAOfZOd",
        "colab": {
          "base_uri": "https://localhost:8080/"
        },
        "outputId": "4cee8247-05ed-40b3-92e6-29c90b551cc9"
      },
      "execution_count": null,
      "outputs": [
        {
          "output_type": "execute_result",
          "data": {
            "text/plain": [
              "int"
            ]
          },
          "metadata": {},
          "execution_count": 24
        }
      ]
    },
    {
      "cell_type": "markdown",
      "source": [
        "##### Converting(Cast) integers to floats"
      ],
      "metadata": {
        "id": "ro4gaZAnqvng"
      }
    },
    {
      "cell_type": "code",
      "source": [
        "# Convert 2 to a float \n",
        "float(2)"
      ],
      "metadata": {
        "colab": {
          "base_uri": "https://localhost:8080/"
        },
        "id": "ZFcQfrydquT1",
        "outputId": "ddd6a5dc-6765-4293-d640-5aa1e2d5c46c"
      },
      "execution_count": null,
      "outputs": [
        {
          "output_type": "execute_result",
          "data": {
            "text/plain": [
              "2.0"
            ]
          },
          "metadata": {},
          "execution_count": 25
        }
      ]
    },
    {
      "cell_type": "code",
      "source": [
        "# Convert integer 2 to float and check its type\n",
        "type(float(2))"
      ],
      "metadata": {
        "colab": {
          "base_uri": "https://localhost:8080/"
        },
        "id": "HRLD2K1wrCj1",
        "outputId": "c52ebf5f-d761-4929-e3c8-52e9b520ef87"
      },
      "execution_count": null,
      "outputs": [
        {
          "output_type": "execute_result",
          "data": {
            "text/plain": [
              "float"
            ]
          },
          "metadata": {},
          "execution_count": 26
        }
      ]
    },
    {
      "cell_type": "code",
      "source": [
        "# Note: When convert integer into float, value(i.e.,significand) of number don't change.\n",
        "# But, when cast float(1.1) to integer(1), we lose the decimal information(i.e., 0.1)  "
      ],
      "metadata": {
        "id": "BYtSJtw5rN0s"
      },
      "execution_count": null,
      "outputs": []
    },
    {
      "cell_type": "code",
      "source": [
        "# Casting 1.1 to integer will result in lose of information\n",
        "int(1.1) "
      ],
      "metadata": {
        "colab": {
          "base_uri": "https://localhost:8080/"
        },
        "id": "3RuDtJADsEL0",
        "outputId": "b4ae0b6c-45e8-4507-f811-46f77a442d02"
      },
      "execution_count": null,
      "outputs": [
        {
          "output_type": "execute_result",
          "data": {
            "text/plain": [
              "1"
            ]
          },
          "metadata": {},
          "execution_count": 28
        }
      ]
    },
    {
      "cell_type": "markdown",
      "source": [
        "##### Converting from strings to integers or floats "
      ],
      "metadata": {
        "id": "qgI_Pmzosh4z"
      }
    },
    {
      "cell_type": "code",
      "source": [
        "# Convert string to an integer\n",
        "int('1')"
      ],
      "metadata": {
        "colab": {
          "base_uri": "https://localhost:8080/"
        },
        "id": "kJRkTL4asN8_",
        "outputId": "b024b26a-8650-4224-8799-87d9425c35ef"
      },
      "execution_count": null,
      "outputs": [
        {
          "output_type": "execute_result",
          "data": {
            "text/plain": [
              "1"
            ]
          },
          "metadata": {},
          "execution_count": 29
        }
      ]
    },
    {
      "cell_type": "code",
      "source": [
        "# But if try to convert a string that is not a perfect match to integer, will get error "
      ],
      "metadata": {
        "id": "H2rA2e4ds9qn"
      },
      "execution_count": null,
      "outputs": []
    },
    {
      "cell_type": "code",
      "source": [
        "# Convert a string into an integer with error\n",
        "int(\"1 or 2 people\")"
      ],
      "metadata": {
        "colab": {
          "base_uri": "https://localhost:8080/",
          "height": 183
        },
        "id": "c7O-i5nUtU6T",
        "outputId": "b9df10ae-fb89-489f-d5a8-302ba95f4f0d"
      },
      "execution_count": null,
      "outputs": [
        {
          "output_type": "error",
          "ename": "ValueError",
          "evalue": "ignored",
          "traceback": [
            "\u001b[0;31m---------------------------------------------------------------------------\u001b[0m",
            "\u001b[0;31mValueError\u001b[0m                                Traceback (most recent call last)",
            "\u001b[0;32m<ipython-input-31-930d867e1e25>\u001b[0m in \u001b[0;36m<module>\u001b[0;34m\u001b[0m\n\u001b[1;32m      1\u001b[0m \u001b[0;31m# Convert a string into an integer with error\u001b[0m\u001b[0;34m\u001b[0m\u001b[0;34m\u001b[0m\u001b[0;34m\u001b[0m\u001b[0m\n\u001b[0;32m----> 2\u001b[0;31m \u001b[0mint\u001b[0m\u001b[0;34m(\u001b[0m\u001b[0;34m\"1 or 2 people\"\u001b[0m\u001b[0;34m)\u001b[0m\u001b[0;34m\u001b[0m\u001b[0;34m\u001b[0m\u001b[0m\n\u001b[0m",
            "\u001b[0;31mValueError\u001b[0m: invalid literal for int() with base 10: '1 or 2 people'"
          ]
        }
      ]
    },
    {
      "cell_type": "code",
      "source": [
        "#Converting string containing floating point numbers into float objects"
      ],
      "metadata": {
        "id": "1XKCvNeBtela"
      },
      "execution_count": null,
      "outputs": []
    },
    {
      "cell_type": "code",
      "source": [
        "# Convert string \"1.2\" into float \n",
        "float(\"1.2\")"
      ],
      "metadata": {
        "colab": {
          "base_uri": "https://localhost:8080/"
        },
        "id": "HR_En8qVtwu3",
        "outputId": "aa7bc133-79da-4bdf-cfd5-feb26637480a"
      },
      "execution_count": null,
      "outputs": [
        {
          "output_type": "execute_result",
          "data": {
            "text/plain": [
              "1.2"
            ]
          },
          "metadata": {},
          "execution_count": 33
        }
      ]
    },
    {
      "cell_type": "code",
      "source": [
        "# Note: Strings can be with sigle quotes('1.2') or double quotes(\"1.2\"), but not both(e.g., (\"1.2')"
      ],
      "metadata": {
        "id": "2NnYNm3Ot589"
      },
      "execution_count": null,
      "outputs": []
    },
    {
      "cell_type": "markdown",
      "source": [
        "##### Converting number to string"
      ],
      "metadata": {
        "id": "5atgJyH-uk2j"
      }
    },
    {
      "cell_type": "code",
      "source": [
        "# Convert an integer to string\n",
        "str(1) "
      ],
      "metadata": {
        "colab": {
          "base_uri": "https://localhost:8080/",
          "height": 35
        },
        "id": "jgfM0SqKurtw",
        "outputId": "1a996265-2985-4ebe-bd33-46ea89e6e165"
      },
      "execution_count": null,
      "outputs": [
        {
          "output_type": "execute_result",
          "data": {
            "text/plain": [
              "'1'"
            ],
            "application/vnd.google.colaboratory.intrinsic+json": {
              "type": "string"
            }
          },
          "metadata": {},
          "execution_count": 35
        }
      ]
    },
    {
      "cell_type": "code",
      "source": [
        "# Convert a float to string\n",
        "str(1.2)"
      ],
      "metadata": {
        "colab": {
          "base_uri": "https://localhost:8080/",
          "height": 35
        },
        "id": "a3FBUfk6u3iB",
        "outputId": "f233eadd-1e52-4c8c-bfbc-ac4dd43ec238"
      },
      "execution_count": null,
      "outputs": [
        {
          "output_type": "execute_result",
          "data": {
            "text/plain": [
              "'1.2'"
            ],
            "application/vnd.google.colaboratory.intrinsic+json": {
              "type": "string"
            }
          },
          "metadata": {},
          "execution_count": 38
        }
      ]
    },
    {
      "cell_type": "markdown",
      "source": [
        "##### Boolean data type (True/False): bool"
      ],
      "metadata": {
        "id": "lB_duNzJ58p0"
      }
    },
    {
      "cell_type": "code",
      "source": [
        "# Value True\n",
        "True"
      ],
      "metadata": {
        "colab": {
          "base_uri": "https://localhost:8080/"
        },
        "id": "yiUnjTY4u97o",
        "outputId": "f29dcc8b-95a2-4766-faaa-f82a836e48d2"
      },
      "execution_count": null,
      "outputs": [
        {
          "output_type": "execute_result",
          "data": {
            "text/plain": [
              "True"
            ]
          },
          "metadata": {},
          "execution_count": 5
        }
      ]
    },
    {
      "cell_type": "code",
      "source": [
        "# Value False\n",
        "False"
      ],
      "metadata": {
        "colab": {
          "base_uri": "https://localhost:8080/"
        },
        "id": "R11VQBZ16NKG",
        "outputId": "3908299a-a1c4-4c14-91aa-e29982643cfe"
      },
      "execution_count": null,
      "outputs": [
        {
          "output_type": "execute_result",
          "data": {
            "text/plain": [
              "False"
            ]
          },
          "metadata": {},
          "execution_count": 6
        }
      ]
    },
    {
      "cell_type": "code",
      "source": [
        "# Type of True with capital 'T'\n",
        "type(True)"
      ],
      "metadata": {
        "colab": {
          "base_uri": "https://localhost:8080/"
        },
        "id": "ju9dgpBW6QKv",
        "outputId": "a8026a9d-f300-4e47-e556-3732c104dff1"
      },
      "execution_count": null,
      "outputs": [
        {
          "output_type": "execute_result",
          "data": {
            "text/plain": [
              "bool"
            ]
          },
          "metadata": {},
          "execution_count": 7
        }
      ]
    },
    {
      "cell_type": "code",
      "source": [
        "# Type of False with capital 'F'\n",
        "type(False)"
      ],
      "metadata": {
        "colab": {
          "base_uri": "https://localhost:8080/"
        },
        "id": "9fnMWQxF6eeS",
        "outputId": "3fcf1ef7-b9ba-4e60-f867-40768c50ba6e"
      },
      "execution_count": null,
      "outputs": [
        {
          "output_type": "execute_result",
          "data": {
            "text/plain": [
              "bool"
            ]
          },
          "metadata": {},
          "execution_count": 8
        }
      ]
    },
    {
      "cell_type": "markdown",
      "source": [
        "##### Casting boolean objects to other types and vice-versa"
      ],
      "metadata": {
        "id": "LmKA6YNk7Flm"
      }
    },
    {
      "cell_type": "code",
      "source": [
        "# Convert True to int \n",
        "int(True)"
      ],
      "metadata": {
        "colab": {
          "base_uri": "https://localhost:8080/"
        },
        "id": "UUB7AgL06kfR",
        "outputId": "87500b82-6543-4253-eda0-d6f7998ae8a2"
      },
      "execution_count": null,
      "outputs": [
        {
          "output_type": "execute_result",
          "data": {
            "text/plain": [
              "1"
            ]
          },
          "metadata": {},
          "execution_count": 9
        }
      ]
    },
    {
      "cell_type": "code",
      "source": [
        "# Convert 1 to bool \n",
        "bool(1)"
      ],
      "metadata": {
        "colab": {
          "base_uri": "https://localhost:8080/"
        },
        "id": "VVVhi93U9O3w",
        "outputId": "dfca6653-9b8e-48dc-a913-f9bf7bbcb31e"
      },
      "execution_count": null,
      "outputs": [
        {
          "output_type": "execute_result",
          "data": {
            "text/plain": [
              "True"
            ]
          },
          "metadata": {},
          "execution_count": 10
        }
      ]
    },
    {
      "cell_type": "code",
      "source": [
        "# Convert 0 to bool\n",
        "bool(0)"
      ],
      "metadata": {
        "colab": {
          "base_uri": "https://localhost:8080/"
        },
        "id": "HjfLwt0j9Yn1",
        "outputId": "d4af6e26-f5d4-430a-ed2b-cdd5b1fff03e"
      },
      "execution_count": null,
      "outputs": [
        {
          "output_type": "execute_result",
          "data": {
            "text/plain": [
              "False"
            ]
          },
          "metadata": {},
          "execution_count": 11
        }
      ]
    },
    {
      "cell_type": "code",
      "source": [
        "# Convert True to float\n",
        "float(True)"
      ],
      "metadata": {
        "colab": {
          "base_uri": "https://localhost:8080/"
        },
        "id": "3VBBPjdd9fJ8",
        "outputId": "9f3aef6b-4c51-487b-ca1b-b2327264cecb"
      },
      "execution_count": null,
      "outputs": [
        {
          "output_type": "execute_result",
          "data": {
            "text/plain": [
              "1.0"
            ]
          },
          "metadata": {},
          "execution_count": 12
        }
      ]
    },
    {
      "cell_type": "code",
      "source": [
        "# Note: boolean with value True is int(1) and float(1.0).\n",
        "# False is int(0) and float(0.0)\n",
        "# bool(1) or bool(1.0): True and bool(0) or bool(0.0) : False"
      ],
      "metadata": {
        "id": "PkfCsQh39lbO"
      },
      "execution_count": null,
      "outputs": []
    },
    {
      "cell_type": "markdown",
      "source": [
        "#### Exercise: Types"
      ],
      "metadata": {
        "id": "mFyU_7xqHPQv"
      }
    },
    {
      "cell_type": "code",
      "source": [
        "# datatype of result of 6/2:\n",
        "type(6/2)  "
      ],
      "metadata": {
        "id": "g6gwUSdcGO9Q",
        "colab": {
          "base_uri": "https://localhost:8080/"
        },
        "outputId": "2e87810a-06b8-4dc5-bccf-9cf5dcb36700"
      },
      "execution_count": 1,
      "outputs": [
        {
          "output_type": "execute_result",
          "data": {
            "text/plain": [
              "float"
            ]
          },
          "metadata": {},
          "execution_count": 1
        }
      ]
    },
    {
      "cell_type": "code",
      "source": [
        "# type of result of 6//2:\n",
        "type(6//2)"
      ],
      "metadata": {
        "id": "AatA3kr8F6cR",
        "colab": {
          "base_uri": "https://localhost:8080/"
        },
        "outputId": "552c0f53-49e4-4602-898d-5c416e6e0ba2"
      },
      "execution_count": 2,
      "outputs": [
        {
          "output_type": "execute_result",
          "data": {
            "text/plain": [
              "int"
            ]
          },
          "metadata": {},
          "execution_count": 2
        }
      ]
    },
    {
      "cell_type": "markdown",
      "source": [
        "#### Expressions and Variables"
      ],
      "metadata": {
        "id": "g4ILeqKRHwEM"
      }
    },
    {
      "cell_type": "code",
      "source": [
        "# Addition operation expression\n",
        "43 + 60 + 13 + 23 "
      ],
      "metadata": {
        "colab": {
          "base_uri": "https://localhost:8080/"
        },
        "id": "93vhxUG9Hs56",
        "outputId": "f9774494-980b-4f75-e004-204f71b14c23"
      },
      "execution_count": 3,
      "outputs": [
        {
          "output_type": "execute_result",
          "data": {
            "text/plain": [
              "139"
            ]
          },
          "metadata": {},
          "execution_count": 3
        }
      ]
    },
    {
      "cell_type": "code",
      "source": [
        "# Subtraction operation (using minus)\n",
        "50 - 60 # negative result"
      ],
      "metadata": {
        "colab": {
          "base_uri": "https://localhost:8080/"
        },
        "id": "5n1rEYLWIEvK",
        "outputId": "99fc8ace-9742-4712-93d6-d8e837f0ca81"
      },
      "execution_count": 4,
      "outputs": [
        {
          "output_type": "execute_result",
          "data": {
            "text/plain": [
              "-10"
            ]
          },
          "metadata": {},
          "execution_count": 4
        }
      ]
    },
    {
      "cell_type": "code",
      "source": [
        "# Multiplication operation (using asterik)\n",
        "5 * 5 "
      ],
      "metadata": {
        "colab": {
          "base_uri": "https://localhost:8080/"
        },
        "id": "ib1XiKtYIQQ1",
        "outputId": "619641d6-8ac5-4610-b9b8-e0c7f00ec735"
      },
      "execution_count": 5,
      "outputs": [
        {
          "output_type": "execute_result",
          "data": {
            "text/plain": [
              "25"
            ]
          },
          "metadata": {},
          "execution_count": 5
        }
      ]
    },
    {
      "cell_type": "code",
      "source": [
        "# Division operation (using forward slash : for float type result or division )\n",
        "25 / 5 "
      ],
      "metadata": {
        "colab": {
          "base_uri": "https://localhost:8080/"
        },
        "id": "NklYywrbInaR",
        "outputId": "800b115c-e4da-4cd3-d54a-ee32d21aa277"
      },
      "execution_count": 6,
      "outputs": [
        {
          "output_type": "execute_result",
          "data": {
            "text/plain": [
              "5.0"
            ]
          },
          "metadata": {},
          "execution_count": 6
        }
      ]
    },
    {
      "cell_type": "code",
      "source": [
        "26 / 5"
      ],
      "metadata": {
        "colab": {
          "base_uri": "https://localhost:8080/"
        },
        "id": "0te5-ZMjIyOc",
        "outputId": "d6435573-ef1e-4e8a-ba64-13ff0e3d5df6"
      },
      "execution_count": 7,
      "outputs": [
        {
          "output_type": "execute_result",
          "data": {
            "text/plain": [
              "5.2"
            ]
          },
          "metadata": {},
          "execution_count": 7
        }
      ]
    },
    {
      "cell_type": "code",
      "source": [
        "# Integer division operation (using double forward slash)\n",
        "25 // 5"
      ],
      "metadata": {
        "colab": {
          "base_uri": "https://localhost:8080/"
        },
        "id": "int-kYFTJB-k",
        "outputId": "770ae071-44db-4719-d401-1ae2081c9b91"
      },
      "execution_count": 8,
      "outputs": [
        {
          "output_type": "execute_result",
          "data": {
            "text/plain": [
              "5"
            ]
          },
          "metadata": {},
          "execution_count": 8
        }
      ]
    },
    {
      "cell_type": "markdown",
      "source": [
        "#### Exercise: Expression"
      ],
      "metadata": {
        "id": "IZuU4bN7JUL6"
      }
    },
    {
      "cell_type": "code",
      "source": [
        "# Expression to calculate how many hours in 160 minutes\n",
        "# 60mins = 1hour\n",
        "\n",
        "hours = 160/60 #comment this\n",
        "# or\n",
        "# hours = 160//60 # or comment this\n",
        "print(hours,\"hours\")"
      ],
      "metadata": {
        "colab": {
          "base_uri": "https://localhost:8080/"
        },
        "id": "LcPo-7YLJK-V",
        "outputId": "b486b9f4-44ff-4106-81cd-76bb284ccf42"
      },
      "execution_count": 11,
      "outputs": [
        {
          "output_type": "stream",
          "name": "stdout",
          "text": [
            "2 hours\n"
          ]
        }
      ]
    },
    {
      "cell_type": "code",
      "source": [
        "# Mathematical Expression\n",
        "30 + 2 * 60"
      ],
      "metadata": {
        "colab": {
          "base_uri": "https://localhost:8080/"
        },
        "id": "9KGMP1L7J7Dg",
        "outputId": "40306f90-8758-4874-8293-95a7c4b6d4e4"
      },
      "execution_count": 12,
      "outputs": [
        {
          "output_type": "execute_result",
          "data": {
            "text/plain": [
              "150"
            ]
          },
          "metadata": {},
          "execution_count": 12
        }
      ]
    },
    {
      "cell_type": "code",
      "source": [
        "# Like Mathematics, parentheses have priority\n",
        "(30 + 2) * 60"
      ],
      "metadata": {
        "colab": {
          "base_uri": "https://localhost:8080/"
        },
        "id": "JgmIRHUfPFJo",
        "outputId": "16ddd69f-717f-48ea-86f1-c18cee2cda9e"
      },
      "execution_count": 13,
      "outputs": [
        {
          "output_type": "execute_result",
          "data": {
            "text/plain": [
              "1920"
            ]
          },
          "metadata": {},
          "execution_count": 13
        }
      ]
    },
    {
      "cell_type": "markdown",
      "source": [
        "#### Variables"
      ],
      "metadata": {
        "id": "VG4cAmiaPYxr"
      }
    },
    {
      "cell_type": "code",
      "source": [
        "# Store value into variable\n",
        "x = 43 + 60 + 16 + 23"
      ],
      "metadata": {
        "id": "5aANyJLNPWlL"
      },
      "execution_count": 14,
      "outputs": []
    },
    {
      "cell_type": "code",
      "source": [
        "# Print out the value in variable x\n",
        "print(x) "
      ],
      "metadata": {
        "colab": {
          "base_uri": "https://localhost:8080/"
        },
        "id": "OK1spmjTPuOo",
        "outputId": "52ba68c7-dc27-440b-b988-36ca3bfc9404"
      },
      "execution_count": 15,
      "outputs": [
        {
          "output_type": "stream",
          "name": "stdout",
          "text": [
            "142\n"
          ]
        }
      ]
    },
    {
      "cell_type": "code",
      "source": [
        "# Use another variable to store the operation between variable x and value\n",
        "y = x / 60\n",
        "y"
      ],
      "metadata": {
        "colab": {
          "base_uri": "https://localhost:8080/"
        },
        "id": "dZ9ZGPnVP2c2",
        "outputId": "24a0b12f-6738-49d3-aa7f-2fe86c296921"
      },
      "execution_count": 16,
      "outputs": [
        {
          "output_type": "execute_result",
          "data": {
            "text/plain": [
              "2.3666666666666667"
            ]
          },
          "metadata": {},
          "execution_count": 16
        }
      ]
    },
    {
      "cell_type": "code",
      "source": [
        "# Overwrite variable with new value\n",
        "x = x / 60\n",
        "x\n"
      ],
      "metadata": {
        "colab": {
          "base_uri": "https://localhost:8080/"
        },
        "id": "Dr0S8IkwQIwF",
        "outputId": "b92e2ae1-c965-45d2-8f3f-a6cddc92909b"
      },
      "execution_count": 17,
      "outputs": [
        {
          "output_type": "execute_result",
          "data": {
            "text/plain": [
              "2.3666666666666667"
            ]
          },
          "metadata": {},
          "execution_count": 17
        }
      ]
    },
    {
      "cell_type": "code",
      "source": [
        "# Name the varaibles meaningfully\n",
        "total_min = 43 + 42 + 57 # Total length of albums in minutes\n",
        "total_min "
      ],
      "metadata": {
        "colab": {
          "base_uri": "https://localhost:8080/"
        },
        "id": "HOmZCpp-QXyH",
        "outputId": "0049b94a-424c-412f-f7c9-1897dbd99d4d"
      },
      "execution_count": 18,
      "outputs": [
        {
          "output_type": "execute_result",
          "data": {
            "text/plain": [
              "142"
            ]
          },
          "metadata": {},
          "execution_count": 18
        }
      ]
    },
    {
      "cell_type": "code",
      "source": [
        "# Meaningful variable calculation: Total length of albums in hours using total_min\n",
        "total_hours = total_min / 60\n",
        "total_hours"
      ],
      "metadata": {
        "colab": {
          "base_uri": "https://localhost:8080/"
        },
        "id": "Sx_wHB2LQ7Wr",
        "outputId": "2ac37ea1-fa82-4bfc-9638-24fac87618b7"
      },
      "execution_count": 19,
      "outputs": [
        {
          "output_type": "execute_result",
          "data": {
            "text/plain": [
              "2.3666666666666667"
            ]
          },
          "metadata": {},
          "execution_count": 19
        }
      ]
    },
    {
      "cell_type": "code",
      "source": [
        "# Complicate expression \n",
        "total_hours = (43 + 42 + 57) / 60 # total_hours in one-go single expression \n",
        "total_hours"
      ],
      "metadata": {
        "id": "-kaQoUMgRTG1"
      },
      "execution_count": null,
      "outputs": []
    },
    {
      "cell_type": "markdown",
      "source": [
        "#### Exercise: Expression and variables in Python"
      ],
      "metadata": {
        "id": "pCHblyhCR9hq"
      }
    },
    {
      "cell_type": "code",
      "source": [
        "# value of x with expression\n",
        "x = 3 + 2 * 2\n",
        "x"
      ],
      "metadata": {
        "colab": {
          "base_uri": "https://localhost:8080/"
        },
        "id": "IfVQ-gzLSFg6",
        "outputId": "f91426f8-8af2-4535-bc01-457d5bf11d1d"
      },
      "execution_count": 20,
      "outputs": [
        {
          "output_type": "execute_result",
          "data": {
            "text/plain": [
              "7"
            ]
          },
          "metadata": {},
          "execution_count": 20
        }
      ]
    },
    {
      "cell_type": "code",
      "source": [
        "# value of y with expression\n",
        "y = (3 + 2) * 2\n",
        "y"
      ],
      "metadata": {
        "colab": {
          "base_uri": "https://localhost:8080/"
        },
        "id": "ZWPEtHwlSVwm",
        "outputId": "ebbdcd40-c743-40c2-c027-ff1601602147"
      },
      "execution_count": 21,
      "outputs": [
        {
          "output_type": "execute_result",
          "data": {
            "text/plain": [
              "10"
            ]
          },
          "metadata": {},
          "execution_count": 21
        }
      ]
    },
    {
      "cell_type": "code",
      "source": [
        "# value of z with z = x + y\n",
        "z = x + y\n",
        "z"
      ],
      "metadata": {
        "colab": {
          "base_uri": "https://localhost:8080/"
        },
        "id": "eYsCEb19Sgqe",
        "outputId": "561cae13-6c6b-4506-f6f0-d80cfab125be"
      },
      "execution_count": 23,
      "outputs": [
        {
          "output_type": "execute_result",
          "data": {
            "text/plain": [
              "17"
            ]
          },
          "metadata": {},
          "execution_count": 23
        }
      ]
    },
    {
      "cell_type": "code",
      "source": [],
      "metadata": {
        "id": "0rokfGm7Sute"
      },
      "execution_count": null,
      "outputs": []
    }
  ]
}