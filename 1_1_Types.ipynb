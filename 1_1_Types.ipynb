{
  "nbformat": 4,
  "nbformat_minor": 0,
  "metadata": {
    "colab": {
      "provenance": [],
      "authorship_tag": "ABX9TyMqDT10ODZm7eI0PLQuKa2i",
      "include_colab_link": true
    },
    "kernelspec": {
      "name": "python3",
      "display_name": "Python 3"
    },
    "language_info": {
      "name": "python"
    }
  },
  "cells": [
    {
      "cell_type": "markdown",
      "metadata": {
        "id": "view-in-github",
        "colab_type": "text"
      },
      "source": [
        "<a href=\"https://colab.research.google.com/github/sarabjeet050/Learning_Python/blob/main/1_1_Types.ipynb\" target=\"_parent\"><img src=\"https://colab.research.google.com/assets/colab-badge.svg\" alt=\"Open In Colab\"/></a>"
      ]
    },
    {
      "cell_type": "code",
      "execution_count": 2,
      "metadata": {
        "colab": {
          "base_uri": "https://localhost:8080/"
        },
        "id": "tf6MelbdzsQl",
        "outputId": "fbad23e8-501e-4386-b83d-0c7290883723"
      },
      "outputs": [
        {
          "output_type": "stream",
          "name": "stdout",
          "text": [
            "Hello! Python.\n"
          ]
        }
      ],
      "source": [
        "# First Python output : Say \"Hello\" to the world in Python\n",
        "print(\"Hello! Python.\")"
      ]
    },
    {
      "cell_type": "code",
      "source": [
        "# Check the Python version\n",
        "import sys\n",
        "print(sys.version)"
      ],
      "metadata": {
        "colab": {
          "base_uri": "https://localhost:8080/"
        },
        "id": "WfcnxRZC4qip",
        "outputId": "b85304c0-860e-4d24-f319-f7648bf84efc"
      },
      "execution_count": 5,
      "outputs": [
        {
          "output_type": "stream",
          "name": "stdout",
          "text": [
            "3.8.10 (default, Nov 14 2022, 12:59:47) \n",
            "[GCC 9.4.0]\n"
          ]
        }
      ]
    },
    {
      "cell_type": "code",
      "source": [
        "# Practicing on writing comments -- after # comments only doesn't print\n",
        "print(\"Hello! World.\") #This line prints a string\n",
        "# print(\"Hi!\") # this is actual piece of code but commented for the moment to not be executed."
      ],
      "metadata": {
        "colab": {
          "base_uri": "https://localhost:8080/"
        },
        "id": "kEGk8hEf5A-8",
        "outputId": "1b2f30fa-a736-4ec8-c60f-95f303b444d8"
      },
      "execution_count": 6,
      "outputs": [
        {
          "output_type": "stream",
          "name": "stdout",
          "text": [
            "Hello! World.\n"
          ]
        }
      ]
    },
    {
      "cell_type": "markdown",
      "source": [
        "#### Errors in Python"
      ],
      "metadata": {
        "id": "TyTpi_I26UH-"
      }
    },
    {
      "cell_type": "code",
      "source": [
        "# print string as error message \n",
        "frint(\"Hello! World.\") "
      ],
      "metadata": {
        "colab": {
          "base_uri": "https://localhost:8080/",
          "height": 183
        },
        "id": "g0a830jK6h_5",
        "outputId": "0c785f34-9742-41df-fbc6-840ef2c39b87"
      },
      "execution_count": 7,
      "outputs": [
        {
          "output_type": "error",
          "ename": "NameError",
          "evalue": "ignored",
          "traceback": [
            "\u001b[0;31m---------------------------------------------------------------------------\u001b[0m",
            "\u001b[0;31mNameError\u001b[0m                                 Traceback (most recent call last)",
            "\u001b[0;32m<ipython-input-7-82460e452ef6>\u001b[0m in \u001b[0;36m<module>\u001b[0;34m\u001b[0m\n\u001b[1;32m      1\u001b[0m \u001b[0;31m# print string as error message\u001b[0m\u001b[0;34m\u001b[0m\u001b[0;34m\u001b[0m\u001b[0;34m\u001b[0m\u001b[0m\n\u001b[0;32m----> 2\u001b[0;31m \u001b[0mfrint\u001b[0m\u001b[0;34m(\u001b[0m\u001b[0;34m\"Hello! World.\"\u001b[0m\u001b[0;34m)\u001b[0m\u001b[0;34m\u001b[0m\u001b[0;34m\u001b[0m\u001b[0m\n\u001b[0m",
            "\u001b[0;31mNameError\u001b[0m: name 'frint' is not defined"
          ]
        }
      ]
    },
    {
      "cell_type": "code",
      "source": [
        "# here frint not built-in function and not prior defined by user so error occured \n",
        "# tells where error occured\n",
        "# what type of error occured(NameError)"
      ],
      "metadata": {
        "id": "NfYPCmU66zHd"
      },
      "execution_count": 8,
      "outputs": []
    },
    {
      "cell_type": "code",
      "source": [
        "# built in error message -- Syntax Error\n",
        "print(\"Hello! World.)"
      ],
      "metadata": {
        "colab": {
          "base_uri": "https://localhost:8080/",
          "height": 130
        },
        "id": "7W_SoK9u7CTT",
        "outputId": "e8a9b185-a466-4c0a-bbc0-5fbac0b84d8e"
      },
      "execution_count": 9,
      "outputs": [
        {
          "output_type": "error",
          "ename": "SyntaxError",
          "evalue": "ignored",
          "traceback": [
            "\u001b[0;36m  File \u001b[0;32m\"<ipython-input-9-d5564a1b83d9>\"\u001b[0;36m, line \u001b[0;32m2\u001b[0m\n\u001b[0;31m    print(\"Hello! World.)\u001b[0m\n\u001b[0m                         ^\u001b[0m\n\u001b[0;31mSyntaxError\u001b[0m\u001b[0;31m:\u001b[0m EOL while scanning string literal\n"
          ]
        }
      ]
    },
    {
      "cell_type": "code",
      "source": [
        "# Python is interpreted language not compiler language. It interprets line by line when it executes the code.\n",
        "# It stops executing code after when error occured (until it is explicitly handled.)"
      ],
      "metadata": {
        "id": "NhHIRYWm_1Af"
      },
      "execution_count": 10,
      "outputs": []
    },
    {
      "cell_type": "code",
      "source": [
        "# print string and error to see the running order\n",
        "print(\"This will be printed\")\n",
        "frint(\"This will cause an error\") #undefined function\n",
        "print(\"This will NOT be printed\") #as error occured above so Python doesn.t interpret this"
      ],
      "metadata": {
        "colab": {
          "base_uri": "https://localhost:8080/",
          "height": 235
        },
        "id": "ewnyZsEBAzP5",
        "outputId": "a5a19c1c-9203-4ae1-d40e-aefb68aaf756"
      },
      "execution_count": 12,
      "outputs": [
        {
          "output_type": "stream",
          "name": "stdout",
          "text": [
            "This will be printed\n"
          ]
        },
        {
          "output_type": "error",
          "ename": "NameError",
          "evalue": "ignored",
          "traceback": [
            "\u001b[0;31m---------------------------------------------------------------------------\u001b[0m",
            "\u001b[0;31mNameError\u001b[0m                                 Traceback (most recent call last)",
            "\u001b[0;32m<ipython-input-12-80ae73a95f5a>\u001b[0m in \u001b[0;36m<module>\u001b[0;34m\u001b[0m\n\u001b[1;32m      1\u001b[0m \u001b[0;31m# print string and error to see the running order\u001b[0m\u001b[0;34m\u001b[0m\u001b[0;34m\u001b[0m\u001b[0;34m\u001b[0m\u001b[0m\n\u001b[1;32m      2\u001b[0m \u001b[0mprint\u001b[0m\u001b[0;34m(\u001b[0m\u001b[0;34m\"This will be printed\"\u001b[0m\u001b[0;34m)\u001b[0m\u001b[0;34m\u001b[0m\u001b[0;34m\u001b[0m\u001b[0m\n\u001b[0;32m----> 3\u001b[0;31m \u001b[0mfrint\u001b[0m\u001b[0;34m(\u001b[0m\u001b[0;34m\"This will cause an error\"\u001b[0m\u001b[0;34m)\u001b[0m \u001b[0;31m#undefined function\u001b[0m\u001b[0;34m\u001b[0m\u001b[0;34m\u001b[0m\u001b[0m\n\u001b[0m\u001b[1;32m      4\u001b[0m \u001b[0mprint\u001b[0m\u001b[0;34m(\u001b[0m\u001b[0;34m\"This will NOT be printed\"\u001b[0m\u001b[0;34m)\u001b[0m \u001b[0;31m#as error occured above so Python doesn.t interpret this\u001b[0m\u001b[0;34m\u001b[0m\u001b[0;34m\u001b[0m\u001b[0m\n",
            "\u001b[0;31mNameError\u001b[0m: name 'frint' is not defined"
          ]
        }
      ]
    },
    {
      "cell_type": "markdown",
      "source": [
        "#### Exercise: Your First Program"
      ],
      "metadata": {
        "id": "NG_zatuOBs4H"
      }
    },
    {
      "cell_type": "code",
      "source": [
        "# use  print() function to print out \"Hello! World.\"\n",
        "print(\"Hello! World.\")"
      ],
      "metadata": {
        "colab": {
          "base_uri": "https://localhost:8080/"
        },
        "id": "YolAGYGPBXZa",
        "outputId": "cbd31df4-49ae-47e7-df6b-482dc6feccff"
      },
      "execution_count": 13,
      "outputs": [
        {
          "output_type": "stream",
          "name": "stdout",
          "text": [
            "Hello! World.\n"
          ]
        }
      ]
    },
    {
      "cell_type": "code",
      "source": [
        "# print out \"Hello! World.\" and comment it \"Print the traditional hello world\"\n",
        "print(\"Hello! World.\") #Print the traditional hello world"
      ],
      "metadata": {
        "colab": {
          "base_uri": "https://localhost:8080/"
        },
        "id": "4Mn7P_pFCTer",
        "outputId": "f7d5a639-c013-4692-9ed5-dbcbb54ead89"
      },
      "execution_count": 14,
      "outputs": [
        {
          "output_type": "stream",
          "name": "stdout",
          "text": [
            "Hello! World.\n"
          ]
        }
      ]
    },
    {
      "cell_type": "markdown",
      "source": [
        "#### Types of objects in Python"
      ],
      "metadata": {
        "id": "-o6tOGtzabA7"
      }
    },
    {
      "cell_type": "markdown",
      "source": [
        "###### string: characters string(text); interger: numbers(-1,0,100); float: real numbers(3.14,-3.09)"
      ],
      "metadata": {
        "id": "_lhWKx9caqi9"
      }
    },
    {
      "cell_type": "code",
      "source": [
        "# Integer \n",
        "11"
      ],
      "metadata": {
        "colab": {
          "base_uri": "https://localhost:8080/"
        },
        "id": "tGQcdxs0Colg",
        "outputId": "f3ffbd48-f0c7-4a85-e366-48e85d8cb3d6"
      },
      "execution_count": 1,
      "outputs": [
        {
          "output_type": "execute_result",
          "data": {
            "text/plain": [
              "11"
            ]
          },
          "metadata": {},
          "execution_count": 1
        }
      ]
    },
    {
      "cell_type": "code",
      "source": [
        "# Float\n",
        "5.2 "
      ],
      "metadata": {
        "colab": {
          "base_uri": "https://localhost:8080/"
        },
        "id": "6CIzvtTcbVJq",
        "outputId": "cd539e3b-1f7f-42f0-e1e2-6a7418673377"
      },
      "execution_count": 2,
      "outputs": [
        {
          "output_type": "execute_result",
          "data": {
            "text/plain": [
              "5.2"
            ]
          },
          "metadata": {},
          "execution_count": 2
        }
      ]
    },
    {
      "cell_type": "code",
      "source": [
        "# String\n",
        "\"Hello, Python 101!\""
      ],
      "metadata": {
        "colab": {
          "base_uri": "https://localhost:8080/",
          "height": 35
        },
        "id": "LYDGoX1lbYDC",
        "outputId": "4789f42c-950e-4b89-c158-82856d28a003"
      },
      "execution_count": 3,
      "outputs": [
        {
          "output_type": "execute_result",
          "data": {
            "text/plain": [
              "'Hello, Python 101!'"
            ],
            "application/vnd.google.colaboratory.intrinsic+json": {
              "type": "string"
            }
          },
          "metadata": {},
          "execution_count": 3
        }
      ]
    },
    {
      "cell_type": "markdown",
      "source": [
        "###### type function : for datatype of *object* (int, float, str)"
      ],
      "metadata": {
        "id": "lUdtJH6GbvgK"
      }
    },
    {
      "cell_type": "code",
      "source": [
        "# Type of 12\n",
        "type(12) "
      ],
      "metadata": {
        "colab": {
          "base_uri": "https://localhost:8080/"
        },
        "id": "ZTmyVk1Bbztn",
        "outputId": "ffe1b346-0c92-4934-8a01-7b7b1060637c"
      },
      "execution_count": 5,
      "outputs": [
        {
          "output_type": "execute_result",
          "data": {
            "text/plain": [
              "int"
            ]
          },
          "metadata": {},
          "execution_count": 5
        }
      ]
    },
    {
      "cell_type": "code",
      "source": [
        "# Type of 3.14\n",
        "type(3.14)"
      ],
      "metadata": {
        "colab": {
          "base_uri": "https://localhost:8080/"
        },
        "id": "Wa94dDPbb7kN",
        "outputId": "50512baa-3bd0-4d6e-fcad-e96eb2533a31"
      },
      "execution_count": 6,
      "outputs": [
        {
          "output_type": "execute_result",
          "data": {
            "text/plain": [
              "float"
            ]
          },
          "metadata": {},
          "execution_count": 6
        }
      ]
    },
    {
      "cell_type": "code",
      "source": [
        "# Type of \"Hello, Python 101!\"\n",
        "type(\"Hello, Python 101!\")"
      ],
      "metadata": {
        "colab": {
          "base_uri": "https://localhost:8080/"
        },
        "id": "OANfW6hkcDil",
        "outputId": "156a45ae-2757-4ffa-e67c-b30e513353d1"
      },
      "execution_count": 7,
      "outputs": [
        {
          "output_type": "execute_result",
          "data": {
            "text/plain": [
              "str"
            ]
          },
          "metadata": {},
          "execution_count": 7
        }
      ]
    },
    {
      "cell_type": "code",
      "source": [
        "# use type() function to check the object type of 12.0\n",
        "type(12.0)"
      ],
      "metadata": {
        "colab": {
          "base_uri": "https://localhost:8080/"
        },
        "id": "Urt8swqXcdYG",
        "outputId": "fcf71b8b-94fa-4abd-cc30-f5969336c645"
      },
      "execution_count": 9,
      "outputs": [
        {
          "output_type": "execute_result",
          "data": {
            "text/plain": [
              "float"
            ]
          },
          "metadata": {},
          "execution_count": 9
        }
      ]
    },
    {
      "cell_type": "markdown",
      "source": [
        "#####Integers : can be +ve or -ve"
      ],
      "metadata": {
        "id": "CgaE1DDndA78"
      }
    },
    {
      "cell_type": "code",
      "source": [
        "# Print the type of -1\n",
        "type(-1) "
      ],
      "metadata": {
        "colab": {
          "base_uri": "https://localhost:8080/"
        },
        "id": "t8pwmVmUc_TA",
        "outputId": "764dffc0-f314-42d2-c0aa-665cc92163b3"
      },
      "execution_count": 10,
      "outputs": [
        {
          "output_type": "execute_result",
          "data": {
            "text/plain": [
              "int"
            ]
          },
          "metadata": {},
          "execution_count": 10
        }
      ]
    },
    {
      "cell_type": "code",
      "source": [
        "# Print the type of 4\n",
        "type(4)"
      ],
      "metadata": {
        "colab": {
          "base_uri": "https://localhost:8080/"
        },
        "id": "MJdX_2ABc570",
        "outputId": "808d75c5-bafd-4070-aad1-ef1c3c0efc5b"
      },
      "execution_count": 11,
      "outputs": [
        {
          "output_type": "execute_result",
          "data": {
            "text/plain": [
              "int"
            ]
          },
          "metadata": {},
          "execution_count": 11
        }
      ]
    },
    {
      "cell_type": "code",
      "source": [
        "# Print the type of 0\n",
        "type(0)"
      ],
      "metadata": {
        "colab": {
          "base_uri": "https://localhost:8080/"
        },
        "id": "LaEmR1hpddZx",
        "outputId": "fd553937-9c6a-49b9-f9a4-b8763bb6e441"
      },
      "execution_count": 12,
      "outputs": [
        {
          "output_type": "execute_result",
          "data": {
            "text/plain": [
              "int"
            ]
          },
          "metadata": {},
          "execution_count": 12
        }
      ]
    },
    {
      "cell_type": "markdown",
      "source": [
        "##### Float: real numbers(numbers with decimal) "
      ],
      "metadata": {
        "id": "o3dGTtZQeZvF"
      }
    },
    {
      "cell_type": "code",
      "source": [
        "# System settings about float type object\n",
        "import sys\n",
        "print(sys.float_info)  # to  know range of float numbers allowed in machine "
      ],
      "metadata": {
        "colab": {
          "base_uri": "https://localhost:8080/"
        },
        "id": "mkXEGYlpdilU",
        "outputId": "f786b023-0690-48a5-f267-7bbe2c21b7d5"
      },
      "execution_count": 18,
      "outputs": [
        {
          "output_type": "stream",
          "name": "stdout",
          "text": [
            "sys.float_info(max=1.7976931348623157e+308, max_exp=1024, max_10_exp=308, min=2.2250738585072014e-308, min_exp=-1021, min_10_exp=-307, dig=15, mant_dig=53, epsilon=2.220446049250313e-16, radix=2, rounds=1)\n"
          ]
        }
      ]
    },
    {
      "cell_type": "code",
      "source": [
        "# Print the type of 1.0\n",
        "type(1.0) #Note : 1 is int and 1.0 is float"
      ],
      "metadata": {
        "colab": {
          "base_uri": "https://localhost:8080/"
        },
        "id": "X7nxrJ02euJn",
        "outputId": "18fa3981-bf78-4dfb-8993-670b3308255e"
      },
      "execution_count": 16,
      "outputs": [
        {
          "output_type": "execute_result",
          "data": {
            "text/plain": [
              "float"
            ]
          },
          "metadata": {},
          "execution_count": 16
        }
      ]
    },
    {
      "cell_type": "code",
      "source": [
        "# Print the type of 0.5\n",
        "type(0.5)"
      ],
      "metadata": {
        "colab": {
          "base_uri": "https://localhost:8080/"
        },
        "id": "te-RBiwSfGWl",
        "outputId": "60dc0ae8-65dc-40e1-82b4-d3799ed037ae"
      },
      "execution_count": 17,
      "outputs": [
        {
          "output_type": "execute_result",
          "data": {
            "text/plain": [
              "float"
            ]
          },
          "metadata": {},
          "execution_count": 17
        }
      ]
    },
    {
      "cell_type": "markdown",
      "source": [
        "#### Converting from one object type to different one."
      ],
      "metadata": {
        "id": "3pCdX7fgfr19"
      }
    },
    {
      "cell_type": "markdown",
      "source": [
        "##### Converting integers to float"
      ],
      "metadata": {
        "id": "dTQXS-GCf52p"
      }
    },
    {
      "cell_type": "code",
      "source": [],
      "metadata": {
        "id": "dJsIVIAOfZOd"
      },
      "execution_count": null,
      "outputs": []
    }
  ]
}