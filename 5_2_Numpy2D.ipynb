{
  "nbformat": 4,
  "nbformat_minor": 0,
  "metadata": {
    "colab": {
      "provenance": [],
      "authorship_tag": "ABX9TyMwmqhIbHwNMGr6YRHJDwXk",
      "include_colab_link": true
    },
    "kernelspec": {
      "name": "python3",
      "display_name": "Python 3"
    },
    "language_info": {
      "name": "python"
    }
  },
  "cells": [
    {
      "cell_type": "markdown",
      "metadata": {
        "id": "view-in-github",
        "colab_type": "text"
      },
      "source": [
        "<a href=\"https://colab.research.google.com/github/sarabjeet050/Learning_Python/blob/main/5_2_Numpy2D.ipynb\" target=\"_parent\"><img src=\"https://colab.research.google.com/assets/colab-badge.svg\" alt=\"Open In Colab\"/></a>"
      ]
    },
    {
      "cell_type": "code",
      "execution_count": null,
      "metadata": {
        "colab": {
          "base_uri": "https://localhost:8080/"
        },
        "id": "KlhVTXEUK8rM",
        "outputId": "3c0bb4fa-2d0e-4987-b16b-2ddcf3440f3b"
      },
      "outputs": [
        {
          "output_type": "stream",
          "name": "stdout",
          "text": [
            "[[11 12]\n",
            " [21 22]\n",
            " [31 32]]\n"
          ]
        }
      ],
      "source": [
        "# Get to know Numpy Array\n",
        "# import Numpy library\n",
        "import numpy as np\n",
        "# Use numpy 2D array A :\n",
        "A = np.array([[11, 12], [21, 22], [31, 32]])\n",
        "print(A)"
      ]
    },
    {
      "cell_type": "code",
      "source": [
        "# Find the type of A using function type()\n",
        "print(type(A))"
      ],
      "metadata": {
        "colab": {
          "base_uri": "https://localhost:8080/"
        },
        "id": "W3anjTbHLkMJ",
        "outputId": "23580c2a-744a-4b73-f930-4bd09abd22bc"
      },
      "execution_count": null,
      "outputs": [
        {
          "output_type": "stream",
          "name": "stdout",
          "text": [
            "<class 'numpy.ndarray'>\n"
          ]
        }
      ]
    },
    {
      "cell_type": "code",
      "source": [
        "# Find the shape of A\n",
        "print(A.shape)"
      ],
      "metadata": {
        "colab": {
          "base_uri": "https://localhost:8080/"
        },
        "id": "5ofFJCpfLtei",
        "outputId": "f574df4f-3764-4a2a-bf40-b2e9ecd51810"
      },
      "execution_count": null,
      "outputs": [
        {
          "output_type": "stream",
          "name": "stdout",
          "text": [
            "(3, 2)\n"
          ]
        }
      ]
    },
    {
      "cell_type": "code",
      "source": [
        "# Find the type of data in A\n",
        "print(A.dtype)"
      ],
      "metadata": {
        "colab": {
          "base_uri": "https://localhost:8080/"
        },
        "id": "7pZIWgEgL1fW",
        "outputId": "d00fa840-561a-4cbc-98c6-48c86ae75023"
      },
      "execution_count": null,
      "outputs": [
        {
          "output_type": "stream",
          "name": "stdout",
          "text": [
            "int64\n"
          ]
        }
      ]
    },
    {
      "cell_type": "code",
      "source": [
        "# Find second row of numpy array A\n",
        "print(A[1])"
      ],
      "metadata": {
        "colab": {
          "base_uri": "https://localhost:8080/"
        },
        "id": "FNrHh-pBL81z",
        "outputId": "635eab78-f105-4a0b-b873-1029e9a0adc1"
      },
      "execution_count": null,
      "outputs": [
        {
          "output_type": "stream",
          "name": "stdout",
          "text": [
            "[21 22]\n"
          ]
        }
      ]
    },
    {
      "cell_type": "markdown",
      "source": [
        "#### Two Types of Multiplication"
      ],
      "metadata": {
        "id": "BsUTLbDYMjS6"
      }
    },
    {
      "cell_type": "code",
      "source": [
        "# Use following numpy arrays:\n",
        "A = np.array([[11, 12], [21, 22]])\n",
        "B = np.array([[1, 0], [0, 1]])\n",
        "print(A)\n",
        "print(B)"
      ],
      "metadata": {
        "colab": {
          "base_uri": "https://localhost:8080/"
        },
        "id": "-He2NkReMFno",
        "outputId": "7a567ba0-0985-45e4-e130-6833075d583f"
      },
      "execution_count": null,
      "outputs": [
        {
          "output_type": "stream",
          "name": "stdout",
          "text": [
            "[[11 12]\n",
            " [21 22]]\n",
            "[[1 0]\n",
            " [0 1]]\n"
          ]
        }
      ]
    },
    {
      "cell_type": "code",
      "source": [
        "# Multiply Array A and B or Hadamard Multiplication\n",
        "print(np.multiply(A, B))\n",
        "print(A * B)"
      ],
      "metadata": {
        "colab": {
          "base_uri": "https://localhost:8080/"
        },
        "id": "br8oa1otM6Za",
        "outputId": "f6bb1ddb-8d60-4273-abd3-5be3653a1c63"
      },
      "execution_count": null,
      "outputs": [
        {
          "output_type": "stream",
          "name": "stdout",
          "text": [
            "[[11  0]\n",
            " [ 0 22]]\n",
            "[[11  0]\n",
            " [ 0 22]]\n"
          ]
        }
      ]
    },
    {
      "cell_type": "code",
      "source": [
        "# Perform matrix multiplication  on array A and B (order will not matter)\n",
        "print(np.dot(A, B))"
      ],
      "metadata": {
        "colab": {
          "base_uri": "https://localhost:8080/"
        },
        "id": "Y_0V6VdyNJtd",
        "outputId": "7f2e8f77-9c57-4bbe-8e98-229db4a53fee"
      },
      "execution_count": null,
      "outputs": [
        {
          "output_type": "stream",
          "name": "stdout",
          "text": [
            "[[11 12]\n",
            " [21 22]]\n"
          ]
        }
      ]
    },
    {
      "cell_type": "markdown",
      "source": [
        "#### Create 2D Numpy Array"
      ],
      "metadata": {
        "id": "daTWjgNKP-lc"
      }
    },
    {
      "cell_type": "code",
      "source": [
        "# import the libraries\n",
        "import numpy as np\n",
        "import matplotlib.pyplot as plt\n",
        "%matplotlib inline"
      ],
      "metadata": {
        "id": "_IODQsPKNhSc"
      },
      "execution_count": null,
      "outputs": []
    },
    {
      "cell_type": "code",
      "source": [
        "# Consider list a, which contains 3 nested lists each of equal size\n",
        "a = [[11, 12, 13], [21, 22, 23], [31, 32, 33]]\n",
        "print(a)"
      ],
      "metadata": {
        "colab": {
          "base_uri": "https://localhost:8080/"
        },
        "id": "DveY9WckQXCT",
        "outputId": "1066c692-9194-4408-dc2f-e4b6896b9a3b"
      },
      "execution_count": null,
      "outputs": [
        {
          "output_type": "stream",
          "name": "stdout",
          "text": [
            "[[11, 12, 13], [21, 22, 23], [31, 32, 33]]\n"
          ]
        }
      ]
    },
    {
      "cell_type": "code",
      "source": [
        "# Create list to Numpy Array\n",
        "# Each element is the same type\n",
        "\n",
        "A = np.array(a)\n",
        "print(A)"
      ],
      "metadata": {
        "colab": {
          "base_uri": "https://localhost:8080/"
        },
        "id": "A5_lf16sQr4t",
        "outputId": "44204582-575a-4bab-8580-04cc50b88881"
      },
      "execution_count": null,
      "outputs": [
        {
          "output_type": "stream",
          "name": "stdout",
          "text": [
            "[[11 12 13]\n",
            " [21 22 23]\n",
            " [31 32 33]]\n"
          ]
        }
      ]
    },
    {
      "cell_type": "code",
      "source": [
        "# Use ndim to obtain the number of axes or dimensions, referred to as rank\n",
        "# Show the numpy array dimension\n",
        "print(A.ndim)"
      ],
      "metadata": {
        "id": "u0z_yfpERBf0",
        "colab": {
          "base_uri": "https://localhost:8080/"
        },
        "outputId": "6e23b85d-1cb2-494a-ecc3-6c7de8a06cc8"
      },
      "execution_count": null,
      "outputs": [
        {
          "output_type": "stream",
          "name": "stdout",
          "text": [
            "2\n"
          ]
        }
      ]
    },
    {
      "cell_type": "code",
      "source": [
        "# Attribute shape returns a tuple corresponding to size or number of each dimension (R , C)\n",
        "# Show the numpy array shape\n",
        "print(A.shape)"
      ],
      "metadata": {
        "colab": {
          "base_uri": "https://localhost:8080/"
        },
        "id": "Kwl74CIhi5VB",
        "outputId": "b7bcd8ab-8e3e-4927-f7e4-1caf553ca5e4"
      },
      "execution_count": null,
      "outputs": [
        {
          "output_type": "stream",
          "name": "stdout",
          "text": [
            "(3, 3)\n"
          ]
        }
      ]
    },
    {
      "cell_type": "code",
      "source": [
        "# The total number of elements in the numpy array is given by attribute size (R*C)\n",
        "# Show the numpy array size\n",
        "print(A.size)"
      ],
      "metadata": {
        "colab": {
          "base_uri": "https://localhost:8080/"
        },
        "id": "Pq75eY0AjmR7",
        "outputId": "122e9a8b-182c-49d2-8ab0-578781af1e75"
      },
      "execution_count": null,
      "outputs": [
        {
          "output_type": "stream",
          "name": "stdout",
          "text": [
            "9\n"
          ]
        }
      ]
    },
    {
      "cell_type": "markdown",
      "source": [
        "#### Accessing different elements of Numpy Array\n",
        "###### Use rectangular brackets to access elements of array just like list. For eg: Array_name[Row_index, column_index]"
      ],
      "metadata": {
        "id": "iCwWBwhUkR0a"
      }
    },
    {
      "cell_type": "code",
      "source": [
        "# Access the element on 2nd row and 3rd column\n",
        "print(A[1, 2])"
      ],
      "metadata": {
        "colab": {
          "base_uri": "https://localhost:8080/"
        },
        "id": "g53zcjWLj9rG",
        "outputId": "4ca04605-155c-45c0-e784-a80d69ef3069"
      },
      "execution_count": null,
      "outputs": [
        {
          "output_type": "stream",
          "name": "stdout",
          "text": [
            "23\n"
          ]
        }
      ]
    },
    {
      "cell_type": "code",
      "source": [
        "# Can also use nested list concept for access element in 2D\n",
        "print(A[1][2]) # array_name[row_index][col_index]"
      ],
      "metadata": {
        "colab": {
          "base_uri": "https://localhost:8080/"
        },
        "id": "jy8K8gMEk-8W",
        "outputId": "98ef6d77-f028-4201-cf8f-e36abfb17aac"
      },
      "execution_count": null,
      "outputs": [
        {
          "output_type": "stream",
          "name": "stdout",
          "text": [
            "23\n"
          ]
        }
      ]
    },
    {
      "cell_type": "code",
      "source": [
        "# Access element on 1st row and 1st column\n",
        "print(A[0, 0])"
      ],
      "metadata": {
        "colab": {
          "base_uri": "https://localhost:8080/"
        },
        "id": "wPGELPjQlYGo",
        "outputId": "dbd3e7a5-02c6-477c-adc4-efadcc8184a4"
      },
      "execution_count": null,
      "outputs": [
        {
          "output_type": "stream",
          "name": "stdout",
          "text": [
            "11\n"
          ]
        }
      ]
    },
    {
      "cell_type": "code",
      "source": [
        "# Can also slice in numpy arrays.\n",
        "# Access the element on 1st row and 1st, 2nd columns\n",
        "\n",
        "print(A[0][0:2])"
      ],
      "metadata": {
        "id": "QRxYD4MmlmiM",
        "colab": {
          "base_uri": "https://localhost:8080/"
        },
        "outputId": "939c1d5e-84d4-458a-ef95-4f8bbf619ca0"
      },
      "execution_count": null,
      "outputs": [
        {
          "output_type": "stream",
          "name": "stdout",
          "text": [
            "[11 12]\n"
          ]
        }
      ]
    },
    {
      "cell_type": "code",
      "source": [
        "# Access element on 1st and 2nd row and 3rd column\n",
        "print(A[0:2,2])"
      ],
      "metadata": {
        "colab": {
          "base_uri": "https://localhost:8080/"
        },
        "id": "gdIWbAtPcZ8f",
        "outputId": "856fb1fb-b110-4237-f23c-742922c21fe8"
      },
      "execution_count": null,
      "outputs": [
        {
          "output_type": "stream",
          "name": "stdout",
          "text": [
            "[13 23]\n"
          ]
        }
      ]
    },
    {
      "cell_type": "markdown",
      "source": [
        "#### Basic Operations"
      ],
      "metadata": {
        "id": "VLdH4r1sdFvd"
      }
    },
    {
      "cell_type": "code",
      "source": [
        "# Can add arrays. This process is identical to matrix addition."
      ],
      "metadata": {
        "id": "gh9nO0ztcyFx"
      },
      "execution_count": null,
      "outputs": []
    },
    {
      "cell_type": "code",
      "source": [
        "# Create a numpy array X\n",
        "X = np.array([[1, 0], [0, 1]])\n",
        "print(X)"
      ],
      "metadata": {
        "colab": {
          "base_uri": "https://localhost:8080/"
        },
        "id": "pP-nk7oidZFl",
        "outputId": "a8d92622-3776-4a97-8fbc-a6696c3be4dd"
      },
      "execution_count": null,
      "outputs": [
        {
          "output_type": "stream",
          "name": "stdout",
          "text": [
            "[[1 0]\n",
            " [0 1]]\n"
          ]
        }
      ]
    },
    {
      "cell_type": "code",
      "source": [
        "# Create a numpy array Y\n",
        "Y = np.array([[2, 1], [1, 2]])\n",
        "print(Y)"
      ],
      "metadata": {
        "colab": {
          "base_uri": "https://localhost:8080/"
        },
        "id": "wHA9K1trdk8o",
        "outputId": "09a093ff-b02a-4337-830a-dd9a75c8b749"
      },
      "execution_count": null,
      "outputs": [
        {
          "output_type": "stream",
          "name": "stdout",
          "text": [
            "[[2 1]\n",
            " [1 2]]\n"
          ]
        }
      ]
    },
    {
      "cell_type": "code",
      "source": [
        "# Can add numpy arrays:\n",
        "Z = X + Y\n",
        "print(Z)"
      ],
      "metadata": {
        "colab": {
          "base_uri": "https://localhost:8080/"
        },
        "id": "m8VVcra7dyAR",
        "outputId": "d143d09b-1889-4be4-9291-d0bac7315b61"
      },
      "execution_count": null,
      "outputs": [
        {
          "output_type": "stream",
          "name": "stdout",
          "text": [
            "[[3 1]\n",
            " [1 3]]\n"
          ]
        }
      ]
    },
    {
      "cell_type": "code",
      "source": [
        "# Multiply to a numpy array by a scalar is identical to multiplying a matrix by a scalar.\n",
        "# If we multiply the matrix Y by a scalar 2, we simply multiply every element in the matrix\n",
        "# by scalar 2"
      ],
      "metadata": {
        "id": "367_2pFmd5B3"
      },
      "execution_count": null,
      "outputs": []
    },
    {
      "cell_type": "code",
      "source": [
        "# Create a numpy array X\n",
        "X = np.array([[2, 1], [1, 2]])\n",
        "print(X)"
      ],
      "metadata": {
        "colab": {
          "base_uri": "https://localhost:8080/"
        },
        "id": "WSC-RJ7Me7Bs",
        "outputId": "0475ca93-bb50-438b-8e42-78a9524375e5"
      },
      "execution_count": null,
      "outputs": [
        {
          "output_type": "stream",
          "name": "stdout",
          "text": [
            "[[2 1]\n",
            " [1 2]]\n"
          ]
        }
      ]
    },
    {
      "cell_type": "code",
      "source": [
        "# Mulptiply Y with scalar 2\n",
        "Z = Y * 2\n",
        "print(Z)"
      ],
      "metadata": {
        "colab": {
          "base_uri": "https://localhost:8080/"
        },
        "id": "vo2l2T8rfEtI",
        "outputId": "d327ea11-fadc-4829-ff4f-b5c0ddbe4e23"
      },
      "execution_count": null,
      "outputs": [
        {
          "output_type": "stream",
          "name": "stdout",
          "text": [
            "[[4 2]\n",
            " [2 4]]\n"
          ]
        }
      ]
    },
    {
      "cell_type": "code",
      "source": [
        "# Multiplication of 2 arrays corresponds to element-wise product or Hadamard product\n",
        "# Hadamard product corresponds to multiplying each of elements in same position.\n",
        "# The result is new matrix that is of same size as of X and Y"
      ],
      "metadata": {
        "id": "pzrTBDnKfSWg"
      },
      "execution_count": null,
      "outputs": []
    },
    {
      "cell_type": "code",
      "source": [
        "# Create a numpy array Y\n",
        "Y = np.array([[2, 1], [1, 2]])\n",
        "print(Y)"
      ],
      "metadata": {
        "colab": {
          "base_uri": "https://localhost:8080/"
        },
        "id": "ZNYj3MjiVyYD",
        "outputId": "2ff31761-b0e0-49fd-f4f5-1319e29ac734"
      },
      "execution_count": null,
      "outputs": [
        {
          "output_type": "stream",
          "name": "stdout",
          "text": [
            "[[2 1]\n",
            " [1 2]]\n"
          ]
        }
      ]
    },
    {
      "cell_type": "code",
      "source": [
        "# Create a numpy array X\n",
        "X = np.array([[1, 0], [0, 1]])\n",
        "print(X)"
      ],
      "metadata": {
        "colab": {
          "base_uri": "https://localhost:8080/"
        },
        "id": "cCJgM6QcWAQs",
        "outputId": "b03edd3d-a634-4c0c-ce10-1e29f5bac038"
      },
      "execution_count": null,
      "outputs": [
        {
          "output_type": "stream",
          "name": "stdout",
          "text": [
            "[[1 0]\n",
            " [0 1]]\n"
          ]
        }
      ]
    },
    {
      "cell_type": "code",
      "source": [
        "# Perform element-wise product of array X and Y\n",
        "Z = X * Y\n",
        "print(X)"
      ],
      "metadata": {
        "colab": {
          "base_uri": "https://localhost:8080/"
        },
        "id": "FwetxDbHWJTq",
        "outputId": "b75f2d24-6623-4e36-d7fc-d82adb1cd8b7"
      },
      "execution_count": null,
      "outputs": [
        {
          "output_type": "stream",
          "name": "stdout",
          "text": [
            "[[1 0]\n",
            " [0 1]]\n"
          ]
        }
      ]
    },
    {
      "cell_type": "code",
      "source": [
        "# Matrix Multiplication with the numpy array A and B"
      ],
      "metadata": {
        "id": "XdtX8j2cWf1T"
      },
      "execution_count": null,
      "outputs": []
    },
    {
      "cell_type": "code",
      "source": [
        "# Create a matrix A\n",
        "A = np.array([[0, 1, 1], [1, 0, 1]])\n",
        "print(A)"
      ],
      "metadata": {
        "colab": {
          "base_uri": "https://localhost:8080/"
        },
        "id": "BKl0UGtDWvbq",
        "outputId": "ae55ba17-bd23-43fb-b2e0-9c24d6fa7ace"
      },
      "execution_count": null,
      "outputs": [
        {
          "output_type": "stream",
          "name": "stdout",
          "text": [
            "[[0 1 1]\n",
            " [1 0 1]]\n"
          ]
        }
      ]
    },
    {
      "cell_type": "code",
      "source": [
        "# Create a matrix B\n",
        "B = np.array([[1, 1], [1, 1], [-1, 1]])\n",
        "print(B)"
      ],
      "metadata": {
        "colab": {
          "base_uri": "https://localhost:8080/"
        },
        "id": "hC2vwGbdW4xL",
        "outputId": "41cc57c7-cece-4904-e513-23a7a963dae6"
      },
      "execution_count": null,
      "outputs": [
        {
          "output_type": "stream",
          "name": "stdout",
          "text": [
            "[[ 1  1]\n",
            " [ 1  1]\n",
            " [-1  1]]\n"
          ]
        }
      ]
    },
    {
      "cell_type": "code",
      "source": [
        "# Use numpy function dot to multiply array together\n",
        "Z = np.dot(A, B)\n",
        "print(Z)"
      ],
      "metadata": {
        "colab": {
          "base_uri": "https://localhost:8080/"
        },
        "id": "FXYXCRTBXE-a",
        "outputId": "789488f0-227e-481d-939b-167850437231"
      },
      "execution_count": null,
      "outputs": [
        {
          "output_type": "stream",
          "name": "stdout",
          "text": [
            "[[0 2]\n",
            " [0 2]]\n"
          ]
        }
      ]
    },
    {
      "cell_type": "code",
      "source": [
        "# Calculate sine of Z\n",
        "print(np.sin(Z))"
      ],
      "metadata": {
        "colab": {
          "base_uri": "https://localhost:8080/"
        },
        "id": "PIY9LsueXZbR",
        "outputId": "e603c7b1-0303-4a1b-f0ee-0907d2c9eb43"
      },
      "execution_count": null,
      "outputs": [
        {
          "output_type": "stream",
          "name": "stdout",
          "text": [
            "[[0.         0.90929743]\n",
            " [0.         0.90929743]]\n"
          ]
        }
      ]
    },
    {
      "cell_type": "code",
      "source": [
        " # Use numpy attribute T to calculate the transponsed matrix"
      ],
      "metadata": {
        "id": "X6KPa6mRXl1P"
      },
      "execution_count": null,
      "outputs": []
    },
    {
      "cell_type": "code",
      "source": [
        "# Create matrix C\n",
        "C = np.array([[1, 1], [2, 2], [3, 3]])\n",
        "print(C)"
      ],
      "metadata": {
        "colab": {
          "base_uri": "https://localhost:8080/"
        },
        "id": "0KMTYfsJaNgp",
        "outputId": "a5243232-5adf-499a-ac82-389d38c42624"
      },
      "execution_count": null,
      "outputs": [
        {
          "output_type": "stream",
          "name": "stdout",
          "text": [
            "[[1 1]\n",
            " [2 2]\n",
            " [3 3]]\n"
          ]
        }
      ]
    },
    {
      "cell_type": "code",
      "source": [
        "# Get the transpose of C\n",
        "print(C.T)\n",
        "print()\n",
        "print(C.transpose())"
      ],
      "metadata": {
        "colab": {
          "base_uri": "https://localhost:8080/"
        },
        "id": "aKNBBfCjaZ7j",
        "outputId": "028fa966-2f53-4aed-daa1-f7d167f6abc6"
      },
      "execution_count": null,
      "outputs": [
        {
          "output_type": "stream",
          "name": "stdout",
          "text": [
            "[[1 2 3]\n",
            " [1 2 3]]\n",
            "\n",
            "[[1 2 3]\n",
            " [1 2 3]]\n"
          ]
        }
      ]
    },
    {
      "cell_type": "markdown",
      "source": [
        "#### Quiz on 2D Numpy array"
      ],
      "metadata": {
        "id": "rumgGcila7Z_"
      }
    },
    {
      "cell_type": "code",
      "source": [
        "# Consider following list a and convert it to numpy array\n",
        "a = [[1, 2, 3, 4], [5, 6, 7, 8], [9, 10, 11, 12]]\n",
        "print(a)\n",
        "A = np.array(a)\n",
        "print(A)"
      ],
      "metadata": {
        "colab": {
          "base_uri": "https://localhost:8080/"
        },
        "id": "KHtwNZccaiNG",
        "outputId": "ba4334eb-6854-411c-f7d6-dacc2dc2de07"
      },
      "execution_count": null,
      "outputs": [
        {
          "output_type": "stream",
          "name": "stdout",
          "text": [
            "[[1, 2, 3, 4], [5, 6, 7, 8], [9, 10, 11, 12]]\n",
            "[[ 1  2  3  4]\n",
            " [ 5  6  7  8]\n",
            " [ 9 10 11 12]]\n"
          ]
        }
      ]
    },
    {
      "cell_type": "code",
      "source": [
        "# Calculate the numpy array size\n",
        "print(A.size)"
      ],
      "metadata": {
        "colab": {
          "base_uri": "https://localhost:8080/"
        },
        "id": "bwac3ddKbiK_",
        "outputId": "e6d84231-47dd-4a9a-cbd1-9fea77c74795"
      },
      "execution_count": null,
      "outputs": [
        {
          "output_type": "stream",
          "name": "stdout",
          "text": [
            "12\n"
          ]
        }
      ]
    },
    {
      "cell_type": "code",
      "source": [
        "# Access the element on first row and first and second column\n",
        "print(A[0][0:2])\n",
        "print(A[0, 0:2])"
      ],
      "metadata": {
        "colab": {
          "base_uri": "https://localhost:8080/"
        },
        "id": "gf04MAV4bvQt",
        "outputId": "8ab7e838-320d-451e-e1b8-a6aaa3507087"
      },
      "execution_count": 48,
      "outputs": [
        {
          "output_type": "stream",
          "name": "stdout",
          "text": [
            "[1 2]\n",
            "[1 2]\n"
          ]
        }
      ]
    },
    {
      "cell_type": "code",
      "source": [
        "# Perform the matrix multiplication with numpy arrays A and B\n",
        "B = np.array([[0, 1], [1, 0], [1, 1], [-1, 0]])\n",
        "print(B)\n",
        "\n",
        "C = np.dot(A, B)\n",
        "print(C)"
      ],
      "metadata": {
        "id": "I8Dc7_HmcGpZ",
        "colab": {
          "base_uri": "https://localhost:8080/"
        },
        "outputId": "f4705acd-af35-4db0-fccb-059ae47fd16c"
      },
      "execution_count": 49,
      "outputs": [
        {
          "output_type": "stream",
          "name": "stdout",
          "text": [
            "[[ 0  1]\n",
            " [ 1  0]\n",
            " [ 1  1]\n",
            " [-1  0]]\n",
            "[[ 1  4]\n",
            " [ 5 12]\n",
            " [ 9 20]]\n"
          ]
        }
      ]
    }
  ]
}