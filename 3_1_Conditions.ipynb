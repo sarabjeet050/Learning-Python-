{
  "nbformat": 4,
  "nbformat_minor": 0,
  "metadata": {
    "colab": {
      "provenance": [],
      "authorship_tag": "ABX9TyOK5bxphAPcKReeq1nDxg4O",
      "include_colab_link": true
    },
    "kernelspec": {
      "name": "python3",
      "display_name": "Python 3"
    },
    "language_info": {
      "name": "python"
    }
  },
  "cells": [
    {
      "cell_type": "markdown",
      "metadata": {
        "id": "view-in-github",
        "colab_type": "text"
      },
      "source": [
        "<a href=\"https://colab.research.google.com/github/sarabjeet050/Learning_Python/blob/main/3_1_Conditions.ipynb\" target=\"_parent\"><img src=\"https://colab.research.google.com/assets/colab-badge.svg\" alt=\"Open In Colab\"/></a>"
      ]
    },
    {
      "cell_type": "markdown",
      "source": [
        "#### Comparision Operators\n",
        "\n",
        "###### Comparision operations compare some value or operand and, based on a condition, they produce a Boolean(True or False). \n",
        "\n",
        "###### Binary operators(comparing 2 values):\n",
        "*   equal(==)\n",
        "*   not equal(!= or <>)\n",
        "*   greater than(>)\n",
        "*   less than(<)\n",
        "*   greater than or equal to(>=)\n",
        "*   less than or equal to(<=)\n",
        "\n",
        "\n",
        "\n",
        "\n",
        "\n",
        "\n"
      ],
      "metadata": {
        "id": "cM6MR7fE7iQw"
      }
    },
    {
      "cell_type": "code",
      "execution_count": 1,
      "metadata": {
        "colab": {
          "base_uri": "https://localhost:8080/"
        },
        "id": "Z3PREXnRxSCp",
        "outputId": "36cf38e1-09ed-4f73-f10f-75a7ac5913f4"
      },
      "outputs": [
        {
          "output_type": "execute_result",
          "data": {
            "text/plain": [
              "False"
            ]
          },
          "metadata": {},
          "execution_count": 1
        }
      ],
      "source": [
        "# Condition equal (==)\n",
        "a = 5 # value 5 is assigned to a\n",
        "a == 6 # equality operator(==) checks if two values are equal, here variable a compares with 6 \n",
        "# Result is False as 5 doesn't equal to 6"
      ]
    },
    {
      "cell_type": "code",
      "source": [
        "# Greater than Sign (>)\n",
        "i = 6 # assign a to 6\n",
        "i > 5 # here compare (left operand)6 > 5(right operand), which is True "
      ],
      "metadata": {
        "colab": {
          "base_uri": "https://localhost:8080/"
        },
        "id": "VAvky-x2_NLH",
        "outputId": "b447dbcc-d231-49a3-db05-de64ef1f4f0f"
      },
      "execution_count": 2,
      "outputs": [
        {
          "output_type": "execute_result",
          "data": {
            "text/plain": [
              "True"
            ]
          },
          "metadata": {},
          "execution_count": 2
        }
      ]
    },
    {
      "cell_type": "code",
      "source": [
        "# Greater than sign (>)\n",
        "i = 2 \n",
        "i > 5 # here 2 is not greater than 5, hence result False"
      ],
      "metadata": {
        "colab": {
          "base_uri": "https://localhost:8080/"
        },
        "id": "6YoUV_M-D92X",
        "outputId": "7a9dd73c-d3dd-40eb-a2b4-f629fb6cae6f"
      },
      "execution_count": 4,
      "outputs": [
        {
          "output_type": "execute_result",
          "data": {
            "text/plain": [
              "False"
            ]
          },
          "metadata": {},
          "execution_count": 4
        }
      ]
    },
    {
      "cell_type": "code",
      "source": [
        "# Inequality Sign (!=)\n",
        "i = 2 # variable i assigned to 2\n",
        "i != 6 # here 2 not equal to 6, hence result True"
      ],
      "metadata": {
        "colab": {
          "base_uri": "https://localhost:8080/"
        },
        "id": "OITkpAyyEPzs",
        "outputId": "d4b0dfb1-5ac7-405b-ff0a-e645326936da"
      },
      "execution_count": 5,
      "outputs": [
        {
          "output_type": "execute_result",
          "data": {
            "text/plain": [
              "True"
            ]
          },
          "metadata": {},
          "execution_count": 5
        }
      ]
    },
    {
      "cell_type": "code",
      "source": [
        "# Inequality Sign (!=)\n",
        "i = 6 # variable i assigned to 6\n",
        "i != 6  # here 6 not equal to 6 which is not True, hence result False"
      ],
      "metadata": {
        "colab": {
          "base_uri": "https://localhost:8080/"
        },
        "id": "PttXhK8LFIGm",
        "outputId": "c5034b68-e717-4b6a-b3b5-dc8196967e3f"
      },
      "execution_count": 6,
      "outputs": [
        {
          "output_type": "execute_result",
          "data": {
            "text/plain": [
              "False"
            ]
          },
          "metadata": {},
          "execution_count": 6
        }
      ]
    },
    {
      "cell_type": "markdown",
      "source": [
        "##### Same methods applied to strings.  "
      ],
      "metadata": {
        "id": "PaF7MXqKFlT4"
      }
    },
    {
      "cell_type": "code",
      "source": [
        "# Use Equality sign to compare the strings\n",
        "\"ABCD\" == \"Michael Jackson\" # here left and right strings unequal hence result False"
      ],
      "metadata": {
        "colab": {
          "base_uri": "https://localhost:8080/"
        },
        "id": "Rg-qfYcuFe3c",
        "outputId": "29c2e856-c3b1-4b59-9167-b2bcf6f2026a"
      },
      "execution_count": 8,
      "outputs": [
        {
          "output_type": "execute_result",
          "data": {
            "text/plain": [
              "False"
            ]
          },
          "metadata": {},
          "execution_count": 8
        }
      ]
    },
    {
      "cell_type": "code",
      "source": [
        "# Use Inequality sign to compare the strings\n",
        "\"ABCD\" != \"Michael Jackson\" # here left and right strings not equal hence result True"
      ],
      "metadata": {
        "colab": {
          "base_uri": "https://localhost:8080/"
        },
        "id": "hwedm8LXGFlh",
        "outputId": "3949eb78-0416-4d5d-9bf7-cc6f775b3c1e"
      },
      "execution_count": 9,
      "outputs": [
        {
          "output_type": "execute_result",
          "data": {
            "text/plain": [
              "True"
            ]
          },
          "metadata": {},
          "execution_count": 9
        }
      ]
    },
    {
      "cell_type": "markdown",
      "source": [
        "###### Inequality operation is used to compare the letters/words/symbols according to the ASCII value of letters.\n",
        "###### For e.g. the ASCII code for '!' is 21, while for '+' is 43. Hence \"+\" is greater than ! as 43 > 21. ASCII for uppercase letters(A-Z) is (65-90) and lowercase letters(a-z) is (97-122). Thus lowercase > uppercase letters. Hence in python comparision is case sensitive."
      ],
      "metadata": {
        "id": "vrJz8k2LScbP"
      }
    },
    {
      "cell_type": "code",
      "source": [
        "# Compare characters\n",
        "#ord('B') # 98\n",
        "#ord('A') # 97\n",
        "'B' > 'A' # 98 > 97, hence True"
      ],
      "metadata": {
        "colab": {
          "base_uri": "https://localhost:8080/"
        },
        "id": "jjcgsrM6GbZo",
        "outputId": "1bd79727-3a71-4b1a-e6c4-414037aeb759"
      },
      "execution_count": 17,
      "outputs": [
        {
          "output_type": "execute_result",
          "data": {
            "text/plain": [
              "True"
            ]
          },
          "metadata": {},
          "execution_count": 17
        }
      ]
    },
    {
      "cell_type": "code",
      "source": [
        "# Compare characters\n",
        "'BA' > 'AB' # here first letter of left and right side are compared if equal then preceed to next letters.\n",
        "# here left 'B' i.e. 98 is greater than rigth 'A' i.e. 97"
      ],
      "metadata": {
        "colab": {
          "base_uri": "https://localhost:8080/"
        },
        "id": "Xs74hxVnTum8",
        "outputId": "47085c45-c4be-440e-fd3a-d2810bd4061f"
      },
      "execution_count": 18,
      "outputs": [
        {
          "output_type": "execute_result",
          "data": {
            "text/plain": [
              "True"
            ]
          },
          "metadata": {},
          "execution_count": 18
        }
      ]
    },
    {
      "cell_type": "markdown",
      "source": [
        "###### Branching"
      ],
      "metadata": {
        "id": "92MsUeBWVyCw"
      }
    },
    {
      "cell_type": "markdown",
      "source": [
        "###### Branching allows to run different statements for different inputs. Think *if statement* a locked room, if the statement is True, can enter a room and program will run some predefined tasks, but if the statement is False the program will ignore the task.  "
      ],
      "metadata": {
        "id": "20qqGAM1Vx_u"
      }
    },
    {
      "cell_type": "code",
      "source": [
        "# if statement example\n",
        "\n",
        "age = 19 # if this age, if condition be True, further indent code wiil be considered.\n",
        "# age = 18 # if this age, if condition be False, further indent code will be ignored. \n",
        "\n",
        "#  expression that can be True or False\n",
        "if age > 18 :\n",
        "\n",
        "  # within the indented block of code, we have expression that will run if the condition is True\n",
        "  print(\"You can enter\")\n",
        "\n",
        "# The statements after if statement will run regardless if the condition is True or False\n",
        "print(\"Move on\")"
      ],
      "metadata": {
        "colab": {
          "base_uri": "https://localhost:8080/"
        },
        "id": "rxj-PHnl05R6",
        "outputId": "c93efbdd-330c-433d-8778-95b5d16a548c"
      },
      "execution_count": 3,
      "outputs": [
        {
          "output_type": "stream",
          "name": "stdout",
          "text": [
            "You can enter\n",
            "Move on\n"
          ]
        }
      ]
    },
    {
      "cell_type": "markdown",
      "source": [
        "###### if \"if condition\" False then else statement will run"
      ],
      "metadata": {
        "id": "B1m9Zs6s47CT"
      }
    },
    {
      "cell_type": "code",
      "source": [
        "# Else statement example\n",
        "\n",
        "# age = 18 # here if condition : False, else condition executes\n",
        "age = 19 # here if condition : True, hence executes\n",
        "\n",
        "if age > 18 : \n",
        "  print(\"You can enter\") # executes when if statement is True\n",
        "else: \n",
        "  print(\"Go see Meat Loaf\") # executes when if statement is False\n",
        "\n",
        "print(\"Move On\") # out if-else condition, so always print"
      ],
      "metadata": {
        "colab": {
          "base_uri": "https://localhost:8080/"
        },
        "id": "zrtBEocu2I9m",
        "outputId": "e67c124d-99ef-42e8-fbee-e7ab291370fa"
      },
      "execution_count": 6,
      "outputs": [
        {
          "output_type": "stream",
          "name": "stdout",
          "text": [
            "You can enter\n",
            "Move On\n"
          ]
        }
      ]
    },
    {
      "cell_type": "markdown",
      "source": [
        "###### elif statement (short for else if), allows to check for additional condition if the condition statement before elif is False, otherwise if elif condition is False , alternate statement will execute"
      ],
      "metadata": {
        "id": "G969gGbq4ydc"
      }
    },
    {
      "cell_type": "code",
      "source": [
        "# Elif statement example  \n",
        "\n",
        "age = 18 # elif condition executes\n",
        "# age = 19 # if condition executes\n",
        "# age = 17 # else executes\n",
        "\n",
        "if age > 18 :\n",
        "  print(\"You can enter\")\n",
        "elif age == 18 :\n",
        "  print(\"Go see Pink Floyd\")\n",
        "else:\n",
        "  print(\"Go see Meat Loaf\")\n",
        "\n",
        "print(\"Move on\")"
      ],
      "metadata": {
        "colab": {
          "base_uri": "https://localhost:8080/"
        },
        "id": "tQbgp-013uOk",
        "outputId": "073eb7cc-cc6a-426b-ac2c-43022326fe3e"
      },
      "execution_count": 11,
      "outputs": [
        {
          "output_type": "stream",
          "name": "stdout",
          "text": [
            "Go see Pink Floyd\n",
            "Move on\n"
          ]
        }
      ]
    },
    {
      "cell_type": "code",
      "source": [
        "# Condition Statement Syntax\n",
        "# if (condition) : \n",
        "#   do something # this indent code block executes when if condition is True \n",
        "# else: \n",
        "#   do something # this indent code block executes when if condition is False"
      ],
      "metadata": {
        "id": "f3NKOBCE5kWS"
      },
      "execution_count": 12,
      "outputs": []
    },
    {
      "cell_type": "code",
      "source": [
        "# Condition statement example\n",
        "# album_year = 1983 # if executes\n",
        "album_year = 1970 # else executes\n",
        "\n",
        "if album_year > 1980 :\n",
        "  print(\"Album year is after 1980\")\n",
        "else : \n",
        "  print(\"Album year is before 1980\")\n",
        "\n",
        "print(\"do something..\") # always executes as out after if-else"
      ],
      "metadata": {
        "colab": {
          "base_uri": "https://localhost:8080/"
        },
        "id": "rfKaw1aT7Noz",
        "outputId": "22601677-5a46-49f4-9437-f736f037631a"
      },
      "execution_count": 16,
      "outputs": [
        {
          "output_type": "stream",
          "name": "stdout",
          "text": [
            "Album year is before 1980\n",
            "do something..\n"
          ]
        }
      ]
    },
    {
      "cell_type": "markdown",
      "source": [
        "#### Logical Operators\n",
        "###### Logical operators helps to combine or modify more than one condition at once.\n",
        "*   and\n",
        "*   or\n",
        "*   not\n",
        "\n",
        "###### \"and\" statement is only True when both conditions are True. \n",
        "###### \"in\" statement is True when any of conditions are True.\n",
        "###### \"not\" statement outputs the opposite truth value(True: False, False: True).\n"
      ],
      "metadata": {
        "id": "Kh0mfZBX8FBz"
      }
    },
    {
      "cell_type": "code",
      "source": [
        "# Condition statement example\n",
        "\n",
        "album_year = 1980\n",
        "\n",
        "if (album_year > 1979) and (album_year < 1990) :\n",
        "  print(\"Album was not made in 1980's\")\n",
        "else: \n",
        "  print(\"Album was made in 1980's\")\n"
      ],
      "metadata": {
        "colab": {
          "base_uri": "https://localhost:8080/"
        },
        "id": "A0rACfUQ72qX",
        "outputId": "9b7837e6-2dff-4260-8cf5-4253ed25eefa"
      },
      "execution_count": 18,
      "outputs": [
        {
          "output_type": "stream",
          "name": "stdout",
          "text": [
            "Album was not made in 1980's\n"
          ]
        }
      ]
    },
    {
      "cell_type": "markdown",
      "source": [
        "###### The not statement checks if the statement is False"
      ],
      "metadata": {
        "id": "qcrD9lI6-WSK"
      }
    },
    {
      "cell_type": "code",
      "source": [
        "# Condition statement example\n",
        "album_year = 1983\n",
        "if not(album_year == 1984):\n",
        "  print(\"Album year is not 1984\")"
      ],
      "metadata": {
        "colab": {
          "base_uri": "https://localhost:8080/"
        },
        "id": "OpnEUt-Z-IiI",
        "outputId": "f2712b3b-0d5e-4f75-bcea-da29449faa07"
      },
      "execution_count": 19,
      "outputs": [
        {
          "output_type": "stream",
          "name": "stdout",
          "text": [
            "Album year is not 1984\n"
          ]
        }
      ]
    },
    {
      "cell_type": "markdown",
      "source": [
        "#### Quiz on Conditons"
      ],
      "metadata": {
        "id": "2ZSfv8GYCKsy"
      }
    },
    {
      "cell_type": "code",
      "source": [
        "# Write an if statement to determine if an album had a rating greater than 8. Test it using rating of the album \"Back in Black\" that had a rating of 8.5.\n",
        "# If the statement is True print \"This album is amazing!\" \n",
        "\n",
        "album_rating = {\"Back in Black\": 8.5}\n",
        "if album_rating['Back in Black'] > 8:\n",
        "  print(\"This Album is amazing!\")"
      ],
      "metadata": {
        "colab": {
          "base_uri": "https://localhost:8080/"
        },
        "id": "kl031uGm-0PA",
        "outputId": "1e66bb1e-ba03-4e0f-ddf6-d4bb66afbe9f"
      },
      "execution_count": 20,
      "outputs": [
        {
          "output_type": "stream",
          "name": "stdout",
          "text": [
            "This Album is amazing!\n"
          ]
        }
      ]
    },
    {
      "cell_type": "code",
      "source": [
        "# Use if-else. If rating is greater than 8, print \"the album is amazing!\". If rating if less than or equal to 8, print \"the album is ok\"\n",
        "\n",
        "# album_rating = {\"Back in Black\": 8.5} # if True\n",
        "# album_rating = {\"Back in Black\": 8} # else True\n",
        "album_rating = {\"Back in Black\": 7.5} # else True\n",
        "if album_rating['Back in Black'] > 8:\n",
        "  print(\"This Album is amazing!\")\n",
        "else: \n",
        "  print(\"This Album is ok\")\n"
      ],
      "metadata": {
        "colab": {
          "base_uri": "https://localhost:8080/"
        },
        "id": "PlN3CsM2Dah2",
        "outputId": "af6693fe-41be-4d72-c0f9-6efb94a88b94"
      },
      "execution_count": 21,
      "outputs": [
        {
          "output_type": "stream",
          "name": "stdout",
          "text": [
            "This Album is ok\n"
          ]
        }
      ]
    },
    {
      "cell_type": "code",
      "source": [
        "# Write an if statement to determine if an album came out before 1980 or in the years: 1991 or 1993. If condition is True print the year of album came out.\n",
        "album_year = 1979 # if True\n",
        "# album_year = 1991 # first elif True\n",
        "# album_year = 1993 # second elif True\n",
        "if album_year < 1980 :\n",
        "  print(\"Album came out before 1980 in \", album_year)\n",
        "elif album_year == 1991 :\n",
        "   print(\"Album came out in \", album_year)\n",
        "elif album_year == 1993 :\n",
        "  print(\"Album came out in \", album_year)"
      ],
      "metadata": {
        "colab": {
          "base_uri": "https://localhost:8080/"
        },
        "id": "UXmDlaToE43k",
        "outputId": "8be9c7f1-dff4-43bf-c4fb-4e7d0df9ee61"
      },
      "execution_count": 26,
      "outputs": [
        {
          "output_type": "stream",
          "name": "stdout",
          "text": [
            "Album came out before 1980 in  1979\n"
          ]
        }
      ]
    },
    {
      "cell_type": "code",
      "source": [],
      "metadata": {
        "id": "vxHyPXqcGjPc"
      },
      "execution_count": null,
      "outputs": []
    }
  ]
}