{
  "nbformat": 4,
  "nbformat_minor": 0,
  "metadata": {
    "colab": {
      "provenance": [],
      "authorship_tag": "ABX9TyPjOn11+wsUcWJhRrDxuttw",
      "include_colab_link": true
    },
    "kernelspec": {
      "name": "python3",
      "display_name": "Python 3"
    },
    "language_info": {
      "name": "python"
    }
  },
  "cells": [
    {
      "cell_type": "markdown",
      "metadata": {
        "id": "view-in-github",
        "colab_type": "text"
      },
      "source": [
        "<a href=\"https://colab.research.google.com/github/sarabjeet050/Learning_Python/blob/main/2_2_Lists.ipynb\" target=\"_parent\"><img src=\"https://colab.research.google.com/assets/colab-badge.svg\" alt=\"Open In Colab\"/></a>"
      ]
    },
    {
      "cell_type": "markdown",
      "source": [
        "###### A list is a sequential collection of different objects such as integers, strings , float, other tuples and other lists as well."
      ],
      "metadata": {
        "id": "20j2AUD0NsVU"
      }
    },
    {
      "cell_type": "markdown",
      "source": [
        "#### Indexing"
      ],
      "metadata": {
        "id": "W6Ct8HuHNift"
      }
    },
    {
      "cell_type": "markdown",
      "source": [
        "###### The address of each element within a list is called an index. An index is used to access and refer to within a list."
      ],
      "metadata": {
        "id": "xjWbYRsWOgGn"
      }
    },
    {
      "cell_type": "code",
      "execution_count": 1,
      "metadata": {
        "id": "KRT4vHuLHgQT"
      },
      "outputs": [],
      "source": [
        "# List is created using [] just like tuple."
      ]
    },
    {
      "cell_type": "code",
      "source": [
        "# Create a list\n",
        "L = [\"Michael Jackson\", 10.1, 1982]\n",
        "L"
      ],
      "metadata": {
        "colab": {
          "base_uri": "https://localhost:8080/"
        },
        "id": "IipQgsohOZkl",
        "outputId": "1957eb1e-4655-4c96-f4a2-78518b6dc060"
      },
      "execution_count": 3,
      "outputs": [
        {
          "output_type": "execute_result",
          "data": {
            "text/plain": [
              "['Michael Jackson', 10.1, 1982]"
            ]
          },
          "metadata": {},
          "execution_count": 3
        }
      ]
    },
    {
      "cell_type": "markdown",
      "source": [
        "###### Can use negative or regular index with a list"
      ],
      "metadata": {
        "id": "4eR-yoC9O2nc"
      }
    },
    {
      "cell_type": "code",
      "source": [
        "# Print the elements on each index\n",
        "print(\"First element using positive and negative indexing:\\n Positive: \",L[0],\"\\n Negative: \",L[-3])\n",
        "print(\"Second element using positive and negative indexing:\\n Positive: \",L[1],\"\\n Negative: \",L[-2])\n",
        "print(\"Third element using positive and negative indexing:\\n Positive: \",L[2],\"\\n Negative: \",L[-1])"
      ],
      "metadata": {
        "colab": {
          "base_uri": "https://localhost:8080/"
        },
        "id": "9mRDgJFkOybm",
        "outputId": "13ba17ac-552d-456e-8bda-2e1930e6f32a"
      },
      "execution_count": 4,
      "outputs": [
        {
          "output_type": "stream",
          "name": "stdout",
          "text": [
            "First element using positive and negative indexing:\n",
            " Positive:  Michael Jackson \n",
            " Negative:  Michael Jackson\n",
            "Second element using positive and negative indexing:\n",
            " Positive:  10.1 \n",
            " Negative:  10.1\n",
            "Third element using positive and negative indexing:\n",
            " Positive:  1982 \n",
            " Negative:  1982\n"
          ]
        }
      ]
    },
    {
      "cell_type": "markdown",
      "source": [
        "##### List Content\n",
        "\n",
        "###### List can contain strings, floats, integers. Can also nest other lists, and other tuples or even other data structures. Same indexing conventions apply for nesting.\n"
      ],
      "metadata": {
        "id": "L-zZI_5KP_Qt"
      }
    },
    {
      "cell_type": "code",
      "source": [
        "# Sample List\n",
        "\n",
        "[\"Michael Jackson\", 10.1, 1982, [1, 2], (\"A\", 1)]"
      ],
      "metadata": {
        "colab": {
          "base_uri": "https://localhost:8080/"
        },
        "id": "AG4ou24WP0vs",
        "outputId": "b1abc346-97e5-4db2-a9be-42a7f098067e"
      },
      "execution_count": 5,
      "outputs": [
        {
          "output_type": "execute_result",
          "data": {
            "text/plain": [
              "['Michael Jackson', 10.1, 1982, [1, 2], ('A', 1)]"
            ]
          },
          "metadata": {},
          "execution_count": 5
        }
      ]
    },
    {
      "cell_type": "markdown",
      "source": [
        "##### List Operations"
      ],
      "metadata": {
        "id": "7DgWhPy9QlRb"
      }
    },
    {
      "cell_type": "code",
      "source": [
        "# Sample List\n",
        "\n",
        "L = [\"Michael Jackson\", 10.1,1982,\"MJ\",1]\n",
        "L"
      ],
      "metadata": {
        "colab": {
          "base_uri": "https://localhost:8080/"
        },
        "id": "u6F0Cc0GQhH_",
        "outputId": "e7572aef-c030-4774-ecbb-c9bf3e466f2b"
      },
      "execution_count": 6,
      "outputs": [
        {
          "output_type": "execute_result",
          "data": {
            "text/plain": [
              "['Michael Jackson', 10.1, 1982, 'MJ', 1]"
            ]
          },
          "metadata": {},
          "execution_count": 6
        }
      ]
    },
    {
      "cell_type": "code",
      "source": [
        "# List Slicing \n",
        "L[3:5]"
      ],
      "metadata": {
        "colab": {
          "base_uri": "https://localhost:8080/"
        },
        "id": "vFnc1PSVQuEH",
        "outputId": "007e4d63-91e5-4df4-a1d6-6280217203fb"
      },
      "execution_count": 7,
      "outputs": [
        {
          "output_type": "execute_result",
          "data": {
            "text/plain": [
              "['MJ', 1]"
            ]
          },
          "metadata": {},
          "execution_count": 7
        }
      ]
    },
    {
      "cell_type": "code",
      "source": [
        "# Use extend method to add new elements(multiple possible but as a list) to the list\n",
        "L = [\"Michael Jackson\",10.2]\n",
        "print(\"Before adding elements: \",L)\n",
        "L.extend(['pop',10])\n",
        "print(\"After adding elements: \",L)"
      ],
      "metadata": {
        "colab": {
          "base_uri": "https://localhost:8080/"
        },
        "id": "XQhRdLlUQzPX",
        "outputId": "59e49e10-b82e-41e7-aa00-d5f4e169c4eb"
      },
      "execution_count": 8,
      "outputs": [
        {
          "output_type": "stream",
          "name": "stdout",
          "text": [
            "Before adding elements:  ['Michael Jackson', 10.2]\n",
            "After adding elements:  ['Michael Jackson', 10.2, 'pop', 10]\n"
          ]
        }
      ]
    },
    {
      "cell_type": "code",
      "source": [
        "# Similarly we apply append instead of extend, which adds only one element to the list( even if a list is added)\n",
        "L = [\"Michael Jackson\",10.2]\n",
        "print(\"Before adding elements: \",L)\n",
        "L.append(['pop',10])\n",
        "print(\"After adding elements: \",L)"
      ],
      "metadata": {
        "colab": {
          "base_uri": "https://localhost:8080/"
        },
        "id": "kIg6cPKQRr-w",
        "outputId": "f0fd1b57-2724-49e4-d3ab-e49e697cb31e"
      },
      "execution_count": 9,
      "outputs": [
        {
          "output_type": "stream",
          "name": "stdout",
          "text": [
            "Before adding elements:  ['Michael Jackson', 10.2]\n",
            "After adding elements:  ['Michael Jackson', 10.2, ['pop', 10]]\n"
          ]
        }
      ]
    },
    {
      "cell_type": "code",
      "source": [
        "# Append the list ['a','b'], which is nested list as a new element added to existing list.\n",
        "L.append(['a','b'])\n",
        "L"
      ],
      "metadata": {
        "colab": {
          "base_uri": "https://localhost:8080/"
        },
        "id": "atL0CqO6SKIK",
        "outputId": "9a73c124-35a2-4edd-c18d-9748529bb90d"
      },
      "execution_count": 11,
      "outputs": [
        {
          "output_type": "execute_result",
          "data": {
            "text/plain": [
              "['Michael Jackson', 10.2, ['pop', 10], ['a', 'b'], ['a', 'b']]"
            ]
          },
          "metadata": {},
          "execution_count": 11
        }
      ]
    },
    {
      "cell_type": "markdown",
      "source": [
        "##### Lists are mutable i.e. its elements can be changed or modified."
      ],
      "metadata": {
        "id": "ps4D_xePTQdy"
      }
    },
    {
      "cell_type": "code",
      "source": [
        "# Change the first element based on index\n",
        "A = [\"disco\", 10, 1.2]\n",
        "print(\"Before change: \", A)\n",
        "A[0] = \"hard rock\"\n",
        "print(\"After change: \", A)"
      ],
      "metadata": {
        "colab": {
          "base_uri": "https://localhost:8080/"
        },
        "id": "VBkXa9UrTG6g",
        "outputId": "2c2f0e59-cc68-479b-9e6e-a5f755b146e6"
      },
      "execution_count": 14,
      "outputs": [
        {
          "output_type": "stream",
          "name": "stdout",
          "text": [
            "Before change:  ['disco', 10, 1.2]\n",
            "After change:  ['hard rock', 10, 1.2]\n"
          ]
        }
      ]
    },
    {
      "cell_type": "markdown",
      "source": [
        "##### Can delete an element using del command"
      ],
      "metadata": {
        "id": "9HMjit4DUAMX"
      }
    },
    {
      "cell_type": "code",
      "source": [
        "# Delete first element\n",
        "print(\"Before change: \", A)\n",
        "del(A[0])\n",
        "print(\"After change: \", A)"
      ],
      "metadata": {
        "colab": {
          "base_uri": "https://localhost:8080/"
        },
        "id": "wvxc8KLnTelo",
        "outputId": "bbf0543f-8f3b-4f82-f0be-8994ae72eb03"
      },
      "execution_count": 15,
      "outputs": [
        {
          "output_type": "stream",
          "name": "stdout",
          "text": [
            "Before change:  ['hard rock', 10, 1.2]\n",
            "After change:  [10, 1.2]\n"
          ]
        }
      ]
    },
    {
      "cell_type": "markdown",
      "source": [
        "##### Can convert a string into a List using split. split method translates every group of characters seperated by space into an element in a list."
      ],
      "metadata": {
        "id": "-HVqpZ9LUjlG"
      }
    },
    {
      "cell_type": "code",
      "source": [
        "# Split the string, default is by space\n",
        "\"hard rock\".split()"
      ],
      "metadata": {
        "colab": {
          "base_uri": "https://localhost:8080/"
        },
        "id": "MUVcusHFUS4H",
        "outputId": "69cac890-d1c6-4ebb-80c1-b91b9bfbb2db"
      },
      "execution_count": 16,
      "outputs": [
        {
          "output_type": "execute_result",
          "data": {
            "text/plain": [
              "['hard', 'rock']"
            ]
          },
          "metadata": {},
          "execution_count": 16
        }
      ]
    },
    {
      "cell_type": "markdown",
      "source": [
        "###### Can use split function to seperate strings on a specific character. Pass the specific character in split on as an argument(e.g. comma) and result is list, and each element corresponds to a set of characters that have been seperated by that special character(e.g. comma)"
      ],
      "metadata": {
        "id": "PjqJe2iYVR_Y"
      }
    },
    {
      "cell_type": "code",
      "source": [
        "# Split the string by comma\n",
        "\"A,B,C,D\".split(\",\")"
      ],
      "metadata": {
        "colab": {
          "base_uri": "https://localhost:8080/"
        },
        "id": "JpzoZdEYVGw4",
        "outputId": "78af7070-1366-4ee1-e626-6b0b03567bae"
      },
      "execution_count": 17,
      "outputs": [
        {
          "output_type": "execute_result",
          "data": {
            "text/plain": [
              "['A', 'B', 'C', 'D']"
            ]
          },
          "metadata": {},
          "execution_count": 17
        }
      ]
    },
    {
      "cell_type": "markdown",
      "source": [
        "#### Copy and Clone"
      ],
      "metadata": {
        "id": "xkK0tc51WTQT"
      }
    },
    {
      "cell_type": "markdown",
      "source": [
        "##### Copy (copy by reference)\n",
        "###### Set one variable B equal to A; both A and B are referencing the same list in memory."
      ],
      "metadata": {
        "id": "wJzWcxhGW_xC"
      }
    },
    {
      "cell_type": "code",
      "source": [
        "# Copy (copy by reference) the list A\n",
        "A = ['hard rock', 10, 1.2]\n",
        "B = A\n",
        "print('A: ', A)\n",
        "print('B: ', B)"
      ],
      "metadata": {
        "colab": {
          "base_uri": "https://localhost:8080/"
        },
        "id": "KTmT0reLWNdB",
        "outputId": "1f01146b-1cf4-406c-d633-98d1ec0280f2"
      },
      "execution_count": 18,
      "outputs": [
        {
          "output_type": "stream",
          "name": "stdout",
          "text": [
            "A:  ['hard rock', 10, 1.2]\n",
            "B:  ['hard rock', 10, 1.2]\n"
          ]
        }
      ]
    },
    {
      "cell_type": "markdown",
      "source": [
        "##### Initially value of first element in B is set to \"hard rock\". If we change the first element in A to \"banana\", we get an unexpected side effect. As A and B are referencing to the same list. So if we change list A, then B also changes. If we check first element of B we get \"banana\" instead of \"hard rock\""
      ],
      "metadata": {
        "id": "r8g1XvFeYlMA"
      }
    },
    {
      "cell_type": "code",
      "source": [
        "# Examine copy by reference\n",
        "print(\"B[0]: \",B[0])\n",
        "A[0] = \"banana\"\n",
        "print(\"B[0]: \",B[0])"
      ],
      "metadata": {
        "colab": {
          "base_uri": "https://localhost:8080/"
        },
        "id": "63X6kdDBXvSI",
        "outputId": "02053833-9654-496d-89c1-498432070723"
      },
      "execution_count": 19,
      "outputs": [
        {
          "output_type": "stream",
          "name": "stdout",
          "text": [
            "B[0]:  hard rock\n",
            "B[0]:  banana\n"
          ]
        }
      ]
    },
    {
      "cell_type": "markdown",
      "source": [
        "##### Clone (clone by value)"
      ],
      "metadata": {
        "id": "gzZhSvhXZtVX"
      }
    },
    {
      "cell_type": "code",
      "source": [
        "# Clone(clone by value) the list A\n",
        "B = A[:]\n",
        "B"
      ],
      "metadata": {
        "colab": {
          "base_uri": "https://localhost:8080/"
        },
        "id": "AntlibBTZo5F",
        "outputId": "06bccbce-9c95-4e65-8949-ad89d9badf1c"
      },
      "execution_count": 20,
      "outputs": [
        {
          "output_type": "execute_result",
          "data": {
            "text/plain": [
              "['banana', 10, 1.2]"
            ]
          },
          "metadata": {},
          "execution_count": 20
        }
      ]
    },
    {
      "cell_type": "markdown",
      "source": [
        "###### Variable B references a new copy or clone of original list"
      ],
      "metadata": {
        "id": "te9N-WDRaBLH"
      }
    },
    {
      "cell_type": "markdown",
      "source": [
        "###### Now changes to A, won't change B"
      ],
      "metadata": {
        "id": "0fTzqI96aQSP"
      }
    },
    {
      "cell_type": "code",
      "source": [
        "print('B[0]: ',B[0])\n",
        "A[0] = \"hard rock\"\n",
        "print('B[0]: ',B[0])"
      ],
      "metadata": {
        "colab": {
          "base_uri": "https://localhost:8080/"
        },
        "id": "3ON0JudrZ7df",
        "outputId": "1c1df5ce-1178-45f3-8af7-3b0d9d992ea5"
      },
      "execution_count": 21,
      "outputs": [
        {
          "output_type": "stream",
          "name": "stdout",
          "text": [
            "B[0]:  banana\n",
            "B[0]:  banana\n"
          ]
        }
      ]
    },
    {
      "cell_type": "markdown",
      "source": [
        "#### Quiz"
      ],
      "metadata": {
        "id": "ahHJe9-CaugI"
      }
    },
    {
      "cell_type": "code",
      "source": [
        "# Create a list a_list with elements 1, hello, [1,2,3] and True\n",
        "a_list = [1,'hello',[1,2,3],True]\n",
        "a_list"
      ],
      "metadata": {
        "colab": {
          "base_uri": "https://localhost:8080/"
        },
        "id": "LvBSlIKQaqlf",
        "outputId": "a5b1541a-79b1-43d2-fd49-5c256711c677"
      },
      "execution_count": 23,
      "outputs": [
        {
          "output_type": "execute_result",
          "data": {
            "text/plain": [
              "[1, 'hello', [1, 2, 3], True]"
            ]
          },
          "metadata": {},
          "execution_count": 23
        }
      ]
    },
    {
      "cell_type": "code",
      "source": [
        "# Find the value stored at index 1 of a_list\n",
        "print(a_list[0])"
      ],
      "metadata": {
        "colab": {
          "base_uri": "https://localhost:8080/"
        },
        "id": "lmwr75uzbC39",
        "outputId": "e5c63bf7-a0ec-4b6a-e73d-551351388ee0"
      },
      "execution_count": 24,
      "outputs": [
        {
          "output_type": "stream",
          "name": "stdout",
          "text": [
            "1\n"
          ]
        }
      ]
    },
    {
      "cell_type": "code",
      "source": [
        "# Retrieve the elements at index 1,2,3 of a_list\n",
        "a_list[1:4]"
      ],
      "metadata": {
        "colab": {
          "base_uri": "https://localhost:8080/"
        },
        "id": "wzNkqUEpbPPZ",
        "outputId": "2538e76a-7eef-4298-b581-10223148a441"
      },
      "execution_count": 25,
      "outputs": [
        {
          "output_type": "execute_result",
          "data": {
            "text/plain": [
              "['hello', [1, 2, 3], True]"
            ]
          },
          "metadata": {},
          "execution_count": 25
        }
      ]
    },
    {
      "cell_type": "code",
      "source": [
        "# Concatenate the lists A = [1, 'a'] and  B = [2, 1, 'd']\n",
        "A = [1, 'a'] \n",
        "B = [2, 1, 'd']\n",
        "C = A + B\n",
        "print(C)"
      ],
      "metadata": {
        "colab": {
          "base_uri": "https://localhost:8080/"
        },
        "id": "6j97ot_Wbc_j",
        "outputId": "cfe46483-a1eb-4236-c7cb-45e1715f7e63"
      },
      "execution_count": 26,
      "outputs": [
        {
          "output_type": "stream",
          "name": "stdout",
          "text": [
            "[1, 'a', 2, 1, 'd']\n"
          ]
        }
      ]
    },
    {
      "cell_type": "code",
      "source": [],
      "metadata": {
        "id": "LwgJeP6VbxtE"
      },
      "execution_count": null,
      "outputs": []
    }
  ]
}