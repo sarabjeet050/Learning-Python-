{
  "nbformat": 4,
  "nbformat_minor": 0,
  "metadata": {
    "colab": {
      "provenance": [],
      "authorship_tag": "ABX9TyOxw5JHKT676ILNrP92QcMp",
      "include_colab_link": true
    },
    "kernelspec": {
      "name": "python3",
      "display_name": "Python 3"
    },
    "language_info": {
      "name": "python"
    }
  },
  "cells": [
    {
      "cell_type": "markdown",
      "metadata": {
        "id": "view-in-github",
        "colab_type": "text"
      },
      "source": [
        "<a href=\"https://colab.research.google.com/github/sarabjeet050/Learning_Python/blob/main/1_2_Strings.ipynb\" target=\"_parent\"><img src=\"https://colab.research.google.com/assets/colab-badge.svg\" alt=\"Open In Colab\"/></a>"
      ]
    },
    {
      "cell_type": "markdown",
      "source": [
        "## String Operations"
      ],
      "metadata": {
        "id": "Fzo6sIQx7tpc"
      }
    },
    {
      "cell_type": "markdown",
      "source": [
        "#### What are Strings?\n"
      ],
      "metadata": {
        "id": "ccH5kPmI74rI"
      }
    },
    {
      "cell_type": "code",
      "execution_count": null,
      "metadata": {
        "colab": {
          "base_uri": "https://localhost:8080/",
          "height": 35
        },
        "id": "rfJrDlpj7OOn",
        "outputId": "74dddead-1e0f-4f80-e1da-d467a4ce1bbf"
      },
      "outputs": [
        {
          "output_type": "execute_result",
          "data": {
            "text/plain": [
              "'Michael Jackson'"
            ],
            "application/vnd.google.colaboratory.intrinsic+json": {
              "type": "string"
            }
          },
          "metadata": {},
          "execution_count": 2
        }
      ],
      "source": [
        "# Use quotation marks for defining string\n",
        "\"Michael Jackson\""
      ]
    },
    {
      "cell_type": "code",
      "source": [
        "# Use of single quotation maarks for defining string \n",
        "'Michael Jackson'"
      ],
      "metadata": {
        "colab": {
          "base_uri": "https://localhost:8080/",
          "height": 35
        },
        "id": "jN9_TRoA8Fhk",
        "outputId": "6c9d267c-dd79-4861-9f38-3159c59cf122"
      },
      "execution_count": null,
      "outputs": [
        {
          "output_type": "execute_result",
          "data": {
            "text/plain": [
              "'Michael Jackson'"
            ],
            "application/vnd.google.colaboratory.intrinsic+json": {
              "type": "string"
            }
          },
          "metadata": {},
          "execution_count": 3
        }
      ]
    },
    {
      "cell_type": "code",
      "source": [
        "# Digits and spaces in string\n",
        "'1 2 3 4 5 6'"
      ],
      "metadata": {
        "colab": {
          "base_uri": "https://localhost:8080/",
          "height": 35
        },
        "id": "iaCN9W9D8Y5G",
        "outputId": "93106e40-0551-4527-fea0-e42555711cbe"
      },
      "execution_count": null,
      "outputs": [
        {
          "output_type": "execute_result",
          "data": {
            "text/plain": [
              "'1 2 3 4 5 6'"
            ],
            "application/vnd.google.colaboratory.intrinsic+json": {
              "type": "string"
            }
          },
          "metadata": {},
          "execution_count": 4
        }
      ]
    },
    {
      "cell_type": "code",
      "source": [
        "# Special characters in string\n",
        "\"@#2_#]&*^%$\""
      ],
      "metadata": {
        "colab": {
          "base_uri": "https://localhost:8080/",
          "height": 35
        },
        "id": "t1IX1BqK8imT",
        "outputId": "5b77ad66-d3c4-44e8-a139-4228eca31112"
      },
      "execution_count": null,
      "outputs": [
        {
          "output_type": "execute_result",
          "data": {
            "text/plain": [
              "'@#2_#]&*^%$'"
            ],
            "application/vnd.google.colaboratory.intrinsic+json": {
              "type": "string"
            }
          },
          "metadata": {},
          "execution_count": 5
        }
      ]
    },
    {
      "cell_type": "code",
      "source": [
        "# print the string \n",
        "print(\"hello\")"
      ],
      "metadata": {
        "colab": {
          "base_uri": "https://localhost:8080/"
        },
        "id": "RnUDC6lM8zoP",
        "outputId": "3b393c4d-1241-4914-c673-d70ffafa509c"
      },
      "execution_count": null,
      "outputs": [
        {
          "output_type": "stream",
          "name": "stdout",
          "text": [
            "hello\n"
          ]
        }
      ]
    },
    {
      "cell_type": "code",
      "source": [
        "# Assign string to variable \n",
        "Name = \"Michael Jackson\"\n",
        "Name"
      ],
      "metadata": {
        "colab": {
          "base_uri": "https://localhost:8080/",
          "height": 35
        },
        "id": "nS1bwajC-CqX",
        "outputId": "cc68859d-fee2-4f0d-b932-326fa034eaa2"
      },
      "execution_count": null,
      "outputs": [
        {
          "output_type": "execute_result",
          "data": {
            "text/plain": [
              "'Michael Jackson'"
            ],
            "application/vnd.google.colaboratory.intrinsic+json": {
              "type": "string"
            }
          },
          "metadata": {},
          "execution_count": 1
        }
      ]
    },
    {
      "cell_type": "markdown",
      "source": [
        "### Indexing "
      ],
      "metadata": {
        "id": "XBf1DUgx-Q9v"
      }
    },
    {
      "cell_type": "code",
      "source": [
        "# Strings are ordered sequence of characters. Each element/character is accessed using an index represented by the array of numbers. "
      ],
      "metadata": {
        "id": "8fm77Cyj-Mpx"
      },
      "execution_count": null,
      "outputs": []
    },
    {
      "cell_type": "code",
      "source": [
        "# Indexing starts with index 0, it means first element is on the index 0."
      ],
      "metadata": {
        "id": "WMMzepsU-T_x"
      },
      "execution_count": null,
      "outputs": []
    },
    {
      "cell_type": "code",
      "source": [
        "# Print the first element in the string\n",
        "print(Name[0])"
      ],
      "metadata": {
        "colab": {
          "base_uri": "https://localhost:8080/"
        },
        "id": "66-IhKWpeOLl",
        "outputId": "fec6e2b2-d399-429f-d410-1bf5d4d1c8fe"
      },
      "execution_count": null,
      "outputs": [
        {
          "output_type": "stream",
          "name": "stdout",
          "text": [
            "M\n"
          ]
        }
      ]
    },
    {
      "cell_type": "code",
      "source": [
        "# Print the element on the index 6 in the string\n",
        "print(Name[6])"
      ],
      "metadata": {
        "colab": {
          "base_uri": "https://localhost:8080/"
        },
        "id": "m1eqM5ebebI5",
        "outputId": "a2904ff5-31f5-48d7-e136-d54b90b11a9b"
      },
      "execution_count": null,
      "outputs": [
        {
          "output_type": "stream",
          "name": "stdout",
          "text": [
            "l\n"
          ]
        }
      ]
    },
    {
      "cell_type": "code",
      "source": [
        "# Print the element on the index 13 in the string\n",
        "print(Name[13])"
      ],
      "metadata": {
        "colab": {
          "base_uri": "https://localhost:8080/"
        },
        "id": "UlZIr0szeps9",
        "outputId": "3ac7a1b5-19eb-4770-8b25-b22418114b11"
      },
      "execution_count": null,
      "outputs": [
        {
          "output_type": "stream",
          "name": "stdout",
          "text": [
            "o\n"
          ]
        }
      ]
    },
    {
      "cell_type": "markdown",
      "source": [
        "#### Negative Indexing"
      ],
      "metadata": {
        "id": "x1pJ9lC_e-TS"
      }
    },
    {
      "cell_type": "code",
      "source": [
        "# Negative indexing helps to count the element from end of the string.\n",
        "# The last element is given by index -1 "
      ],
      "metadata": {
        "id": "bMNyZW6ae2OS"
      },
      "execution_count": null,
      "outputs": []
    },
    {
      "cell_type": "code",
      "source": [
        "# Print the last element of the string\n",
        "print(Name[-1])"
      ],
      "metadata": {
        "colab": {
          "base_uri": "https://localhost:8080/"
        },
        "id": "7W7uauX4fQQE",
        "outputId": "7ac25e54-5ec5-416b-a749-36d8b62550b0"
      },
      "execution_count": null,
      "outputs": [
        {
          "output_type": "stream",
          "name": "stdout",
          "text": [
            "n\n"
          ]
        }
      ]
    },
    {
      "cell_type": "code",
      "source": [
        "# Print the first element in the string\n",
        "print(Name[-15])"
      ],
      "metadata": {
        "colab": {
          "base_uri": "https://localhost:8080/"
        },
        "id": "rSVZ3nHRfije",
        "outputId": "96bf5830-3da4-47ab-ceaa-820806ea9a39"
      },
      "execution_count": null,
      "outputs": [
        {
          "output_type": "stream",
          "name": "stdout",
          "text": [
            "M\n"
          ]
        }
      ]
    },
    {
      "cell_type": "code",
      "source": [
        "# Find the length of the string (number of characters in the string)\n",
        "len(\"Michael Jackson\")"
      ],
      "metadata": {
        "colab": {
          "base_uri": "https://localhost:8080/"
        },
        "id": "cpE2iPBUfu8f",
        "outputId": "8861563a-7b99-4043-b219-0006cf0951ef"
      },
      "execution_count": null,
      "outputs": [
        {
          "output_type": "execute_result",
          "data": {
            "text/plain": [
              "15"
            ]
          },
          "metadata": {},
          "execution_count": 10
        }
      ]
    },
    {
      "cell_type": "markdown",
      "source": [
        "### Slicing"
      ],
      "metadata": {
        "id": "icS86EGRiCiP"
      }
    },
    {
      "cell_type": "code",
      "source": [
        "# Slicing used to obtain multiple characters from a string.\n",
        "# When taking the slicing, first number(starts at 0) means index, and the second number(starts at 1) means ending last element from the index\n",
        "# Also second number element not included in slice. "
      ],
      "metadata": {
        "id": "hS5IBJPsh97y"
      },
      "execution_count": null,
      "outputs": []
    },
    {
      "cell_type": "code",
      "source": [
        "# Take the slice on variable Name with only index 0 to index 3\n",
        "Name[0:4]"
      ],
      "metadata": {
        "colab": {
          "base_uri": "https://localhost:8080/",
          "height": 35
        },
        "id": "KMIJsefqjfJw",
        "outputId": "41c42e89-cf03-4e2c-d16e-51219a8c9bf0"
      },
      "execution_count": null,
      "outputs": [
        {
          "output_type": "execute_result",
          "data": {
            "text/plain": [
              "'Mich'"
            ],
            "application/vnd.google.colaboratory.intrinsic+json": {
              "type": "string"
            }
          },
          "metadata": {},
          "execution_count": 12
        }
      ]
    },
    {
      "cell_type": "code",
      "source": [
        "# Slice variable Name from index 8 to 12\n",
        "Name[8:12]"
      ],
      "metadata": {
        "colab": {
          "base_uri": "https://localhost:8080/",
          "height": 35
        },
        "id": "j_ufvB42jszL",
        "outputId": "042c9b6d-b793-418f-9d41-ca38f0e4166b"
      },
      "execution_count": null,
      "outputs": [
        {
          "output_type": "execute_result",
          "data": {
            "text/plain": [
              "'Jack'"
            ],
            "application/vnd.google.colaboratory.intrinsic+json": {
              "type": "string"
            }
          },
          "metadata": {},
          "execution_count": 13
        }
      ]
    },
    {
      "cell_type": "markdown",
      "source": [
        "#### Stride\n"
      ],
      "metadata": {
        "id": "q3xqAbEOkv4A"
      }
    },
    {
      "cell_type": "code",
      "source": [
        "# Striding is hoping with indicated skips(skipped numbers). \n",
        "# It is third/last part of slicing."
      ],
      "metadata": {
        "id": "k3n8VCwgkQ5d"
      },
      "execution_count": null,
      "outputs": []
    },
    {
      "cell_type": "code",
      "source": [
        "# Get every second element. The elements on index 0, 2, 4, 6,...\n",
        "Name[::2]"
      ],
      "metadata": {
        "colab": {
          "base_uri": "https://localhost:8080/",
          "height": 35
        },
        "id": "3XbT3evolDdv",
        "outputId": "8cf7d2bc-1649-4b01-ec30-c133b5876703"
      },
      "execution_count": null,
      "outputs": [
        {
          "output_type": "execute_result",
          "data": {
            "text/plain": [
              "'McalJcsn'"
            ],
            "application/vnd.google.colaboratory.intrinsic+json": {
              "type": "string"
            }
          },
          "metadata": {},
          "execution_count": 15
        }
      ]
    },
    {
      "cell_type": "code",
      "source": [
        "# Combining Stride and Slicing \n",
        "# Get every second element in the range from index 0 to 4\n",
        "Name[0:5:2]"
      ],
      "metadata": {
        "colab": {
          "base_uri": "https://localhost:8080/",
          "height": 35
        },
        "id": "nUhxKtiulQo7",
        "outputId": "add493e3-3b45-4fca-e4a6-d023fd64e83c"
      },
      "execution_count": null,
      "outputs": [
        {
          "output_type": "execute_result",
          "data": {
            "text/plain": [
              "'Mca'"
            ],
            "application/vnd.google.colaboratory.intrinsic+json": {
              "type": "string"
            }
          },
          "metadata": {},
          "execution_count": 16
        }
      ]
    },
    {
      "cell_type": "markdown",
      "source": [
        "#### Concatenate Strings "
      ],
      "metadata": {
        "id": "uck3wdB-l0un"
      }
    },
    {
      "cell_type": "code",
      "source": [
        "# Combining Strings using addition symbol\n",
        "Statement = Name + \" is the best\"\n",
        "Statement "
      ],
      "metadata": {
        "colab": {
          "base_uri": "https://localhost:8080/",
          "height": 35
        },
        "id": "JPX1350qlwaj",
        "outputId": "3a8efc02-e0a8-49f5-c94c-01e54b6b45fd"
      },
      "execution_count": null,
      "outputs": [
        {
          "output_type": "execute_result",
          "data": {
            "text/plain": [
              "'Michael Jackson is the best'"
            ],
            "application/vnd.google.colaboratory.intrinsic+json": {
              "type": "string"
            }
          },
          "metadata": {},
          "execution_count": 18
        }
      ]
    },
    {
      "cell_type": "code",
      "source": [
        "# Replicate the values of the string. Multiply the string with number of times to replicate it.\n",
        "# Print the string for 3 times\n",
        "3 * \"Michael Jackson\""
      ],
      "metadata": {
        "colab": {
          "base_uri": "https://localhost:8080/",
          "height": 35
        },
        "id": "77chjlq7mMsT",
        "outputId": "ae516de8-fbca-401e-fddd-bd2bb6d806d9"
      },
      "execution_count": null,
      "outputs": [
        {
          "output_type": "execute_result",
          "data": {
            "text/plain": [
              "'Michael JacksonMichael JacksonMichael Jackson'"
            ],
            "application/vnd.google.colaboratory.intrinsic+json": {
              "type": "string"
            }
          },
          "metadata": {},
          "execution_count": 19
        }
      ]
    },
    {
      "cell_type": "code",
      "source": [
        "# Create new string using the original variable and concatenated with a new string.\n",
        "# Concatenated string\n",
        "\n",
        "Name = \"Michael Jackson\"\n",
        "Name = Name + \"is the best\"\n",
        "Name"
      ],
      "metadata": {
        "colab": {
          "base_uri": "https://localhost:8080/",
          "height": 35
        },
        "id": "DTEGhWiImrFx",
        "outputId": "3cc7e6a9-df54-49d0-90b6-43f473c0127c"
      },
      "execution_count": null,
      "outputs": [
        {
          "output_type": "execute_result",
          "data": {
            "text/plain": [
              "'Michael Jacksonis the best'"
            ],
            "application/vnd.google.colaboratory.intrinsic+json": {
              "type": "string"
            }
          },
          "metadata": {},
          "execution_count": 20
        }
      ]
    },
    {
      "cell_type": "markdown",
      "source": [
        "### Escape Sequences"
      ],
      "metadata": {
        "id": "R6yf6CNXt_a0"
      }
    },
    {
      "cell_type": "code",
      "source": [
        "# Back slash represent the beginning of the escape sequences. It represent the strings that may be difficult to input.\n",
        "# For e.g. \"\\n\" represents new line"
      ],
      "metadata": {
        "id": "qqPaJ9oFtyfI"
      },
      "execution_count": null,
      "outputs": []
    },
    {
      "cell_type": "code",
      "source": [
        "# New line escape sequence\n",
        "print(\"Michael Jackson \\n is the best\")"
      ],
      "metadata": {
        "colab": {
          "base_uri": "https://localhost:8080/"
        },
        "id": "OjHbDCdyukdm",
        "outputId": "f63833db-3c1d-4074-a189-7ea3e201920d"
      },
      "execution_count": null,
      "outputs": [
        {
          "output_type": "stream",
          "name": "stdout",
          "text": [
            "Michael Jackson \n",
            " is the best\n"
          ]
        }
      ]
    },
    {
      "cell_type": "code",
      "source": [
        "# Tab escape sequence (\"\\t\")\n",
        "print(\"Michael Jackson \\t is the best\")"
      ],
      "metadata": {
        "colab": {
          "base_uri": "https://localhost:8080/"
        },
        "id": "dbkg8ZN9uvT5",
        "outputId": "7cc99372-9fe8-496c-fa53-21723dfdc670"
      },
      "execution_count": null,
      "outputs": [
        {
          "output_type": "stream",
          "name": "stdout",
          "text": [
            "Michael Jackson \t is the best\n"
          ]
        }
      ]
    },
    {
      "cell_type": "code",
      "source": [
        "# Include back slash in the string (using double back slash)\n",
        "print(\"Michael Jackson \\\\ is the best\")"
      ],
      "metadata": {
        "colab": {
          "base_uri": "https://localhost:8080/"
        },
        "id": "MHBYquGsu9G5",
        "outputId": "65fa7b13-c833-4227-ac20-6f17ce670c5b"
      },
      "execution_count": null,
      "outputs": [
        {
          "output_type": "stream",
          "name": "stdout",
          "text": [
            "Michael Jackson \\ is the best\n"
          ]
        }
      ]
    },
    {
      "cell_type": "code",
      "source": [
        "# r used before string displays the string as raw string.\n",
        "# place r before string to display the backslash\n",
        "print(r\"Michael Jackson \\ is the best\")"
      ],
      "metadata": {
        "colab": {
          "base_uri": "https://localhost:8080/"
        },
        "id": "foIEP-ugvJYO",
        "outputId": "25261443-42d5-4023-ec67-de335c210376"
      },
      "execution_count": null,
      "outputs": [
        {
          "output_type": "stream",
          "name": "stdout",
          "text": [
            "Michael Jackson \\ is the best\n"
          ]
        }
      ]
    },
    {
      "cell_type": "markdown",
      "source": [
        "### String Operations"
      ],
      "metadata": {
        "id": "tJhNwCAz7H__"
      }
    },
    {
      "cell_type": "code",
      "source": [
        "# Convert all the characters of the string in upper case\n",
        "\n",
        "A = \"Thriller is the sixth studio album\"\n",
        "print(\"before upper: \",A)\n",
        "B = A.upper()\n",
        "print(\"after upper: \",B)"
      ],
      "metadata": {
        "colab": {
          "base_uri": "https://localhost:8080/"
        },
        "id": "uOgEBeudv04-",
        "outputId": "1d0524c2-6d66-4d33-e551-33bd6879e639"
      },
      "execution_count": null,
      "outputs": [
        {
          "output_type": "stream",
          "name": "stdout",
          "text": [
            "before upper:  Thriller is the sixth studio album\n",
            "after upper:  THRILLER IS THE SIXTH STUDIO ALBUM\n"
          ]
        }
      ]
    },
    {
      "cell_type": "code",
      "source": [
        "# Replace the old substring with new target substring, if the character segment is found in the string\n",
        "A = \"Michael Jackson is the best\"\n",
        "B = A.replace(\"Michael\", \"Jannet\")\n",
        "B"
      ],
      "metadata": {
        "colab": {
          "base_uri": "https://localhost:8080/",
          "height": 35
        },
        "id": "Nf0qxfOI7yw5",
        "outputId": "d2a3d139-cbf2-45d2-f93e-c7eb4e983d6f"
      },
      "execution_count": null,
      "outputs": [
        {
          "output_type": "execute_result",
          "data": {
            "text/plain": [
              "'Jannet Jackson is the best'"
            ],
            "application/vnd.google.colaboratory.intrinsic+json": {
              "type": "string"
            }
          },
          "metadata": {},
          "execution_count": 28
        }
      ]
    },
    {
      "cell_type": "code",
      "source": [
        "# Replace the old substring with new target substring by removing some punctuations.\n",
        "a = \"Hello! Michael Jackson has: 12 characters.\"\n",
        "print(\"Before replacing punctuations:\\n\",a)\n",
        "a = a.replace(\"!\",\"\").replace(\":\",\"\").replace(\".\",\"\")\n",
        "print(\"After replacing punctuations:\\n\",a)"
      ],
      "metadata": {
        "colab": {
          "base_uri": "https://localhost:8080/"
        },
        "id": "eaKv1mXQateg",
        "outputId": "909c1871-e7ed-4014-9845-df68be8553d5"
      },
      "execution_count": null,
      "outputs": [
        {
          "output_type": "stream",
          "name": "stdout",
          "text": [
            "Before replacing punctuations:\n",
            " Hello! Michael Jackson has: 12 characters.\n",
            "After replacing punctuations:\n",
            " Hello Michael Jackson has 12 characters\n"
          ]
        }
      ]
    },
    {
      "cell_type": "code",
      "source": [
        "# Find the substring in the string. Only the index of the first element of substring in string is output.\n",
        "Name = \"Michael Jackson\"\n",
        "Name.find(\"el\")"
      ],
      "metadata": {
        "colab": {
          "base_uri": "https://localhost:8080/"
        },
        "id": "zuyjhwrY8iHU",
        "outputId": "e84be78f-0ef2-450e-f42c-b49e7461319c"
      },
      "execution_count": null,
      "outputs": [
        {
          "output_type": "execute_result",
          "data": {
            "text/plain": [
              "5"
            ]
          },
          "metadata": {},
          "execution_count": 29
        }
      ]
    },
    {
      "cell_type": "code",
      "source": [
        "# Find the substring in the string \n",
        "Name.find(\"Jack\")"
      ],
      "metadata": {
        "colab": {
          "base_uri": "https://localhost:8080/"
        },
        "id": "EEeLJ6En9E-u",
        "outputId": "9cd3f096-44b3-468d-c5ea-33409eeb3662"
      },
      "execution_count": null,
      "outputs": [
        {
          "output_type": "execute_result",
          "data": {
            "text/plain": [
              "8"
            ]
          },
          "metadata": {},
          "execution_count": 30
        }
      ]
    },
    {
      "cell_type": "code",
      "source": [
        "# If cannot find the substring in string, then return -1\n",
        "Name  = \"Michael Jackson\"\n",
        "Name.find(\"Jadsafg\") "
      ],
      "metadata": {
        "colab": {
          "base_uri": "https://localhost:8080/"
        },
        "id": "kTDMbnw89OEr",
        "outputId": "0a312d73-aac0-4162-84bd-1cc3222cb89c"
      },
      "execution_count": null,
      "outputs": [
        {
          "output_type": "execute_result",
          "data": {
            "text/plain": [
              "-1"
            ]
          },
          "metadata": {},
          "execution_count": 31
        }
      ]
    },
    {
      "cell_type": "code",
      "source": [
        "# split() : splits the string at specified seperator and returns a list\n",
        "# Split the  substring into list\n",
        "name = \"Michael Jackson\"\n",
        "split_name = name.split()\n",
        "split_name"
      ],
      "metadata": {
        "colab": {
          "base_uri": "https://localhost:8080/"
        },
        "id": "5v3kGUwNbwen",
        "outputId": "71330766-1771-4aaf-f795-af61f7631336"
      },
      "execution_count": 1,
      "outputs": [
        {
          "output_type": "execute_result",
          "data": {
            "text/plain": [
              "['Michael', 'Jackson']"
            ]
          },
          "metadata": {},
          "execution_count": 1
        }
      ]
    },
    {
      "cell_type": "markdown",
      "source": [
        "#### RegEx\n",
        "###### short for Regular Expression : python tool to match and handling strings.\n",
        "###### RegEx module provides for several functions for regular expressions, including search, split, findall, and sub.\n",
        "###### Python built-in module for RegEx is re. "
      ],
      "metadata": {
        "id": "EFaJVJd3cRoU"
      }
    },
    {
      "cell_type": "code",
      "source": [
        "# Import Regex module\n",
        "import re"
      ],
      "metadata": {
        "id": "1KA_nHxPcPRg"
      },
      "execution_count": 3,
      "outputs": []
    },
    {
      "cell_type": "code",
      "source": [
        "# search() function: searches for specified patterns within a string."
      ],
      "metadata": {
        "id": "0MUk3BNdcROx"
      },
      "execution_count": 4,
      "outputs": []
    },
    {
      "cell_type": "code",
      "source": [
        "# Steps to search for \"Jackson\" in \"Michael Jackson is the best\" using search() of re module.\n",
        "text = \"Michael Jackson is the best\"\n",
        "\n",
        "# Define the pattern to search for \n",
        "pattern = r\"Jackson\"\n",
        "\n",
        "# Use search() function to search for the pattern in the string\n",
        "result = re.search(pattern, text)\n",
        "\n",
        "# Check if a match was found\n",
        "if result:\n",
        "  print(\"Match found!\", result)\n",
        "else:\n",
        "    print(\"Match not found.\", result)"
      ],
      "metadata": {
        "colab": {
          "base_uri": "https://localhost:8080/"
        },
        "id": "k9e6HrLKdOkc",
        "outputId": "3e61c34b-4f01-4d76-804b-62eb7e12f5fe"
      },
      "execution_count": 5,
      "outputs": [
        {
          "output_type": "stream",
          "name": "stdout",
          "text": [
            "Match found! <re.Match object; span=(8, 15), match='Jackson'>\n"
          ]
        }
      ]
    },
    {
      "cell_type": "markdown",
      "source": [
        "###### RegEx(Regular Expressions) : patterns used to match and manipulate strings of the text."
      ],
      "metadata": {
        "id": "Jt32QtKafVPH"
      }
    },
    {
      "cell_type": "code",
      "source": [
        "# Special Sequences to match specific characters or patterns.\n",
        "\n",
        "# \\d : matches any digit character (0-9)\n",
        "# text = \"123\"\n",
        "# pattern = r\"\\d\\d\\d\"\n",
        "\n",
        "# \\D : matches any non-digit character \n",
        "# text = \"hello\"\n",
        "# pattern = r\"\\D\\D\\D\\D\\D\"\n",
        "\n",
        "# \\w : matches any word character (a-z, A-Z, 0-9, _)\n",
        "# text = \"hello\"\n",
        "# pattern = r\"\\w\\w\\w\\w\\w\"\n",
        "\n",
        "# \\W : matches any non-word character (special characters)\n",
        "# text = \"$#@%\"\n",
        "# pattern = r\"\\W\\W\\W\\W\"\n",
        "\n",
        "# \\s : matches any whitespace character (space, tab, newline, etc)\n",
        "# text = \"hello world\"\n",
        "# pattern = r\"\\w\\w\\w\\w\\w\\s\\w\\w\\w\\w\\w\"\n",
        "\n",
        "# \\S : matches any non-whitespace character\n",
        "# text = \"hello_world\"\n",
        "# pattern = r\"\\S\\S\\S\\S\\S\\S\\S\\S\\S\\S\\S\"\n",
        "\n",
        "# \\b : matches any boundary between a word and a non-word character (matches empty string, but only at beginning or end of a word)\n",
        "# text  = \"The cat sat on the mat\"\n",
        "# pattern = r\"\\bcat\\b\"\n",
        "\n",
        "# \\B : matches any position that is not a word boundary (matches empty string, but not at beginning or end of a word)\n",
        "text  = \"The cat sat on the mat\"\n",
        "# text = \"category\" \n",
        "pattern = r\"cat\\B\"\n",
        "\n",
        "result = re.search(pattern, text)\n",
        "#Check for matched pattern. \n",
        "if result:\n",
        "  print(\"Match found!\", result)\n",
        "else:\n",
        "  print(\"Match not found.\", result)"
      ],
      "metadata": {
        "colab": {
          "base_uri": "https://localhost:8080/"
        },
        "id": "rzLB0IiAf1x7",
        "outputId": "bd2a6adf-a0fa-4e32-b693-3ab613300337"
      },
      "execution_count": 6,
      "outputs": [
        {
          "output_type": "stream",
          "name": "stdout",
          "text": [
            "Match not found. None\n"
          ]
        }
      ]
    },
    {
      "cell_type": "code",
      "source": [
        "# Special Sequence Examples"
      ],
      "metadata": {
        "id": "nHyla2KlefjR"
      },
      "execution_count": 7,
      "outputs": []
    },
    {
      "cell_type": "code",
      "source": [
        "# using \\d special sequence  in a regular expression pattern\n",
        "pattern = r\"\\d\\d\\d\\d\\d\\d\\d\\d\\d\\d\" # Matches any ten consecutive digits.\n",
        "text = \"My Phone number is 1234567890\"\n",
        "m = re.search(pattern, text) # search for first such pattern in text\n",
        "\n",
        "if m :\n",
        "  print(\"Phone number found:\", m.group())\n",
        "else: \n",
        "  print(\"Phone number not found.\")\n"
      ],
      "metadata": {
        "colab": {
          "base_uri": "https://localhost:8080/"
        },
        "id": "Ts_WbeDvfUjt",
        "outputId": "07d3c743-df48-49a4-c0a6-67912631aee4"
      },
      "execution_count": 8,
      "outputs": [
        {
          "output_type": "stream",
          "name": "stdout",
          "text": [
            "Phone number found: 1234567890\n"
          ]
        }
      ]
    },
    {
      "cell_type": "code",
      "source": [
        "# using \\W special sequence in a regular expression pattern \n",
        "pattern = r\"\\W\" # Matches any non-word character\n",
        "text = \"Hello! World.\"\n",
        "matches = re.findall(pattern, text) # find all such pattern in text \n",
        "\n",
        "print(\"Matches: \", matches)\n"
      ],
      "metadata": {
        "colab": {
          "base_uri": "https://localhost:8080/"
        },
        "id": "9p7-Z_f5mug9",
        "outputId": "5bc389da-15ab-41e3-d6cd-bb743e022e56"
      },
      "execution_count": null,
      "outputs": [
        {
          "output_type": "stream",
          "name": "stdout",
          "text": [
            "Matches:  ['!', ' ', '.']\n"
          ]
        }
      ]
    },
    {
      "cell_type": "markdown",
      "source": [
        "###### RegEx's findall() function finds all occurences of specified pattern within a string."
      ],
      "metadata": {
        "id": "9M81DbHwyiNh"
      }
    },
    {
      "cell_type": "code",
      "source": [
        "s2 = \"Michael Jackson was a singer and known as the 'King of Pop'\"\n",
        "\n",
        "# use findall() function to find all occurences of \"as\" in the string.\n",
        "result = re.findall(\"as\",s2)\n",
        "\n",
        "# Print out the list of matched words\n",
        "print(result)"
      ],
      "metadata": {
        "colab": {
          "base_uri": "https://localhost:8080/"
        },
        "id": "0rHYoynuy9HX",
        "outputId": "3acd4d80-71c7-4b65-b1ce-c0705919c86f"
      },
      "execution_count": null,
      "outputs": [
        {
          "output_type": "stream",
          "name": "stdout",
          "text": [
            "['as', 'as']\n"
          ]
        }
      ]
    },
    {
      "cell_type": "markdown",
      "source": [
        "###### RegEx's split() function splits a string into an array of substring based on a specific pattern."
      ],
      "metadata": {
        "id": "Tspw01UOGTPF"
      }
    },
    {
      "cell_type": "code",
      "source": [
        "# Use split() function to split the string by \"\\s\"\n",
        "split_array = re.split(\"\\s\", s2)\n",
        "\n",
        "# split_array contains all the substrings, split by whitespace characters\n",
        "print(split_array)"
      ],
      "metadata": {
        "colab": {
          "base_uri": "https://localhost:8080/"
        },
        "id": "pZ3nhjSNGSgI",
        "outputId": "f93bec85-433b-489f-e613-0b9632eb5647"
      },
      "execution_count": null,
      "outputs": [
        {
          "output_type": "stream",
          "name": "stdout",
          "text": [
            "['Michael', 'Jackson', 'was', 'a', 'singer', 'and', 'known', 'as', 'the', \"'King\", 'of', \"Pop'\"]\n"
          ]
        }
      ]
    },
    {
      "cell_type": "markdown",
      "source": [
        "###### RegEx's sub() function is used to replace all occurrences of a pattern in a string with a specified replacement\n"
      ],
      "metadata": {
        "id": "AgIKOP3JJiI3"
      }
    },
    {
      "cell_type": "code",
      "source": [
        "s2 = \"Michael Jackson was a singer and known as the 'King of Pop'\"\n",
        "\n",
        "# Define the regular expression pattern to search for\n",
        "pattern = r\"King of Pop\"\n",
        "\n",
        "# Define the replacement string\n",
        "replacement = \"legend\"\n",
        "\n",
        "# Use the sub function to replace the pattern with the replacement string\n",
        "new_string = re.sub(pattern, replacement, s2, flags= re.IGNORECASE)\n",
        "\n",
        "# Print the new string obtained by replacing the pattern by replacement string in original string\n",
        "print(new_string)"
      ],
      "metadata": {
        "colab": {
          "base_uri": "https://localhost:8080/"
        },
        "id": "eAUbT5uIqVmr",
        "outputId": "957fb48b-bab9-4cbc-dc5b-470951022e2f"
      },
      "execution_count": 11,
      "outputs": [
        {
          "output_type": "stream",
          "name": "stdout",
          "text": [
            "Michael Jackson was a singer and known as the 'legend'\n"
          ]
        }
      ]
    },
    {
      "cell_type": "markdown",
      "source": [
        "### Exercise"
      ],
      "metadata": {
        "id": "fdwSduM29yZC"
      }
    },
    {
      "cell_type": "code",
      "source": [
        "  # Value of A\n",
        "  A = \"1\"\n",
        "  print(A)  "
      ],
      "metadata": {
        "colab": {
          "base_uri": "https://localhost:8080/"
        },
        "id": "82GXQFTN9mt4",
        "outputId": "3fd94212-d18e-4561-e6ca-6a41a900ed66"
      },
      "execution_count": null,
      "outputs": [
        {
          "output_type": "stream",
          "name": "stdout",
          "text": [
            "1\n"
          ]
        }
      ]
    },
    {
      "cell_type": "code",
      "source": [
        "# Value of B\n",
        "B = \"2\"\n",
        "print(B)"
      ],
      "metadata": {
        "colab": {
          "base_uri": "https://localhost:8080/"
        },
        "id": "ZEhiyruz9-Of",
        "outputId": "90812fe8-bc25-4dc9-c532-c2af8ca480db"
      },
      "execution_count": null,
      "outputs": [
        {
          "output_type": "stream",
          "name": "stdout",
          "text": [
            "2\n"
          ]
        }
      ]
    },
    {
      "cell_type": "code",
      "source": [
        "# Value of C\n",
        "C = A + B\n",
        "print(C)"
      ],
      "metadata": {
        "colab": {
          "base_uri": "https://localhost:8080/"
        },
        "id": "XOINkVQK-OyY",
        "outputId": "e05d4fc6-02c1-487c-f798-a0a02b30f446"
      },
      "execution_count": null,
      "outputs": [
        {
          "output_type": "stream",
          "name": "stdout",
          "text": [
            "12\n"
          ]
        }
      ]
    },
    {
      "cell_type": "code",
      "source": [
        "# Print first three elements of variable D\n",
        "D = \"ABCDEFG\"\n",
        "print(D[0:3])\n",
        "# or\n",
        "# print(D[:3])"
      ],
      "metadata": {
        "colab": {
          "base_uri": "https://localhost:8080/"
        },
        "id": "SI6YqsIJ-law",
        "outputId": "6270dd39-60bf-44c9-f10a-7fd16d129d16"
      },
      "execution_count": null,
      "outputs": [
        {
          "output_type": "stream",
          "name": "stdout",
          "text": [
            "ABC\n"
          ]
        }
      ]
    },
    {
      "cell_type": "code",
      "source": [
        "# Use stride of 2 to print every 2nd character of the string\n",
        "E = \"clockr1e1c1t\"\n",
        "print(E[::2])"
      ],
      "metadata": {
        "colab": {
          "base_uri": "https://localhost:8080/"
        },
        "id": "j3ahQWKI-9-B",
        "outputId": "4d35f1dc-6ef2-4bd6-ffd4-d2606796f8b8"
      },
      "execution_count": null,
      "outputs": [
        {
          "output_type": "stream",
          "name": "stdout",
          "text": [
            "cok111\n"
          ]
        }
      ]
    },
    {
      "cell_type": "code",
      "source": [
        "# Print a backslash\n",
        "print(\"\\\\\")\n",
        "# print(r\"\\ \")"
      ],
      "metadata": {
        "colab": {
          "base_uri": "https://localhost:8080/"
        },
        "id": "V2sbgarB_eOX",
        "outputId": "f753aedb-32f1-41a7-a794-4b55c9077a28"
      },
      "execution_count": 12,
      "outputs": [
        {
          "output_type": "stream",
          "name": "stdout",
          "text": [
            "\\\n"
          ]
        }
      ]
    },
    {
      "cell_type": "code",
      "source": [
        "# Convert to F upper case \n",
        "F = \"You are wrong\"\n",
        "F.upper()"
      ],
      "metadata": {
        "colab": {
          "base_uri": "https://localhost:8080/",
          "height": 35
        },
        "id": "jiuczQ3G_ved",
        "outputId": "26c7751f-f551-455f-d91e-c2e1d4ae6967"
      },
      "execution_count": null,
      "outputs": [
        {
          "output_type": "execute_result",
          "data": {
            "text/plain": [
              "'YOU ARE WRONG'"
            ],
            "application/vnd.google.colaboratory.intrinsic+json": {
              "type": "string"
            }
          },
          "metadata": {},
          "execution_count": 43
        }
      ]
    },
    {
      "cell_type": "code",
      "source": [
        "# Convert f2 to lower case\n",
        "f2 = \"YOU ARE RIGHT\" \n",
        "print(f2.lower()) "
      ],
      "metadata": {
        "colab": {
          "base_uri": "https://localhost:8080/"
        },
        "id": "RICLIYw_vkw0",
        "outputId": "37a5de3c-5630-4c21-a237-cd5590d1e6cf"
      },
      "execution_count": 13,
      "outputs": [
        {
          "output_type": "stream",
          "name": "stdout",
          "text": [
            "you are right\n"
          ]
        }
      ]
    },
    {
      "cell_type": "code",
      "source": [
        "# Find first index of substring \"snow\" in variable G\n",
        "G = \"Mary had a little lamb Little lamb, little lamb Mary had a little lamb \\\n",
        "Its fleece was white as snow And everywhere that Mary went Mary went, Mary went \\\n",
        "Everywhere that Mary went The lamb was sure to go\" "
      ],
      "metadata": {
        "id": "khTv8DhPAHVr"
      },
      "execution_count": 15,
      "outputs": []
    },
    {
      "cell_type": "code",
      "source": [
        "G.find(\"snow\")"
      ],
      "metadata": {
        "colab": {
          "base_uri": "https://localhost:8080/"
        },
        "id": "JlCE9NsAAcBs",
        "outputId": "b71ecde9-7434-445d-c6d6-2bf8283070de"
      },
      "execution_count": 16,
      "outputs": [
        {
          "output_type": "execute_result",
          "data": {
            "text/plain": [
              "95"
            ]
          },
          "metadata": {},
          "execution_count": 16
        }
      ]
    },
    {
      "cell_type": "code",
      "source": [
        "# In variable G replace \"Mary\" with \"Bob\"\n",
        "G.replace(\"Mary\",\"Bob\")"
      ],
      "metadata": {
        "colab": {
          "base_uri": "https://localhost:8080/",
          "height": 53
        },
        "id": "98Jriwy6AhHi",
        "outputId": "1dbbda05-7827-474c-b03e-21367de02272"
      },
      "execution_count": 17,
      "outputs": [
        {
          "output_type": "execute_result",
          "data": {
            "text/plain": [
              "'Bob had a little lamb Little lamb, little lamb Bob had a little lamb Its fleece was white as snow And everywhere that Bob went Bob went, Bob went Everywhere that Bob went The lamb was sure to go'"
            ],
            "application/vnd.google.colaboratory.intrinsic+json": {
              "type": "string"
            }
          },
          "metadata": {},
          "execution_count": 17
        }
      ]
    },
    {
      "cell_type": "code",
      "source": [
        "# In variable G replace , with .\n",
        "G.replace(\",\",\".\")"
      ],
      "metadata": {
        "id": "4tbVVvZRA1dy",
        "colab": {
          "base_uri": "https://localhost:8080/",
          "height": 53
        },
        "outputId": "9fe6da84-47ad-4f34-d2cb-083abe2a3668"
      },
      "execution_count": 18,
      "outputs": [
        {
          "output_type": "execute_result",
          "data": {
            "text/plain": [
              "'Mary had a little lamb Little lamb. little lamb Mary had a little lamb Its fleece was white as snow And everywhere that Mary went Mary went. Mary went Everywhere that Mary went The lamb was sure to go'"
            ],
            "application/vnd.google.colaboratory.intrinsic+json": {
              "type": "string"
            }
          },
          "metadata": {},
          "execution_count": 18
        }
      ]
    },
    {
      "cell_type": "code",
      "source": [
        "# In variable G, split the substring to list\n",
        "print(G.split())"
      ],
      "metadata": {
        "colab": {
          "base_uri": "https://localhost:8080/"
        },
        "id": "UGvIl_2awCOB",
        "outputId": "91fb5bcd-16dc-44f3-c1c6-740e86c2119e"
      },
      "execution_count": 19,
      "outputs": [
        {
          "output_type": "stream",
          "name": "stdout",
          "text": [
            "['Mary', 'had', 'a', 'little', 'lamb', 'Little', 'lamb,', 'little', 'lamb', 'Mary', 'had', 'a', 'little', 'lamb', 'Its', 'fleece', 'was', 'white', 'as', 'snow', 'And', 'everywhere', 'that', 'Mary', 'went', 'Mary', 'went,', 'Mary', 'went', 'Everywhere', 'that', 'Mary', 'went', 'The', 'lamb', 'was', 'sure', 'to', 'go']\n"
          ]
        }
      ]
    },
    {
      "cell_type": "code",
      "source": [
        "# In string s3, find the four consecutive digit characters using \"\\d\" and search() function\n",
        "import re\n",
        "s3 = \"House number- 1105\"\n",
        "pattern = r\"\\d\\d\\d\\d\"\n",
        "# Use re.search() function to find \"\\d\\d\\d\\d\" 4 consecutive digits characters in the string\n",
        "result = re.search(pattern, s3)\n",
        "\n",
        "# Check if a match is found\n",
        "if result:\n",
        "  print(\"Digits found: \",result.group())\n",
        "else:\n",
        "  print(\"Digits not found!\")"
      ],
      "metadata": {
        "colab": {
          "base_uri": "https://localhost:8080/"
        },
        "id": "LyP7VO6uwSem",
        "outputId": "0d44d937-17bf-453c-d1a9-200144fb8344"
      },
      "execution_count": 22,
      "outputs": [
        {
          "output_type": "stream",
          "name": "stdout",
          "text": [
            "Digits found:  1105\n"
          ]
        }
      ]
    },
    {
      "cell_type": "code",
      "source": [
        "# In the string str1, replace \"fox\" with \"bear\" using sub() function\n",
        "\n",
        "import re\n",
        "str1= \"The quick brown fox jumps over the lazy dog.\"\n",
        "# Use of re.sub() function to replace \"fox\" with \"bear\"  \n",
        "new_str1 = re.sub(\"fox\",\"bear\",str1,flags = re.IGNORECASE)\n",
        "\n",
        "print(new_str1)"
      ],
      "metadata": {
        "colab": {
          "base_uri": "https://localhost:8080/"
        },
        "id": "82bHLZhLxg80",
        "outputId": "6514ce72-dd01-4ac2-f420-66a84f0a901f"
      },
      "execution_count": 24,
      "outputs": [
        {
          "output_type": "stream",
          "name": "stdout",
          "text": [
            "The quick brown bear jumps over the lazy dog.\n"
          ]
        }
      ]
    },
    {
      "cell_type": "code",
      "source": [
        "# In the str2 find all the occurences of \"woo\" using findall() function\n",
        "\n",
        "import re\n",
        "str2= \"How much wood would a woodchuck chuck, if a woodchuck could chuck wood?\"\n",
        "# Use re.sub() function to find all occurences of \"woo\" in the string str2\n",
        "matches = re.findall(r\"woo\",str2)\n",
        "print(matches)"
      ],
      "metadata": {
        "colab": {
          "base_uri": "https://localhost:8080/"
        },
        "id": "dWO52lSoyX-Z",
        "outputId": "18ede456-60ba-4c26-e14b-1972d2648bdf"
      },
      "execution_count": 25,
      "outputs": [
        {
          "output_type": "stream",
          "name": "stdout",
          "text": [
            "['woo', 'woo', 'woo', 'woo']\n"
          ]
        }
      ]
    },
    {
      "cell_type": "code",
      "source": [],
      "metadata": {
        "id": "GVWUUD22zAxR"
      },
      "execution_count": null,
      "outputs": []
    }
  ]
}