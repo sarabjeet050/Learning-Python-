{
  "nbformat": 4,
  "nbformat_minor": 0,
  "metadata": {
    "colab": {
      "provenance": [],
      "authorship_tag": "ABX9TyOyIZRKq0Lwaky//PdUIbt6",
      "include_colab_link": true
    },
    "kernelspec": {
      "name": "python3",
      "display_name": "Python 3"
    },
    "language_info": {
      "name": "python"
    }
  },
  "cells": [
    {
      "cell_type": "markdown",
      "metadata": {
        "id": "view-in-github",
        "colab_type": "text"
      },
      "source": [
        "<a href=\"https://colab.research.google.com/github/sarabjeet050/Learning_Python/blob/main/2_1_Tuples.ipynb\" target=\"_parent\"><img src=\"https://colab.research.google.com/assets/colab-badge.svg\" alt=\"Open In Colab\"/></a>"
      ]
    },
    {
      "cell_type": "code",
      "execution_count": 2,
      "metadata": {
        "id": "3lgKBsTqeKTe"
      },
      "outputs": [],
      "source": [
        "#### Tuple can contain different types of objects(string, integer, float) in it."
      ]
    },
    {
      "cell_type": "code",
      "source": [
        "# Create first tuple\n",
        "tuple1 = (\"disco\",10,1.2)\n",
        "tuple1"
      ],
      "metadata": {
        "colab": {
          "base_uri": "https://localhost:8080/"
        },
        "id": "hjjR43-KG4z7",
        "outputId": "e9e44069-4daa-4b67-8697-0ed1993c8bb9"
      },
      "execution_count": 3,
      "outputs": [
        {
          "output_type": "execute_result",
          "data": {
            "text/plain": [
              "('disco', 10, 1.2)"
            ]
          },
          "metadata": {},
          "execution_count": 3
        }
      ]
    },
    {
      "cell_type": "code",
      "source": [
        "# Print the type of tuple just created\n",
        "type(tuple1)"
      ],
      "metadata": {
        "colab": {
          "base_uri": "https://localhost:8080/"
        },
        "id": "jM46OtRSHKsy",
        "outputId": "abf6967b-e38a-45dd-8b76-46b6f3bf29ac"
      },
      "execution_count": 4,
      "outputs": [
        {
          "output_type": "execute_result",
          "data": {
            "text/plain": [
              "tuple"
            ]
          },
          "metadata": {},
          "execution_count": 4
        }
      ]
    },
    {
      "cell_type": "markdown",
      "source": [
        "#### Indexing\n",
        "##### Each element of the tuple is accessed using index. Each element can be obtained by the name of the tuple followed by sqaure bracket with index number (which starts from 0 to length-1)"
      ],
      "metadata": {
        "id": "vvKICiCYlO0X"
      }
    },
    {
      "cell_type": "code",
      "source": [
        "# Print the variable on each index\n",
        "print(tuple1[0])\n",
        "print(tuple1[1])\n",
        "print(tuple1[2])"
      ],
      "metadata": {
        "colab": {
          "base_uri": "https://localhost:8080/"
        },
        "id": "N89bzTDMk_as",
        "outputId": "118dbbba-7190-4182-e292-e933f6b9178e"
      },
      "execution_count": 5,
      "outputs": [
        {
          "output_type": "stream",
          "name": "stdout",
          "text": [
            "disco\n",
            "10\n",
            "1.2\n"
          ]
        }
      ]
    },
    {
      "cell_type": "code",
      "source": [
        "# Print the type of value on each index\n",
        "print(type(tuple1[0]))\n",
        "print(type(tuple1[1]))\n",
        "print(type(tuple1[2]))"
      ],
      "metadata": {
        "colab": {
          "base_uri": "https://localhost:8080/"
        },
        "id": "n51XrklvmGpT",
        "outputId": "a1d4b936-5b40-494e-d9bf-6731dace5026"
      },
      "execution_count": 6,
      "outputs": [
        {
          "output_type": "stream",
          "name": "stdout",
          "text": [
            "<class 'str'>\n",
            "<class 'int'>\n",
            "<class 'float'>\n"
          ]
        }
      ]
    },
    {
      "cell_type": "markdown",
      "source": [
        "##### Negative indexing\n",
        "##### It starts with -length of tuple to -1"
      ],
      "metadata": {
        "id": "migtbP0Gmlq7"
      }
    },
    {
      "cell_type": "code",
      "source": [
        "# Use negative index to get the value of the last element\n",
        "print(tuple1[-1])"
      ],
      "metadata": {
        "colab": {
          "base_uri": "https://localhost:8080/"
        },
        "id": "-ju0FIavmanB",
        "outputId": "51f24903-7448-41c5-c7a3-b39fd07b7573"
      },
      "execution_count": 7,
      "outputs": [
        {
          "output_type": "stream",
          "name": "stdout",
          "text": [
            "1.2\n"
          ]
        }
      ]
    },
    {
      "cell_type": "markdown",
      "source": [
        "###### Display the two next elements"
      ],
      "metadata": {
        "id": "rUS1c11PnJEb"
      }
    },
    {
      "cell_type": "code",
      "source": [
        "# Use negative index to get value of second last element\n",
        "print(tuple1[-2])"
      ],
      "metadata": {
        "colab": {
          "base_uri": "https://localhost:8080/"
        },
        "id": "cWFB33cLnBBg",
        "outputId": "c227742a-71f0-410f-c23a-8f63b2e647bb"
      },
      "execution_count": 8,
      "outputs": [
        {
          "output_type": "stream",
          "name": "stdout",
          "text": [
            "10\n"
          ]
        }
      ]
    },
    {
      "cell_type": "code",
      "source": [
        "# Use negative index to get value of third last element\n",
        "print(tuple1[-3])"
      ],
      "metadata": {
        "colab": {
          "base_uri": "https://localhost:8080/"
        },
        "id": "LeOtjmqynezF",
        "outputId": "8dae9aeb-fb52-4ac9-831b-ac60fa036b95"
      },
      "execution_count": 9,
      "outputs": [
        {
          "output_type": "stream",
          "name": "stdout",
          "text": [
            "disco\n"
          ]
        }
      ]
    },
    {
      "cell_type": "markdown",
      "source": [
        "#### Concatenate Tuples\n",
        "###### Concatenate or combine tuples using the + sign"
      ],
      "metadata": {
        "id": "pOaMwVWknlwJ"
      }
    },
    {
      "cell_type": "code",
      "source": [
        "# Concatenate two tuples\n",
        "tuple2 = tuple1 + (\"hard rock\", 10)\n",
        "tuple2"
      ],
      "metadata": {
        "colab": {
          "base_uri": "https://localhost:8080/"
        },
        "id": "lGw28Qu_niyt",
        "outputId": "acb38bdb-a754-41ad-f6a8-3a11fffc6225"
      },
      "execution_count": 11,
      "outputs": [
        {
          "output_type": "execute_result",
          "data": {
            "text/plain": [
              "('disco', 10, 1.2, 'hard rock', 10)"
            ]
          },
          "metadata": {},
          "execution_count": 11
        }
      ]
    },
    {
      "cell_type": "markdown",
      "source": [
        "#### Slicing\n",
        "###### Slicing tuples obtain new tuple containing corresponding elements. "
      ],
      "metadata": {
        "id": "sfROhj_foXrT"
      }
    },
    {
      "cell_type": "code",
      "source": [
        "# Slice from index 0 to 2 \n",
        "print(tuple2[0:3])"
      ],
      "metadata": {
        "colab": {
          "base_uri": "https://localhost:8080/"
        },
        "id": "os_5DPKwoDFA",
        "outputId": "e2395ed8-fcf3-412a-952b-696724ef9ade"
      },
      "execution_count": 12,
      "outputs": [
        {
          "output_type": "stream",
          "name": "stdout",
          "text": [
            "('disco', 10, 1.2)\n"
          ]
        }
      ]
    },
    {
      "cell_type": "markdown",
      "source": [
        "###### Obtain last two elements of the tuple"
      ],
      "metadata": {
        "id": "87CQrsYSo8h8"
      }
    },
    {
      "cell_type": "code",
      "source": [
        "# Slice from index 3 to 4\n",
        "print(tuple2[3:5])"
      ],
      "metadata": {
        "colab": {
          "base_uri": "https://localhost:8080/"
        },
        "id": "hoYs2qGmo4Hr",
        "outputId": "978dc70b-5f50-4833-ca32-6f5d60a62e68"
      },
      "execution_count": 13,
      "outputs": [
        {
          "output_type": "stream",
          "name": "stdout",
          "text": [
            "('hard rock', 10)\n"
          ]
        }
      ]
    },
    {
      "cell_type": "markdown",
      "source": [
        "###### Length of tuple"
      ],
      "metadata": {
        "id": "qIOTnZ5ApRS-"
      }
    },
    {
      "cell_type": "code",
      "source": [
        "# Get length of tuple\n",
        "print(len(tuple2))"
      ],
      "metadata": {
        "colab": {
          "base_uri": "https://localhost:8080/"
        },
        "id": "ZI04zaV1pNVI",
        "outputId": "00b11002-f1b7-4d28-bcee-893a247fc547"
      },
      "execution_count": 14,
      "outputs": [
        {
          "output_type": "stream",
          "name": "stdout",
          "text": [
            "5\n"
          ]
        }
      ]
    },
    {
      "cell_type": "markdown",
      "source": [
        "#### Sorting"
      ],
      "metadata": {
        "id": "li10SK7jphMG"
      }
    },
    {
      "cell_type": "code",
      "source": [
        "# A sample tuple\n",
        "Ratings = (0, 9, 6, 5, 10, 8, 9, 6, 2 )\n",
        "Ratings"
      ],
      "metadata": {
        "colab": {
          "base_uri": "https://localhost:8080/"
        },
        "id": "L6jB5SHFpczJ",
        "outputId": "b72cba1d-e3bb-4564-e7a7-e20e9f5afa3f"
      },
      "execution_count": 1,
      "outputs": [
        {
          "output_type": "execute_result",
          "data": {
            "text/plain": [
              "(0, 9, 6, 5, 10, 8, 9, 6, 2)"
            ]
          },
          "metadata": {},
          "execution_count": 1
        }
      ]
    },
    {
      "cell_type": "code",
      "source": [
        "# Sort the tuple and save it in a new one\n",
        "RatingsSorted = sorted(Ratings)\n",
        "RatingsSorted"
      ],
      "metadata": {
        "colab": {
          "base_uri": "https://localhost:8080/"
        },
        "id": "tCn6XfZQ-Oxf",
        "outputId": "cdad66b1-5bf2-4c66-f833-f30ce3fa15f6"
      },
      "execution_count": 3,
      "outputs": [
        {
          "output_type": "execute_result",
          "data": {
            "text/plain": [
              "[0, 2, 5, 6, 6, 8, 9, 9, 10]"
            ]
          },
          "metadata": {},
          "execution_count": 3
        }
      ]
    },
    {
      "cell_type": "markdown",
      "source": [
        "#### Nested Tuple\n",
        "##### A tuple can contain another tuple as well as more complex data types. This process is called 'nesting'"
      ],
      "metadata": {
        "id": "mSuGvFGt-zh_"
      }
    },
    {
      "cell_type": "code",
      "source": [
        "# Create a nested tuple\n",
        "NestedT = (1, 2, (\"pop\",\"rock\"), (3, 4), (\"disco\",(1,2)))\n",
        "NestedT"
      ],
      "metadata": {
        "colab": {
          "base_uri": "https://localhost:8080/"
        },
        "id": "aVdN928O-s7v",
        "outputId": "7d1bc80f-0825-498e-8a95-c56e60a23e7c"
      },
      "execution_count": 5,
      "outputs": [
        {
          "output_type": "execute_result",
          "data": {
            "text/plain": [
              "(1, 2, ('pop', 'rock'), (3, 4), ('disco', (1, 2)))"
            ]
          },
          "metadata": {},
          "execution_count": 5
        }
      ]
    },
    {
      "cell_type": "code",
      "source": [
        "# Each element in the tuple including other tuples can be obtained via an index"
      ],
      "metadata": {
        "id": "cX8nxL62_d8y"
      },
      "execution_count": 6,
      "outputs": []
    },
    {
      "cell_type": "code",
      "source": [
        "# Print elements on each index\n",
        "#print(len(NestedT))\n",
        "print(\"Element 0 of Tuple: \", NestedT[0])\n",
        "print(\"Element 1 of Tuple: \", NestedT[1])\n",
        "print(\"Element 2 of Tuple: \", NestedT[2])\n",
        "print(\"Element 3 of Tuple: \", NestedT[3])\n",
        "print(\"Element 4 of Tuple: \", NestedT[4])"
      ],
      "metadata": {
        "colab": {
          "base_uri": "https://localhost:8080/"
        },
        "id": "zxfMgkT2_yws",
        "outputId": "3803c31d-cdb8-4f6f-a617-605b0772a85d"
      },
      "execution_count": 9,
      "outputs": [
        {
          "output_type": "stream",
          "name": "stdout",
          "text": [
            "Element 0 of Tuple:  1\n",
            "Element 1 of Tuple:  2\n",
            "Element 2 of Tuple:  ('pop', 'rock')\n",
            "Element 3 of Tuple:  (3, 4)\n",
            "Element 4 of Tuple:  ('disco', (1, 2))\n"
          ]
        }
      ]
    },
    {
      "cell_type": "code",
      "source": [
        "# Can use second index to access other nested tuple"
      ],
      "metadata": {
        "id": "IeorpyxBABJa"
      },
      "execution_count": 10,
      "outputs": []
    },
    {
      "cell_type": "code",
      "source": [
        "# Print element on each index, including the nested index\n",
        "print(\"Element 2,0 of Tuple: \", NestedT[2][0])\n",
        "print(\"Element 2,1 of Tuple: \", NestedT[2][1])\n",
        "print(\"Element 3,0 of Tuple: \", NestedT[3][0])\n",
        "print(\"Element 3,1 of Tuple: \", NestedT[3][1])\n",
        "print(\"Element 4,0 of Tuple: \", NestedT[4][0])\n",
        "print(\"Element 4,1 of Tuple: \", NestedT[4][1])\n",
        "\n",
        "\n",
        "\n"
      ],
      "metadata": {
        "colab": {
          "base_uri": "https://localhost:8080/"
        },
        "id": "McnYO4g5ApQj",
        "outputId": "3a573f1b-c26b-47bf-b863-8fdaecc9c33d"
      },
      "execution_count": 12,
      "outputs": [
        {
          "output_type": "stream",
          "name": "stdout",
          "text": [
            "Element 2,0 of Tuple:  pop\n",
            "Element 2,1 of Tuple:  rock\n",
            "Element 3,0 of Tuple:  3\n",
            "Element 3,1 of Tuple:  4\n",
            "Element 4,0 of Tuple:  disco\n",
            "Element 4,1 of Tuple:  (1, 2)\n"
          ]
        }
      ]
    },
    {
      "cell_type": "code",
      "source": [
        "# Can access strings in the second nested tuple using a third index"
      ],
      "metadata": {
        "id": "nX7WDAACBR2_"
      },
      "execution_count": 13,
      "outputs": []
    },
    {
      "cell_type": "code",
      "source": [
        "# Print the first element in the second nested tuples\n",
        "NestedT[2][1][0]"
      ],
      "metadata": {
        "colab": {
          "base_uri": "https://localhost:8080/",
          "height": 35
        },
        "id": "bSADaqBtBn0Y",
        "outputId": "8e5a98ae-3a19-4474-d65e-9c7fcebaffc5"
      },
      "execution_count": 15,
      "outputs": [
        {
          "output_type": "execute_result",
          "data": {
            "text/plain": [
              "'r'"
            ],
            "application/vnd.google.colaboratory.intrinsic+json": {
              "type": "string"
            }
          },
          "metadata": {},
          "execution_count": 15
        }
      ]
    },
    {
      "cell_type": "code",
      "source": [
        "# Print the second element in the second nested tuples\n",
        "NestedT[2][1][1]"
      ],
      "metadata": {
        "colab": {
          "base_uri": "https://localhost:8080/",
          "height": 35
        },
        "id": "wsQ0PBxcCEoU",
        "outputId": "f96ee288-36bf-4b79-dd99-e258ca7119f5"
      },
      "execution_count": 16,
      "outputs": [
        {
          "output_type": "execute_result",
          "data": {
            "text/plain": [
              "'o'"
            ],
            "application/vnd.google.colaboratory.intrinsic+json": {
              "type": "string"
            }
          },
          "metadata": {},
          "execution_count": 16
        }
      ]
    },
    {
      "cell_type": "markdown",
      "source": [
        "###### Visualize the process in a tree form. Each new index corresponds to deeper level in the tree. "
      ],
      "metadata": {
        "id": "vT40UPpQCf7L"
      }
    },
    {
      "cell_type": "markdown",
      "source": [
        "###### Can access elements nested deeper in the tree with a fourth index\n"
      ],
      "metadata": {
        "id": "H7ijcbTBDBm1"
      }
    },
    {
      "cell_type": "code",
      "source": [
        "# Print the first element in  the second nested tuple corresponding to fourth index\n",
        "print(NestedT[4][1][0])"
      ],
      "metadata": {
        "colab": {
          "base_uri": "https://localhost:8080/"
        },
        "id": "HP5fobLBCS6A",
        "outputId": "fbaf8bf0-5101-42a6-9a4f-263f33ca919a"
      },
      "execution_count": 19,
      "outputs": [
        {
          "output_type": "stream",
          "name": "stdout",
          "text": [
            "1\n"
          ]
        }
      ]
    },
    {
      "cell_type": "code",
      "source": [
        "# Print the second element in  the second nested tuple corresponding to fourth index\n",
        "print(NestedT[4][1][1])"
      ],
      "metadata": {
        "colab": {
          "base_uri": "https://localhost:8080/"
        },
        "id": "jfsMhO2xDv4C",
        "outputId": "8242e29d-fcda-49e7-968f-9e2cf13533fb"
      },
      "execution_count": 20,
      "outputs": [
        {
          "output_type": "stream",
          "name": "stdout",
          "text": [
            "2\n"
          ]
        }
      ]
    },
    {
      "cell_type": "markdown",
      "source": [
        "#### Quiz on Tuple"
      ],
      "metadata": {
        "id": "12FAK0AxEJYZ"
      }
    },
    {
      "cell_type": "code",
      "source": [
        "# sample tuple\n",
        "\n",
        "genres_tuple = (\"pop\", \"rock\", \"soul\", \"hard rock\", \"soft rock\", \\\n",
        "                \"R&B\", \"progressive rock\", \"disco\") \n",
        "genres_tuple"
      ],
      "metadata": {
        "colab": {
          "base_uri": "https://localhost:8080/"
        },
        "id": "ycJYTJFDEARx",
        "outputId": "f14f816c-a979-4d6e-add6-fa6a4cefed00"
      },
      "execution_count": 21,
      "outputs": [
        {
          "output_type": "execute_result",
          "data": {
            "text/plain": [
              "('pop',\n",
              " 'rock',\n",
              " 'soul',\n",
              " 'hard rock',\n",
              " 'soft rock',\n",
              " 'R&B',\n",
              " 'progressive rock',\n",
              " 'disco')"
            ]
          },
          "metadata": {},
          "execution_count": 21
        }
      ]
    },
    {
      "cell_type": "code",
      "source": [
        "# Find the length of the tuple, genres_tuple\n",
        "print(len(genres_tuple))"
      ],
      "metadata": {
        "colab": {
          "base_uri": "https://localhost:8080/"
        },
        "id": "pkg47CkHEO2x",
        "outputId": "4b6880c5-5019-430b-eb01-235f2ebd39b5"
      },
      "execution_count": 22,
      "outputs": [
        {
          "output_type": "stream",
          "name": "stdout",
          "text": [
            "8\n"
          ]
        }
      ]
    },
    {
      "cell_type": "code",
      "source": [
        "# Access the element w.r.t. index 3\n",
        "print(genres_tuple[3])"
      ],
      "metadata": {
        "colab": {
          "base_uri": "https://localhost:8080/"
        },
        "id": "oTkmLORxEYND",
        "outputId": "71b5f2e3-f93b-41ec-e30c-f10a5a4989f6"
      },
      "execution_count": 23,
      "outputs": [
        {
          "output_type": "stream",
          "name": "stdout",
          "text": [
            "hard rock\n"
          ]
        }
      ]
    },
    {
      "cell_type": "code",
      "source": [
        "# Use slicing to obtain indices 3,4 and 5 \n",
        "print(genres_tuple[3:6])"
      ],
      "metadata": {
        "colab": {
          "base_uri": "https://localhost:8080/"
        },
        "id": "Y9HeRs26ElOm",
        "outputId": "b80006b1-e9e4-447f-c26e-0319cd9a59c1"
      },
      "execution_count": 24,
      "outputs": [
        {
          "output_type": "stream",
          "name": "stdout",
          "text": [
            "('hard rock', 'soft rock', 'R&B')\n"
          ]
        }
      ]
    },
    {
      "cell_type": "code",
      "source": [
        "# Find first two elements of tuple genres_tuple\n",
        "print(genres_tuple[0:2])"
      ],
      "metadata": {
        "colab": {
          "base_uri": "https://localhost:8080/"
        },
        "id": "Dykfcag0Ezti",
        "outputId": "d7ce9351-4d11-4baf-bbb3-4e372b4b17c1"
      },
      "execution_count": 25,
      "outputs": [
        {
          "output_type": "stream",
          "name": "stdout",
          "text": [
            "('pop', 'rock')\n"
          ]
        }
      ]
    },
    {
      "cell_type": "code",
      "source": [
        "# Find first index of \"disco\"\n",
        "genres_tuple.index(\"disco\")"
      ],
      "metadata": {
        "colab": {
          "base_uri": "https://localhost:8080/"
        },
        "id": "J-_2kVGjFFay",
        "outputId": "7147585f-4d35-4bec-bf18-b31856276de4"
      },
      "execution_count": 28,
      "outputs": [
        {
          "output_type": "execute_result",
          "data": {
            "text/plain": [
              "7"
            ]
          },
          "metadata": {},
          "execution_count": 28
        }
      ]
    },
    {
      "cell_type": "code",
      "source": [
        "# Generate a sorted List from the Tuple C_tuple = (-5, 1,-3)\n",
        "C_tuple = (-5, 1,-3)\n",
        "print(\"Before sorting : \", C_tuple)\n",
        "C_tuple_sorted = sorted(C_tuple)\n",
        "print(\"After sorting : \", C_tuple_sorted)"
      ],
      "metadata": {
        "colab": {
          "base_uri": "https://localhost:8080/"
        },
        "id": "uIM5R-LCFRc-",
        "outputId": "4ca7c241-3732-43a0-fff1-4fb42e5a4596"
      },
      "execution_count": 29,
      "outputs": [
        {
          "output_type": "stream",
          "name": "stdout",
          "text": [
            "Before sorting :  (-5, 1, -3)\n",
            "After sorting :  [-5, -3, 1]\n"
          ]
        }
      ]
    },
    {
      "cell_type": "code",
      "source": [],
      "metadata": {
        "id": "ZRkiAcI_GZN1"
      },
      "execution_count": null,
      "outputs": []
    }
  ]
}