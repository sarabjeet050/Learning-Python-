{
  "nbformat": 4,
  "nbformat_minor": 0,
  "metadata": {
    "colab": {
      "provenance": [],
      "authorship_tag": "ABX9TyMMKc74ANmR5drKYbuH9dON",
      "include_colab_link": true
    },
    "kernelspec": {
      "name": "python3",
      "display_name": "Python 3"
    },
    "language_info": {
      "name": "python"
    }
  },
  "cells": [
    {
      "cell_type": "markdown",
      "metadata": {
        "id": "view-in-github",
        "colab_type": "text"
      },
      "source": [
        "<a href=\"https://colab.research.google.com/github/sarabjeet050/Learning_Python/blob/main/3_1_2_Exception_Handling.ipynb\" target=\"_parent\"><img src=\"https://colab.research.google.com/assets/colab-badge.svg\" alt=\"Open In Colab\"/></a>"
      ]
    },
    {
      "cell_type": "markdown",
      "source": [
        "#### Definition:\n",
        "###### An exception is an error that occurs during the execution of code. This error causes the code to raise an exception and if not prepared to handle it will halt the execution of the code."
      ],
      "metadata": {
        "id": "MwtCsJRfFyDV"
      }
    },
    {
      "cell_type": "markdown",
      "source": [
        "#### Examples:\n",
        "###### Run each piece of code and observe the exception raised."
      ],
      "metadata": {
        "id": "AJX1ml2EG8Rd"
      }
    },
    {
      "cell_type": "code",
      "execution_count": 2,
      "metadata": {
        "colab": {
          "base_uri": "https://localhost:8080/",
          "height": 165
        },
        "id": "Tk_NjC9MDxez",
        "outputId": "7137c86c-851b-49ed-b7ee-80aed98d9518"
      },
      "outputs": [
        {
          "output_type": "error",
          "ename": "ZeroDivisionError",
          "evalue": "ignored",
          "traceback": [
            "\u001b[0;31m---------------------------------------------------------------------------\u001b[0m",
            "\u001b[0;31mZeroDivisionError\u001b[0m                         Traceback (most recent call last)",
            "\u001b[0;32m<ipython-input-2-ec91c82617e3>\u001b[0m in \u001b[0;36m<cell line: 1>\u001b[0;34m()\u001b[0m\n\u001b[0;32m----> 1\u001b[0;31m \u001b[0;36m1\u001b[0m\u001b[0;34m/\u001b[0m\u001b[0;36m0\u001b[0m \u001b[0;31m# ZeroDivisionError occurs when try to divide by zero\u001b[0m\u001b[0;34m\u001b[0m\u001b[0;34m\u001b[0m\u001b[0m\n\u001b[0m",
            "\u001b[0;31mZeroDivisionError\u001b[0m: division by zero"
          ]
        }
      ],
      "source": [
        "1/0 # ZeroDivisionError occurs when try to divide by zero"
      ]
    },
    {
      "cell_type": "code",
      "source": [
        "y = a + 5   # NameError occurs which means tried to use a variable 'a' when it is not defined"
      ],
      "metadata": {
        "colab": {
          "base_uri": "https://localhost:8080/",
          "height": 165
        },
        "id": "DrJDRSw6HMi0",
        "outputId": "f61c41e6-4822-4fe9-cff0-e0170cde82e6"
      },
      "execution_count": 3,
      "outputs": [
        {
          "output_type": "error",
          "ename": "NameError",
          "evalue": "ignored",
          "traceback": [
            "\u001b[0;31m---------------------------------------------------------------------------\u001b[0m",
            "\u001b[0;31mNameError\u001b[0m                                 Traceback (most recent call last)",
            "\u001b[0;32m<ipython-input-3-82ba5bba6951>\u001b[0m in \u001b[0;36m<cell line: 1>\u001b[0;34m()\u001b[0m\n\u001b[0;32m----> 1\u001b[0;31m \u001b[0my\u001b[0m \u001b[0;34m=\u001b[0m \u001b[0ma\u001b[0m \u001b[0;34m+\u001b[0m \u001b[0;36m5\u001b[0m\u001b[0;34m\u001b[0m\u001b[0;34m\u001b[0m\u001b[0m\n\u001b[0m",
            "\u001b[0;31mNameError\u001b[0m: name 'a' is not defined"
          ]
        }
      ]
    },
    {
      "cell_type": "code",
      "source": [
        "a = [1, 2, 3]\n",
        "a[10] # IndexError occured because tried to access data from the list using an index that doesn't exist for the list"
      ],
      "metadata": {
        "colab": {
          "base_uri": "https://localhost:8080/",
          "height": 183
        },
        "id": "1fXBGkYKHeKc",
        "outputId": "0b37bf03-37bf-4d43-cb70-7f7cf997852d"
      },
      "execution_count": 5,
      "outputs": [
        {
          "output_type": "error",
          "ename": "IndexError",
          "evalue": "ignored",
          "traceback": [
            "\u001b[0;31m---------------------------------------------------------------------------\u001b[0m",
            "\u001b[0;31mIndexError\u001b[0m                                Traceback (most recent call last)",
            "\u001b[0;32m<ipython-input-5-20e11b1a3c14>\u001b[0m in \u001b[0;36m<cell line: 2>\u001b[0;34m()\u001b[0m\n\u001b[1;32m      1\u001b[0m \u001b[0ma\u001b[0m \u001b[0;34m=\u001b[0m \u001b[0;34m[\u001b[0m\u001b[0;36m1\u001b[0m\u001b[0;34m,\u001b[0m \u001b[0;36m2\u001b[0m\u001b[0;34m,\u001b[0m \u001b[0;36m3\u001b[0m\u001b[0;34m]\u001b[0m\u001b[0;34m\u001b[0m\u001b[0;34m\u001b[0m\u001b[0m\n\u001b[0;32m----> 2\u001b[0;31m \u001b[0ma\u001b[0m\u001b[0;34m[\u001b[0m\u001b[0;36m10\u001b[0m\u001b[0;34m]\u001b[0m \u001b[0;31m# IndexError occured because tried to access data from the list using an index that doesn't exist for the list\u001b[0m\u001b[0;34m\u001b[0m\u001b[0;34m\u001b[0m\u001b[0m\n\u001b[0m",
            "\u001b[0;31mIndexError\u001b[0m: list index out of range"
          ]
        }
      ]
    },
    {
      "cell_type": "markdown",
      "source": [
        "There are many more exceptions that are built into Python, here is a list of them https://docs.python.org/3/library/exceptions.html\n"
      ],
      "metadata": {
        "id": "AqTTwf0ZIq2O"
      }
    },
    {
      "cell_type": "markdown",
      "source": [
        "#### Exception Handling:\n",
        "It's about how to make your program perform specified task instead of halting code execution when an exception is encountered."
      ],
      "metadata": {
        "id": "iKvRN7U1MqXC"
      }
    },
    {
      "cell_type": "markdown",
      "source": [
        "#### Try Except\n",
        "\n",
        "###### A try except will allow you to execute code that might raise an exception and in the case of any exception or a specified one we can handle or catch the exception and execute specific code. This will allow us to execute our program even if there is an execption.\n",
        "\n",
        "###### Python tries to execute the code in the \"try\" block. In this case if there is any exception raised by the code in the \"try\" block, it will be caught and the code block in the \"except\" block will be executed. After that the code that comes after the try except will be executed."
      ],
      "metadata": {
        "id": "sBdT3TwuNUyb"
      }
    },
    {
      "cell_type": "code",
      "source": [
        "# potential code before try catch\n",
        "try:\n",
        "  # code to try to execute\n",
        "  pass\n",
        "except:\n",
        "  # code to execute if there is an exception\n",
        "  pass\n",
        "# code that will still execute if there is an exception."
      ],
      "metadata": {
        "id": "h2F1gDTENG5i"
      },
      "execution_count": 8,
      "outputs": []
    },
    {
      "cell_type": "markdown",
      "source": [
        "#### Try Except Example\n",
        "###### Try to divide a number given by user, save the outcome in the variable 'a', and then print the result of operation. When taking user input and dividing a number by it, there are a couple of exceptions that can be raised. For example,if we divide by zero. Try running such block of code with input 'b' as a number. An exception will only be raised if 'b' is zero.\n"
      ],
      "metadata": {
        "id": "F5waAPQ9RvdC"
      }
    },
    {
      "cell_type": "code",
      "source": [
        "a = 1\n",
        "\n",
        "try:\n",
        "  b = int(input(\"Please enter a number to divide 'a': \"))\n",
        "  a = a / b\n",
        "  print(\"Success a =\", a)\n",
        "except:\n",
        "  print(\"There was an error.\")\n"
      ],
      "metadata": {
        "colab": {
          "base_uri": "https://localhost:8080/"
        },
        "id": "a3Mw7cE3RCb9",
        "outputId": "56a90762-2828-4240-b900-decfe99a708e"
      },
      "execution_count": 12,
      "outputs": [
        {
          "output_type": "stream",
          "name": "stdout",
          "text": [
            "Please enter a number to divide 'a': 0\n",
            "There was an error.\n"
          ]
        }
      ]
    },
    {
      "cell_type": "markdown",
      "source": [
        "#### Try Except Specific:\n",
        "\n",
        "###### A specific try except allows to catch certain exceptions and also execute certain code depending on the exception. This is useful if don't want to deal with some exception and execution to halt. It can help you to find errors in your code that you might not be aware of. Furthermore, it can help you differentiate responses to different exceptions. In this case, the code after the try catch might not run depending on the error."
      ],
      "metadata": {
        "id": "4yS4PKGMeosS"
      }
    },
    {
      "cell_type": "code",
      "source": [
        "# potential code before try catch\n",
        "try:\n",
        "  # code to try to execute\n",
        "  pass # keyword to fill the code but not doing anything\n",
        "except(ZeroDivisionError, NameError):\n",
        "  # code to execute if there is an exception of the given types\n",
        "  pass\n",
        "# code that will execute if there is no exception or a one that we are handling."
      ],
      "metadata": {
        "id": "4hUEfw3zTlRB"
      },
      "execution_count": 13,
      "outputs": []
    },
    {
      "cell_type": "code",
      "source": [
        "# potential code before try catch\n",
        "try:\n",
        "  # code to try to execute\n",
        "  pass # keyword to fill the code but not doing anything\n",
        "except ZeroDivisionError:\n",
        "  # code to execute if there is ZeroDivisionError\n",
        "  pass\n",
        "except NameError:\n",
        "  # code to execute if there is NameError\n",
        "  pass\n",
        "# code that will execute if there is no exception or a one that we are handling."
      ],
      "metadata": {
        "id": "RuWkmw6zgjrw"
      },
      "execution_count": 14,
      "outputs": []
    },
    {
      "cell_type": "code",
      "source": [
        "# you can also an empty except at the end to catch an unexpected exception:\n",
        "\n",
        "# potential code before try catch\n",
        "try:\n",
        "  # code to try to execute\n",
        "  pass # keyword to fill the code but not doing anything\n",
        "except ZeroDivisionError:\n",
        "  # code to execute if there is ZeroDivisionError\n",
        "  pass\n",
        "except NameError:\n",
        "  # code to execute if there is NameError\n",
        "  pass\n",
        "except :\n",
        "  # code to execute if there is any other exception\n",
        "  pass\n",
        "# code that will execute if there is no exception or a one that we are handling.\n"
      ],
      "metadata": {
        "id": "S-JQblDwg_zD"
      },
      "execution_count": 15,
      "outputs": []
    },
    {
      "cell_type": "markdown",
      "source": [
        "#### Try Except Specific Example\n",
        "###### This is same example as above, but now we will add differentiated message depending on the exception, letting the user know what is wrong with input."
      ],
      "metadata": {
        "id": "978t91mnypwE"
      }
    },
    {
      "cell_type": "code",
      "source": [
        "a = 1\n",
        "\n",
        "try:\n",
        "  b = int(input(\"Please enter a number that divides 'a' : \"))\n",
        "  a = a / b\n",
        "  print(\"Success a =\",a)\n",
        "except ZeroDivisionError:\n",
        "  print(\"The number you entered can't divide 1 as it is 0\")\n",
        "except ValueError:\n",
        "  print(\"You didn't provide a number\")\n",
        "except:\n",
        "  print(\"Something went wrong\")"
      ],
      "metadata": {
        "colab": {
          "base_uri": "https://localhost:8080/"
        },
        "id": "ipSUMjFJheHy",
        "outputId": "5a30a42e-0f13-47ff-dd53-e38158d8360d"
      },
      "execution_count": 13,
      "outputs": [
        {
          "output_type": "stream",
          "name": "stdout",
          "text": [
            "Please enter a number that divides 'a' : p\n",
            "You didn't provide a number\n"
          ]
        }
      ]
    },
    {
      "cell_type": "markdown",
      "source": [
        "#### Try Except Else and Finally\n",
        "###### \"else\" allows one to check if there is no exception when executing the try block. This is useful when we want to execute something only if there were no errors."
      ],
      "metadata": {
        "id": "UHQshxDA2kti"
      }
    },
    {
      "cell_type": "code",
      "source": [
        "# potential code before try catch\n",
        "try:\n",
        "  # code to try to execute\n",
        "  pass # keyword to fill the code but not doing anything\n",
        "except ZeroDivisionError:\n",
        "  # code to execute if there is ZeroDivisionError\n",
        "  pass\n",
        "except NameError:\n",
        "  # code to execute if there is NameError\n",
        "  pass\n",
        "except :\n",
        "  # code to execute if there is any other exception\n",
        "  pass\n",
        "else:\n",
        "  # code to execute if there is no exception\n",
        "  pass\n",
        "\n",
        "# code that will execute if there is no exception or a one that we are handling.\n"
      ],
      "metadata": {
        "id": "3QeViuE0z4Kt"
      },
      "execution_count": 5,
      "outputs": []
    },
    {
      "cell_type": "markdown",
      "source": [
        "###### \"finally\" allows us to always execute something even if there is an exception or not. This is usually signifies the end of try except."
      ],
      "metadata": {
        "id": "0dTxbDVM3vV-"
      }
    },
    {
      "cell_type": "code",
      "source": [
        "try:\n",
        "  # code to try to execute\n",
        "  pass\n",
        "except ZeroDivisionError:\n",
        "  # code to execute if there is a ZeroDivisionError\n",
        "  pass\n",
        "except NameError:\n",
        "  # code to execute if there is a NameError\n",
        "  pass\n",
        "except:\n",
        "  # code to execute if there is any exception\n",
        "  pass\n",
        "else:\n",
        "  # code to execute if there is no exception\n",
        "  pass\n",
        "finally:\n",
        "  # code to always execute at the end of try except no matter what\n",
        "  pass\n",
        "\n",
        "# code that will execute if there is no exception or a one that we are handling"
      ],
      "metadata": {
        "id": "xXxXcMXl3stS"
      },
      "execution_count": 6,
      "outputs": []
    },
    {
      "cell_type": "markdown",
      "source": [
        "#### Try Except Else and Finally Example"
      ],
      "metadata": {
        "id": "KFITTw605blF"
      }
    },
    {
      "cell_type": "markdown",
      "source": [
        "###### You might have noticed that even if there is no error the value of \"a\" is always printed. Let's use the \"else\" to print the value of \"a\" i.e. only if there is no error."
      ],
      "metadata": {
        "id": "wPXyWOQy528X"
      }
    },
    {
      "cell_type": "code",
      "source": [
        "a =  1\n",
        "\n",
        "try:\n",
        "  b = int(input(\"Please enter a number that divides 'a': \"))\n",
        "  a = a / b\n",
        "except ZeroDivisionError:\n",
        "  print(\"The number you provided can't divide 1 because it is zero\")\n",
        "except ValueError:\n",
        "  print(\"You didn't provide a number\")\n",
        "except:\n",
        "  print(\"Something went wrong\")\n",
        "else:\n",
        "  print(\"Success a = \", a)"
      ],
      "metadata": {
        "colab": {
          "base_uri": "https://localhost:8080/"
        },
        "id": "bUDM-dQ85Y0h",
        "outputId": "a1c4bfc6-8ce9-4c25-c8aa-70cc0ff40888"
      },
      "execution_count": 16,
      "outputs": [
        {
          "output_type": "stream",
          "name": "stdout",
          "text": [
            "Please enter a number that divides 'a': 5\n",
            "Success a =  0.2\n"
          ]
        }
      ]
    },
    {
      "cell_type": "code",
      "source": [
        "a =  1\n",
        "\n",
        "try:\n",
        "  b = int(input(\"Please enter a number that divides 'a': \"))\n",
        "  a = a / b\n",
        "except ZeroDivisionError:\n",
        "  print(\"The number you provided can't divide 1 because it is zero\")\n",
        "except ValueError:\n",
        "  print(\"You didn't provide a number\")\n",
        "except:\n",
        "  print(\"Something went wrong\")\n",
        "else:\n",
        "  print(\"Success a = \", a)\n",
        "finally:\n",
        "  print(\"Processing Complete\")"
      ],
      "metadata": {
        "colab": {
          "base_uri": "https://localhost:8080/"
        },
        "id": "bdXi_W4s6XYz",
        "outputId": "578cdd2c-265e-4fee-fa15-4e2792a20902"
      },
      "execution_count": 18,
      "outputs": [
        {
          "output_type": "stream",
          "name": "stdout",
          "text": [
            "Please enter a number that divides 'a': 0\n",
            "The number you provided can't divide 1 because it is zero\n",
            "Processing Complete\n"
          ]
        }
      ]
    }
  ]
}