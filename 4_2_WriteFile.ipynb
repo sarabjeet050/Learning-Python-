{
  "nbformat": 4,
  "nbformat_minor": 0,
  "metadata": {
    "colab": {
      "provenance": [],
      "authorship_tag": "ABX9TyN5mfC+eB0BSQ+18gggSJGs",
      "include_colab_link": true
    },
    "kernelspec": {
      "name": "python3",
      "display_name": "Python 3"
    },
    "language_info": {
      "name": "python"
    }
  },
  "cells": [
    {
      "cell_type": "markdown",
      "metadata": {
        "id": "view-in-github",
        "colab_type": "text"
      },
      "source": [
        "<a href=\"https://colab.research.google.com/github/sarabjeet050/Learning_Python/blob/main/4_2_WriteFile.ipynb\" target=\"_parent\"><img src=\"https://colab.research.google.com/assets/colab-badge.svg\" alt=\"Open In Colab\"/></a>"
      ]
    },
    {
      "cell_type": "markdown",
      "source": [
        "**Writing and Saving Files in Python**"
      ],
      "metadata": {
        "id": "aCxZxruezhhV"
      }
    },
    {
      "cell_type": "markdown",
      "source": [
        "#### Writing Files\n",
        "###### We can open a file object and save the list to text file using write() method. To write a file, the mode argument must be set to \"w\""
      ],
      "metadata": {
        "id": "74yYdSTdzp_O"
      }
    },
    {
      "cell_type": "code",
      "execution_count": 10,
      "metadata": {
        "id": "hK0LhEQ1zanj"
      },
      "outputs": [],
      "source": [
        "# Write line \"This is line A\" to file \"Example2.txt\"\n",
        "example2 = \"/Example2.txt\"\n",
        "with open(example2, \"w\") as writeFile:\n",
        "  writeFile.write(\"This is line A\")"
      ]
    },
    {
      "cell_type": "code",
      "source": [
        "# Read file to see if it worked:\n",
        "with open(example2, \"r\") as testwriteFile:\n",
        "  print(testwriteFile.read())"
      ],
      "metadata": {
        "colab": {
          "base_uri": "https://localhost:8080/"
        },
        "id": "zZNhRH_D0vWD",
        "outputId": "e9c174a9-e9e2-4e43-d929-49a652bbc319"
      },
      "execution_count": 11,
      "outputs": [
        {
          "output_type": "stream",
          "name": "stdout",
          "text": [
            "This is line A\n"
          ]
        }
      ]
    },
    {
      "cell_type": "code",
      "source": [
        "# Write multiple lines to file\n",
        "with open(example2, \"w\") as writeFile:\n",
        "  writeFile.write(\"This is line A\\n\")\n",
        "  writeFile.write(\"This is line B\\n\")"
      ],
      "metadata": {
        "id": "a4F2evQv1PJF"
      },
      "execution_count": 12,
      "outputs": []
    },
    {
      "cell_type": "markdown",
      "source": [
        "###### The .write() method works similarly to the method .readline(), except instead of reading a new line it writes a new line with each line ending with \"\\n\" which mean new line enter"
      ],
      "metadata": {
        "id": "smnjNxM51xwx"
      }
    },
    {
      "cell_type": "code",
      "source": [
        "# Check whether write to file is correct\n",
        "with open(\"/Example2.txt\", \"r\") as testwriteFile:\n",
        "  print(testwriteFile.read())"
      ],
      "metadata": {
        "colab": {
          "base_uri": "https://localhost:8080/"
        },
        "id": "DK7W93P_1mzW",
        "outputId": "34be41ff-0638-4b08-fd16-e52a0eb00943"
      },
      "execution_count": 13,
      "outputs": [
        {
          "output_type": "stream",
          "name": "stdout",
          "text": [
            "This is line A\n",
            "This is line B\n",
            "\n"
          ]
        }
      ]
    },
    {
      "cell_type": "markdown",
      "source": [
        "#### We write a list to a .txt file"
      ],
      "metadata": {
        "id": "JCDvho1n2sdt"
      }
    },
    {
      "cell_type": "code",
      "source": [
        "#### Sample list to file\n",
        "Lines = [\"This is line A\\n\", \"This is line B\\n\", \"This is line C\\n\"]\n",
        "Lines"
      ],
      "metadata": {
        "colab": {
          "base_uri": "https://localhost:8080/"
        },
        "id": "BKnAZndF2lwm",
        "outputId": "98f16679-8aae-4b0f-9857-340644df96c3"
      },
      "execution_count": 14,
      "outputs": [
        {
          "output_type": "execute_result",
          "data": {
            "text/plain": [
              "['This is line A\\n', 'This is line B\\n', 'This is line C\\n']"
            ]
          },
          "metadata": {},
          "execution_count": 14
        }
      ]
    },
    {
      "cell_type": "code",
      "source": [
        "# Write the string in the list to text file as lines\n",
        "with open(example2, \"w\") as writeFile:\n",
        "  for line in Lines:\n",
        "    print(line)\n",
        "    writeFile.write(line)"
      ],
      "metadata": {
        "colab": {
          "base_uri": "https://localhost:8080/"
        },
        "id": "f5Cw_9223AGf",
        "outputId": "b0117d20-865f-4ace-f125-d4ecf5278634"
      },
      "execution_count": 15,
      "outputs": [
        {
          "output_type": "stream",
          "name": "stdout",
          "text": [
            "This is line A\n",
            "\n",
            "This is line B\n",
            "\n",
            "This is line C\n",
            "\n"
          ]
        }
      ]
    },
    {
      "cell_type": "code",
      "source": [
        "# Verify if writing to file is successfully executed:\n",
        "with open(\"/Example2.txt\", \"r\") as testwriteFile:\n",
        "  print(testwriteFile.read())"
      ],
      "metadata": {
        "colab": {
          "base_uri": "https://localhost:8080/"
        },
        "id": "PhGaNYlD3dPS",
        "outputId": "a803a9c9-ddfb-4955-f903-478fedc233f4"
      },
      "execution_count": 16,
      "outputs": [
        {
          "output_type": "stream",
          "name": "stdout",
          "text": [
            "This is line A\n",
            "This is line B\n",
            "This is line C\n",
            "\n"
          ]
        }
      ]
    },
    {
      "cell_type": "markdown",
      "source": [
        "###### However, note that setting the mode to 'w' overwrites all the existing data in the file.\n",
        "\n"
      ],
      "metadata": {
        "id": "ynYChrpX4Qey"
      }
    },
    {
      "cell_type": "code",
      "source": [
        "with open(example2, 'w') as writeFile:\n",
        "  writeFile.write(\"Overwrite\\n\")\n",
        "\n",
        "with open(\"/Example2.txt\", 'r') as testwriteFile:\n",
        "  print(testwriteFile.read())"
      ],
      "metadata": {
        "colab": {
          "base_uri": "https://localhost:8080/"
        },
        "id": "V1x_bPmp3z9T",
        "outputId": "093a092c-337f-4c00-92b6-cf8e653ad2c8"
      },
      "execution_count": 17,
      "outputs": [
        {
          "output_type": "stream",
          "name": "stdout",
          "text": [
            "Overwrite\n",
            "\n"
          ]
        }
      ]
    },
    {
      "cell_type": "markdown",
      "source": [
        "#### Appending Files\n",
        "###### We can write to files without losing any of the existing data as follows by setting the mode argument to append \"a\""
      ],
      "metadata": {
        "id": "UACt_hgX9kVh"
      }
    },
    {
      "cell_type": "code",
      "source": [
        "# Write a new line to text file with append \"a\":\n",
        "with open(\"/Example2.txt\", 'a') as testwriteFile:\n",
        "  testwriteFile.write(\"This is line C\\n\")\n",
        "  testwriteFile.write(\"This is line D\\n\")\n",
        "  testwriteFile.write(\"This is line E\\n\")"
      ],
      "metadata": {
        "id": "5LnCWL0e4xov"
      },
      "execution_count": 18,
      "outputs": []
    },
    {
      "cell_type": "code",
      "source": [
        "# Verify if the new lines are appended in the text file:\n",
        "with open(\"/Example2.txt\", 'r') as testwriteFile:\n",
        "  print(testwriteFile.read())"
      ],
      "metadata": {
        "colab": {
          "base_uri": "https://localhost:8080/"
        },
        "id": "JUI79GW--cye",
        "outputId": "a2e83e93-9e48-4108-d9c4-20a7ab3d4651"
      },
      "execution_count": 19,
      "outputs": [
        {
          "output_type": "stream",
          "name": "stdout",
          "text": [
            "Overwrite\n",
            "This is line C\n",
            "This is line D\n",
            "This is line E\n",
            "\n"
          ]
        }
      ]
    },
    {
      "cell_type": "markdown",
      "source": [
        "#### Additional modes:\n",
        "###### It's fairly inefficient to open the file in **a** or **w** and then reopen it in **r** to read any lines.\n",
        "###### Luckily we can access the file in the following modes:\n",
        "- **r+** : Reading and writing. Cannot truncate the file.\n",
        "- **w+** : Writing and reading. Truncates the file.\n",
        "- **a+** : Appending and Reading. Creates a new file, if none exists."
      ],
      "metadata": {
        "id": "6pb4_92VGRV9"
      }
    },
    {
      "cell_type": "code",
      "source": [
        "# try a+ mode\n",
        "with open(\"/Example2.txt\", 'a+') as testwritefile:\n",
        "  testwritefile.write(\"This is new line E\\n\")\n",
        "  print(testwritefile.read())"
      ],
      "metadata": {
        "id": "K7HK9QtO-vrj",
        "colab": {
          "base_uri": "https://localhost:8080/"
        },
        "outputId": "6e2e5067-c6c5-4739-b25b-88a2389f28dd"
      },
      "execution_count": 20,
      "outputs": [
        {
          "output_type": "stream",
          "name": "stdout",
          "text": [
            "\n"
          ]
        }
      ]
    },
    {
      "cell_type": "markdown",
      "source": [
        "There were no errors but <code>read()</code> also did not output anything. This is because of our location in the file.\n"
      ],
      "metadata": {
        "id": "9UsA7C5IqMjq"
      }
    },
    {
      "cell_type": "markdown",
      "source": [
        "###### Most of the file methods we've looked at work in a certain location in the file. <code>.write() </code> writes at a certain location in the file. <code>.read()</code> reads at a certain location in the file and so on. You can think of this as moving your pointer around in the notepad to make changes at a specific location.\n",
        "\n",
        "###### Opening the file in **w** is akin to opening the .txt file, moving your cursor to the beginning of the text file, writing new text and deleting everything that follows.\n",
        "Whereas opening the file in **a** is similar to opening the .txt file, moving your cursor to the very end and then adding the new pieces of text. <br>\n",
        "It is often very useful to know where the 'cursor' is in a file and be able to control it. The following methods allow us to do precisely this -\n",
        "- <code>.tell()</code> - returns the current position in bytes\n",
        "- <code>.seek(offset,from)</code> - changes the position by 'offset' bytes with respect to 'from'. From can take the value of 0,1,2 corresponding to the beginning, relative to current position and end\n"
      ],
      "metadata": {
        "id": "0XRWzZByzeev"
      }
    },
    {
      "cell_type": "code",
      "source": [
        "# Now lets revisit a+:\n",
        "with open(\"/Example2.txt\", 'a+') as testwritefile:\n",
        "  print(\"Initial Location: {}\".format(testwritefile.tell()))\n",
        "\n",
        "  data = testwritefile.read()\n",
        "  if (not data): # empty string returns false in python\n",
        "    print(\"Nothing\")\n",
        "  else:\n",
        "    print(testwritefile.read())\n",
        "\n",
        "  testwritefile.seek(0,0) # move 0 bytes from beginning\n",
        "\n",
        "  print(\"\\nNew Location: {}\".format(testwritefile.tell()))\n",
        "  data = testwritefile.read()\n",
        "  if (not data):\n",
        "    print(\"Read Nothing\")\n",
        "  else:\n",
        "    print(data)\n",
        "\n",
        "  print(\"Location after read: {}\".format(testwritefile.tell()))"
      ],
      "metadata": {
        "id": "yaACdwMrHIZ9",
        "colab": {
          "base_uri": "https://localhost:8080/"
        },
        "outputId": "150b8ee1-84ae-434c-d97d-704132bd7b09"
      },
      "execution_count": 21,
      "outputs": [
        {
          "output_type": "stream",
          "name": "stdout",
          "text": [
            "Initial Location: 74\n",
            "Nothing\n",
            "\n",
            "New Location: 0\n",
            "Overwrite\n",
            "This is line C\n",
            "This is line D\n",
            "This is line E\n",
            "This is new line E\n",
            "\n",
            "Location after read: 74\n"
          ]
        }
      ]
    },
    {
      "cell_type": "code",
      "source": [
        "# Finally, Note: The difference between w+ and r+ is that these modes allow to read and write methods;\n",
        "# however, opening a file in w+ mode allows to overwrite it and deletes all pre-existing data."
      ],
      "metadata": {
        "id": "9w5x_xLDD9EG"
      },
      "execution_count": 22,
      "outputs": []
    },
    {
      "cell_type": "code",
      "source": [
        "with open(\"/Example2.txt\", 'r+') as testwritefile:\n",
        "  testwritefile.seek(0,0) # write at the beginning of file\n",
        "\n",
        "  testwritefile.write(\"Line 1\" + \"\\n\")\n",
        "  testwritefile.write(\"Line 2\" + \"\\n\")\n",
        "  testwritefile.write(\"Line 3\" + \"\\n\")\n",
        "  testwritefile.write(\"Line 4\" + \"\\n\")\n",
        "  testwritefile.write(\"finished \\n\")\n",
        "\n",
        "  testwritefile.seek(0,0) # read from the beginning of file\n",
        "  print(testwritefile.read())"
      ],
      "metadata": {
        "colab": {
          "base_uri": "https://localhost:8080/"
        },
        "id": "4_ngTvCZGAIO",
        "outputId": "f70f4d70-9c5b-4d35-cb2f-bd80acbbf319"
      },
      "execution_count": 23,
      "outputs": [
        {
          "output_type": "stream",
          "name": "stdout",
          "text": [
            "Line 1\n",
            "Line 2\n",
            "Line 3\n",
            "Line 4\n",
            "finished \n",
            "D\n",
            "This is line E\n",
            "This is new line E\n",
            "\n"
          ]
        }
      ]
    },
    {
      "cell_type": "code",
      "source": [
        "# To work with a file on existing data, use r+ and a+ . While using r+,\n",
        "# it can be useful to add .truncate() method at the end of your data.\n",
        "# This will reduce the file to your data and delete everything that follows."
      ],
      "metadata": {
        "id": "BH8TCUsQG7b1"
      },
      "execution_count": 24,
      "outputs": []
    },
    {
      "cell_type": "code",
      "source": [
        "with open(\"/Example2.txt\", 'r+') as testwritefile:\n",
        "  testwritefile.seek(0,0) # write at the beginning of file\n",
        "\n",
        "  testwritefile.write(\"Line 1\" + \"\\n\")\n",
        "  testwritefile.write(\"Line 2\" + \"\\n\")\n",
        "  testwritefile.write(\"Line 3\" + \"\\n\")\n",
        "  testwritefile.write(\"Line 4\" + \"\\n\")\n",
        "  testwritefile.write(\"finished \\n\")\n",
        "  testwritefile.truncate()\n",
        "\n",
        "  testwritefile.seek(0,0) # read from the beginning of file\n",
        "  print(testwritefile.read())"
      ],
      "metadata": {
        "colab": {
          "base_uri": "https://localhost:8080/"
        },
        "id": "Xzc2TuwfIBs5",
        "outputId": "aaf141ec-279b-4eae-ee96-ee7594c3c197"
      },
      "execution_count": 25,
      "outputs": [
        {
          "output_type": "stream",
          "name": "stdout",
          "text": [
            "Line 1\n",
            "Line 2\n",
            "Line 3\n",
            "Line 4\n",
            "finished \n",
            "\n"
          ]
        }
      ]
    },
    {
      "cell_type": "markdown",
      "source": [
        "#### Copy a File"
      ],
      "metadata": {
        "id": "XHaRjDx0JoV0"
      }
    },
    {
      "cell_type": "code",
      "source": [
        "# Copy file Example2.txt to another Example3.txt\n",
        "with open(\"/Example2.txt\", \"r\") as readFile:\n",
        "  with open(\"Example3.txt\" , \"w\") as writeFile:\n",
        "    for line in readFile:\n",
        "      writeFile.write(line)"
      ],
      "metadata": {
        "id": "klifi_S8IZ59"
      },
      "execution_count": 26,
      "outputs": []
    },
    {
      "cell_type": "code",
      "source": [
        "# Verify if the copy is successful executed\n",
        "with open(\"Example3.txt\", \"r\") as testwritefile:\n",
        "  print(testwritefile.read())"
      ],
      "metadata": {
        "colab": {
          "base_uri": "https://localhost:8080/"
        },
        "id": "PjzJKSH8KA4j",
        "outputId": "788b3321-38d3-4853-8ca2-2a6346e66952"
      },
      "execution_count": 27,
      "outputs": [
        {
          "output_type": "stream",
          "name": "stdout",
          "text": [
            "Line 1\n",
            "Line 2\n",
            "Line 3\n",
            "Line 4\n",
            "finished \n",
            "\n"
          ]
        }
      ]
    },
    {
      "cell_type": "markdown",
      "source": [
        " After reading files, we can also write data into files and save them in different file formats like **.txt, .csv, .xls (for excel files) etc**."
      ],
      "metadata": {
        "id": "42M7-TdFLcW7"
      }
    },
    {
      "cell_type": "markdown",
      "source": [
        "#### Exercise\n",
        "\n",
        "Your local university's Raptors fan club maintains a register of its active members on a .txt document. Every month they update the file by removing the members who are not active. You have been tasked with automating this with your Python skills. <br>\n",
        "Given the file `currentMem`, Remove each member with a 'no' in their Active column. Keep track of each of the removed members and append them to the `exMem` file. Make sure that the format of the original files in preserved.   (*Hint: Do this by reading/writing whole lines and ensuring the header remains* )\n",
        "<br>\n",
        "Run the code block below prior to starting the exercise. The skeleton code has been provided for you. Edit only the `cleanFiles` function.\n"
      ],
      "metadata": {
        "id": "m8ELwR_cV8tj"
      }
    },
    {
      "cell_type": "code",
      "source": [
        "# Code block for starting the exercise:\n",
        "from random import randint as rnd\n",
        "\n",
        "memReg = \"members.txt\"\n",
        "exReg = \"inactive.txt\"\n",
        "fee = (\"yes\", \"no\")\n",
        "\n",
        "def genFiles(current, old):\n",
        "  # creating/writing the current/new file\n",
        "  with open(current, \"w+\") as writefile:\n",
        "    writefile.write(\"Membership No  Date Joined  Active  \\n\")\n",
        "    #giving format of each row in txt file as per header before\n",
        "    data = \"{:^13}  {:<11}  {:<6}\\n\"  # < left align, ^ center align, 11, 6, 13 means chars count\n",
        "    for rowno in range(20):\n",
        "      date = str(rnd(2015,2020)) + '-' + str(rnd(1,12)) + '-' + str(rnd(1,25))\n",
        "      writefile.write(data.format(rnd(10000,99999), date, fee[rnd(0,1)]))\n",
        "\n",
        "  # creating/writing the old file\n",
        "  with open(old, \"w+\") as writefile:\n",
        "    writefile.write(\"Membership No  Date Joined  Active  \\n\")\n",
        "    #giving format of each row in txt file as per header before\n",
        "    data = \"{:^13}  {:<11}  {:<6}\\n\"  # < left align, ^ center align, 11, 6, 13 means chars count\n",
        "    for rowno in range(3):\n",
        "      date = str(rnd(2015,2020)) + '-' + str(rnd(1,12)) + '-' + str(rnd(1,25))\n",
        "      writefile.write(data.format(rnd(10000,99999), date, fee[1]))\n",
        "\n",
        "\n",
        "genFiles(memReg, exReg)"
      ],
      "metadata": {
        "id": "w5KGH2c5K9mX"
      },
      "execution_count": 28,
      "outputs": []
    },
    {
      "cell_type": "code",
      "source": [
        "# Now prerequisite code which prepared the files for this exercise is done.\n",
        "# Do Exercise : Implement the cleaFiles function  below"
      ],
      "metadata": {
        "id": "5fi5wyFMZqpg"
      },
      "execution_count": 29,
      "outputs": []
    },
    {
      "cell_type": "code",
      "source": [
        "'''\n",
        "The two arguments for this function are the files:\n",
        "    - currentMem: File containing list of current members\n",
        "    - exMem: File containing list of old members\n",
        "\n",
        "    This function should remove all rows from currentMem containing 'no'\n",
        "    in the 'Active' column and appends them to exMem.\n",
        "'''\n",
        "def cleanFiles(currentMem, exMem):\n",
        "  # ToDo: Open the currentMem file in r+ mode\n",
        "    # ToDo: Open the exMem file in a+ mode\n",
        "\n",
        "    # ToDo: Read each member in currentMem (1 Member per row) file into a list\n",
        "    # Hint : Recall that the first line in the file is header.\n",
        "\n",
        "    # ToDo: Iterate through the list and create a new list of inactive members.\n",
        "\n",
        "    # Go to the beginning of currentMem file\n",
        "    # ToDo: Iterate through the members list.\n",
        "    # If a member is inactive, add them to exMem, otherwise write them to currentMem\n",
        "\n",
        "    pass # Remove this line when implementation done"
      ],
      "metadata": {
        "id": "Q31GbpSebmDT"
      },
      "execution_count": 30,
      "outputs": []
    },
    {
      "cell_type": "code",
      "source": [
        "# Method 1 : as per above description\n",
        "def cleanFiles(currentMem, exMem):\n",
        "  with open(currentMem, \"r+\") as readFile:\n",
        "    with open(exMem, \"a+\") as writeFile:\n",
        "      # print(readFile.tell())\n",
        "      currentList = []\n",
        "\n",
        "      # get current txt file as a list of lines\n",
        "      for line in readFile:\n",
        "        currentList.append(line)\n",
        "      header = currentList[0]\n",
        "      # print(header)\n",
        "\n",
        "      # create inactive members list\n",
        "      inactiveMemList = []\n",
        "\n",
        "      for line in currentList :\n",
        "        if (line != header) : # Check for header in txt file\n",
        "          if (line.find('no') != -1) : # check for active status 'no' in each line of currentMem file\n",
        "            inactiveMemList.append(line)\n",
        "\n",
        "      # print(inactiveMemList)\n",
        "      # print(readFile.tell())\n",
        "\n",
        "      # Go to the beginning of the currentMem file\n",
        "      readFile.seek(0,0)\n",
        "\n",
        "      # iterate through members list\n",
        "      for line in currentList:\n",
        "        # print(line)\n",
        "        if (line != header) : # Check for header in txt file\n",
        "          if line in inactiveMemList: # Check for inactive members\n",
        "            # print(\"Inactive to exMem: \", line)\n",
        "            writeFile.write(line) # append inactive members to exMem\n",
        "          else:\n",
        "            # print(\"Active to currentMem: \", line)\n",
        "            readFile.write(line) # write active from beginning after header in currentMem\n",
        "\n",
        "      # now after rewriting the currentMem file trunctate the unnecesary data after write pointer\n",
        "      readFile.truncate()\n",
        "      # print(readFile.tell())"
      ],
      "metadata": {
        "id": "RlAvN9Q1sY4_"
      },
      "execution_count": 31,
      "outputs": []
    },
    {
      "cell_type": "code",
      "source": [
        "# Method 2: currentList using readlines and using 'in' for 'no' status\n",
        "def cleanFiles(currentMem, exMem):\n",
        "  with open(currentMem, \"r+\") as readFile:\n",
        "    with open(exMem, \"a+\") as writeFile:\n",
        "\n",
        "      # get current txt file as a list of lines\n",
        "      currentList = readFile.readlines()\n",
        "      header = currentList[0]\n",
        "\n",
        "      # create inactive members list\n",
        "      inactiveMemList = []\n",
        "\n",
        "      for line in currentList:\n",
        "      #   print(line)\n",
        "        if (line != header): # Check for header in txt file\n",
        "          if ('no' in line): # check for active status 'no' in each line of currentMem file\n",
        "            # print(\"Inactive: \", line)\n",
        "            inactiveMemList.append(line)\n",
        "\n",
        "      # Go to the beginning of the currentMem file\n",
        "      readFile.seek(0,0)\n",
        "      readFile.write(header)\n",
        "\n",
        "      # iterate through members list\n",
        "      for line in currentList:\n",
        "      #   print(line)\n",
        "        if (line != header): # Check for header in txt file\n",
        "          if (line in inactiveMemList): # Check for inactive members\n",
        "            # print(\"inactive member\")\n",
        "            writeFile.write(line) # append inactive members to exMem\n",
        "          else:\n",
        "            # print(\"active member\")\n",
        "            readFile.write(line) # write active from beginning after header in currentMem\n",
        "\n",
        "      # now after rewriting the currentMem file trunctate the unnecesary data after write pointer\n",
        "      readFile.truncate()"
      ],
      "metadata": {
        "id": "C6Y62iUZfEwe"
      },
      "execution_count": null,
      "outputs": []
    },
    {
      "cell_type": "code",
      "source": [
        "# Most feasible Method: using readlines, list comprehension, pop header\n",
        "def cleanFiles(currentMem, exMem):\n",
        " with open(currentMem, \"r+\") as writeFile:\n",
        "  with open(exMem, \"a+\") as appendFile:\n",
        "    # get the data\n",
        "    writeFile.seek(0)\n",
        "    members = writeFile.readlines()\n",
        "    #remove header\n",
        "    header = members[0]\n",
        "    members.pop(0)\n",
        "\n",
        "    #inactive members list\n",
        "    inactive = [member for member in members if ('no' in member)]  #using list comprehension\n",
        "\n",
        "    '''\n",
        "    above is same as :\n",
        "    inactive = []\n",
        "    for member in members:\n",
        "      if ('no' in member):\n",
        "        inactive.append(member)\n",
        "    '''\n",
        "\n",
        "    # go to  the beginning of write file\n",
        "    writeFile.seek(0)\n",
        "    writeFile.write(header)\n",
        "    for member in members:\n",
        "      if (member in inactive):\n",
        "        appendFile.write(member)\n",
        "      else:\n",
        "        writeFile.write(member)\n",
        "    writeFile.truncate()"
      ],
      "metadata": {
        "id": "ThGXSma9JRS3"
      },
      "execution_count": 6,
      "outputs": []
    },
    {
      "cell_type": "code",
      "source": [
        "# The code below is to help you view the files.\n",
        "# Do not modify this code for this exercise.\n",
        "memReg = 'members.txt'\n",
        "exReg = 'inactive.txt'\n",
        "cleanFiles(memReg,exReg)\n",
        "\n",
        "\n",
        "headers = \"Membership No  Date Joined  Active  \\n\"\n",
        "with open(memReg,'r') as readFile:\n",
        "    print(\"Active Members: \\n\\n\")\n",
        "    print(readFile.read())\n",
        "\n",
        "with open(exReg,'r') as readFile:\n",
        "    print(\"Inactive Members: \\n\\n\")\n",
        "    print(readFile.read())\n"
      ],
      "metadata": {
        "id": "zBidDsLfkW5g",
        "colab": {
          "base_uri": "https://localhost:8080/"
        },
        "outputId": "9522c7ac-6644-4450-d8c7-02dc78e1f278"
      },
      "execution_count": 7,
      "outputs": [
        {
          "output_type": "stream",
          "name": "stdout",
          "text": [
            "Active Members: \n",
            "\n",
            "\n",
            "Membership No  Date Joined  Active  \n",
            "    58737      2017-12-1    yes   \n",
            "    10393      2017-4-11    yes   \n",
            "    21062      2018-8-23    yes   \n",
            "    85185      2018-12-14   yes   \n",
            "    64641      2018-1-13    yes   \n",
            "\n",
            "Inactive Members: \n",
            "\n",
            "\n",
            "Membership No  Date Joined  Active  \n",
            "    69448      2020-10-15   no    \n",
            "    39525      2018-1-15    no    \n",
            "    39871      2020-11-14   no    \n",
            "    78791      2018-2-3     no    \n",
            "    61330      2020-5-25    no    \n",
            "    72197      2020-8-17    no    \n",
            "    40786      2017-6-19    no    \n",
            "    28303      2019-1-6     no    \n",
            "    78236      2015-2-16    no    \n",
            "    71459      2017-1-21    no    \n",
            "    33161      2017-4-12    no    \n",
            "    69741      2020-11-11   no    \n",
            "    47040      2015-12-5    no    \n",
            "    28063      2017-5-12    no    \n",
            "    87330      2018-3-5     no    \n",
            "    58117      2016-10-5    no    \n",
            "    13066      2017-3-1     no    \n",
            "    52672      2017-4-3     no    \n",
            "\n"
          ]
        }
      ]
    },
    {
      "cell_type": "markdown",
      "source": [
        "The code cell below is to verify your solution. Please do not modify the code and run it to test your implementation of `cleanFiles`.\n"
      ],
      "metadata": {
        "id": "Br93CYIkMq5a"
      }
    },
    {
      "cell_type": "code",
      "source": [
        "def testMsg(passed):\n",
        "    if passed:\n",
        "       return 'Test Passed'\n",
        "    else :\n",
        "       return 'Test Failed'\n",
        "\n",
        "testWrite = \"testWrite.txt\"\n",
        "testAppend = \"testAppend.txt\"\n",
        "passed = True\n",
        "\n",
        "genFiles(testWrite,testAppend)\n",
        "\n",
        "with open(testWrite,'r') as file:\n",
        "    ogWrite = file.readlines()\n",
        "\n",
        "with open(testAppend,'r') as file:\n",
        "    ogAppend = file.readlines()\n",
        "\n",
        "try:\n",
        "    cleanFiles(testWrite,testAppend)\n",
        "except:\n",
        "    print('Error')\n",
        "\n",
        "with open(testWrite,'r') as file:\n",
        "    clWrite = file.readlines()\n",
        "\n",
        "with open(testAppend,'r') as file:\n",
        "    clAppend = file.readlines()\n",
        "\n",
        "# checking if total no of rows is same, including headers\n",
        "\n",
        "if (len(ogWrite) + len(ogAppend) != len(clWrite) + len(clAppend)):\n",
        "    print(\"The number of rows do not add up. Make sure your final files have the same header and format.\")\n",
        "    passed = False\n",
        "\n",
        "for line in clWrite:\n",
        "    if  'no' in line:\n",
        "        passed = False\n",
        "        print(\"Inactive members in file\")\n",
        "        break\n",
        "    else:\n",
        "        if line not in ogWrite:\n",
        "            print(\"Data in file does not match original file\")\n",
        "            passed = False\n",
        "print (\"{}\".format(testMsg(passed)))\n",
        "\n",
        "\n"
      ],
      "metadata": {
        "id": "11tTEiQJ0Sxa",
        "colab": {
          "base_uri": "https://localhost:8080/"
        },
        "outputId": "a19735bb-4047-4c9f-9ae4-c13ba2eebad8"
      },
      "execution_count": 8,
      "outputs": [
        {
          "output_type": "stream",
          "name": "stdout",
          "text": [
            "Test Passed\n"
          ]
        }
      ]
    }
  ]
}