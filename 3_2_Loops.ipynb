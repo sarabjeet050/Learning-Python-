{
  "nbformat": 4,
  "nbformat_minor": 0,
  "metadata": {
    "colab": {
      "provenance": [],
      "authorship_tag": "ABX9TyO/6daGK7/0xAaT2E44DtJ9",
      "include_colab_link": true
    },
    "kernelspec": {
      "name": "python3",
      "display_name": "Python 3"
    },
    "language_info": {
      "name": "python"
    }
  },
  "cells": [
    {
      "cell_type": "markdown",
      "metadata": {
        "id": "view-in-github",
        "colab_type": "text"
      },
      "source": [
        "<a href=\"https://colab.research.google.com/github/sarabjeet050/Learning_Python/blob/main/3_2_Loops.ipynb\" target=\"_parent\"><img src=\"https://colab.research.google.com/assets/colab-badge.svg\" alt=\"Open In Colab\"/></a>"
      ]
    },
    {
      "cell_type": "markdown",
      "source": [
        "### Loops\n",
        "\n",
        "##### Repeated execution of a given operation many times are performed by loops.\n",
        "##### Two types of loops: \"for\" and \"while\" loops"
      ],
      "metadata": {
        "id": "PEnpuMo4BVqH"
      }
    },
    {
      "cell_type": "markdown",
      "source": [
        "#### Range\n",
        "##### Before starting the loops, range object is important. It is an ordered list of consecutive range of positive numbers starting from 0 to n-1; where n is given to range() as argument."
      ],
      "metadata": {
        "id": "FhfpY0KyB9pL"
      }
    },
    {
      "cell_type": "code",
      "execution_count": null,
      "metadata": {
        "colab": {
          "base_uri": "https://localhost:8080/"
        },
        "id": "Y4gKWkH7AqWo",
        "outputId": "129ce137-e2f1-4c47-d0e3-378e8eaa9eb9"
      },
      "outputs": [
        {
          "output_type": "execute_result",
          "data": {
            "text/plain": [
              "range(0, 3)"
            ]
          },
          "metadata": {},
          "execution_count": 4
        }
      ],
      "source": [
        "# Use the range to get ordered elements 0 to 2\n",
        "range(3)"
      ]
    },
    {
      "cell_type": "markdown",
      "source": [
        "###### Note : While in Python 2.x range returned a list but, in 3.x it returns a range object"
      ],
      "metadata": {
        "id": "ouNRAxp6C8oD"
      }
    },
    {
      "cell_type": "markdown",
      "source": [
        "##### \"for\" loop\n",
        "###### It enables to execute a block of code for multiple times. For example for loop used to print every element in a list."
      ],
      "metadata": {
        "id": "cMCjUnDODRMD"
      }
    },
    {
      "cell_type": "code",
      "source": [
        "# for loop example : print all years presented in list dates\n",
        "\n",
        "dates = [1982, 1980, 1973]\n",
        "N = len(dates)\n",
        "\n",
        "for i in range(N): \n",
        "  print(dates[i])"
      ],
      "metadata": {
        "id": "otLoIFNnCuk5",
        "colab": {
          "base_uri": "https://localhost:8080/"
        },
        "outputId": "fe2bb53d-47ba-46b8-a155-627ad59aa0b9"
      },
      "execution_count": 1,
      "outputs": [
        {
          "output_type": "stream",
          "name": "stdout",
          "text": [
            "1982\n",
            "1980\n",
            "1973\n"
          ]
        }
      ]
    },
    {
      "cell_type": "markdown",
      "source": [
        "###### print code in the intend is executed N times, each time the value of is incremented by 1 for every execution as range 0 to N-1 is provided in for condition. "
      ],
      "metadata": {
        "id": "HzeG3bwyhEuF"
      }
    },
    {
      "cell_type": "code",
      "source": [
        "# for loop example : to print out a sequence of numbers from 0 to 7\n",
        "for i in range(0,8): # NOte: here range(0,N) instead of range(N) means same with starting number 0 mentioned.\n",
        "  print(i)"
      ],
      "metadata": {
        "colab": {
          "base_uri": "https://localhost:8080/"
        },
        "id": "Urmd11xNgxtW",
        "outputId": "d6915170-de88-4624-9379-d71369d09319"
      },
      "execution_count": 3,
      "outputs": [
        {
          "output_type": "stream",
          "name": "stdout",
          "text": [
            "0\n",
            "1\n",
            "2\n",
            "3\n",
            "4\n",
            "5\n",
            "6\n",
            "7\n"
          ]
        }
      ]
    },
    {
      "cell_type": "code",
      "source": [
        "# In Python, we can directly access the elements in the list\n",
        "for year in dates:\n",
        "  print(year)"
      ],
      "metadata": {
        "colab": {
          "base_uri": "https://localhost:8080/"
        },
        "id": "MBXIMTdEh238",
        "outputId": "908ba996-be30-4858-afdc-09d84eb55df4"
      },
      "execution_count": 5,
      "outputs": [
        {
          "output_type": "stream",
          "name": "stdout",
          "text": [
            "1982\n",
            "1980\n",
            "1973\n"
          ]
        }
      ]
    },
    {
      "cell_type": "markdown",
      "source": [
        "###### For each iteration, the value of variable year behaves like value of dates[i] in first example above. "
      ],
      "metadata": {
        "id": "BACdrWAOiPVc"
      }
    },
    {
      "cell_type": "code",
      "source": [
        "# Use for loop to change the elements in the list.\n",
        "squares = [\"red\", \"yellow\", \"green\", \"purple\", \"blue\"]\n",
        "\n",
        "for i in range(0,5):\n",
        "  print(\"Before square \",i, \"is\",squares[i])\n",
        "  squares[i] = \"white\"\n",
        "  print(\"After square \",i, \"is\",squares[i], \"\\n\")"
      ],
      "metadata": {
        "colab": {
          "base_uri": "https://localhost:8080/"
        },
        "id": "N81FYnhGiGcf",
        "outputId": "7effa79c-370e-4993-9da7-5694f54f42a5"
      },
      "execution_count": 10,
      "outputs": [
        {
          "output_type": "stream",
          "name": "stdout",
          "text": [
            "Before square  0 is red\n",
            "After square  0 is white \n",
            "\n",
            "Before square  1 is yellow\n",
            "After square  1 is white \n",
            "\n",
            "Before square  2 is green\n",
            "After square  2 is white \n",
            "\n",
            "Before square  3 is purple\n",
            "After square  3 is white \n",
            "\n",
            "Before square  4 is blue\n",
            "After square  4 is white \n",
            "\n"
          ]
        }
      ]
    },
    {
      "cell_type": "code",
      "source": [
        "# Access the index and elements of a list\n",
        "# Loop through the list and iterate on both index and element value\n",
        "\n",
        "squares = [\"red\", \"yellow\", \"green\", \"purple\", \"blue\"]\n",
        "\n",
        "for i,square in enumerate(squares):\n",
        "  print(i, square)"
      ],
      "metadata": {
        "colab": {
          "base_uri": "https://localhost:8080/"
        },
        "id": "rb5V4l_QjoOM",
        "outputId": "9e0d29a4-c163-47b1-e2e3-fae9c19c7f36"
      },
      "execution_count": 11,
      "outputs": [
        {
          "output_type": "stream",
          "name": "stdout",
          "text": [
            "0 red\n",
            "1 yellow\n",
            "2 green\n",
            "3 purple\n",
            "4 blue\n"
          ]
        }
      ]
    },
    {
      "cell_type": "markdown",
      "source": [
        "#### \"while\" loop\n",
        "###### As seen \"for\" loop is used for a controlled flow of execution.\n",
        "###### But, the \"while\" loop exists as a tool for repeated execution based on a condition.\n",
        "###### The code block will keep being executed until the given logical condition returns a \"False\"  boolean value."
      ],
      "metadata": {
        "id": "IBMmNPwqk4BO"
      }
    },
    {
      "cell_type": "markdown",
      "source": [
        "#### Here's how a while loop works:\n",
        "\n",
        "1. First, you specify a condition that the loop will check before each iteration (repetition) of the code block.\n",
        "2. If the condition is initially true, the code block is executed.\n",
        "3. After executing the code block, the condition is checked again.\n",
        "4. If the condition is still true, the code block is executed again.\n",
        "5. Steps 3 and 4 repeat until the condition becomes false.\n",
        "6. Once the condition becomes false, the loop stops, and the program continues with the next line of code after the loop.\n"
      ],
      "metadata": {
        "id": "cyrVGuOfqn_R"
      }
    },
    {
      "cell_type": "code",
      "source": [
        "# \"while\" loop example:  prints numbers from 1 to 5\n",
        "count = 1\n",
        "while (count <= 5): # here count value is checked before execution of further intend code; \n",
        "# condition count checks  less than or equal to 5 \n",
        "# once count is 6, condition becomes False and loop stops \n",
        "  print(count)\n",
        "  count += 1  # at each iteration the count value is incremented by 1"
      ],
      "metadata": {
        "colab": {
          "base_uri": "https://localhost:8080/"
        },
        "id": "K6vJL_Elqo9U",
        "outputId": "e8bf4c22-6713-40dc-f0f3-5c24a1160da7"
      },
      "execution_count": 16,
      "outputs": [
        {
          "output_type": "stream",
          "name": "stdout",
          "text": [
            "1\n",
            "2\n",
            "3\n",
            "4\n",
            "5\n"
          ]
        }
      ]
    },
    {
      "cell_type": "code",
      "source": [
        "# while loop example: iterate through list \"dates\" and stop at year 1973, then print out the number of iterations.\n",
        "\n",
        "dates = [1982, 1980, 1973, 2000]\n",
        "i = 0\n",
        "\n",
        "while (dates[i]!=1973): # while loop iterates merely until the condition in argument is not met.\n",
        "  print(dates[i])\n",
        "  i += 1\n",
        "\n",
        "print(\"It took\", i, \"repeatitions to get out of the loop\")\n",
        "\n"
      ],
      "metadata": {
        "colab": {
          "base_uri": "https://localhost:8080/"
        },
        "id": "qh-3tEQjrAbv",
        "outputId": "ba20126a-6eb7-4efe-d72d-6083269fa702"
      },
      "execution_count": 20,
      "outputs": [
        {
          "output_type": "stream",
          "name": "stdout",
          "text": [
            "1982\n",
            "1980\n",
            "It took 2 repeatitions to get out of the loop\n"
          ]
        }
      ]
    },
    {
      "cell_type": "markdown",
      "source": [
        "\n",
        "**The main difference between a while loop and a for loop in Python is how they control the flow of execution and handle iterations.**\n"
      ],
      "metadata": {
        "id": "vaxBoOVLJuGq"
      }
    },
    {
      "cell_type": "markdown",
      "source": [
        "### Key point of While Loop:\n",
        "\n",
        "1. A while loop repeatedly executes a block of code as long as a given condition is true.\n",
        "2. It does not have a fixed number of iterations but continues executing until the condition becomes false.\n",
        "3. The condition is checked before each iteration, and if it's false initially, the code block is skipped entirely.\n",
        "4. The condition is typically based on a variable or expression that can change during the execution of the loop.\n",
        "5. It provides more flexibility in terms of controlling the loop's execution based on dynamic conditions.\n"
      ],
      "metadata": {
        "id": "uXIncPCoJ0Te"
      }
    },
    {
      "cell_type": "markdown",
      "source": [
        "### Key point of For Loop:\n",
        "\n",
        "1. A for loop iterates over a sequence (such as a list, string, or range) or any object that supports iteration.\n",
        "2. It has a predefined number of iterations based on the length of the sequence or the number of items to iterate over.\n",
        "3. It automatically handles the iteration and does not require maintaining a separate variable for tracking the iteration count.\n",
        "4. It simplifies the code by encapsulating the iteration logic within the loop itself.\n",
        "5. It is commonly used when you know the exact number of iterations or need to iterate over each item in a collection.\n"
      ],
      "metadata": {
        "id": "L6gYlD41J44s"
      }
    },
    {
      "cell_type": "markdown",
      "source": [
        "#### Practice Exercise "
      ],
      "metadata": {
        "id": "bQzT4fdNJ-Jd"
      }
    },
    {
      "cell_type": "code",
      "source": [
        "# Write a \"for\" loop to print out all the elements between -5 and 5 using range function\n",
        "\n",
        "for i in range(-4,5):\n",
        "  print(i)"
      ],
      "metadata": {
        "colab": {
          "base_uri": "https://localhost:8080/"
        },
        "id": "F1s3q7awE7-r",
        "outputId": "f83b0f55-124c-448d-d3ab-5845b7b6ec8e"
      },
      "execution_count": 21,
      "outputs": [
        {
          "output_type": "stream",
          "name": "stdout",
          "text": [
            "-4\n",
            "-3\n",
            "-2\n",
            "-1\n",
            "0\n",
            "1\n",
            "2\n",
            "3\n",
            "4\n"
          ]
        }
      ]
    },
    {
      "cell_type": "code",
      "source": [
        "# Print the elements of \"Genres\" list using Python convention\n",
        "Genres = [\"rock\", \"R&B\", \"Soundtrack\", \"R&B\", \"soul\", \"pop\"]\n",
        "\n",
        "for Genre in Genres:\n",
        "  print(Genre)"
      ],
      "metadata": {
        "colab": {
          "base_uri": "https://localhost:8080/"
        },
        "id": "-QZkHGZnLQYz",
        "outputId": "7086acad-1c89-46dd-f2dd-3edbf6209245"
      },
      "execution_count": 23,
      "outputs": [
        {
          "output_type": "stream",
          "name": "stdout",
          "text": [
            "rock\n",
            "R&B\n",
            "Soundtrack\n",
            "R&B\n",
            "soul\n",
            "pop\n"
          ]
        }
      ]
    },
    {
      "cell_type": "code",
      "source": [
        "# Write a \"for\" loop to print out the elements of \"squares\" list \n",
        "squares = [\"red\", \"yellow\", \"green\", \"purple\", \"blue\"]\n",
        "\n",
        "for square in squares:\n",
        "  print(square)"
      ],
      "metadata": {
        "colab": {
          "base_uri": "https://localhost:8080/"
        },
        "id": "fyxPWonSLxhl",
        "outputId": "52d72721-737a-407a-a3f6-659039729974"
      },
      "execution_count": 24,
      "outputs": [
        {
          "output_type": "stream",
          "name": "stdout",
          "text": [
            "red\n",
            "yellow\n",
            "green\n",
            "purple\n",
            "blue\n"
          ]
        }
      ]
    },
    {
      "cell_type": "code",
      "source": [
        "# Write a while loop to display the values of the Rating of an album playlist stored in list \"PlayListRatings\". \n",
        "# If the score is less than 6, exit the loop.\n",
        "\n",
        "PlayListRatings = [10, 9.5, 10, 8, 7.5, 5, 10, 10]\n",
        "\n",
        "i = 0\n",
        "while (i < len(PlayListRatings) and PlayListRatings[i] >= 6 ):\n",
        "  print(PlayListRatings[i])\n",
        "  i += 1"
      ],
      "metadata": {
        "colab": {
          "base_uri": "https://localhost:8080/"
        },
        "id": "DldECF92McQ1",
        "outputId": "f2962220-7659-427f-9a8e-6eb86314c3af"
      },
      "execution_count": 28,
      "outputs": [
        {
          "output_type": "stream",
          "name": "stdout",
          "text": [
            "10\n",
            "9.5\n",
            "10\n",
            "8\n",
            "7.5\n"
          ]
        }
      ]
    },
    {
      "cell_type": "code",
      "source": [
        "# Write a while loop to copy the strings \"orange\" of the list \"squares\" to the list \"new_squares\". \n",
        "# Stop and exit the loop if the value on the list is not \"orange\"\n",
        "\n",
        "squares = [\"orange\", \"orange\", \"purple\", \"blue\", \"orange\"]\n",
        "new_squares = []\n",
        "\n",
        "i = 0\n",
        "while (i < len(squares) and squares[i] == \"orange\"):\n",
        "  new_squares.append(squares[i])\n",
        "  i += 1\n",
        "\n",
        "print(new_squares)"
      ],
      "metadata": {
        "colab": {
          "base_uri": "https://localhost:8080/"
        },
        "id": "YTE0-bgoNhjh",
        "outputId": "74aff831-3fa3-4bbc-fd79-0fd716bd19fa"
      },
      "execution_count": 34,
      "outputs": [
        {
          "output_type": "stream",
          "name": "stdout",
          "text": [
            "['orange', 'orange']\n"
          ]
        }
      ]
    },
    {
      "cell_type": "markdown",
      "source": [
        "##### Some real-life problem!"
      ],
      "metadata": {
        "id": "E3j6cU7sa_0A"
      }
    },
    {
      "cell_type": "code",
      "source": [
        "# Your little brother just learned multiplication tableb in school. Today he learned tables of 6 and 7. \n",
        "# Help him memorize both the tables by printing them using for loop.\n",
        "\n",
        "print(\"Multiplication Table of 6 :\")\n",
        "for i in range(1, 11):\n",
        "    print(\"6 *\", i, \"=\", 6 * i)\n",
        "    \n",
        "print(\"\\nMultiplication Table of 7 :\")\n",
        "for i in range(1, 11):\n",
        "    print(\"7 *\", i, \"=\", 7 * i)"
      ],
      "metadata": {
        "colab": {
          "base_uri": "https://localhost:8080/"
        },
        "id": "K1vkilBqPOrW",
        "outputId": "35c13d13-61b2-4678-848b-a9beeca9427f"
      },
      "execution_count": 37,
      "outputs": [
        {
          "output_type": "stream",
          "name": "stdout",
          "text": [
            "Multiplication Table of 6 :\n",
            "6 * 1 = 6\n",
            "6 * 2 = 12\n",
            "6 * 3 = 18\n",
            "6 * 4 = 24\n",
            "6 * 5 = 30\n",
            "6 * 6 = 36\n",
            "6 * 7 = 42\n",
            "6 * 8 = 48\n",
            "6 * 9 = 54\n",
            "6 * 10 = 60\n",
            "\n",
            "Multiplication Table of 7 :\n",
            "7 * 1 = 7\n",
            "7 * 2 = 14\n",
            "7 * 3 = 21\n",
            "7 * 4 = 28\n",
            "7 * 5 = 35\n",
            "7 * 6 = 42\n",
            "7 * 7 = 49\n",
            "7 * 8 = 56\n",
            "7 * 9 = 63\n",
            "7 * 10 = 70\n"
          ]
        }
      ]
    },
    {
      "cell_type": "code",
      "source": [
        "# The following is a list of animals in a National Zoo. \n",
        "# Animals = [\"lion\", \"giraffe\", \"gorilla\", \"parrots\", \"crocodile\",\"deer\", \"swan\"]\n",
        "# Your brother needs to write an essay on the animals whose names are made of 7 letters. \n",
        "# Help him find those animals through a \"while\" loop and create a separate list of such animals.\n",
        "\n",
        "Animals = [\"lion\", \"giraffe\", \"gorilla\", \"parrots\", \"crocodile\",\"deer\", \"swan\"]\n",
        "Seven_Letter_Animals = []\n",
        "i = 0 \n",
        "\n",
        "while (i < len(Animals)):\n",
        "  if (len(Animals[i]) == 7):\n",
        "    Seven_Letter_Animals.append(Animals[i])\n",
        "  i += 1\n",
        "\n",
        "print(Seven_Letter_Animals)\n",
        "  "
      ],
      "metadata": {
        "colab": {
          "base_uri": "https://localhost:8080/"
        },
        "id": "4q-mirhodRj8",
        "outputId": "a3e1e106-e10f-4a2b-99b3-97b98554a6b2"
      },
      "execution_count": 43,
      "outputs": [
        {
          "output_type": "stream",
          "name": "stdout",
          "text": [
            "['giraffe', 'gorilla', 'parrots']\n"
          ]
        }
      ]
    }
  ]
}